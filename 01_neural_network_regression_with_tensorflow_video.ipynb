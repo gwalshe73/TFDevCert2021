{
  "nbformat": 4,
  "nbformat_minor": 0,
  "metadata": {
    "colab": {
      "name": "01_neural_network_regression_with_tensorflow_video.ipynb",
      "provenance": [],
      "collapsed_sections": [],
      "authorship_tag": "ABX9TyMW0jhTi4epPNsJmvFr9bDh",
      "include_colab_link": true
    },
    "kernelspec": {
      "name": "python3",
      "display_name": "Python 3"
    },
    "language_info": {
      "name": "python"
    },
    "accelerator": "TPU"
  },
  "cells": [
    {
      "cell_type": "markdown",
      "metadata": {
        "id": "view-in-github",
        "colab_type": "text"
      },
      "source": [
        "<a href=\"https://colab.research.google.com/github/gwalshe73/TFDC2021ZtoM/blob/main/01_neural_network_regression_with_tensorflow_video.ipynb\" target=\"_parent\"><img src=\"https://colab.research.google.com/assets/colab-badge.svg\" alt=\"Open In Colab\"/></a>"
      ]
    },
    {
      "cell_type": "markdown",
      "metadata": {
        "id": "Zq02Zy0VI47J"
      },
      "source": [
        "# Introduction to Regression with Neural Networks in TensorFlow\n",
        "\n",
        "There are many definitions for a regression problem but in our case, we're going to simplify it: predicting a numerical variable based on some other combination of variables, even shorter... predicting a number."
      ]
    },
    {
      "cell_type": "code",
      "metadata": {
        "colab": {
          "base_uri": "https://localhost:8080/"
        },
        "id": "wPYycrSrJpl5",
        "outputId": "36e16638-99e6-41ad-a6c5-d281bf50e098"
      },
      "source": [
        "# Import TensorFlow\n",
        "import tensorflow as tf\n",
        "print(tf.__version__)"
      ],
      "execution_count": 3,
      "outputs": [
        {
          "output_type": "stream",
          "text": [
            "2.5.0\n"
          ],
          "name": "stdout"
        }
      ]
    },
    {
      "cell_type": "code",
      "metadata": {
        "colab": {
          "base_uri": "https://localhost:8080/",
          "height": 286
        },
        "id": "9Ml38q-wKQY1",
        "outputId": "f82becb8-d856-4142-d99d-75885dd86405"
      },
      "source": [
        "import numpy as np\n",
        "import matplotlib.pyplot as plt\n",
        "\n",
        "# Create features\n",
        "X = np.array([-7.0, -4.0, -1.0, 2.0, 5.0, 8.0, 11.0, 14.0])\n",
        "\n",
        "# Create labels\n",
        "y = np.array([3.0, 6.0, 9.0, 12.0, 15.0, 18.0, 21.0, 24.0])\n",
        "\n",
        "# Visualise it\n",
        "plt.scatter(X, y)"
      ],
      "execution_count": 4,
      "outputs": [
        {
          "output_type": "execute_result",
          "data": {
            "text/plain": [
              "<matplotlib.collections.PathCollection at 0x7fa8f150ea50>"
            ]
          },
          "metadata": {
            "tags": []
          },
          "execution_count": 4
        },
        {
          "output_type": "display_data",
          "data": {
            "image/png": "[encoded data removed]",
            "text/plain": [
              "<Figure size 432x288 with 1 Axes>"
            ]
          },
          "metadata": {
            "tags": [],
            "needs_background": "light"
          }
        }
      ]
    },
    {
      "cell_type": "code",
      "metadata": {
        "colab": {
          "base_uri": "https://localhost:8080/"
        },
        "id": "wC-yEns6LYXD",
        "outputId": "981044e8-9ae2-48cb-f1bd-7b031846b845"
      },
      "source": [
        "y == X + 10"
      ],
      "execution_count": 5,
      "outputs": [
        {
          "output_type": "execute_result",
          "data": {
            "text/plain": [
              "array([ True,  True,  True,  True,  True,  True,  True,  True])"
            ]
          },
          "metadata": {
            "tags": []
          },
          "execution_count": 5
        }
      ]
    },
    {
      "cell_type": "code",
      "metadata": {
        "colab": {
          "base_uri": "https://localhost:8080/"
        },
        "id": "0YOJbRtgmg1x",
        "outputId": "299674f3-7004-438b-a430-8114cfa37da9"
      },
      "source": [
        "# Create a demo tensor for a our housing price prediction problem\n",
        "house_info = tf.constant([\"bedroom\", \"bathroom\", \"garage\"])\n",
        "house_price = tf.constant([939700])\n",
        "house_info, house_price"
      ],
      "execution_count": 6,
      "outputs": [
        {
          "output_type": "execute_result",
          "data": {
            "text/plain": [
              "(<tf.Tensor: shape=(3,), dtype=string, numpy=array([b'bedroom', b'bathroom', b'garage'], dtype=object)>,\n",
              " <tf.Tensor: shape=(1,), dtype=int32, numpy=array([939700], dtype=int32)>)"
            ]
          },
          "metadata": {
            "tags": []
          },
          "execution_count": 6
        }
      ]
    },
    {
      "cell_type": "code",
      "metadata": {
        "colab": {
          "base_uri": "https://localhost:8080/"
        },
        "id": "okEN9pfvnMKN",
        "outputId": "494d3602-48c2-4c3c-8376-9aa09373ee71"
      },
      "source": [
        "X[0], y[0]"
      ],
      "execution_count": 7,
      "outputs": [
        {
          "output_type": "execute_result",
          "data": {
            "text/plain": [
              "(-7.0, 3.0)"
            ]
          },
          "metadata": {
            "tags": []
          },
          "execution_count": 7
        }
      ]
    },
    {
      "cell_type": "code",
      "metadata": {
        "colab": {
          "base_uri": "https://localhost:8080/"
        },
        "id": "Bg8N54wun9at",
        "outputId": "d9d1d8a0-b217-4638-e570-86f204b9cc7b"
      },
      "source": [
        "X[1], y[1]"
      ],
      "execution_count": 8,
      "outputs": [
        {
          "output_type": "execute_result",
          "data": {
            "text/plain": [
              "(-4.0, 6.0)"
            ]
          },
          "metadata": {
            "tags": []
          },
          "execution_count": 8
        }
      ]
    },
    {
      "cell_type": "code",
      "metadata": {
        "id": "Za9aIV_nn_w4",
        "colab": {
          "base_uri": "https://localhost:8080/"
        },
        "outputId": "65be5ab8-b275-4ba9-880f-81bbc42d2837"
      },
      "source": [
        "input_shape = X.shape\n",
        "output_shape = y.shape\n",
        "input_shape, output_shape"
      ],
      "execution_count": 9,
      "outputs": [
        {
          "output_type": "execute_result",
          "data": {
            "text/plain": [
              "((8,), (8,))"
            ]
          },
          "metadata": {
            "tags": []
          },
          "execution_count": 9
        }
      ]
    },
    {
      "cell_type": "code",
      "metadata": {
        "colab": {
          "base_uri": "https://localhost:8080/"
        },
        "id": "j6eRNpO0o9ZD",
        "outputId": "ae800a9b-95c9-44b2-8d3d-18d1cc9545de"
      },
      "source": [
        "X[0].ndim"
      ],
      "execution_count": 10,
      "outputs": [
        {
          "output_type": "execute_result",
          "data": {
            "text/plain": [
              "0"
            ]
          },
          "metadata": {
            "tags": []
          },
          "execution_count": 10
        }
      ]
    },
    {
      "cell_type": "code",
      "metadata": {
        "colab": {
          "base_uri": "https://localhost:8080/"
        },
        "id": "hawmxdJ1pgDE",
        "outputId": "6811fa54-34a6-4583-cc9c-d4afb7c0e41c"
      },
      "source": [
        "X.ndim"
      ],
      "execution_count": 11,
      "outputs": [
        {
          "output_type": "execute_result",
          "data": {
            "text/plain": [
              "1"
            ]
          },
          "metadata": {
            "tags": []
          },
          "execution_count": 11
        }
      ]
    },
    {
      "cell_type": "code",
      "metadata": {
        "colab": {
          "base_uri": "https://localhost:8080/"
        },
        "id": "mfOZY1bfpiAG",
        "outputId": "34307009-65da-49e9-e150-a2a7b5c3e4d5"
      },
      "source": [
        "# Turn our NumPy arrays into tensors\n",
        "X = tf.cast(tf.constant(X), dtype=tf.float32)\n",
        "y = tf.cast(tf.constant(y), dtype=tf.float32)\n",
        "X, y"
      ],
      "execution_count": 12,
      "outputs": [
        {
          "output_type": "execute_result",
          "data": {
            "text/plain": [
              "(<tf.Tensor: shape=(8,), dtype=float32, numpy=array([-7., -4., -1.,  2.,  5.,  8., 11., 14.], dtype=float32)>,\n",
              " <tf.Tensor: shape=(8,), dtype=float32, numpy=array([ 3.,  6.,  9., 12., 15., 18., 21., 24.], dtype=float32)>)"
            ]
          },
          "metadata": {
            "tags": []
          },
          "execution_count": 12
        }
      ]
    },
    {
      "cell_type": "code",
      "metadata": {
        "colab": {
          "base_uri": "https://localhost:8080/"
        },
        "id": "B6MpqJhNqgy7",
        "outputId": "783f98a0-56ee-4d14-ef4c-3829b8a33100"
      },
      "source": [
        "input_shape = X[0].shape\n",
        "output_shape = y[0].shape\n",
        "input_shape, output_shape"
      ],
      "execution_count": 13,
      "outputs": [
        {
          "output_type": "execute_result",
          "data": {
            "text/plain": [
              "(TensorShape([]), TensorShape([]))"
            ]
          },
          "metadata": {
            "tags": []
          },
          "execution_count": 13
        }
      ]
    },
    {
      "cell_type": "code",
      "metadata": {
        "colab": {
          "base_uri": "https://localhost:8080/",
          "height": 286
        },
        "id": "xuwazJA7q0Mr",
        "outputId": "8363ff00-a29e-493d-a1c9-30825823366a"
      },
      "source": [
        "plt.scatter(X, y)"
      ],
      "execution_count": 14,
      "outputs": [
        {
          "output_type": "execute_result",
          "data": {
            "text/plain": [
              "<matplotlib.collections.PathCollection at 0x7fa8f14d3090>"
            ]
          },
          "metadata": {
            "tags": []
          },
          "execution_count": 14
        },
        {
          "output_type": "display_data",
          "data": {
            "image/png": "[encoded data removed]",
            "text/plain": [
              "<Figure size 432x288 with 1 Axes>"
            ]
          },
          "metadata": {
            "tags": [],
            "needs_background": "light"
          }
        }
      ]
    },
    {
      "cell_type": "markdown",
      "metadata": {
        "id": "lB9aULPprUXf"
      },
      "source": [
        "## Steps in modeling with TensorFlow\n",
        "\n",
        "1. **Creating a model** - define the input and output layers, as well as the hidden layers of a deep learning model.\n",
        "2. **Compiling a model** - define the loss function (in other words, the function which tells our model how wrong it is) and the optimizer (tells our model how to improve the patterns its learning) and evaluation metrics (what we can use to interpret the performance of our model).\n",
        "3. **Fitting a model** - letting the model try to find patterns between X & y (features and labels)."
      ]
    },
    {
      "cell_type": "code",
      "metadata": {
        "colab": {
          "base_uri": "https://localhost:8080/"
        },
        "id": "Wu1hf0QhsZby",
        "outputId": "2fbc7035-b978-4049-a89c-f351169c3f16"
      },
      "source": [
        "# Set random seed\n",
        "tf.random.set_seed(42)\n",
        "\n",
        "# 1. Create a model using the Sequential API\n",
        "model = tf.keras.Sequential([\n",
        "                             tf.keras.layers.Dense(1)\n",
        "])\n",
        "\n",
        "# 2. Compile the model\n",
        "model.compile(loss=tf.keras.losses.mae, # mae is short for mean absolute error\n",
        "              optimizer=tf.keras.optimizers.SGD(), # sgd is short for stochastic gradient descent\n",
        "              metrics=[\"mae\"])\n",
        "\n",
        "# 3. Fit the model\n",
        "model.fit(X, y, epochs=5)"
      ],
      "execution_count": 15,
      "outputs": [
        {
          "output_type": "stream",
          "text": [
            "Epoch 1/5\n",
            "1/1 [==============================] - 1s 642ms/step - loss: 11.5048 - mae: 11.5048\n",
            "Epoch 2/5\n",
            "1/1 [==============================] - 0s 8ms/step - loss: 11.3723 - mae: 11.3723\n",
            "Epoch 3/5\n",
            "1/1 [==============================] - 0s 6ms/step - loss: 11.2398 - mae: 11.2398\n",
            "Epoch 4/5\n",
            "1/1 [==============================] - 0s 6ms/step - loss: 11.1073 - mae: 11.1073\n",
            "Epoch 5/5\n",
            "1/1 [==============================] - 0s 6ms/step - loss: 10.9748 - mae: 10.9748\n"
          ],
          "name": "stdout"
        },
        {
          "output_type": "execute_result",
          "data": {
            "text/plain": [
              "<tensorflow.python.keras.callbacks.History at 0x7fa8edf48610>"
            ]
          },
          "metadata": {
            "tags": []
          },
          "execution_count": 15
        }
      ]
    },
    {
      "cell_type": "code",
      "metadata": {
        "colab": {
          "base_uri": "https://localhost:8080/"
        },
        "id": "gM-LmFQXwlIF",
        "outputId": "ca8d8070-4393-4d7c-8b94-e069b4fa5257"
      },
      "source": [
        "# Check out X and y\n",
        "X, y"
      ],
      "execution_count": 16,
      "outputs": [
        {
          "output_type": "execute_result",
          "data": {
            "text/plain": [
              "(<tf.Tensor: shape=(8,), dtype=float32, numpy=array([-7., -4., -1.,  2.,  5.,  8., 11., 14.], dtype=float32)>,\n",
              " <tf.Tensor: shape=(8,), dtype=float32, numpy=array([ 3.,  6.,  9., 12., 15., 18., 21., 24.], dtype=float32)>)"
            ]
          },
          "metadata": {
            "tags": []
          },
          "execution_count": 16
        }
      ]
    },
    {
      "cell_type": "code",
      "metadata": {
        "colab": {
          "base_uri": "https://localhost:8080/"
        },
        "id": "WQ9JWS5VbFuW",
        "outputId": "77150e1f-7b7d-4c73-8a59-b5d45a3791df"
      },
      "source": [
        "# Try and make a prediction\n",
        "model.predict([17.0])"
      ],
      "execution_count": 17,
      "outputs": [
        {
          "output_type": "execute_result",
          "data": {
            "text/plain": [
              "array([[12.716021]], dtype=float32)"
            ]
          },
          "metadata": {
            "tags": []
          },
          "execution_count": 17
        }
      ]
    },
    {
      "cell_type": "code",
      "metadata": {
        "colab": {
          "base_uri": "https://localhost:8080/"
        },
        "id": "FXjVdw7zbQOZ",
        "outputId": "10ca828b-596a-43e9-b6ee-901d25f3d3f2"
      },
      "source": [
        "y_pred = model.predict([17.0])\n",
        "y_pred"
      ],
      "execution_count": 18,
      "outputs": [
        {
          "output_type": "execute_result",
          "data": {
            "text/plain": [
              "array([[12.716021]], dtype=float32)"
            ]
          },
          "metadata": {
            "tags": []
          },
          "execution_count": 18
        }
      ]
    },
    {
      "cell_type": "code",
      "metadata": {
        "colab": {
          "base_uri": "https://localhost:8080/"
        },
        "id": "aJwvvNxzbjVO",
        "outputId": "c9b5a987-bd7b-4cf3-f749-7368db9ac73b"
      },
      "source": [
        "y_pred - 27"
      ],
      "execution_count": 19,
      "outputs": [
        {
          "output_type": "execute_result",
          "data": {
            "text/plain": [
              "array([[-14.283979]], dtype=float32)"
            ]
          },
          "metadata": {
            "tags": []
          },
          "execution_count": 19
        }
      ]
    },
    {
      "cell_type": "markdown",
      "metadata": {
        "id": "mZTAkoaNbpvZ"
      },
      "source": [
        "# Improving our model\n",
        "\n",
        "We can improve our model by altering the steps we took to create our model.\n",
        "\n",
        "1. **Creating a model** - here we might add more layers, increase the number of hidden units (neurons) within each of the hidden layers, change the activation function of each layer.\n",
        "2. **Compiling the model** - here we might change the optimization function or perhaps the learning rate of the optimization function.\n",
        "3. **Fitting a model** - here we might fit a model for more epochs (leave it training for longer) or on more data (give the model more examples to learn from."
      ]
    },
    {
      "cell_type": "code",
      "metadata": {
        "colab": {
          "base_uri": "https://localhost:8080/"
        },
        "id": "yqVqjjS2bywY",
        "outputId": "3c5a4ad1-5b9a-4f93-a0d6-68bbdd4ad543"
      },
      "source": [
        "# Let's rebuild our model\n",
        "\n",
        "# 1. Create the model\n",
        "model = tf.keras.Sequential([\n",
        "                             tf.keras.layers.Dense(1)\n",
        "])\n",
        "\n",
        "# 2. Compile the model\n",
        "model.compile(loss=tf.keras.losses.mae,\n",
        "              optimizer=tf.keras.optimizers.SGD(),\n",
        "              metrics=[\"mae\"])\n",
        "\n",
        "# 3. Fit the model\n",
        "model.fit(X, y, epochs=100)"
      ],
      "execution_count": 20,
      "outputs": [
        {
          "output_type": "stream",
          "text": [
            "Epoch 1/100\n",
            "1/1 [==============================] - 0s 287ms/step - loss: 11.2219 - mae: 11.2219\n",
            "Epoch 2/100\n",
            "1/1 [==============================] - 0s 4ms/step - loss: 11.0894 - mae: 11.0894\n",
            "Epoch 3/100\n",
            "1/1 [==============================] - 0s 4ms/step - loss: 10.9569 - mae: 10.9569\n",
            "Epoch 4/100\n",
            "1/1 [==============================] - 0s 4ms/step - loss: 10.8244 - mae: 10.8244\n",
            "Epoch 5/100\n",
            "1/1 [==============================] - 0s 7ms/step - loss: 10.6919 - mae: 10.6919\n",
            "Epoch 6/100\n",
            "1/1 [==============================] - 0s 6ms/step - loss: 10.5594 - mae: 10.5594\n",
            "Epoch 7/100\n",
            "1/1 [==============================] - 0s 6ms/step - loss: 10.4269 - mae: 10.4269\n",
            "Epoch 8/100\n",
            "1/1 [==============================] - 0s 6ms/step - loss: 10.2944 - mae: 10.2944\n",
            "Epoch 9/100\n",
            "1/1 [==============================] - 0s 6ms/step - loss: 10.1619 - mae: 10.1619\n",
            "Epoch 10/100\n",
            "1/1 [==============================] - 0s 8ms/step - loss: 10.0294 - mae: 10.0294\n",
            "Epoch 11/100\n",
            "1/1 [==============================] - 0s 6ms/step - loss: 9.8969 - mae: 9.8969\n",
            "Epoch 12/100\n",
            "1/1 [==============================] - 0s 6ms/step - loss: 9.7644 - mae: 9.7644\n",
            "Epoch 13/100\n",
            "1/1 [==============================] - 0s 8ms/step - loss: 9.6319 - mae: 9.6319\n",
            "Epoch 14/100\n",
            "1/1 [==============================] - 0s 6ms/step - loss: 9.4994 - mae: 9.4994\n",
            "Epoch 15/100\n",
            "1/1 [==============================] - 0s 7ms/step - loss: 9.3669 - mae: 9.3669\n",
            "Epoch 16/100\n",
            "1/1 [==============================] - 0s 5ms/step - loss: 9.2344 - mae: 9.2344\n",
            "Epoch 17/100\n",
            "1/1 [==============================] - 0s 4ms/step - loss: 9.1019 - mae: 9.1019\n",
            "Epoch 18/100\n",
            "1/1 [==============================] - 0s 13ms/step - loss: 8.9694 - mae: 8.9694\n",
            "Epoch 19/100\n",
            "1/1 [==============================] - 0s 17ms/step - loss: 8.8369 - mae: 8.8369\n",
            "Epoch 20/100\n",
            "1/1 [==============================] - 0s 9ms/step - loss: 8.7044 - mae: 8.7044\n",
            "Epoch 21/100\n",
            "1/1 [==============================] - 0s 5ms/step - loss: 8.5719 - mae: 8.5719\n",
            "Epoch 22/100\n",
            "1/1 [==============================] - 0s 6ms/step - loss: 8.4394 - mae: 8.4394\n",
            "Epoch 23/100\n",
            "1/1 [==============================] - 0s 7ms/step - loss: 8.3069 - mae: 8.3069\n",
            "Epoch 24/100\n",
            "1/1 [==============================] - 0s 4ms/step - loss: 8.1744 - mae: 8.1744\n",
            "Epoch 25/100\n",
            "1/1 [==============================] - 0s 7ms/step - loss: 8.0419 - mae: 8.0419\n",
            "Epoch 26/100\n",
            "1/1 [==============================] - 0s 4ms/step - loss: 7.9094 - mae: 7.9094\n",
            "Epoch 27/100\n",
            "1/1 [==============================] - 0s 9ms/step - loss: 7.7769 - mae: 7.7769\n",
            "Epoch 28/100\n",
            "1/1 [==============================] - 0s 7ms/step - loss: 7.6444 - mae: 7.6444\n",
            "Epoch 29/100\n",
            "1/1 [==============================] - 0s 5ms/step - loss: 7.5119 - mae: 7.5119\n",
            "Epoch 30/100\n",
            "1/1 [==============================] - 0s 10ms/step - loss: 7.3794 - mae: 7.3794\n",
            "Epoch 31/100\n",
            "1/1 [==============================] - 0s 9ms/step - loss: 7.2750 - mae: 7.2750\n",
            "Epoch 32/100\n",
            "1/1 [==============================] - 0s 5ms/step - loss: 7.2694 - mae: 7.2694\n",
            "Epoch 33/100\n",
            "1/1 [==============================] - 0s 8ms/step - loss: 7.2638 - mae: 7.2638\n",
            "Epoch 34/100\n",
            "1/1 [==============================] - 0s 9ms/step - loss: 7.2581 - mae: 7.2581\n",
            "Epoch 35/100\n",
            "1/1 [==============================] - 0s 13ms/step - loss: 7.2525 - mae: 7.2525\n",
            "Epoch 36/100\n",
            "1/1 [==============================] - 0s 5ms/step - loss: 7.2469 - mae: 7.2469\n",
            "Epoch 37/100\n",
            "1/1 [==============================] - 0s 9ms/step - loss: 7.2412 - mae: 7.2412\n",
            "Epoch 38/100\n",
            "1/1 [==============================] - 0s 6ms/step - loss: 7.2356 - mae: 7.2356\n",
            "Epoch 39/100\n",
            "1/1 [==============================] - 0s 15ms/step - loss: 7.2300 - mae: 7.2300\n",
            "Epoch 40/100\n",
            "1/1 [==============================] - 0s 11ms/step - loss: 7.2244 - mae: 7.2244\n",
            "Epoch 41/100\n",
            "1/1 [==============================] - 0s 10ms/step - loss: 7.2188 - mae: 7.2188\n",
            "Epoch 42/100\n",
            "1/1 [==============================] - 0s 14ms/step - loss: 7.2131 - mae: 7.2131\n",
            "Epoch 43/100\n",
            "1/1 [==============================] - 0s 12ms/step - loss: 7.2075 - mae: 7.2075\n",
            "Epoch 44/100\n",
            "1/1 [==============================] - 0s 7ms/step - loss: 7.2019 - mae: 7.2019\n",
            "Epoch 45/100\n",
            "1/1 [==============================] - 0s 9ms/step - loss: 7.1962 - mae: 7.1962\n",
            "Epoch 46/100\n",
            "1/1 [==============================] - 0s 3ms/step - loss: 7.1906 - mae: 7.1906\n",
            "Epoch 47/100\n",
            "1/1 [==============================] - 0s 4ms/step - loss: 7.1850 - mae: 7.1850\n",
            "Epoch 48/100\n",
            "1/1 [==============================] - 0s 8ms/step - loss: 7.1794 - mae: 7.1794\n",
            "Epoch 49/100\n",
            "1/1 [==============================] - 0s 3ms/step - loss: 7.1737 - mae: 7.1737\n",
            "Epoch 50/100\n",
            "1/1 [==============================] - 0s 6ms/step - loss: 7.1681 - mae: 7.1681\n",
            "Epoch 51/100\n",
            "1/1 [==============================] - 0s 3ms/step - loss: 7.1625 - mae: 7.1625\n",
            "Epoch 52/100\n",
            "1/1 [==============================] - 0s 5ms/step - loss: 7.1569 - mae: 7.1569\n",
            "Epoch 53/100\n",
            "1/1 [==============================] - 0s 6ms/step - loss: 7.1512 - mae: 7.1512\n",
            "Epoch 54/100\n",
            "1/1 [==============================] - 0s 4ms/step - loss: 7.1456 - mae: 7.1456\n",
            "Epoch 55/100\n",
            "1/1 [==============================] - 0s 6ms/step - loss: 7.1400 - mae: 7.1400\n",
            "Epoch 56/100\n",
            "1/1 [==============================] - 0s 5ms/step - loss: 7.1344 - mae: 7.1344\n",
            "Epoch 57/100\n",
            "1/1 [==============================] - 0s 6ms/step - loss: 7.1287 - mae: 7.1287\n",
            "Epoch 58/100\n",
            "1/1 [==============================] - 0s 5ms/step - loss: 7.1231 - mae: 7.1231\n",
            "Epoch 59/100\n",
            "1/1 [==============================] - 0s 7ms/step - loss: 7.1175 - mae: 7.1175\n",
            "Epoch 60/100\n",
            "1/1 [==============================] - 0s 5ms/step - loss: 7.1119 - mae: 7.1119\n",
            "Epoch 61/100\n",
            "1/1 [==============================] - 0s 7ms/step - loss: 7.1062 - mae: 7.1062\n",
            "Epoch 62/100\n",
            "1/1 [==============================] - 0s 4ms/step - loss: 7.1006 - mae: 7.1006\n",
            "Epoch 63/100\n",
            "1/1 [==============================] - 0s 5ms/step - loss: 7.0950 - mae: 7.0950\n",
            "Epoch 64/100\n",
            "1/1 [==============================] - 0s 5ms/step - loss: 7.0894 - mae: 7.0894\n",
            "Epoch 65/100\n",
            "1/1 [==============================] - 0s 6ms/step - loss: 7.0838 - mae: 7.0838\n",
            "Epoch 66/100\n",
            "1/1 [==============================] - 0s 6ms/step - loss: 7.0781 - mae: 7.0781\n",
            "Epoch 67/100\n",
            "1/1 [==============================] - 0s 4ms/step - loss: 7.0725 - mae: 7.0725\n",
            "Epoch 68/100\n",
            "1/1 [==============================] - 0s 8ms/step - loss: 7.0669 - mae: 7.0669\n",
            "Epoch 69/100\n",
            "1/1 [==============================] - 0s 4ms/step - loss: 7.0613 - mae: 7.0613\n",
            "Epoch 70/100\n",
            "1/1 [==============================] - 0s 5ms/step - loss: 7.0556 - mae: 7.0556\n",
            "Epoch 71/100\n",
            "1/1 [==============================] - 0s 7ms/step - loss: 7.0500 - mae: 7.0500\n",
            "Epoch 72/100\n",
            "1/1 [==============================] - 0s 4ms/step - loss: 7.0444 - mae: 7.0444\n",
            "Epoch 73/100\n",
            "1/1 [==============================] - 0s 8ms/step - loss: 7.0388 - mae: 7.0388\n",
            "Epoch 74/100\n",
            "1/1 [==============================] - 0s 4ms/step - loss: 7.0331 - mae: 7.0331\n",
            "Epoch 75/100\n",
            "1/1 [==============================] - 0s 4ms/step - loss: 7.0275 - mae: 7.0275\n",
            "Epoch 76/100\n",
            "1/1 [==============================] - 0s 5ms/step - loss: 7.0219 - mae: 7.0219\n",
            "Epoch 77/100\n",
            "1/1 [==============================] - 0s 10ms/step - loss: 7.0163 - mae: 7.0163\n",
            "Epoch 78/100\n",
            "1/1 [==============================] - 0s 5ms/step - loss: 7.0106 - mae: 7.0106\n",
            "Epoch 79/100\n",
            "1/1 [==============================] - 0s 7ms/step - loss: 7.0050 - mae: 7.0050\n",
            "Epoch 80/100\n",
            "1/1 [==============================] - 0s 4ms/step - loss: 6.9994 - mae: 6.9994\n",
            "Epoch 81/100\n",
            "1/1 [==============================] - 0s 9ms/step - loss: 6.9938 - mae: 6.9938\n",
            "Epoch 82/100\n",
            "1/1 [==============================] - 0s 4ms/step - loss: 6.9881 - mae: 6.9881\n",
            "Epoch 83/100\n",
            "1/1 [==============================] - 0s 4ms/step - loss: 6.9825 - mae: 6.9825\n",
            "Epoch 84/100\n",
            "1/1 [==============================] - 0s 6ms/step - loss: 6.9769 - mae: 6.9769\n",
            "Epoch 85/100\n",
            "1/1 [==============================] - 0s 4ms/step - loss: 6.9713 - mae: 6.9713\n",
            "Epoch 86/100\n",
            "1/1 [==============================] - 0s 8ms/step - loss: 6.9656 - mae: 6.9656\n",
            "Epoch 87/100\n",
            "1/1 [==============================] - 0s 5ms/step - loss: 6.9600 - mae: 6.9600\n",
            "Epoch 88/100\n",
            "1/1 [==============================] - 0s 5ms/step - loss: 6.9544 - mae: 6.9544\n",
            "Epoch 89/100\n",
            "1/1 [==============================] - 0s 6ms/step - loss: 6.9488 - mae: 6.9488\n",
            "Epoch 90/100\n",
            "1/1 [==============================] - 0s 8ms/step - loss: 6.9431 - mae: 6.9431\n",
            "Epoch 91/100\n",
            "1/1 [==============================] - 0s 4ms/step - loss: 6.9375 - mae: 6.9375\n",
            "Epoch 92/100\n",
            "1/1 [==============================] - 0s 8ms/step - loss: 6.9319 - mae: 6.9319\n",
            "Epoch 93/100\n",
            "1/1 [==============================] - 0s 4ms/step - loss: 6.9263 - mae: 6.9263\n",
            "Epoch 94/100\n",
            "1/1 [==============================] - 0s 5ms/step - loss: 6.9206 - mae: 6.9206\n",
            "Epoch 95/100\n",
            "1/1 [==============================] - 0s 8ms/step - loss: 6.9150 - mae: 6.9150\n",
            "Epoch 96/100\n",
            "1/1 [==============================] - 0s 4ms/step - loss: 6.9094 - mae: 6.9094\n",
            "Epoch 97/100\n",
            "1/1 [==============================] - 0s 5ms/step - loss: 6.9038 - mae: 6.9038\n",
            "Epoch 98/100\n",
            "1/1 [==============================] - 0s 7ms/step - loss: 6.8981 - mae: 6.8981\n",
            "Epoch 99/100\n",
            "1/1 [==============================] - 0s 5ms/step - loss: 6.8925 - mae: 6.8925\n",
            "Epoch 100/100\n",
            "1/1 [==============================] - 0s 6ms/step - loss: 6.8869 - mae: 6.8869\n"
          ],
          "name": "stdout"
        },
        {
          "output_type": "execute_result",
          "data": {
            "text/plain": [
              "<tensorflow.python.keras.callbacks.History at 0x7fa8ebd401d0>"
            ]
          },
          "metadata": {
            "tags": []
          },
          "execution_count": 20
        }
      ]
    },
    {
      "cell_type": "code",
      "metadata": {
        "colab": {
          "base_uri": "https://localhost:8080/"
        },
        "id": "hfZzy2GggLF_",
        "outputId": "195ff70e-24f6-4704-9127-d0c6ed690651"
      },
      "source": [
        "# Remind ourselves of the data\n",
        "X, y"
      ],
      "execution_count": 21,
      "outputs": [
        {
          "output_type": "execute_result",
          "data": {
            "text/plain": [
              "(<tf.Tensor: shape=(8,), dtype=float32, numpy=array([-7., -4., -1.,  2.,  5.,  8., 11., 14.], dtype=float32)>,\n",
              " <tf.Tensor: shape=(8,), dtype=float32, numpy=array([ 3.,  6.,  9., 12., 15., 18., 21., 24.], dtype=float32)>)"
            ]
          },
          "metadata": {
            "tags": []
          },
          "execution_count": 21
        }
      ]
    },
    {
      "cell_type": "code",
      "metadata": {
        "colab": {
          "base_uri": "https://localhost:8080/"
        },
        "id": "Zd6MyoFTgl40",
        "outputId": "5f7e5289-dd56-4ea5-f956-d11644855454"
      },
      "source": [
        "# Check our models prediction loss\n",
        "model.predict([17.0])"
      ],
      "execution_count": 22,
      "outputs": [
        {
          "output_type": "execute_result",
          "data": {
            "text/plain": [
              "array([[29.739855]], dtype=float32)"
            ]
          },
          "metadata": {
            "tags": []
          },
          "execution_count": 22
        }
      ]
    },
    {
      "cell_type": "code",
      "metadata": {
        "id": "FNRrDi_5guIh"
      },
      "source": [
        ""
      ],
      "execution_count": 22,
      "outputs": []
    },
    {
      "cell_type": "code",
      "metadata": {
        "colab": {
          "base_uri": "https://localhost:8080/"
        },
        "id": "FWr6-5PThT1k",
        "outputId": "65ac1bfd-4286-4b27-e6f6-c20727104861"
      },
      "source": [
        "# Let's rebuild our model\n",
        "\n",
        "# 1. Create the model\n",
        "model = tf.keras.Sequential([\n",
        "                             tf.keras.layers.Dense(50, activation=None),\n",
        "                             tf.keras.layers.Dense(1)\n",
        "])\n",
        "\n",
        "# 2. Compile the model\n",
        "model.compile(loss=tf.keras.losses.mae,\n",
        "              optimizer=tf.keras.optimizers.Adam(learning_rate=0.01),\n",
        "              metrics=[\"mae\"])\n",
        "\n",
        "# 3. Fit the model\n",
        "model.fit(X, y, epochs=100)"
      ],
      "execution_count": 23,
      "outputs": [
        {
          "output_type": "stream",
          "text": [
            "Epoch 1/100\n",
            "1/1 [==============================] - 0s 433ms/step - loss: 11.7682 - mae: 11.7682\n",
            "Epoch 2/100\n",
            "1/1 [==============================] - 0s 5ms/step - loss: 11.0963 - mae: 11.0963\n",
            "Epoch 3/100\n",
            "1/1 [==============================] - 0s 4ms/step - loss: 10.4150 - mae: 10.4150\n",
            "Epoch 4/100\n",
            "1/1 [==============================] - 0s 7ms/step - loss: 9.7212 - mae: 9.7212\n",
            "Epoch 5/100\n",
            "1/1 [==============================] - 0s 7ms/step - loss: 9.0104 - mae: 9.0104\n",
            "Epoch 6/100\n",
            "1/1 [==============================] - 0s 6ms/step - loss: 8.2778 - mae: 8.2778\n",
            "Epoch 7/100\n",
            "1/1 [==============================] - 0s 4ms/step - loss: 7.5198 - mae: 7.5198\n",
            "Epoch 8/100\n",
            "1/1 [==============================] - 0s 4ms/step - loss: 6.9648 - mae: 6.9648\n",
            "Epoch 9/100\n",
            "1/1 [==============================] - 0s 7ms/step - loss: 7.0672 - mae: 7.0672\n",
            "Epoch 10/100\n",
            "1/1 [==============================] - 0s 8ms/step - loss: 7.3315 - mae: 7.3315\n",
            "Epoch 11/100\n",
            "1/1 [==============================] - 0s 5ms/step - loss: 7.4673 - mae: 7.4673\n",
            "Epoch 12/100\n",
            "1/1 [==============================] - 0s 4ms/step - loss: 7.5285 - mae: 7.5285\n",
            "Epoch 13/100\n",
            "1/1 [==============================] - 0s 16ms/step - loss: 7.4011 - mae: 7.4011\n",
            "Epoch 14/100\n",
            "1/1 [==============================] - 0s 5ms/step - loss: 7.1923 - mae: 7.1923\n",
            "Epoch 15/100\n",
            "1/1 [==============================] - 0s 4ms/step - loss: 6.9575 - mae: 6.9575\n",
            "Epoch 16/100\n",
            "1/1 [==============================] - 0s 6ms/step - loss: 6.6953 - mae: 6.6953\n",
            "Epoch 17/100\n",
            "1/1 [==============================] - 0s 4ms/step - loss: 6.4127 - mae: 6.4127\n",
            "Epoch 18/100\n",
            "1/1 [==============================] - 0s 4ms/step - loss: 6.3048 - mae: 6.3048\n",
            "Epoch 19/100\n",
            "1/1 [==============================] - 0s 7ms/step - loss: 6.2575 - mae: 6.2575\n",
            "Epoch 20/100\n",
            "1/1 [==============================] - 0s 9ms/step - loss: 6.3982 - mae: 6.3982\n",
            "Epoch 21/100\n",
            "1/1 [==============================] - 0s 9ms/step - loss: 6.4551 - mae: 6.4551\n",
            "Epoch 22/100\n",
            "1/1 [==============================] - 0s 4ms/step - loss: 6.4000 - mae: 6.4000\n",
            "Epoch 23/100\n",
            "1/1 [==============================] - 0s 5ms/step - loss: 6.2482 - mae: 6.2482\n",
            "Epoch 24/100\n",
            "1/1 [==============================] - 0s 4ms/step - loss: 6.0105 - mae: 6.0105\n",
            "Epoch 25/100\n",
            "1/1 [==============================] - 0s 5ms/step - loss: 5.7876 - mae: 5.7876\n",
            "Epoch 26/100\n",
            "1/1 [==============================] - 0s 4ms/step - loss: 5.6809 - mae: 5.6809\n",
            "Epoch 27/100\n",
            "1/1 [==============================] - 0s 4ms/step - loss: 5.5715 - mae: 5.5715\n",
            "Epoch 28/100\n",
            "1/1 [==============================] - 0s 4ms/step - loss: 5.6122 - mae: 5.6122\n",
            "Epoch 29/100\n",
            "1/1 [==============================] - 0s 5ms/step - loss: 5.6074 - mae: 5.6074\n",
            "Epoch 30/100\n",
            "1/1 [==============================] - 0s 5ms/step - loss: 5.5541 - mae: 5.5541\n",
            "Epoch 31/100\n",
            "1/1 [==============================] - 0s 4ms/step - loss: 5.4568 - mae: 5.4568\n",
            "Epoch 32/100\n",
            "1/1 [==============================] - 0s 13ms/step - loss: 5.3199 - mae: 5.3199\n",
            "Epoch 33/100\n",
            "1/1 [==============================] - 0s 11ms/step - loss: 5.1477 - mae: 5.1477\n",
            "Epoch 34/100\n",
            "1/1 [==============================] - 0s 12ms/step - loss: 4.9442 - mae: 4.9442\n",
            "Epoch 35/100\n",
            "1/1 [==============================] - 0s 6ms/step - loss: 4.8239 - mae: 4.8239\n",
            "Epoch 36/100\n",
            "1/1 [==============================] - 0s 5ms/step - loss: 4.7389 - mae: 4.7389\n",
            "Epoch 37/100\n",
            "1/1 [==============================] - 0s 6ms/step - loss: 4.6657 - mae: 4.6657\n",
            "Epoch 38/100\n",
            "1/1 [==============================] - 0s 6ms/step - loss: 4.5846 - mae: 4.5846\n",
            "Epoch 39/100\n",
            "1/1 [==============================] - 0s 6ms/step - loss: 4.4027 - mae: 4.4027\n",
            "Epoch 40/100\n",
            "1/1 [==============================] - 0s 6ms/step - loss: 4.2653 - mae: 4.2653\n",
            "Epoch 41/100\n",
            "1/1 [==============================] - 0s 7ms/step - loss: 4.1212 - mae: 4.1212\n",
            "Epoch 42/100\n",
            "1/1 [==============================] - 0s 5ms/step - loss: 3.9702 - mae: 3.9702\n",
            "Epoch 43/100\n",
            "1/1 [==============================] - 0s 5ms/step - loss: 3.8272 - mae: 3.8272\n",
            "Epoch 44/100\n",
            "1/1 [==============================] - 0s 6ms/step - loss: 3.7041 - mae: 3.7041\n",
            "Epoch 45/100\n",
            "1/1 [==============================] - 0s 7ms/step - loss: 3.5320 - mae: 3.5320\n",
            "Epoch 46/100\n",
            "1/1 [==============================] - 0s 6ms/step - loss: 3.3664 - mae: 3.3664\n",
            "Epoch 47/100\n",
            "1/1 [==============================] - 0s 6ms/step - loss: 3.2116 - mae: 3.2116\n",
            "Epoch 48/100\n",
            "1/1 [==============================] - 0s 6ms/step - loss: 3.0463 - mae: 3.0463\n",
            "Epoch 49/100\n",
            "1/1 [==============================] - 0s 7ms/step - loss: 2.8705 - mae: 2.8705\n",
            "Epoch 50/100\n",
            "1/1 [==============================] - 0s 6ms/step - loss: 2.6840 - mae: 2.6840\n",
            "Epoch 51/100\n",
            "1/1 [==============================] - 0s 9ms/step - loss: 2.4868 - mae: 2.4868\n",
            "Epoch 52/100\n",
            "1/1 [==============================] - 0s 7ms/step - loss: 2.2787 - mae: 2.2787\n",
            "Epoch 53/100\n",
            "1/1 [==============================] - 0s 6ms/step - loss: 2.0596 - mae: 2.0596\n",
            "Epoch 54/100\n",
            "1/1 [==============================] - 0s 8ms/step - loss: 1.8293 - mae: 1.8293\n",
            "Epoch 55/100\n",
            "1/1 [==============================] - 0s 5ms/step - loss: 1.5876 - mae: 1.5876\n",
            "Epoch 56/100\n",
            "1/1 [==============================] - 0s 7ms/step - loss: 1.3530 - mae: 1.3530\n",
            "Epoch 57/100\n",
            "1/1 [==============================] - 0s 14ms/step - loss: 1.0849 - mae: 1.0849\n",
            "Epoch 58/100\n",
            "1/1 [==============================] - 0s 8ms/step - loss: 0.8224 - mae: 0.8224\n",
            "Epoch 59/100\n",
            "1/1 [==============================] - 0s 8ms/step - loss: 0.5467 - mae: 0.5467\n",
            "Epoch 60/100\n",
            "1/1 [==============================] - 0s 4ms/step - loss: 0.2758 - mae: 0.2758\n",
            "Epoch 61/100\n",
            "1/1 [==============================] - 0s 6ms/step - loss: 0.1354 - mae: 0.1354\n",
            "Epoch 62/100\n",
            "1/1 [==============================] - 0s 6ms/step - loss: 0.4494 - mae: 0.4494\n",
            "Epoch 63/100\n",
            "1/1 [==============================] - 0s 11ms/step - loss: 0.6498 - mae: 0.6498\n",
            "Epoch 64/100\n",
            "1/1 [==============================] - 0s 34ms/step - loss: 0.6216 - mae: 0.6216\n",
            "Epoch 65/100\n",
            "1/1 [==============================] - 0s 23ms/step - loss: 0.8036 - mae: 0.8036\n",
            "Epoch 66/100\n",
            "1/1 [==============================] - 0s 4ms/step - loss: 0.7995 - mae: 0.7995\n",
            "Epoch 67/100\n",
            "1/1 [==============================] - 0s 12ms/step - loss: 0.7409 - mae: 0.7409\n",
            "Epoch 68/100\n",
            "1/1 [==============================] - 0s 5ms/step - loss: 0.7806 - mae: 0.7806\n",
            "Epoch 69/100\n",
            "1/1 [==============================] - 0s 5ms/step - loss: 0.6305 - mae: 0.6305\n",
            "Epoch 70/100\n",
            "1/1 [==============================] - 0s 7ms/step - loss: 0.5556 - mae: 0.5556\n",
            "Epoch 71/100\n",
            "1/1 [==============================] - 0s 9ms/step - loss: 0.4306 - mae: 0.4306\n",
            "Epoch 72/100\n",
            "1/1 [==============================] - 0s 7ms/step - loss: 0.2786 - mae: 0.2786\n",
            "Epoch 73/100\n",
            "1/1 [==============================] - 0s 5ms/step - loss: 0.1378 - mae: 0.1378\n",
            "Epoch 74/100\n",
            "1/1 [==============================] - 0s 6ms/step - loss: 0.1193 - mae: 0.1193\n",
            "Epoch 75/100\n",
            "1/1 [==============================] - 0s 7ms/step - loss: 0.2777 - mae: 0.2777\n",
            "Epoch 76/100\n",
            "1/1 [==============================] - 0s 8ms/step - loss: 0.3245 - mae: 0.3245\n",
            "Epoch 77/100\n",
            "1/1 [==============================] - 0s 9ms/step - loss: 0.4157 - mae: 0.4157\n",
            "Epoch 78/100\n",
            "1/1 [==============================] - 0s 6ms/step - loss: 0.4319 - mae: 0.4319\n",
            "Epoch 79/100\n",
            "1/1 [==============================] - 0s 6ms/step - loss: 0.3391 - mae: 0.3391\n",
            "Epoch 80/100\n",
            "1/1 [==============================] - 0s 9ms/step - loss: 0.2968 - mae: 0.2968\n",
            "Epoch 81/100\n",
            "1/1 [==============================] - 0s 7ms/step - loss: 0.2355 - mae: 0.2355\n",
            "Epoch 82/100\n",
            "1/1 [==============================] - 0s 6ms/step - loss: 0.1633 - mae: 0.1633\n",
            "Epoch 83/100\n",
            "1/1 [==============================] - 0s 4ms/step - loss: 0.1339 - mae: 0.1339\n",
            "Epoch 84/100\n",
            "1/1 [==============================] - 0s 5ms/step - loss: 0.1262 - mae: 0.1262\n",
            "Epoch 85/100\n",
            "1/1 [==============================] - 0s 8ms/step - loss: 0.1702 - mae: 0.1702\n",
            "Epoch 86/100\n",
            "1/1 [==============================] - 0s 7ms/step - loss: 0.2124 - mae: 0.2124\n",
            "Epoch 87/100\n",
            "1/1 [==============================] - 0s 5ms/step - loss: 0.2288 - mae: 0.2288\n",
            "Epoch 88/100\n",
            "1/1 [==============================] - 0s 5ms/step - loss: 0.1901 - mae: 0.1901\n",
            "Epoch 89/100\n",
            "1/1 [==============================] - 0s 7ms/step - loss: 0.1354 - mae: 0.1354\n",
            "Epoch 90/100\n",
            "1/1 [==============================] - 0s 7ms/step - loss: 0.1218 - mae: 0.1218\n",
            "Epoch 91/100\n",
            "1/1 [==============================] - 0s 8ms/step - loss: 0.0382 - mae: 0.0382\n",
            "Epoch 92/100\n",
            "1/1 [==============================] - 0s 11ms/step - loss: 0.2197 - mae: 0.2197\n",
            "Epoch 93/100\n",
            "1/1 [==============================] - 0s 5ms/step - loss: 0.2189 - mae: 0.2189\n",
            "Epoch 94/100\n",
            "1/1 [==============================] - 0s 19ms/step - loss: 0.1427 - mae: 0.1427\n",
            "Epoch 95/100\n",
            "1/1 [==============================] - 0s 12ms/step - loss: 0.1168 - mae: 0.1168\n",
            "Epoch 96/100\n",
            "1/1 [==============================] - 0s 12ms/step - loss: 0.2069 - mae: 0.2069\n",
            "Epoch 97/100\n",
            "1/1 [==============================] - 0s 9ms/step - loss: 0.1524 - mae: 0.1524\n",
            "Epoch 98/100\n",
            "1/1 [==============================] - 0s 6ms/step - loss: 0.2133 - mae: 0.2133\n",
            "Epoch 99/100\n",
            "1/1 [==============================] - 0s 6ms/step - loss: 0.2329 - mae: 0.2329\n",
            "Epoch 100/100\n",
            "1/1 [==============================] - 0s 8ms/step - loss: 0.0780 - mae: 0.0780\n"
          ],
          "name": "stdout"
        },
        {
          "output_type": "execute_result",
          "data": {
            "text/plain": [
              "<tensorflow.python.keras.callbacks.History at 0x7fa8ebd157d0>"
            ]
          },
          "metadata": {
            "tags": []
          },
          "execution_count": 23
        }
      ]
    },
    {
      "cell_type": "code",
      "metadata": {
        "colab": {
          "base_uri": "https://localhost:8080/"
        },
        "id": "kBvj2_SFhZKV",
        "outputId": "4b8693d3-40af-473f-c1c5-9ebd215cf180"
      },
      "source": [
        "# Check the prediction\n",
        "model.predict([17.0])"
      ],
      "execution_count": 24,
      "outputs": [
        {
          "output_type": "execute_result",
          "data": {
            "text/plain": [
              "array([[26.58353]], dtype=float32)"
            ]
          },
          "metadata": {
            "tags": []
          },
          "execution_count": 24
        }
      ]
    },
    {
      "cell_type": "markdown",
      "metadata": {
        "id": "yk__TFyJlGgn"
      },
      "source": [
        "# Evaluating a model\n",
        "\n",
        "In practice, a typical workflow you'll go through when building neural networks is:\n",
        "\n",
        "``Build a model -> fit it -> evaluate it -> tweak a model -> fit it -> evaluate it -> tweak it -> fit it -> evaluate it...``\n",
        "\n",
        "When it comes to evaluation... there are 3 words you should memorise:\n",
        "\n",
        ">\"Visualise, visualise, visualise\"\n",
        "\n",
        "It's a good idea to visualise:\n",
        "* The data - what data are we working with? What does it look like?\n",
        "* The model itself - what does our model look like?\n",
        "* The training of a model - how does a model perform while it learns?\n",
        "* The predictions of the model - how do the predictions of the model line up with the ground truth (original labels)?"
      ]
    },
    {
      "cell_type": "code",
      "metadata": {
        "colab": {
          "base_uri": "https://localhost:8080/"
        },
        "id": "I8gelGO9onC4",
        "outputId": "b0dc0031-ff36-4a3d-a51e-203b0f70eb5e"
      },
      "source": [
        "# Make a bigger dataset\n",
        "X = tf.range(-100, 100, 4)\n",
        "X"
      ],
      "execution_count": 25,
      "outputs": [
        {
          "output_type": "execute_result",
          "data": {
            "text/plain": [
              "<tf.Tensor: shape=(50,), dtype=int32, numpy=\n",
              "array([-100,  -96,  -92,  -88,  -84,  -80,  -76,  -72,  -68,  -64,  -60,\n",
              "        -56,  -52,  -48,  -44,  -40,  -36,  -32,  -28,  -24,  -20,  -16,\n",
              "        -12,   -8,   -4,    0,    4,    8,   12,   16,   20,   24,   28,\n",
              "         32,   36,   40,   44,   48,   52,   56,   60,   64,   68,   72,\n",
              "         76,   80,   84,   88,   92,   96], dtype=int32)>"
            ]
          },
          "metadata": {
            "tags": []
          },
          "execution_count": 25
        }
      ]
    },
    {
      "cell_type": "code",
      "metadata": {
        "colab": {
          "base_uri": "https://localhost:8080/"
        },
        "id": "5jM2SI9Qo0Wa",
        "outputId": "1f8d23b6-96fe-4054-ccfd-ebbc9d28b374"
      },
      "source": [
        "# Make labels for the dataset\n",
        "y = X + 10\n",
        "y"
      ],
      "execution_count": 26,
      "outputs": [
        {
          "output_type": "execute_result",
          "data": {
            "text/plain": [
              "<tf.Tensor: shape=(50,), dtype=int32, numpy=\n",
              "array([-90, -86, -82, -78, -74, -70, -66, -62, -58, -54, -50, -46, -42,\n",
              "       -38, -34, -30, -26, -22, -18, -14, -10,  -6,  -2,   2,   6,  10,\n",
              "        14,  18,  22,  26,  30,  34,  38,  42,  46,  50,  54,  58,  62,\n",
              "        66,  70,  74,  78,  82,  86,  90,  94,  98, 102, 106], dtype=int32)>"
            ]
          },
          "metadata": {
            "tags": []
          },
          "execution_count": 26
        }
      ]
    },
    {
      "cell_type": "code",
      "metadata": {
        "colab": {
          "base_uri": "https://localhost:8080/",
          "height": 282
        },
        "id": "s1mI8wM8o97c",
        "outputId": "56884a3e-33b4-4a47-b54f-7acd17827cfd"
      },
      "source": [
        "# Visualize the data\n",
        "plt.scatter(X, y)"
      ],
      "execution_count": 27,
      "outputs": [
        {
          "output_type": "execute_result",
          "data": {
            "text/plain": [
              "<matplotlib.collections.PathCollection at 0x7fa8e8de2210>"
            ]
          },
          "metadata": {
            "tags": []
          },
          "execution_count": 27
        },
        {
          "output_type": "display_data",
          "data": {
            "image/png": "[encoded data removed]",
            "text/plain": [
              "<Figure size 432x288 with 1 Axes>"
            ]
          },
          "metadata": {
            "tags": [],
            "needs_background": "light"
          }
        }
      ]
    },
    {
      "cell_type": "markdown",
      "metadata": {
        "id": "E9eNvxYjpMMO"
      },
      "source": [
        "### The 3 sets...\n",
        "\n",
        "* **Training set** - the model learns from this data, which is typically 70-80% of the total data you have available.\n",
        "* **Validation set** - the model gets tuned on this data, which is typically 10-15% of the data available.\n",
        "* Test set - the model gets evaluated on this data to test what it has learned, this is typically 10-15% of the data available."
      ]
    },
    {
      "cell_type": "code",
      "metadata": {
        "colab": {
          "base_uri": "https://localhost:8080/"
        },
        "id": "S7JLlc94sylz",
        "outputId": "98a7e586-2ec5-478b-8a62-90ae353dfdf3"
      },
      "source": [
        "# Check the length of how many samples we have\n",
        "len(X)"
      ],
      "execution_count": 28,
      "outputs": [
        {
          "output_type": "execute_result",
          "data": {
            "text/plain": [
              "50"
            ]
          },
          "metadata": {
            "tags": []
          },
          "execution_count": 28
        }
      ]
    },
    {
      "cell_type": "code",
      "metadata": {
        "colab": {
          "base_uri": "https://localhost:8080/"
        },
        "id": "TiWAv7aGtj8C",
        "outputId": "c79e52a6-539e-43f4-fe17-4ecf9bf911ce"
      },
      "source": [
        "# Split the data into train and test sets\n",
        "X_train = X[:40] # First 40 are training samples (80%)\n",
        "y_train = y[:40]\n",
        "\n",
        "X_test = X[40:] # Last 10 are test samples (20%)\n",
        "y_test = y[40:]\n",
        "\n",
        "len(X_train), len(X_test), len(y_train), len(y_test)"
      ],
      "execution_count": 29,
      "outputs": [
        {
          "output_type": "execute_result",
          "data": {
            "text/plain": [
              "(40, 10, 40, 10)"
            ]
          },
          "metadata": {
            "tags": []
          },
          "execution_count": 29
        }
      ]
    },
    {
      "cell_type": "markdown",
      "metadata": {
        "id": "U-yvyZQxt1Xy"
      },
      "source": [
        "### Visualising the data\n",
        "\n",
        "Now we've got our data in training and test sets... let's visualise it"
      ]
    },
    {
      "cell_type": "code",
      "metadata": {
        "colab": {
          "base_uri": "https://localhost:8080/",
          "height": 445
        },
        "id": "mo1RBlFquhak",
        "outputId": "b6847a8b-6fc5-46db-ab39-6fbbce784869"
      },
      "source": [
        "plt.figure(figsize=(10, 7))\n",
        "# Plot training data in blue\n",
        "plt.scatter(X_train, y_train, c=\"b\", label=\"Training data\")\n",
        "# Plot test data in green\n",
        "plt.scatter(X_test, y_test, c=\"g\", label=\"Testing data\")\n",
        "# Show a legend\n",
        "plt.legend()"
      ],
      "execution_count": 30,
      "outputs": [
        {
          "output_type": "execute_result",
          "data": {
            "text/plain": [
              "<matplotlib.legend.Legend at 0x7fa8e8d8f8d0>"
            ]
          },
          "metadata": {
            "tags": []
          },
          "execution_count": 30
        },
        {
          "output_type": "display_data",
          "data": {
            "image/png": "[encoded data removed]",
            "text/plain": [
              "<Figure size 720x504 with 1 Axes>"
            ]
          },
          "metadata": {
            "tags": [],
            "needs_background": "light"
          }
        }
      ]
    },
    {
      "cell_type": "code",
      "metadata": {
        "id": "_zJ1dIaKvQF5"
      },
      "source": [
        "# Let's have a look at how to build a neural network for our data\n",
        "\n",
        "# 1. Create a model\n",
        "model = tf.keras.Sequential([\n",
        "                             tf.keras.layers.Dense(1)\n",
        "])\n",
        "\n",
        "# 2. Compile the model\n",
        "model.compile(loss=tf.keras.losses.mae,\n",
        "              optimizer=tf.keras.optimizers.SGD(),\n",
        "              metrics=[\"mae\"])\n",
        "\n",
        "# 3. Fit the model\n",
        "#model.fit(X_train, y_train, epochs=100)"
      ],
      "execution_count": 31,
      "outputs": []
    },
    {
      "cell_type": "markdown",
      "metadata": {
        "id": "xCYOLj3QJ-xS"
      },
      "source": [
        "# Visualising the model"
      ]
    },
    {
      "cell_type": "code",
      "metadata": {
        "colab": {
          "base_uri": "https://localhost:8080/",
          "height": 299
        },
        "id": "aGdD6pMUKB3H",
        "outputId": "4798e203-985b-4805-949b-8689b43703c1"
      },
      "source": [
        "model.summary()"
      ],
      "execution_count": 32,
      "outputs": [
        {
          "output_type": "error",
          "ename": "ValueError",
          "evalue": "ignored",
          "traceback": [
            "\u001b[0;31m---------------------------------------------------------------------------\u001b[0m",
            "\u001b[0;31mValueError\u001b[0m                                Traceback (most recent call last)",
            "\u001b[0;32m<ipython-input-32-5f15418b3570>\u001b[0m in \u001b[0;36m<module>\u001b[0;34m()\u001b[0m\n\u001b[0;32m----> 1\u001b[0;31m \u001b[0mmodel\u001b[0m\u001b[0;34m.\u001b[0m\u001b[0msummary\u001b[0m\u001b[0;34m(\u001b[0m\u001b[0;34m)\u001b[0m\u001b[0;34m\u001b[0m\u001b[0;34m\u001b[0m\u001b[0m\n\u001b[0m",
            "\u001b[0;32m/usr/local/lib/python3.7/dist-packages/tensorflow/python/keras/engine/training.py\u001b[0m in \u001b[0;36msummary\u001b[0;34m(self, line_length, positions, print_fn)\u001b[0m\n\u001b[1;32m   2475\u001b[0m     \"\"\"\n\u001b[1;32m   2476\u001b[0m     \u001b[0;32mif\u001b[0m \u001b[0;32mnot\u001b[0m \u001b[0mself\u001b[0m\u001b[0;34m.\u001b[0m\u001b[0mbuilt\u001b[0m\u001b[0;34m:\u001b[0m\u001b[0;34m\u001b[0m\u001b[0;34m\u001b[0m\u001b[0m\n\u001b[0;32m-> 2477\u001b[0;31m       raise ValueError('This model has not yet been built. '\n\u001b[0m\u001b[1;32m   2478\u001b[0m                        \u001b[0;34m'Build the model first by calling `build()` or calling '\u001b[0m\u001b[0;34m\u001b[0m\u001b[0;34m\u001b[0m\u001b[0m\n\u001b[1;32m   2479\u001b[0m                        \u001b[0;34m'`fit()` with some data, or specify '\u001b[0m\u001b[0;34m\u001b[0m\u001b[0;34m\u001b[0m\u001b[0m\n",
            "\u001b[0;31mValueError\u001b[0m: This model has not yet been built. Build the model first by calling `build()` or calling `fit()` with some data, or specify an `input_shape` argument in the first layer(s) for automatic build."
          ]
        }
      ]
    },
    {
      "cell_type": "code",
      "metadata": {
        "id": "YGDkn59NKDu4"
      },
      "source": [
        "# Let's create a model that builds automatically by defining the input_shape argument in the first layer\n",
        "tf.random.set_seed(42)\n",
        "\n",
        "# 1. Create a model\n",
        "model = tf.keras.Sequential([\n",
        "                             tf.keras.layers.Dense(100, input_shape=[1], name=\"Input_layer\"),\n",
        "                             tf.keras.layers.Dense(100, input_shape=[1], name=\"Hidden_layer\"),\n",
        "                             tf.keras.layers.Dense(1, name=\"Output_Layer\")\n",
        "], name=\"Our_first_named_model.\")\n",
        "\n",
        "# 2. Compile the model\n",
        "model.compile(loss=tf.keras.losses.mae,\n",
        "              optimizer=tf.keras.optimizers.Adam(learning_rate=0.005),\n",
        "              metrics=[\"mae\"])"
      ],
      "execution_count": 51,
      "outputs": []
    },
    {
      "cell_type": "code",
      "metadata": {
        "colab": {
          "base_uri": "https://localhost:8080/"
        },
        "id": "mHyoqWptLvoj",
        "outputId": "fed44a3d-96ae-470c-e55c-849a6fa82b4c"
      },
      "source": [
        "model.summary()"
      ],
      "execution_count": 52,
      "outputs": [
        {
          "output_type": "stream",
          "text": [
            "Model: \"Our_first_named_model.\"\n",
            "_________________________________________________________________\n",
            "Layer (type)                 Output Shape              Param #   \n",
            "=================================================================\n",
            "Input_layer (Dense)          (None, 100)               200       \n",
            "_________________________________________________________________\n",
            "Hidden_layer (Dense)         (None, 100)               10100     \n",
            "_________________________________________________________________\n",
            "Output_Layer (Dense)         (None, 1)                 101       \n",
            "=================================================================\n",
            "Total params: 10,401\n",
            "Trainable params: 10,401\n",
            "Non-trainable params: 0\n",
            "_________________________________________________________________\n"
          ],
          "name": "stdout"
        }
      ]
    },
    {
      "cell_type": "markdown",
      "metadata": {
        "id": "Ziri0ynzL2wn"
      },
      "source": [
        "* Total params - total number of parameters in the model.\n",
        "* Trainable params - these are the parameters (patterns) the model can update as it trains.\n",
        "* Non-trainable params - these parameters aren't updated during the training (this is typical when you bring in already learned patterns or parameters from other models during **transfer learning**.)"
      ]
    },
    {
      "cell_type": "code",
      "metadata": {
        "colab": {
          "base_uri": "https://localhost:8080/"
        },
        "id": "MMcvs7hENqhE",
        "outputId": "253f58b8-3df4-4a7c-d280-a25266379a99"
      },
      "source": [
        "# Let's fit our model to the training data\n",
        "model.fit(X_train, y_train, epochs=500)"
      ],
      "execution_count": 53,
      "outputs": [
        {
          "output_type": "stream",
          "text": [
            "Epoch 1/500\n",
            "2/2 [==============================] - 0s 7ms/step - loss: 38.9972 - mae: 38.9972\n",
            "Epoch 2/500\n",
            "2/2 [==============================] - 0s 6ms/step - loss: 27.9593 - mae: 27.9593\n",
            "Epoch 3/500\n",
            "2/2 [==============================] - 0s 8ms/step - loss: 22.5996 - mae: 22.5996\n",
            "Epoch 4/500\n",
            "2/2 [==============================] - 0s 5ms/step - loss: 8.7948 - mae: 8.7948\n",
            "Epoch 5/500\n",
            "2/2 [==============================] - 0s 9ms/step - loss: 16.7108 - mae: 16.7108\n",
            "Epoch 6/500\n",
            "2/2 [==============================] - 0s 6ms/step - loss: 10.8057 - mae: 10.8057\n",
            "Epoch 7/500\n",
            "2/2 [==============================] - 0s 6ms/step - loss: 9.4639 - mae: 9.4639\n",
            "Epoch 8/500\n",
            "2/2 [==============================] - 0s 4ms/step - loss: 9.5055 - mae: 9.5055\n",
            "Epoch 9/500\n",
            "2/2 [==============================] - 0s 8ms/step - loss: 7.5120 - mae: 7.5120\n",
            "Epoch 10/500\n",
            "2/2 [==============================] - 0s 5ms/step - loss: 9.2472 - mae: 9.2472\n",
            "Epoch 11/500\n",
            "2/2 [==============================] - 0s 5ms/step - loss: 7.1291 - mae: 7.1291\n",
            "Epoch 12/500\n",
            "2/2 [==============================] - 0s 3ms/step - loss: 7.4438 - mae: 7.4438\n",
            "Epoch 13/500\n",
            "2/2 [==============================] - 0s 5ms/step - loss: 7.0720 - mae: 7.0720\n",
            "Epoch 14/500\n",
            "2/2 [==============================] - 0s 8ms/step - loss: 6.4330 - mae: 6.4330\n",
            "Epoch 15/500\n",
            "2/2 [==============================] - 0s 10ms/step - loss: 6.5478 - mae: 6.5478\n",
            "Epoch 16/500\n",
            "2/2 [==============================] - 0s 6ms/step - loss: 5.8280 - mae: 5.8280\n",
            "Epoch 17/500\n",
            "2/2 [==============================] - 0s 8ms/step - loss: 6.2478 - mae: 6.2478\n",
            "Epoch 18/500\n",
            "2/2 [==============================] - 0s 6ms/step - loss: 5.8421 - mae: 5.8421\n",
            "Epoch 19/500\n",
            "2/2 [==============================] - 0s 4ms/step - loss: 5.3848 - mae: 5.3848\n",
            "Epoch 20/500\n",
            "2/2 [==============================] - 0s 6ms/step - loss: 6.1604 - mae: 6.1604\n",
            "Epoch 21/500\n",
            "2/2 [==============================] - 0s 6ms/step - loss: 5.4008 - mae: 5.4008\n",
            "Epoch 22/500\n",
            "2/2 [==============================] - 0s 5ms/step - loss: 5.5827 - mae: 5.5827\n",
            "Epoch 23/500\n",
            "2/2 [==============================] - 0s 5ms/step - loss: 4.6211 - mae: 4.6211\n",
            "Epoch 24/500\n",
            "2/2 [==============================] - 0s 6ms/step - loss: 4.6602 - mae: 4.6602\n",
            "Epoch 25/500\n",
            "2/2 [==============================] - 0s 3ms/step - loss: 4.3298 - mae: 4.3298\n",
            "Epoch 26/500\n",
            "2/2 [==============================] - 0s 5ms/step - loss: 3.9150 - mae: 3.9150\n",
            "Epoch 27/500\n",
            "2/2 [==============================] - 0s 8ms/step - loss: 3.6382 - mae: 3.6382\n",
            "Epoch 28/500\n",
            "2/2 [==============================] - 0s 7ms/step - loss: 3.1969 - mae: 3.1969\n",
            "Epoch 29/500\n",
            "2/2 [==============================] - 0s 7ms/step - loss: 3.1929 - mae: 3.1929\n",
            "Epoch 30/500\n",
            "2/2 [==============================] - 0s 12ms/step - loss: 3.6567 - mae: 3.6567\n",
            "Epoch 31/500\n",
            "2/2 [==============================] - 0s 18ms/step - loss: 2.2925 - mae: 2.2925\n",
            "Epoch 32/500\n",
            "2/2 [==============================] - 0s 7ms/step - loss: 2.6621 - mae: 2.6621\n",
            "Epoch 33/500\n",
            "2/2 [==============================] - 0s 6ms/step - loss: 2.1439 - mae: 2.1439\n",
            "Epoch 34/500\n",
            "2/2 [==============================] - 0s 5ms/step - loss: 1.5020 - mae: 1.5020\n",
            "Epoch 35/500\n",
            "2/2 [==============================] - 0s 5ms/step - loss: 1.4300 - mae: 1.4300\n",
            "Epoch 36/500\n",
            "2/2 [==============================] - 0s 8ms/step - loss: 1.4321 - mae: 1.4321\n",
            "Epoch 37/500\n",
            "2/2 [==============================] - 0s 5ms/step - loss: 4.5878 - mae: 4.5878\n",
            "Epoch 38/500\n",
            "2/2 [==============================] - 0s 7ms/step - loss: 2.9646 - mae: 2.9646\n",
            "Epoch 39/500\n",
            "2/2 [==============================] - 0s 6ms/step - loss: 2.2029 - mae: 2.2029\n",
            "Epoch 40/500\n",
            "2/2 [==============================] - 0s 6ms/step - loss: 3.7476 - mae: 3.7476\n",
            "Epoch 41/500\n",
            "2/2 [==============================] - 0s 6ms/step - loss: 3.0300 - mae: 3.0300\n",
            "Epoch 42/500\n",
            "2/2 [==============================] - 0s 5ms/step - loss: 2.2782 - mae: 2.2782\n",
            "Epoch 43/500\n",
            "2/2 [==============================] - 0s 8ms/step - loss: 4.2754 - mae: 4.2754\n",
            "Epoch 44/500\n",
            "2/2 [==============================] - 0s 8ms/step - loss: 1.1818 - mae: 1.1818\n",
            "Epoch 45/500\n",
            "2/2 [==============================] - 0s 6ms/step - loss: 1.2228 - mae: 1.2228\n",
            "Epoch 46/500\n",
            "2/2 [==============================] - 0s 4ms/step - loss: 3.9078 - mae: 3.9078\n",
            "Epoch 47/500\n",
            "2/2 [==============================] - 0s 4ms/step - loss: 1.3575 - mae: 1.3575\n",
            "Epoch 48/500\n",
            "2/2 [==============================] - 0s 6ms/step - loss: 0.5211 - mae: 0.5211\n",
            "Epoch 49/500\n",
            "2/2 [==============================] - 0s 6ms/step - loss: 0.5031 - mae: 0.5031\n",
            "Epoch 50/500\n",
            "2/2 [==============================] - 0s 5ms/step - loss: 0.1796 - mae: 0.1796\n",
            "Epoch 51/500\n",
            "2/2 [==============================] - 0s 7ms/step - loss: 0.6971 - mae: 0.6971\n",
            "Epoch 52/500\n",
            "2/2 [==============================] - 0s 10ms/step - loss: 1.0394 - mae: 1.0394\n",
            "Epoch 53/500\n",
            "2/2 [==============================] - 0s 8ms/step - loss: 0.7163 - mae: 0.7163\n",
            "Epoch 54/500\n",
            "2/2 [==============================] - 0s 5ms/step - loss: 1.7960 - mae: 1.7960\n",
            "Epoch 55/500\n",
            "2/2 [==============================] - 0s 7ms/step - loss: 2.0175 - mae: 2.0175\n",
            "Epoch 56/500\n",
            "2/2 [==============================] - 0s 8ms/step - loss: 1.3668 - mae: 1.3668\n",
            "Epoch 57/500\n",
            "2/2 [==============================] - 0s 10ms/step - loss: 3.1114 - mae: 3.1114\n",
            "Epoch 58/500\n",
            "2/2 [==============================] - 0s 9ms/step - loss: 1.7660 - mae: 1.7660\n",
            "Epoch 59/500\n",
            "2/2 [==============================] - 0s 9ms/step - loss: 1.4690 - mae: 1.4690\n",
            "Epoch 60/500\n",
            "2/2 [==============================] - 0s 9ms/step - loss: 2.2915 - mae: 2.2915\n",
            "Epoch 61/500\n",
            "2/2 [==============================] - 0s 5ms/step - loss: 1.7552 - mae: 1.7552\n",
            "Epoch 62/500\n",
            "2/2 [==============================] - 0s 9ms/step - loss: 0.7239 - mae: 0.7239\n",
            "Epoch 63/500\n",
            "2/2 [==============================] - 0s 5ms/step - loss: 1.0346 - mae: 1.0346\n",
            "Epoch 64/500\n",
            "2/2 [==============================] - 0s 5ms/step - loss: 1.2906 - mae: 1.2906\n",
            "Epoch 65/500\n",
            "2/2 [==============================] - 0s 9ms/step - loss: 0.6205 - mae: 0.6205\n",
            "Epoch 66/500\n",
            "2/2 [==============================] - 0s 16ms/step - loss: 1.9383 - mae: 1.9383\n",
            "Epoch 67/500\n",
            "2/2 [==============================] - 0s 9ms/step - loss: 3.3309 - mae: 3.3309\n",
            "Epoch 68/500\n",
            "2/2 [==============================] - 0s 9ms/step - loss: 2.2781 - mae: 2.2781\n",
            "Epoch 69/500\n",
            "2/2 [==============================] - 0s 9ms/step - loss: 1.6379 - mae: 1.6379\n",
            "Epoch 70/500\n",
            "2/2 [==============================] - 0s 16ms/step - loss: 2.2681 - mae: 2.2681\n",
            "Epoch 71/500\n",
            "2/2 [==============================] - 0s 11ms/step - loss: 1.1857 - mae: 1.1857\n",
            "Epoch 72/500\n",
            "2/2 [==============================] - 0s 9ms/step - loss: 3.8725 - mae: 3.8725\n",
            "Epoch 73/500\n",
            "2/2 [==============================] - 0s 14ms/step - loss: 1.3459 - mae: 1.3459\n",
            "Epoch 74/500\n",
            "2/2 [==============================] - 0s 7ms/step - loss: 3.9878 - mae: 3.9878\n",
            "Epoch 75/500\n",
            "2/2 [==============================] - 0s 3ms/step - loss: 0.7414 - mae: 0.7414\n",
            "Epoch 76/500\n",
            "2/2 [==============================] - 0s 5ms/step - loss: 1.7109 - mae: 1.7109\n",
            "Epoch 77/500\n",
            "2/2 [==============================] - 0s 5ms/step - loss: 3.8915 - mae: 3.8915\n",
            "Epoch 78/500\n",
            "2/2 [==============================] - 0s 8ms/step - loss: 3.6729 - mae: 3.6729\n",
            "Epoch 79/500\n",
            "2/2 [==============================] - 0s 11ms/step - loss: 3.3843 - mae: 3.3843\n",
            "Epoch 80/500\n",
            "2/2 [==============================] - 0s 10ms/step - loss: 4.3832 - mae: 4.3832\n",
            "Epoch 81/500\n",
            "2/2 [==============================] - 0s 6ms/step - loss: 0.9052 - mae: 0.9052\n",
            "Epoch 82/500\n",
            "2/2 [==============================] - 0s 7ms/step - loss: 2.0686 - mae: 2.0686\n",
            "Epoch 83/500\n",
            "2/2 [==============================] - 0s 11ms/step - loss: 2.2277 - mae: 2.2277\n",
            "Epoch 84/500\n",
            "2/2 [==============================] - 0s 23ms/step - loss: 1.9195 - mae: 1.9195\n",
            "Epoch 85/500\n",
            "2/2 [==============================] - 0s 11ms/step - loss: 3.9298 - mae: 3.9298\n",
            "Epoch 86/500\n",
            "2/2 [==============================] - 0s 6ms/step - loss: 4.6358 - mae: 4.6358\n",
            "Epoch 87/500\n",
            "2/2 [==============================] - 0s 11ms/step - loss: 1.0867 - mae: 1.0867\n",
            "Epoch 88/500\n",
            "2/2 [==============================] - 0s 9ms/step - loss: 1.6498 - mae: 1.6498\n",
            "Epoch 89/500\n",
            "2/2 [==============================] - 0s 6ms/step - loss: 0.8751 - mae: 0.8751\n",
            "Epoch 90/500\n",
            "2/2 [==============================] - 0s 7ms/step - loss: 2.0099 - mae: 2.0099\n",
            "Epoch 91/500\n",
            "2/2 [==============================] - 0s 7ms/step - loss: 1.2753 - mae: 1.2753\n",
            "Epoch 92/500\n",
            "2/2 [==============================] - 0s 11ms/step - loss: 1.3950 - mae: 1.3950\n",
            "Epoch 93/500\n",
            "2/2 [==============================] - 0s 8ms/step - loss: 2.3355 - mae: 2.3355\n",
            "Epoch 94/500\n",
            "2/2 [==============================] - 0s 14ms/step - loss: 1.5719 - mae: 1.5719\n",
            "Epoch 95/500\n",
            "2/2 [==============================] - 0s 9ms/step - loss: 0.7009 - mae: 0.7009\n",
            "Epoch 96/500\n",
            "2/2 [==============================] - 0s 9ms/step - loss: 0.5792 - mae: 0.5792\n",
            "Epoch 97/500\n",
            "2/2 [==============================] - 0s 5ms/step - loss: 0.9101 - mae: 0.9101\n",
            "Epoch 98/500\n",
            "2/2 [==============================] - 0s 7ms/step - loss: 1.1566 - mae: 1.1566\n",
            "Epoch 99/500\n",
            "2/2 [==============================] - 0s 5ms/step - loss: 2.0127 - mae: 2.0127\n",
            "Epoch 100/500\n",
            "2/2 [==============================] - 0s 5ms/step - loss: 1.0888 - mae: 1.0888\n",
            "Epoch 101/500\n",
            "2/2 [==============================] - 0s 15ms/step - loss: 2.6171 - mae: 2.6171\n",
            "Epoch 102/500\n",
            "2/2 [==============================] - 0s 13ms/step - loss: 0.3291 - mae: 0.3291\n",
            "Epoch 103/500\n",
            "2/2 [==============================] - 0s 9ms/step - loss: 0.8603 - mae: 0.8603\n",
            "Epoch 104/500\n",
            "2/2 [==============================] - 0s 5ms/step - loss: 0.6884 - mae: 0.6884\n",
            "Epoch 105/500\n",
            "2/2 [==============================] - 0s 6ms/step - loss: 0.9123 - mae: 0.9123\n",
            "Epoch 106/500\n",
            "2/2 [==============================] - 0s 8ms/step - loss: 0.7483 - mae: 0.7483\n",
            "Epoch 107/500\n",
            "2/2 [==============================] - 0s 6ms/step - loss: 0.2360 - mae: 0.2360\n",
            "Epoch 108/500\n",
            "2/2 [==============================] - 0s 9ms/step - loss: 0.6368 - mae: 0.6368\n",
            "Epoch 109/500\n",
            "2/2 [==============================] - 0s 13ms/step - loss: 1.6877 - mae: 1.6877\n",
            "Epoch 110/500\n",
            "2/2 [==============================] - 0s 10ms/step - loss: 1.5475 - mae: 1.5475\n",
            "Epoch 111/500\n",
            "2/2 [==============================] - 0s 6ms/step - loss: 0.9674 - mae: 0.9674\n",
            "Epoch 112/500\n",
            "2/2 [==============================] - 0s 5ms/step - loss: 2.1125 - mae: 2.1125\n",
            "Epoch 113/500\n",
            "2/2 [==============================] - 0s 9ms/step - loss: 0.9653 - mae: 0.9653\n",
            "Epoch 114/500\n",
            "2/2 [==============================] - 0s 17ms/step - loss: 0.6866 - mae: 0.6866\n",
            "Epoch 115/500\n",
            "2/2 [==============================] - 0s 6ms/step - loss: 2.6290 - mae: 2.6290\n",
            "Epoch 116/500\n",
            "2/2 [==============================] - 0s 6ms/step - loss: 0.4403 - mae: 0.4403\n",
            "Epoch 117/500\n",
            "2/2 [==============================] - 0s 7ms/step - loss: 1.0235 - mae: 1.0235\n",
            "Epoch 118/500\n",
            "2/2 [==============================] - 0s 5ms/step - loss: 0.7232 - mae: 0.7232\n",
            "Epoch 119/500\n",
            "2/2 [==============================] - 0s 5ms/step - loss: 0.5389 - mae: 0.5389\n",
            "Epoch 120/500\n",
            "2/2 [==============================] - 0s 11ms/step - loss: 0.1550 - mae: 0.1550\n",
            "Epoch 121/500\n",
            "2/2 [==============================] - 0s 8ms/step - loss: 0.3029 - mae: 0.3029\n",
            "Epoch 122/500\n",
            "2/2 [==============================] - 0s 5ms/step - loss: 1.0266 - mae: 1.0266\n",
            "Epoch 123/500\n",
            "2/2 [==============================] - 0s 5ms/step - loss: 1.1784 - mae: 1.1784\n",
            "Epoch 124/500\n",
            "2/2 [==============================] - 0s 8ms/step - loss: 0.7731 - mae: 0.7731\n",
            "Epoch 125/500\n",
            "2/2 [==============================] - 0s 19ms/step - loss: 2.4671 - mae: 2.4671\n",
            "Epoch 126/500\n",
            "2/2 [==============================] - 0s 9ms/step - loss: 0.3562 - mae: 0.3562\n",
            "Epoch 127/500\n",
            "2/2 [==============================] - 0s 5ms/step - loss: 0.8482 - mae: 0.8482\n",
            "Epoch 128/500\n",
            "2/2 [==============================] - 0s 5ms/step - loss: 0.7712 - mae: 0.7712\n",
            "Epoch 129/500\n",
            "2/2 [==============================] - 0s 5ms/step - loss: 0.2721 - mae: 0.2721\n",
            "Epoch 130/500\n",
            "2/2 [==============================] - 0s 6ms/step - loss: 0.2151 - mae: 0.2151\n",
            "Epoch 131/500\n",
            "2/2 [==============================] - 0s 5ms/step - loss: 0.4794 - mae: 0.4794\n",
            "Epoch 132/500\n",
            "2/2 [==============================] - 0s 6ms/step - loss: 0.2819 - mae: 0.2819\n",
            "Epoch 133/500\n",
            "2/2 [==============================] - 0s 19ms/step - loss: 0.2830 - mae: 0.2830\n",
            "Epoch 134/500\n",
            "2/2 [==============================] - 0s 16ms/step - loss: 0.8868 - mae: 0.8868\n",
            "Epoch 135/500\n",
            "2/2 [==============================] - 0s 5ms/step - loss: 0.9557 - mae: 0.9557\n",
            "Epoch 136/500\n",
            "2/2 [==============================] - 0s 4ms/step - loss: 0.6055 - mae: 0.6055\n",
            "Epoch 137/500\n",
            "2/2 [==============================] - 0s 6ms/step - loss: 0.7271 - mae: 0.7271\n",
            "Epoch 138/500\n",
            "2/2 [==============================] - 0s 8ms/step - loss: 0.5369 - mae: 0.5369\n",
            "Epoch 139/500\n",
            "2/2 [==============================] - 0s 9ms/step - loss: 0.8740 - mae: 0.8740\n",
            "Epoch 140/500\n",
            "2/2 [==============================] - 0s 9ms/step - loss: 0.9918 - mae: 0.9918\n",
            "Epoch 141/500\n",
            "2/2 [==============================] - 0s 6ms/step - loss: 0.3695 - mae: 0.3695\n",
            "Epoch 142/500\n",
            "2/2 [==============================] - 0s 9ms/step - loss: 0.2904 - mae: 0.2904\n",
            "Epoch 143/500\n",
            "2/2 [==============================] - 0s 6ms/step - loss: 1.6796 - mae: 1.6796\n",
            "Epoch 144/500\n",
            "2/2 [==============================] - 0s 4ms/step - loss: 0.9400 - mae: 0.9400\n",
            "Epoch 145/500\n",
            "2/2 [==============================] - 0s 13ms/step - loss: 1.6196 - mae: 1.6196\n",
            "Epoch 146/500\n",
            "2/2 [==============================] - 0s 4ms/step - loss: 1.1480 - mae: 1.1480\n",
            "Epoch 147/500\n",
            "2/2 [==============================] - 0s 7ms/step - loss: 0.8549 - mae: 0.8549\n",
            "Epoch 148/500\n",
            "2/2 [==============================] - 0s 5ms/step - loss: 1.3558 - mae: 1.3558\n",
            "Epoch 149/500\n",
            "2/2 [==============================] - 0s 8ms/step - loss: 0.8442 - mae: 0.8442\n",
            "Epoch 150/500\n",
            "2/2 [==============================] - 0s 7ms/step - loss: 0.4637 - mae: 0.4637\n",
            "Epoch 151/500\n",
            "2/2 [==============================] - 0s 7ms/step - loss: 0.5582 - mae: 0.5582\n",
            "Epoch 152/500\n",
            "2/2 [==============================] - 0s 6ms/step - loss: 0.9163 - mae: 0.9163\n",
            "Epoch 153/500\n",
            "2/2 [==============================] - 0s 5ms/step - loss: 0.4422 - mae: 0.4422\n",
            "Epoch 154/500\n",
            "2/2 [==============================] - 0s 5ms/step - loss: 0.6243 - mae: 0.6243\n",
            "Epoch 155/500\n",
            "2/2 [==============================] - 0s 5ms/step - loss: 0.6694 - mae: 0.6694\n",
            "Epoch 156/500\n",
            "2/2 [==============================] - 0s 5ms/step - loss: 0.2201 - mae: 0.2201\n",
            "Epoch 157/500\n",
            "2/2 [==============================] - 0s 6ms/step - loss: 0.7219 - mae: 0.7219\n",
            "Epoch 158/500\n",
            "2/2 [==============================] - 0s 5ms/step - loss: 1.1792 - mae: 1.1792\n",
            "Epoch 159/500\n",
            "2/2 [==============================] - 0s 6ms/step - loss: 0.6124 - mae: 0.6124\n",
            "Epoch 160/500\n",
            "2/2 [==============================] - 0s 5ms/step - loss: 2.0074 - mae: 2.0074\n",
            "Epoch 161/500\n",
            "2/2 [==============================] - 0s 6ms/step - loss: 1.0129 - mae: 1.0129\n",
            "Epoch 162/500\n",
            "2/2 [==============================] - 0s 10ms/step - loss: 0.8241 - mae: 0.8241\n",
            "Epoch 163/500\n",
            "2/2 [==============================] - 0s 12ms/step - loss: 1.2528 - mae: 1.2528\n",
            "Epoch 164/500\n",
            "2/2 [==============================] - 0s 5ms/step - loss: 1.9635 - mae: 1.9635\n",
            "Epoch 165/500\n",
            "2/2 [==============================] - 0s 5ms/step - loss: 2.1050 - mae: 2.1050\n",
            "Epoch 166/500\n",
            "2/2 [==============================] - 0s 7ms/step - loss: 1.8971 - mae: 1.8971\n",
            "Epoch 167/500\n",
            "2/2 [==============================] - 0s 9ms/step - loss: 2.3768 - mae: 2.3768\n",
            "Epoch 168/500\n",
            "2/2 [==============================] - 0s 11ms/step - loss: 1.3632 - mae: 1.3632\n",
            "Epoch 169/500\n",
            "2/2 [==============================] - 0s 5ms/step - loss: 1.3764 - mae: 1.3764\n",
            "Epoch 170/500\n",
            "2/2 [==============================] - 0s 7ms/step - loss: 1.4755 - mae: 1.4755\n",
            "Epoch 171/500\n",
            "2/2 [==============================] - 0s 5ms/step - loss: 0.5815 - mae: 0.5815\n",
            "Epoch 172/500\n",
            "2/2 [==============================] - 0s 6ms/step - loss: 1.5085 - mae: 1.5085\n",
            "Epoch 173/500\n",
            "2/2 [==============================] - 0s 6ms/step - loss: 1.7931 - mae: 1.7931\n",
            "Epoch 174/500\n",
            "2/2 [==============================] - 0s 12ms/step - loss: 1.9232 - mae: 1.9232\n",
            "Epoch 175/500\n",
            "2/2 [==============================] - 0s 5ms/step - loss: 1.9278 - mae: 1.9278\n",
            "Epoch 176/500\n",
            "2/2 [==============================] - 0s 5ms/step - loss: 2.6065 - mae: 2.6065\n",
            "Epoch 177/500\n",
            "2/2 [==============================] - 0s 6ms/step - loss: 0.8756 - mae: 0.8756\n",
            "Epoch 178/500\n",
            "2/2 [==============================] - 0s 6ms/step - loss: 0.8898 - mae: 0.8898\n",
            "Epoch 179/500\n",
            "2/2 [==============================] - 0s 10ms/step - loss: 1.3055 - mae: 1.3055\n",
            "Epoch 180/500\n",
            "2/2 [==============================] - 0s 9ms/step - loss: 0.8476 - mae: 0.8476\n",
            "Epoch 181/500\n",
            "2/2 [==============================] - 0s 11ms/step - loss: 0.3457 - mae: 0.3457\n",
            "Epoch 182/500\n",
            "2/2 [==============================] - 0s 7ms/step - loss: 0.1087 - mae: 0.1087\n",
            "Epoch 183/500\n",
            "2/2 [==============================] - 0s 5ms/step - loss: 0.9846 - mae: 0.9846\n",
            "Epoch 184/500\n",
            "2/2 [==============================] - 0s 7ms/step - loss: 1.0132 - mae: 1.0132\n",
            "Epoch 185/500\n",
            "2/2 [==============================] - 0s 7ms/step - loss: 0.8843 - mae: 0.8843\n",
            "Epoch 186/500\n",
            "2/2 [==============================] - 0s 5ms/step - loss: 0.7516 - mae: 0.7516\n",
            "Epoch 187/500\n",
            "2/2 [==============================] - 0s 9ms/step - loss: 0.7584 - mae: 0.7584\n",
            "Epoch 188/500\n",
            "2/2 [==============================] - 0s 6ms/step - loss: 1.1630 - mae: 1.1630\n",
            "Epoch 189/500\n",
            "2/2 [==============================] - 0s 13ms/step - loss: 0.7084 - mae: 0.7084\n",
            "Epoch 190/500\n",
            "2/2 [==============================] - 0s 5ms/step - loss: 1.5386 - mae: 1.5386\n",
            "Epoch 191/500\n",
            "2/2 [==============================] - 0s 9ms/step - loss: 0.8454 - mae: 0.8454\n",
            "Epoch 192/500\n",
            "2/2 [==============================] - 0s 11ms/step - loss: 0.9898 - mae: 0.9898\n",
            "Epoch 193/500\n",
            "2/2 [==============================] - 0s 5ms/step - loss: 2.0824 - mae: 2.0824\n",
            "Epoch 194/500\n",
            "2/2 [==============================] - 0s 5ms/step - loss: 2.2643 - mae: 2.2643\n",
            "Epoch 195/500\n",
            "2/2 [==============================] - 0s 9ms/step - loss: 1.0645 - mae: 1.0645\n",
            "Epoch 196/500\n",
            "2/2 [==============================] - 0s 13ms/step - loss: 0.8660 - mae: 0.8660\n",
            "Epoch 197/500\n",
            "2/2 [==============================] - 0s 5ms/step - loss: 1.4855 - mae: 1.4855\n",
            "Epoch 198/500\n",
            "2/2 [==============================] - 0s 7ms/step - loss: 0.8820 - mae: 0.8820\n",
            "Epoch 199/500\n",
            "2/2 [==============================] - 0s 7ms/step - loss: 0.7744 - mae: 0.7744\n",
            "Epoch 200/500\n",
            "2/2 [==============================] - 0s 5ms/step - loss: 1.0047 - mae: 1.0047\n",
            "Epoch 201/500\n",
            "2/2 [==============================] - 0s 5ms/step - loss: 1.3413 - mae: 1.3413\n",
            "Epoch 202/500\n",
            "2/2 [==============================] - 0s 9ms/step - loss: 0.3232 - mae: 0.3232\n",
            "Epoch 203/500\n",
            "2/2 [==============================] - 0s 6ms/step - loss: 0.7241 - mae: 0.7241\n",
            "Epoch 204/500\n",
            "2/2 [==============================] - 0s 9ms/step - loss: 0.6358 - mae: 0.6358\n",
            "Epoch 205/500\n",
            "2/2 [==============================] - 0s 6ms/step - loss: 0.8600 - mae: 0.8600\n",
            "Epoch 206/500\n",
            "2/2 [==============================] - 0s 6ms/step - loss: 0.5625 - mae: 0.5625\n",
            "Epoch 207/500\n",
            "2/2 [==============================] - 0s 5ms/step - loss: 0.6182 - mae: 0.6182\n",
            "Epoch 208/500\n",
            "2/2 [==============================] - 0s 11ms/step - loss: 0.6084 - mae: 0.6084\n",
            "Epoch 209/500\n",
            "2/2 [==============================] - 0s 6ms/step - loss: 0.7589 - mae: 0.7589\n",
            "Epoch 210/500\n",
            "2/2 [==============================] - 0s 5ms/step - loss: 0.3580 - mae: 0.3580\n",
            "Epoch 211/500\n",
            "2/2 [==============================] - 0s 5ms/step - loss: 0.6763 - mae: 0.6763\n",
            "Epoch 212/500\n",
            "2/2 [==============================] - 0s 28ms/step - loss: 0.6959 - mae: 0.6959\n",
            "Epoch 213/500\n",
            "2/2 [==============================] - 0s 9ms/step - loss: 0.2774 - mae: 0.2774\n",
            "Epoch 214/500\n",
            "2/2 [==============================] - 0s 13ms/step - loss: 0.7144 - mae: 0.7144\n",
            "Epoch 215/500\n",
            "2/2 [==============================] - 0s 7ms/step - loss: 0.2013 - mae: 0.2013\n",
            "Epoch 216/500\n",
            "2/2 [==============================] - 0s 24ms/step - loss: 0.2150 - mae: 0.2150\n",
            "Epoch 217/500\n",
            "2/2 [==============================] - 0s 17ms/step - loss: 0.5308 - mae: 0.5308\n",
            "Epoch 218/500\n",
            "2/2 [==============================] - 0s 5ms/step - loss: 0.6000 - mae: 0.6000\n",
            "Epoch 219/500\n",
            "2/2 [==============================] - 0s 4ms/step - loss: 0.9737 - mae: 0.9737\n",
            "Epoch 220/500\n",
            "2/2 [==============================] - 0s 5ms/step - loss: 0.1149 - mae: 0.1149\n",
            "Epoch 221/500\n",
            "2/2 [==============================] - 0s 9ms/step - loss: 1.4481 - mae: 1.4481\n",
            "Epoch 222/500\n",
            "2/2 [==============================] - 0s 11ms/step - loss: 0.7553 - mae: 0.7553\n",
            "Epoch 223/500\n",
            "2/2 [==============================] - 0s 8ms/step - loss: 2.7605 - mae: 2.7605\n",
            "Epoch 224/500\n",
            "2/2 [==============================] - 0s 9ms/step - loss: 1.2521 - mae: 1.2521\n",
            "Epoch 225/500\n",
            "2/2 [==============================] - 0s 10ms/step - loss: 0.5914 - mae: 0.5914\n",
            "Epoch 226/500\n",
            "2/2 [==============================] - 0s 9ms/step - loss: 0.3929 - mae: 0.3929\n",
            "Epoch 227/500\n",
            "2/2 [==============================] - 0s 9ms/step - loss: 0.5089 - mae: 0.5089\n",
            "Epoch 228/500\n",
            "2/2 [==============================] - 0s 8ms/step - loss: 1.0214 - mae: 1.0214\n",
            "Epoch 229/500\n",
            "2/2 [==============================] - 0s 7ms/step - loss: 1.6176 - mae: 1.6176\n",
            "Epoch 230/500\n",
            "2/2 [==============================] - 0s 13ms/step - loss: 1.4467 - mae: 1.4467\n",
            "Epoch 231/500\n",
            "2/2 [==============================] - 0s 5ms/step - loss: 2.1177 - mae: 2.1177\n",
            "Epoch 232/500\n",
            "2/2 [==============================] - 0s 5ms/step - loss: 2.3607 - mae: 2.3607\n",
            "Epoch 233/500\n",
            "2/2 [==============================] - 0s 6ms/step - loss: 1.1965 - mae: 1.1965\n",
            "Epoch 234/500\n",
            "2/2 [==============================] - 0s 5ms/step - loss: 1.7962 - mae: 1.7962\n",
            "Epoch 235/500\n",
            "2/2 [==============================] - 0s 7ms/step - loss: 1.1075 - mae: 1.1075\n",
            "Epoch 236/500\n",
            "2/2 [==============================] - 0s 7ms/step - loss: 1.0556 - mae: 1.0556\n",
            "Epoch 237/500\n",
            "2/2 [==============================] - 0s 5ms/step - loss: 1.1823 - mae: 1.1823\n",
            "Epoch 238/500\n",
            "2/2 [==============================] - 0s 10ms/step - loss: 0.3028 - mae: 0.3028\n",
            "Epoch 239/500\n",
            "2/2 [==============================] - 0s 9ms/step - loss: 0.3228 - mae: 0.3228\n",
            "Epoch 240/500\n",
            "2/2 [==============================] - 0s 11ms/step - loss: 0.9379 - mae: 0.9379\n",
            "Epoch 241/500\n",
            "2/2 [==============================] - 0s 8ms/step - loss: 0.9895 - mae: 0.9895\n",
            "Epoch 242/500\n",
            "2/2 [==============================] - 0s 5ms/step - loss: 0.4306 - mae: 0.4306\n",
            "Epoch 243/500\n",
            "2/2 [==============================] - 0s 5ms/step - loss: 0.4311 - mae: 0.4311\n",
            "Epoch 244/500\n",
            "2/2 [==============================] - 0s 7ms/step - loss: 0.5218 - mae: 0.5218\n",
            "Epoch 245/500\n",
            "2/2 [==============================] - 0s 7ms/step - loss: 0.6357 - mae: 0.6357\n",
            "Epoch 246/500\n",
            "2/2 [==============================] - 0s 11ms/step - loss: 0.6816 - mae: 0.6816\n",
            "Epoch 247/500\n",
            "2/2 [==============================] - 0s 5ms/step - loss: 0.4403 - mae: 0.4403\n",
            "Epoch 248/500\n",
            "2/2 [==============================] - 0s 8ms/step - loss: 0.2869 - mae: 0.2869\n",
            "Epoch 249/500\n",
            "2/2 [==============================] - 0s 8ms/step - loss: 0.3326 - mae: 0.3326\n",
            "Epoch 250/500\n",
            "2/2 [==============================] - 0s 7ms/step - loss: 0.3505 - mae: 0.3505\n",
            "Epoch 251/500\n",
            "2/2 [==============================] - 0s 4ms/step - loss: 0.3223 - mae: 0.3223\n",
            "Epoch 252/500\n",
            "2/2 [==============================] - 0s 5ms/step - loss: 0.1026 - mae: 0.1026\n",
            "Epoch 253/500\n",
            "2/2 [==============================] - 0s 16ms/step - loss: 0.5932 - mae: 0.5932\n",
            "Epoch 254/500\n",
            "2/2 [==============================] - 0s 11ms/step - loss: 0.8254 - mae: 0.8254\n",
            "Epoch 255/500\n",
            "2/2 [==============================] - 0s 6ms/step - loss: 0.3109 - mae: 0.3109\n",
            "Epoch 256/500\n",
            "2/2 [==============================] - 0s 14ms/step - loss: 0.3652 - mae: 0.3652\n",
            "Epoch 257/500\n",
            "2/2 [==============================] - 0s 17ms/step - loss: 1.0586 - mae: 1.0586\n",
            "Epoch 258/500\n",
            "2/2 [==============================] - 0s 5ms/step - loss: 0.5178 - mae: 0.5178\n",
            "Epoch 259/500\n",
            "2/2 [==============================] - 0s 5ms/step - loss: 1.9674 - mae: 1.9674\n",
            "Epoch 260/500\n",
            "2/2 [==============================] - 0s 19ms/step - loss: 0.3351 - mae: 0.3351\n",
            "Epoch 261/500\n",
            "2/2 [==============================] - 0s 13ms/step - loss: 0.6068 - mae: 0.6068\n",
            "Epoch 262/500\n",
            "2/2 [==============================] - 0s 10ms/step - loss: 0.8689 - mae: 0.8689\n",
            "Epoch 263/500\n",
            "2/2 [==============================] - 0s 7ms/step - loss: 1.3981 - mae: 1.3981\n",
            "Epoch 264/500\n",
            "2/2 [==============================] - 0s 5ms/step - loss: 0.8601 - mae: 0.8601\n",
            "Epoch 265/500\n",
            "2/2 [==============================] - 0s 5ms/step - loss: 1.7076 - mae: 1.7076\n",
            "Epoch 266/500\n",
            "2/2 [==============================] - 0s 9ms/step - loss: 0.6028 - mae: 0.6028\n",
            "Epoch 267/500\n",
            "2/2 [==============================] - 0s 6ms/step - loss: 2.7577 - mae: 2.7577\n",
            "Epoch 268/500\n",
            "2/2 [==============================] - 0s 5ms/step - loss: 1.2505 - mae: 1.2505\n",
            "Epoch 269/500\n",
            "2/2 [==============================] - 0s 5ms/step - loss: 0.6490 - mae: 0.6490\n",
            "Epoch 270/500\n",
            "2/2 [==============================] - 0s 9ms/step - loss: 1.3759 - mae: 1.3759\n",
            "Epoch 271/500\n",
            "2/2 [==============================] - 0s 11ms/step - loss: 0.8555 - mae: 0.8555\n",
            "Epoch 272/500\n",
            "2/2 [==============================] - 0s 6ms/step - loss: 0.5147 - mae: 0.5147\n",
            "Epoch 273/500\n",
            "2/2 [==============================] - 0s 5ms/step - loss: 0.4678 - mae: 0.4678\n",
            "Epoch 274/500\n",
            "2/2 [==============================] - 0s 10ms/step - loss: 0.3115 - mae: 0.3115\n",
            "Epoch 275/500\n",
            "2/2 [==============================] - 0s 5ms/step - loss: 0.5922 - mae: 0.5922\n",
            "Epoch 276/500\n",
            "2/2 [==============================] - 0s 17ms/step - loss: 1.3022 - mae: 1.3022\n",
            "Epoch 277/500\n",
            "2/2 [==============================] - 0s 7ms/step - loss: 0.8064 - mae: 0.8064\n",
            "Epoch 278/500\n",
            "2/2 [==============================] - 0s 12ms/step - loss: 0.8493 - mae: 0.8493\n",
            "Epoch 279/500\n",
            "2/2 [==============================] - 0s 9ms/step - loss: 0.6130 - mae: 0.6130\n",
            "Epoch 280/500\n",
            "2/2 [==============================] - 0s 7ms/step - loss: 1.5987 - mae: 1.5987\n",
            "Epoch 281/500\n",
            "2/2 [==============================] - 0s 8ms/step - loss: 1.3330 - mae: 1.3330\n",
            "Epoch 282/500\n",
            "2/2 [==============================] - 0s 10ms/step - loss: 1.6078 - mae: 1.6078\n",
            "Epoch 283/500\n",
            "2/2 [==============================] - 0s 15ms/step - loss: 1.4497 - mae: 1.4497\n",
            "Epoch 284/500\n",
            "2/2 [==============================] - 0s 7ms/step - loss: 1.8591 - mae: 1.8591\n",
            "Epoch 285/500\n",
            "2/2 [==============================] - 0s 7ms/step - loss: 2.1751 - mae: 2.1751\n",
            "Epoch 286/500\n",
            "2/2 [==============================] - 0s 10ms/step - loss: 1.0190 - mae: 1.0190\n",
            "Epoch 287/500\n",
            "2/2 [==============================] - 0s 10ms/step - loss: 1.1879 - mae: 1.1879\n",
            "Epoch 288/500\n",
            "2/2 [==============================] - 0s 10ms/step - loss: 1.9015 - mae: 1.9015\n",
            "Epoch 289/500\n",
            "2/2 [==============================] - 0s 13ms/step - loss: 2.5251 - mae: 2.5251\n",
            "Epoch 290/500\n",
            "2/2 [==============================] - 0s 8ms/step - loss: 0.1593 - mae: 0.1593\n",
            "Epoch 291/500\n",
            "2/2 [==============================] - 0s 8ms/step - loss: 0.4857 - mae: 0.4857\n",
            "Epoch 292/500\n",
            "2/2 [==============================] - 0s 8ms/step - loss: 0.8088 - mae: 0.8088\n",
            "Epoch 293/500\n",
            "2/2 [==============================] - 0s 12ms/step - loss: 1.5225 - mae: 1.5225\n",
            "Epoch 294/500\n",
            "2/2 [==============================] - 0s 4ms/step - loss: 1.0932 - mae: 1.0932\n",
            "Epoch 295/500\n",
            "2/2 [==============================] - 0s 9ms/step - loss: 0.7184 - mae: 0.7184\n",
            "Epoch 296/500\n",
            "2/2 [==============================] - 0s 6ms/step - loss: 1.0099 - mae: 1.0099\n",
            "Epoch 297/500\n",
            "2/2 [==============================] - 0s 11ms/step - loss: 0.7152 - mae: 0.7152\n",
            "Epoch 298/500\n",
            "2/2 [==============================] - 0s 6ms/step - loss: 0.3994 - mae: 0.3994\n",
            "Epoch 299/500\n",
            "2/2 [==============================] - 0s 5ms/step - loss: 0.5527 - mae: 0.5527\n",
            "Epoch 300/500\n",
            "2/2 [==============================] - 0s 5ms/step - loss: 0.3050 - mae: 0.3050\n",
            "Epoch 301/500\n",
            "2/2 [==============================] - 0s 6ms/step - loss: 0.8812 - mae: 0.8812\n",
            "Epoch 302/500\n",
            "2/2 [==============================] - 0s 16ms/step - loss: 1.6270 - mae: 1.6270\n",
            "Epoch 303/500\n",
            "2/2 [==============================] - 0s 5ms/step - loss: 1.3760 - mae: 1.3760\n",
            "Epoch 304/500\n",
            "2/2 [==============================] - 0s 9ms/step - loss: 2.1096 - mae: 2.1096\n",
            "Epoch 305/500\n",
            "2/2 [==============================] - 0s 5ms/step - loss: 2.8493 - mae: 2.8493\n",
            "Epoch 306/500\n",
            "2/2 [==============================] - 0s 5ms/step - loss: 0.8227 - mae: 0.8227\n",
            "Epoch 307/500\n",
            "2/2 [==============================] - 0s 5ms/step - loss: 3.4562 - mae: 3.4562\n",
            "Epoch 308/500\n",
            "2/2 [==============================] - 0s 8ms/step - loss: 2.5043 - mae: 2.5043\n",
            "Epoch 309/500\n",
            "2/2 [==============================] - 0s 13ms/step - loss: 1.5821 - mae: 1.5821\n",
            "Epoch 310/500\n",
            "2/2 [==============================] - 0s 5ms/step - loss: 2.6123 - mae: 2.6123\n",
            "Epoch 311/500\n",
            "2/2 [==============================] - 0s 7ms/step - loss: 0.9018 - mae: 0.9018\n",
            "Epoch 312/500\n",
            "2/2 [==============================] - 0s 9ms/step - loss: 1.7120 - mae: 1.7120\n",
            "Epoch 313/500\n",
            "2/2 [==============================] - 0s 12ms/step - loss: 0.4465 - mae: 0.4465\n",
            "Epoch 314/500\n",
            "2/2 [==============================] - 0s 6ms/step - loss: 0.5694 - mae: 0.5694\n",
            "Epoch 315/500\n",
            "2/2 [==============================] - 0s 9ms/step - loss: 0.4661 - mae: 0.4661\n",
            "Epoch 316/500\n",
            "2/2 [==============================] - 0s 5ms/step - loss: 0.5302 - mae: 0.5302\n",
            "Epoch 317/500\n",
            "2/2 [==============================] - 0s 5ms/step - loss: 1.8837 - mae: 1.8837\n",
            "Epoch 318/500\n",
            "2/2 [==============================] - 0s 5ms/step - loss: 1.4765 - mae: 1.4765\n",
            "Epoch 319/500\n",
            "2/2 [==============================] - 0s 6ms/step - loss: 2.1066 - mae: 2.1066\n",
            "Epoch 320/500\n",
            "2/2 [==============================] - 0s 6ms/step - loss: 2.7572 - mae: 2.7572\n",
            "Epoch 321/500\n",
            "2/2 [==============================] - 0s 5ms/step - loss: 0.6996 - mae: 0.6996\n",
            "Epoch 322/500\n",
            "2/2 [==============================] - 0s 16ms/step - loss: 3.1227 - mae: 3.1227\n",
            "Epoch 323/500\n",
            "2/2 [==============================] - 0s 7ms/step - loss: 2.1691 - mae: 2.1691\n",
            "Epoch 324/500\n",
            "2/2 [==============================] - 0s 6ms/step - loss: 1.2614 - mae: 1.2614\n",
            "Epoch 325/500\n",
            "2/2 [==============================] - 0s 15ms/step - loss: 1.5354 - mae: 1.5354\n",
            "Epoch 326/500\n",
            "2/2 [==============================] - 0s 26ms/step - loss: 1.3206 - mae: 1.3206\n",
            "Epoch 327/500\n",
            "2/2 [==============================] - 0s 10ms/step - loss: 1.3893 - mae: 1.3893\n",
            "Epoch 328/500\n",
            "2/2 [==============================] - 0s 6ms/step - loss: 1.6022 - mae: 1.6022\n",
            "Epoch 329/500\n",
            "2/2 [==============================] - 0s 43ms/step - loss: 1.5411 - mae: 1.5411\n",
            "Epoch 330/500\n",
            "2/2 [==============================] - 0s 8ms/step - loss: 1.4963 - mae: 1.4963\n",
            "Epoch 331/500\n",
            "2/2 [==============================] - 0s 8ms/step - loss: 1.3703 - mae: 1.3703\n",
            "Epoch 332/500\n",
            "2/2 [==============================] - 0s 6ms/step - loss: 1.5187 - mae: 1.5187\n",
            "Epoch 333/500\n",
            "2/2 [==============================] - 0s 9ms/step - loss: 1.2737 - mae: 1.2737\n",
            "Epoch 334/500\n",
            "2/2 [==============================] - 0s 10ms/step - loss: 1.2605 - mae: 1.2605\n",
            "Epoch 335/500\n",
            "2/2 [==============================] - 0s 5ms/step - loss: 0.7554 - mae: 0.7554\n",
            "Epoch 336/500\n",
            "2/2 [==============================] - 0s 6ms/step - loss: 0.3583 - mae: 0.3583\n",
            "Epoch 337/500\n",
            "2/2 [==============================] - 0s 8ms/step - loss: 0.5051 - mae: 0.5051\n",
            "Epoch 338/500\n",
            "2/2 [==============================] - 0s 7ms/step - loss: 0.4336 - mae: 0.4336\n",
            "Epoch 339/500\n",
            "2/2 [==============================] - 0s 7ms/step - loss: 0.3839 - mae: 0.3839\n",
            "Epoch 340/500\n",
            "2/2 [==============================] - 0s 15ms/step - loss: 0.4941 - mae: 0.4941\n",
            "Epoch 341/500\n",
            "2/2 [==============================] - 0s 22ms/step - loss: 0.2135 - mae: 0.2135\n",
            "Epoch 342/500\n",
            "2/2 [==============================] - 0s 10ms/step - loss: 0.1449 - mae: 0.1449\n",
            "Epoch 343/500\n",
            "2/2 [==============================] - 0s 9ms/step - loss: 0.4696 - mae: 0.4696\n",
            "Epoch 344/500\n",
            "2/2 [==============================] - 0s 6ms/step - loss: 0.7969 - mae: 0.7969\n",
            "Epoch 345/500\n",
            "2/2 [==============================] - 0s 6ms/step - loss: 1.0918 - mae: 1.0918\n",
            "Epoch 346/500\n",
            "2/2 [==============================] - 0s 11ms/step - loss: 0.8597 - mae: 0.8597\n",
            "Epoch 347/500\n",
            "2/2 [==============================] - 0s 8ms/step - loss: 1.9060 - mae: 1.9060\n",
            "Epoch 348/500\n",
            "2/2 [==============================] - 0s 5ms/step - loss: 2.0754 - mae: 2.0754\n",
            "Epoch 349/500\n",
            "2/2 [==============================] - 0s 10ms/step - loss: 0.7453 - mae: 0.7453\n",
            "Epoch 350/500\n",
            "2/2 [==============================] - 0s 5ms/step - loss: 0.8870 - mae: 0.8870\n",
            "Epoch 351/500\n",
            "2/2 [==============================] - 0s 6ms/step - loss: 1.8682 - mae: 1.8682\n",
            "Epoch 352/500\n",
            "2/2 [==============================] - 0s 6ms/step - loss: 2.4366 - mae: 2.4366\n",
            "Epoch 353/500\n",
            "2/2 [==============================] - 0s 5ms/step - loss: 0.5400 - mae: 0.5400\n",
            "Epoch 354/500\n",
            "2/2 [==============================] - 0s 7ms/step - loss: 2.5852 - mae: 2.5852\n",
            "Epoch 355/500\n",
            "2/2 [==============================] - 0s 5ms/step - loss: 1.3441 - mae: 1.3441\n",
            "Epoch 356/500\n",
            "2/2 [==============================] - 0s 6ms/step - loss: 1.0515 - mae: 1.0515\n",
            "Epoch 357/500\n",
            "2/2 [==============================] - 0s 10ms/step - loss: 0.2768 - mae: 0.2768\n",
            "Epoch 358/500\n",
            "2/2 [==============================] - 0s 5ms/step - loss: 0.4524 - mae: 0.4524\n",
            "Epoch 359/500\n",
            "2/2 [==============================] - 0s 9ms/step - loss: 1.1326 - mae: 1.1326\n",
            "Epoch 360/500\n",
            "2/2 [==============================] - 0s 13ms/step - loss: 0.6525 - mae: 0.6525\n",
            "Epoch 361/500\n",
            "2/2 [==============================] - 0s 6ms/step - loss: 0.5913 - mae: 0.5913\n",
            "Epoch 362/500\n",
            "2/2 [==============================] - 0s 9ms/step - loss: 0.5029 - mae: 0.5029\n",
            "Epoch 363/500\n",
            "2/2 [==============================] - 0s 6ms/step - loss: 0.2182 - mae: 0.2182\n",
            "Epoch 364/500\n",
            "2/2 [==============================] - 0s 6ms/step - loss: 0.1915 - mae: 0.1915\n",
            "Epoch 365/500\n",
            "2/2 [==============================] - 0s 6ms/step - loss: 0.3529 - mae: 0.3529\n",
            "Epoch 366/500\n",
            "2/2 [==============================] - 0s 5ms/step - loss: 0.2084 - mae: 0.2084\n",
            "Epoch 367/500\n",
            "2/2 [==============================] - 0s 6ms/step - loss: 0.2126 - mae: 0.2126\n",
            "Epoch 368/500\n",
            "2/2 [==============================] - 0s 6ms/step - loss: 0.2061 - mae: 0.2061\n",
            "Epoch 369/500\n",
            "2/2 [==============================] - 0s 11ms/step - loss: 0.5043 - mae: 0.5043\n",
            "Epoch 370/500\n",
            "2/2 [==============================] - 0s 9ms/step - loss: 0.4111 - mae: 0.4111\n",
            "Epoch 371/500\n",
            "2/2 [==============================] - 0s 7ms/step - loss: 0.3019 - mae: 0.3019\n",
            "Epoch 372/500\n",
            "2/2 [==============================] - 0s 5ms/step - loss: 1.0146 - mae: 1.0146\n",
            "Epoch 373/500\n",
            "2/2 [==============================] - 0s 5ms/step - loss: 0.9807 - mae: 0.9807\n",
            "Epoch 374/500\n",
            "2/2 [==============================] - 0s 5ms/step - loss: 1.0499 - mae: 1.0499\n",
            "Epoch 375/500\n",
            "2/2 [==============================] - 0s 6ms/step - loss: 1.4290 - mae: 1.4290\n",
            "Epoch 376/500\n",
            "2/2 [==============================] - 0s 15ms/step - loss: 1.3688 - mae: 1.3688\n",
            "Epoch 377/500\n",
            "2/2 [==============================] - 0s 5ms/step - loss: 1.4273 - mae: 1.4273\n",
            "Epoch 378/500\n",
            "2/2 [==============================] - 0s 6ms/step - loss: 1.6874 - mae: 1.6874\n",
            "Epoch 379/500\n",
            "2/2 [==============================] - 0s 5ms/step - loss: 0.9017 - mae: 0.9017\n",
            "Epoch 380/500\n",
            "2/2 [==============================] - 0s 6ms/step - loss: 1.0182 - mae: 1.0182\n",
            "Epoch 381/500\n",
            "2/2 [==============================] - 0s 5ms/step - loss: 1.3582 - mae: 1.3582\n",
            "Epoch 382/500\n",
            "2/2 [==============================] - 0s 7ms/step - loss: 1.0073 - mae: 1.0073\n",
            "Epoch 383/500\n",
            "2/2 [==============================] - 0s 6ms/step - loss: 0.6130 - mae: 0.6130\n",
            "Epoch 384/500\n",
            "2/2 [==============================] - 0s 6ms/step - loss: 0.3691 - mae: 0.3691\n",
            "Epoch 385/500\n",
            "2/2 [==============================] - 0s 5ms/step - loss: 0.2554 - mae: 0.2554\n",
            "Epoch 386/500\n",
            "2/2 [==============================] - 0s 5ms/step - loss: 0.1142 - mae: 0.1142\n",
            "Epoch 387/500\n",
            "2/2 [==============================] - 0s 7ms/step - loss: 0.3316 - mae: 0.3316\n",
            "Epoch 388/500\n",
            "2/2 [==============================] - 0s 6ms/step - loss: 0.1266 - mae: 0.1266\n",
            "Epoch 389/500\n",
            "2/2 [==============================] - 0s 7ms/step - loss: 0.3402 - mae: 0.3402\n",
            "Epoch 390/500\n",
            "2/2 [==============================] - 0s 11ms/step - loss: 0.6563 - mae: 0.6563\n",
            "Epoch 391/500\n",
            "2/2 [==============================] - 0s 21ms/step - loss: 0.5458 - mae: 0.5458\n",
            "Epoch 392/500\n",
            "2/2 [==============================] - 0s 16ms/step - loss: 0.6086 - mae: 0.6086\n",
            "Epoch 393/500\n",
            "2/2 [==============================] - 0s 13ms/step - loss: 0.4931 - mae: 0.4931\n",
            "Epoch 394/500\n",
            "2/2 [==============================] - 0s 8ms/step - loss: 0.3503 - mae: 0.3503\n",
            "Epoch 395/500\n",
            "2/2 [==============================] - 0s 10ms/step - loss: 0.3169 - mae: 0.3169\n",
            "Epoch 396/500\n",
            "2/2 [==============================] - 0s 11ms/step - loss: 0.7634 - mae: 0.7634\n",
            "Epoch 397/500\n",
            "2/2 [==============================] - 0s 9ms/step - loss: 0.2580 - mae: 0.2580\n",
            "Epoch 398/500\n",
            "2/2 [==============================] - 0s 7ms/step - loss: 1.1825 - mae: 1.1825\n",
            "Epoch 399/500\n",
            "2/2 [==============================] - 0s 6ms/step - loss: 0.8388 - mae: 0.8388\n",
            "Epoch 400/500\n",
            "2/2 [==============================] - 0s 14ms/step - loss: 0.6582 - mae: 0.6582\n",
            "Epoch 401/500\n",
            "2/2 [==============================] - 0s 5ms/step - loss: 1.2782 - mae: 1.2782\n",
            "Epoch 402/500\n",
            "2/2 [==============================] - 0s 5ms/step - loss: 0.1647 - mae: 0.1647\n",
            "Epoch 403/500\n",
            "2/2 [==============================] - 0s 8ms/step - loss: 0.4702 - mae: 0.4702\n",
            "Epoch 404/500\n",
            "2/2 [==============================] - 0s 8ms/step - loss: 0.4539 - mae: 0.4539\n",
            "Epoch 405/500\n",
            "2/2 [==============================] - 0s 12ms/step - loss: 0.3683 - mae: 0.3683\n",
            "Epoch 406/500\n",
            "2/2 [==============================] - 0s 9ms/step - loss: 0.4108 - mae: 0.4108\n",
            "Epoch 407/500\n",
            "2/2 [==============================] - 0s 6ms/step - loss: 0.5066 - mae: 0.5066\n",
            "Epoch 408/500\n",
            "2/2 [==============================] - 0s 12ms/step - loss: 0.2332 - mae: 0.2332\n",
            "Epoch 409/500\n",
            "2/2 [==============================] - 0s 7ms/step - loss: 0.1232 - mae: 0.1232\n",
            "Epoch 410/500\n",
            "2/2 [==============================] - 0s 8ms/step - loss: 0.3742 - mae: 0.3742\n",
            "Epoch 411/500\n",
            "2/2 [==============================] - 0s 11ms/step - loss: 0.6538 - mae: 0.6538\n",
            "Epoch 412/500\n",
            "2/2 [==============================] - 0s 8ms/step - loss: 1.0472 - mae: 1.0472\n",
            "Epoch 413/500\n",
            "2/2 [==============================] - 0s 5ms/step - loss: 0.6812 - mae: 0.6812\n",
            "Epoch 414/500\n",
            "2/2 [==============================] - 0s 5ms/step - loss: 0.6688 - mae: 0.6688\n",
            "Epoch 415/500\n",
            "2/2 [==============================] - 0s 9ms/step - loss: 0.9160 - mae: 0.9160\n",
            "Epoch 416/500\n",
            "2/2 [==============================] - 0s 7ms/step - loss: 0.4278 - mae: 0.4278\n",
            "Epoch 417/500\n",
            "2/2 [==============================] - 0s 6ms/step - loss: 1.9372 - mae: 1.9372\n",
            "Epoch 418/500\n",
            "2/2 [==============================] - 0s 9ms/step - loss: 0.6472 - mae: 0.6472\n",
            "Epoch 419/500\n",
            "2/2 [==============================] - 0s 11ms/step - loss: 2.0456 - mae: 2.0456\n",
            "Epoch 420/500\n",
            "2/2 [==============================] - 0s 13ms/step - loss: 0.9899 - mae: 0.9899\n",
            "Epoch 421/500\n",
            "2/2 [==============================] - 0s 7ms/step - loss: 1.1615 - mae: 1.1615\n",
            "Epoch 422/500\n",
            "2/2 [==============================] - 0s 5ms/step - loss: 0.2428 - mae: 0.2428\n",
            "Epoch 423/500\n",
            "2/2 [==============================] - 0s 9ms/step - loss: 0.3472 - mae: 0.3472\n",
            "Epoch 424/500\n",
            "2/2 [==============================] - 0s 20ms/step - loss: 1.0298 - mae: 1.0298\n",
            "Epoch 425/500\n",
            "2/2 [==============================] - 0s 9ms/step - loss: 1.0280 - mae: 1.0280\n",
            "Epoch 426/500\n",
            "2/2 [==============================] - 0s 5ms/step - loss: 0.8839 - mae: 0.8839\n",
            "Epoch 427/500\n",
            "2/2 [==============================] - 0s 6ms/step - loss: 0.9960 - mae: 0.9960\n",
            "Epoch 428/500\n",
            "2/2 [==============================] - 0s 13ms/step - loss: 0.4640 - mae: 0.4640\n",
            "Epoch 429/500\n",
            "2/2 [==============================] - 0s 5ms/step - loss: 1.3302 - mae: 1.3302\n",
            "Epoch 430/500\n",
            "2/2 [==============================] - 0s 15ms/step - loss: 0.6300 - mae: 0.6300\n",
            "Epoch 431/500\n",
            "2/2 [==============================] - 0s 7ms/step - loss: 0.6280 - mae: 0.6280\n",
            "Epoch 432/500\n",
            "2/2 [==============================] - 0s 5ms/step - loss: 0.4449 - mae: 0.4449\n",
            "Epoch 433/500\n",
            "2/2 [==============================] - 0s 8ms/step - loss: 0.3200 - mae: 0.3200\n",
            "Epoch 434/500\n",
            "2/2 [==============================] - 0s 8ms/step - loss: 0.4186 - mae: 0.4186\n",
            "Epoch 435/500\n",
            "2/2 [==============================] - 0s 7ms/step - loss: 1.0835 - mae: 1.0835\n",
            "Epoch 436/500\n",
            "2/2 [==============================] - 0s 7ms/step - loss: 0.5776 - mae: 0.5776\n",
            "Epoch 437/500\n",
            "2/2 [==============================] - 0s 5ms/step - loss: 1.9917 - mae: 1.9917\n",
            "Epoch 438/500\n",
            "2/2 [==============================] - 0s 11ms/step - loss: 0.8867 - mae: 0.8867\n",
            "Epoch 439/500\n",
            "2/2 [==============================] - 0s 5ms/step - loss: 0.2229 - mae: 0.2229\n",
            "Epoch 440/500\n",
            "2/2 [==============================] - 0s 7ms/step - loss: 0.4054 - mae: 0.4054\n",
            "Epoch 441/500\n",
            "2/2 [==============================] - 0s 9ms/step - loss: 0.8144 - mae: 0.8144\n",
            "Epoch 442/500\n",
            "2/2 [==============================] - 0s 9ms/step - loss: 1.0232 - mae: 1.0232\n",
            "Epoch 443/500\n",
            "2/2 [==============================] - 0s 7ms/step - loss: 0.7506 - mae: 0.7506\n",
            "Epoch 444/500\n",
            "2/2 [==============================] - 0s 5ms/step - loss: 0.5261 - mae: 0.5261\n",
            "Epoch 445/500\n",
            "2/2 [==============================] - 0s 13ms/step - loss: 0.7132 - mae: 0.7132\n",
            "Epoch 446/500\n",
            "2/2 [==============================] - 0s 5ms/step - loss: 0.4372 - mae: 0.4372\n",
            "Epoch 447/500\n",
            "2/2 [==============================] - 0s 5ms/step - loss: 0.2486 - mae: 0.2486\n",
            "Epoch 448/500\n",
            "2/2 [==============================] - 0s 7ms/step - loss: 0.2186 - mae: 0.2186\n",
            "Epoch 449/500\n",
            "2/2 [==============================] - 0s 6ms/step - loss: 0.1908 - mae: 0.1908\n",
            "Epoch 450/500\n",
            "2/2 [==============================] - 0s 10ms/step - loss: 0.1938 - mae: 0.1938\n",
            "Epoch 451/500\n",
            "2/2 [==============================] - 0s 5ms/step - loss: 0.3300 - mae: 0.3300\n",
            "Epoch 452/500\n",
            "2/2 [==============================] - 0s 6ms/step - loss: 0.6036 - mae: 0.6036\n",
            "Epoch 453/500\n",
            "2/2 [==============================] - 0s 7ms/step - loss: 0.4034 - mae: 0.4034\n",
            "Epoch 454/500\n",
            "2/2 [==============================] - 0s 6ms/step - loss: 0.2499 - mae: 0.2499\n",
            "Epoch 455/500\n",
            "2/2 [==============================] - 0s 5ms/step - loss: 0.5486 - mae: 0.5486\n",
            "Epoch 456/500\n",
            "2/2 [==============================] - 0s 9ms/step - loss: 0.4116 - mae: 0.4116\n",
            "Epoch 457/500\n",
            "2/2 [==============================] - 0s 9ms/step - loss: 0.5280 - mae: 0.5280\n",
            "Epoch 458/500\n",
            "2/2 [==============================] - 0s 8ms/step - loss: 0.2791 - mae: 0.2791\n",
            "Epoch 459/500\n",
            "2/2 [==============================] - 0s 10ms/step - loss: 0.4598 - mae: 0.4598\n",
            "Epoch 460/500\n",
            "2/2 [==============================] - 0s 8ms/step - loss: 0.5873 - mae: 0.5873\n",
            "Epoch 461/500\n",
            "2/2 [==============================] - 0s 16ms/step - loss: 0.0878 - mae: 0.0878\n",
            "Epoch 462/500\n",
            "2/2 [==============================] - 0s 9ms/step - loss: 0.2313 - mae: 0.2313\n",
            "Epoch 463/500\n",
            "2/2 [==============================] - 0s 8ms/step - loss: 1.3001 - mae: 1.3001\n",
            "Epoch 464/500\n",
            "2/2 [==============================] - 0s 5ms/step - loss: 0.8523 - mae: 0.8523\n",
            "Epoch 465/500\n",
            "2/2 [==============================] - 0s 6ms/step - loss: 0.3023 - mae: 0.3023\n",
            "Epoch 466/500\n",
            "2/2 [==============================] - 0s 5ms/step - loss: 0.2915 - mae: 0.2915\n",
            "Epoch 467/500\n",
            "2/2 [==============================] - 0s 10ms/step - loss: 0.6590 - mae: 0.6590\n",
            "Epoch 468/500\n",
            "2/2 [==============================] - 0s 21ms/step - loss: 0.4298 - mae: 0.4298\n",
            "Epoch 469/500\n",
            "2/2 [==============================] - 0s 9ms/step - loss: 1.2081 - mae: 1.2081\n",
            "Epoch 470/500\n",
            "2/2 [==============================] - 0s 5ms/step - loss: 0.8654 - mae: 0.8654\n",
            "Epoch 471/500\n",
            "2/2 [==============================] - 0s 9ms/step - loss: 1.4346 - mae: 1.4346\n",
            "Epoch 472/500\n",
            "2/2 [==============================] - 0s 15ms/step - loss: 1.3305 - mae: 1.3305\n",
            "Epoch 473/500\n",
            "2/2 [==============================] - 0s 12ms/step - loss: 1.3544 - mae: 1.3544\n",
            "Epoch 474/500\n",
            "2/2 [==============================] - 0s 27ms/step - loss: 1.3741 - mae: 1.3741\n",
            "Epoch 475/500\n",
            "2/2 [==============================] - 0s 20ms/step - loss: 1.3159 - mae: 1.3159\n",
            "Epoch 476/500\n",
            "2/2 [==============================] - 0s 12ms/step - loss: 1.7497 - mae: 1.7497\n",
            "Epoch 477/500\n",
            "2/2 [==============================] - 0s 11ms/step - loss: 0.6876 - mae: 0.6876\n",
            "Epoch 478/500\n",
            "2/2 [==============================] - 0s 5ms/step - loss: 1.1668 - mae: 1.1668\n",
            "Epoch 479/500\n",
            "2/2 [==============================] - 0s 10ms/step - loss: 0.7752 - mae: 0.7752\n",
            "Epoch 480/500\n",
            "2/2 [==============================] - 0s 9ms/step - loss: 0.5033 - mae: 0.5033\n",
            "Epoch 481/500\n",
            "2/2 [==============================] - 0s 8ms/step - loss: 1.3370 - mae: 1.3370\n",
            "Epoch 482/500\n",
            "2/2 [==============================] - 0s 15ms/step - loss: 0.3998 - mae: 0.3998\n",
            "Epoch 483/500\n",
            "2/2 [==============================] - 0s 7ms/step - loss: 1.5748 - mae: 1.5748\n",
            "Epoch 484/500\n",
            "2/2 [==============================] - 0s 11ms/step - loss: 0.3369 - mae: 0.3369\n",
            "Epoch 485/500\n",
            "2/2 [==============================] - 0s 11ms/step - loss: 0.5295 - mae: 0.5295\n",
            "Epoch 486/500\n",
            "2/2 [==============================] - 0s 17ms/step - loss: 0.5413 - mae: 0.5413\n",
            "Epoch 487/500\n",
            "2/2 [==============================] - 0s 9ms/step - loss: 0.3282 - mae: 0.3282\n",
            "Epoch 488/500\n",
            "2/2 [==============================] - 0s 8ms/step - loss: 0.5206 - mae: 0.5206\n",
            "Epoch 489/500\n",
            "2/2 [==============================] - 0s 8ms/step - loss: 0.4093 - mae: 0.4093\n",
            "Epoch 490/500\n",
            "2/2 [==============================] - 0s 11ms/step - loss: 0.3360 - mae: 0.3360\n",
            "Epoch 491/500\n",
            "2/2 [==============================] - 0s 9ms/step - loss: 0.9627 - mae: 0.9627\n",
            "Epoch 492/500\n",
            "2/2 [==============================] - 0s 8ms/step - loss: 0.6000 - mae: 0.6000\n",
            "Epoch 493/500\n",
            "2/2 [==============================] - 0s 11ms/step - loss: 1.0348 - mae: 1.0348\n",
            "Epoch 494/500\n",
            "2/2 [==============================] - 0s 9ms/step - loss: 0.4141 - mae: 0.4141\n",
            "Epoch 495/500\n",
            "2/2 [==============================] - 0s 9ms/step - loss: 0.2305 - mae: 0.2305\n",
            "Epoch 496/500\n",
            "2/2 [==============================] - 0s 13ms/step - loss: 0.8593 - mae: 0.8593\n",
            "Epoch 497/500\n",
            "2/2 [==============================] - 0s 9ms/step - loss: 0.9989 - mae: 0.9989\n",
            "Epoch 498/500\n",
            "2/2 [==============================] - 0s 8ms/step - loss: 0.7496 - mae: 0.7496\n",
            "Epoch 499/500\n",
            "2/2 [==============================] - 0s 8ms/step - loss: 0.9872 - mae: 0.9872\n",
            "Epoch 500/500\n",
            "2/2 [==============================] - 0s 7ms/step - loss: 0.3526 - mae: 0.3526\n"
          ],
          "name": "stdout"
        },
        {
          "output_type": "execute_result",
          "data": {
            "text/plain": [
              "<tensorflow.python.keras.callbacks.History at 0x7fa8ed2e9610>"
            ]
          },
          "metadata": {
            "tags": []
          },
          "execution_count": 53
        }
      ]
    },
    {
      "cell_type": "code",
      "metadata": {
        "id": "a7-Bmd7QPMc-"
      },
      "source": [
        "from tensorflow.keras.utils import plot_model"
      ],
      "execution_count": 54,
      "outputs": []
    },
    {
      "cell_type": "code",
      "metadata": {
        "colab": {
          "base_uri": "https://localhost:8080/",
          "height": 422
        },
        "id": "J7DwlK2NQ0Di",
        "outputId": "f6698be3-66bd-426f-c417-15c83d6d34b9"
      },
      "source": [
        "plot_model(model=model, show_shapes=True)"
      ],
      "execution_count": 55,
      "outputs": [
        {
          "output_type": "execute_result",
          "data": {
            "image/png": "[encoded data removed]",
            "text/plain": [
              "<IPython.core.display.Image object>"
            ]
          },
          "metadata": {
            "tags": []
          },
          "execution_count": 55
        }
      ]
    },
    {
      "cell_type": "markdown",
      "metadata": {
        "id": "b-H9JOG6Q9wm"
      },
      "source": [
        "### Visualising our model's predictions\n",
        "\n",
        "To visualise predictions, it's a good idea to plot them against the ground truth labels.\n",
        "\n",
        "Often you'll see this in the form of ``y_test`` or ``y_true`` versus ``y_pred`` (ground truth versus your models predictions)."
      ]
    },
    {
      "cell_type": "code",
      "metadata": {
        "colab": {
          "base_uri": "https://localhost:8080/"
        },
        "id": "w8VPAWEITYrF",
        "outputId": "3a3ab64b-5538-407f-c572-f8fd621a04a2"
      },
      "source": [
        "# Make some predictions\n",
        "y_pred = model.predict(X_test)\n",
        "y_pred"
      ],
      "execution_count": 56,
      "outputs": [
        {
          "output_type": "stream",
          "text": [
            "WARNING:tensorflow:6 out of the last 7 calls to <function Model.make_predict_function.<locals>.predict_function at 0x7fa8eb47db00> triggered tf.function retracing. Tracing is expensive and the excessive number of tracings could be due to (1) creating @tf.function repeatedly in a loop, (2) passing tensors with different shapes, (3) passing Python objects instead of tensors. For (1), please define your @tf.function outside of the loop. For (2), @tf.function has experimental_relax_shapes=True option that relaxes argument shapes that can avoid unnecessary retracing. For (3), please refer to https://www.tensorflow.org/guide/function#controlling_retracing and https://www.tensorflow.org/api_docs/python/tf/function for  more details.\n"
          ],
          "name": "stdout"
        },
        {
          "output_type": "execute_result",
          "data": {
            "text/plain": [
              "array([[ 70.147446],\n",
              "       [ 74.15916 ],\n",
              "       [ 78.170876],\n",
              "       [ 82.182594],\n",
              "       [ 86.19432 ],\n",
              "       [ 90.20604 ],\n",
              "       [ 94.21776 ],\n",
              "       [ 98.229485],\n",
              "       [102.241196],\n",
              "       [106.252914]], dtype=float32)"
            ]
          },
          "metadata": {
            "tags": []
          },
          "execution_count": 56
        }
      ]
    },
    {
      "cell_type": "code",
      "metadata": {
        "colab": {
          "base_uri": "https://localhost:8080/"
        },
        "id": "oCauMd33Uz_D",
        "outputId": "e0bcb7fc-04df-4a73-d5fc-e14c3d449e6e"
      },
      "source": [
        "y_test"
      ],
      "execution_count": 57,
      "outputs": [
        {
          "output_type": "execute_result",
          "data": {
            "text/plain": [
              "<tf.Tensor: shape=(10,), dtype=int32, numpy=array([ 70,  74,  78,  82,  86,  90,  94,  98, 102, 106], dtype=int32)>"
            ]
          },
          "metadata": {
            "tags": []
          },
          "execution_count": 57
        }
      ]
    },
    {
      "cell_type": "markdown",
      "metadata": {
        "id": "Ez73kZpbVJyG"
      },
      "source": [
        "**Note:** If you feel like you're going to reuse some kind of functionality in the future, it's a good idea to turn it into a function."
      ]
    },
    {
      "cell_type": "code",
      "metadata": {
        "id": "RFybzs9-U4Ls"
      },
      "source": [
        "# Let's create a plotting function\n",
        "def plot_predictions(train_data=X_train,\n",
        "                     train_labels=y_train,\n",
        "                     test_data=X_test,\n",
        "                     test_labels=y_test,\n",
        "                     predictions= y_pred):\n",
        "    \"\"\"\n",
        "    Plots training data, test data and compares predictions to ground truth labels.\n",
        "    \"\"\"\n",
        "    plt.figure(figsize=(10,7))\n",
        "    # Plot training data in blue\n",
        "    plt.scatter(train_data, train_labels, c=\"b\", label=\"Training data\")\n",
        "    # Plot testing data in green\n",
        "    plt.scatter(test_data, test_labels, c=\"g\", label=\"Testing data\")\n",
        "    # Plot models predictions in red\n",
        "    plt.scatter(test_data, predictions, c=\"y\", label=\"Predictions\")\n",
        "    # Show the legend\n",
        "    plt.legend()"
      ],
      "execution_count": 58,
      "outputs": []
    },
    {
      "cell_type": "code",
      "metadata": {
        "colab": {
          "base_uri": "https://localhost:8080/",
          "height": 428
        },
        "id": "vQepUDz6XVmV",
        "outputId": "931ea08b-3f73-48ad-97d8-44c3a0cf95f7"
      },
      "source": [
        "plot_predictions()"
      ],
      "execution_count": 59,
      "outputs": [
        {
          "output_type": "display_data",
          "data": {
            "image/png": "[encoded data removed]",
            "text/plain": [
              "<Figure size 720x504 with 1 Axes>"
            ]
          },
          "metadata": {
            "tags": [],
            "needs_background": "light"
          }
        }
      ]
    },
    {
      "cell_type": "markdown",
      "metadata": {
        "id": "5vKNstwCXnJo"
      },
      "source": [
        "# Evaluating our models predictions with regression evaluation metrics"
      ]
    },
    {
      "cell_type": "code",
      "metadata": {
        "id": "Vl3v5E2ObxtP"
      },
      "source": [
        "# Video 03 - 014"
      ],
      "execution_count": 61,
      "outputs": []
    },
    {
      "cell_type": "code",
      "metadata": {
        "id": "-kSfo3QOb23g"
      },
      "source": [
        ""
      ],
      "execution_count": null,
      "outputs": []
    }
  ]
}