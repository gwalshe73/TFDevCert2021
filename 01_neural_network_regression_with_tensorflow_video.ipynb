{
  "nbformat": 4,
  "nbformat_minor": 0,
  "metadata": {
    "colab": {
      "name": "01_neural_network_regression_with_tensorflow_video.ipynb",
      "provenance": [],
      "collapsed_sections": [],
      "toc_visible": true,
      "mount_file_id": "1ZXFmKRMJ33peG986TXhXuZZc1ESW3zWR",
      "authorship_tag": "ABX9TyM8kApc7oPs0PBPb+uqiNJN",
      "include_colab_link": true
    },
    "kernelspec": {
      "name": "python3",
      "display_name": "Python 3"
    },
    "language_info": {
      "name": "python"
    },
    "accelerator": "TPU"
  },
  "cells": [
    {
      "cell_type": "markdown",
      "metadata": {
        "id": "view-in-github",
        "colab_type": "text"
      },
      "source": [
        "<a href=\"https://colab.research.google.com/github/gwalshe73/TFDC2021ZtoM/blob/main/01_neural_network_regression_with_tensorflow_video.ipynb\" target=\"_parent\"><img src=\"https://colab.research.google.com/assets/colab-badge.svg\" alt=\"Open In Colab\"/></a>"
      ]
    },
    {
      "cell_type": "markdown",
      "metadata": {
        "id": "Zq02Zy0VI47J"
      },
      "source": [
        "# Introduction to Regression with Neural Networks in TensorFlow\n",
        "\n",
        "There are many definitions for a regression problem but in our case, we're going to simplify it: predicting a numerical variable based on some other combination of variables, even shorter... predicting a number."
      ]
    },
    {
      "cell_type": "code",
      "metadata": {
        "colab": {
          "base_uri": "https://localhost:8080/"
        },
        "id": "wPYycrSrJpl5",
        "outputId": "4404890c-1702-402f-c6b8-dd396592cf33"
      },
      "source": [
        "# Import TensorFlow\n",
        "import tensorflow as tf\n",
        "print(tf.__version__)"
      ],
      "execution_count": 1,
      "outputs": [
        {
          "output_type": "stream",
          "text": [
            "2.5.0\n"
          ],
          "name": "stdout"
        }
      ]
    },
    {
      "cell_type": "code",
      "metadata": {
        "colab": {
          "base_uri": "https://localhost:8080/",
          "height": 286
        },
        "id": "9Ml38q-wKQY1",
        "outputId": "2e9e6ef7-b5c7-42ac-8a8e-66354e43d401"
      },
      "source": [
        "import numpy as np\n",
        "import matplotlib.pyplot as plt\n",
        "\n",
        "# Create features\n",
        "X = np.array([-7.0, -4.0, -1.0, 2.0, 5.0, 8.0, 11.0, 14.0])\n",
        "\n",
        "# Create labels\n",
        "y = np.array([3.0, 6.0, 9.0, 12.0, 15.0, 18.0, 21.0, 24.0])\n",
        "\n",
        "# Visualise it\n",
        "plt.scatter(X, y)"
      ],
      "execution_count": 2,
      "outputs": [
        {
          "output_type": "execute_result",
          "data": {
            "text/plain": [
              "<matplotlib.collections.PathCollection at 0x7f790d06de10>"
            ]
          },
          "metadata": {
            "tags": []
          },
          "execution_count": 2
        },
        {
          "output_type": "display_data",
          "data": {
            "image/png": "[encoded data removed]",
            "text/plain": [
              "<Figure size 432x288 with 1 Axes>"
            ]
          },
          "metadata": {
            "tags": [],
            "needs_background": "light"
          }
        }
      ]
    },
    {
      "cell_type": "code",
      "metadata": {
        "colab": {
          "base_uri": "https://localhost:8080/"
        },
        "id": "wC-yEns6LYXD",
        "outputId": "da389999-c8f4-4f21-b62a-9fd3927afd6d"
      },
      "source": [
        "y == X + 10"
      ],
      "execution_count": 3,
      "outputs": [
        {
          "output_type": "execute_result",
          "data": {
            "text/plain": [
              "array([ True,  True,  True,  True,  True,  True,  True,  True])"
            ]
          },
          "metadata": {
            "tags": []
          },
          "execution_count": 3
        }
      ]
    },
    {
      "cell_type": "code",
      "metadata": {
        "colab": {
          "base_uri": "https://localhost:8080/"
        },
        "id": "0YOJbRtgmg1x",
        "outputId": "d6c8cf8e-2e34-4054-b339-8a11991ca6d4"
      },
      "source": [
        "# Create a demo tensor for a our housing price prediction problem\n",
        "house_info = tf.constant([\"bedroom\", \"bathroom\", \"garage\"])\n",
        "house_price = tf.constant([939700])\n",
        "house_info, house_price"
      ],
      "execution_count": 4,
      "outputs": [
        {
          "output_type": "execute_result",
          "data": {
            "text/plain": [
              "(<tf.Tensor: shape=(3,), dtype=string, numpy=array([b'bedroom', b'bathroom', b'garage'], dtype=object)>,\n",
              " <tf.Tensor: shape=(1,), dtype=int32, numpy=array([939700], dtype=int32)>)"
            ]
          },
          "metadata": {
            "tags": []
          },
          "execution_count": 4
        }
      ]
    },
    {
      "cell_type": "code",
      "metadata": {
        "colab": {
          "base_uri": "https://localhost:8080/"
        },
        "id": "okEN9pfvnMKN",
        "outputId": "1a1d5c3b-3d93-4a8e-eb4c-4e798d420a17"
      },
      "source": [
        "X[0], y[0]"
      ],
      "execution_count": 5,
      "outputs": [
        {
          "output_type": "execute_result",
          "data": {
            "text/plain": [
              "(-7.0, 3.0)"
            ]
          },
          "metadata": {
            "tags": []
          },
          "execution_count": 5
        }
      ]
    },
    {
      "cell_type": "code",
      "metadata": {
        "colab": {
          "base_uri": "https://localhost:8080/"
        },
        "id": "Bg8N54wun9at",
        "outputId": "07ac4d0d-902c-4739-8795-510e8f17916b"
      },
      "source": [
        "X[1], y[1]"
      ],
      "execution_count": 6,
      "outputs": [
        {
          "output_type": "execute_result",
          "data": {
            "text/plain": [
              "(-4.0, 6.0)"
            ]
          },
          "metadata": {
            "tags": []
          },
          "execution_count": 6
        }
      ]
    },
    {
      "cell_type": "code",
      "metadata": {
        "id": "Za9aIV_nn_w4",
        "colab": {
          "base_uri": "https://localhost:8080/"
        },
        "outputId": "bfe0ac90-faab-4aef-aea6-72ca8ab37501"
      },
      "source": [
        "input_shape = X.shape\n",
        "output_shape = y.shape\n",
        "input_shape, output_shape"
      ],
      "execution_count": 7,
      "outputs": [
        {
          "output_type": "execute_result",
          "data": {
            "text/plain": [
              "((8,), (8,))"
            ]
          },
          "metadata": {
            "tags": []
          },
          "execution_count": 7
        }
      ]
    },
    {
      "cell_type": "code",
      "metadata": {
        "colab": {
          "base_uri": "https://localhost:8080/"
        },
        "id": "j6eRNpO0o9ZD",
        "outputId": "70910690-5bd9-4d8d-8e98-7978a9f479c9"
      },
      "source": [
        "X[0].ndim"
      ],
      "execution_count": 8,
      "outputs": [
        {
          "output_type": "execute_result",
          "data": {
            "text/plain": [
              "0"
            ]
          },
          "metadata": {
            "tags": []
          },
          "execution_count": 8
        }
      ]
    },
    {
      "cell_type": "code",
      "metadata": {
        "colab": {
          "base_uri": "https://localhost:8080/"
        },
        "id": "hawmxdJ1pgDE",
        "outputId": "65148efc-5729-4455-bac5-481a9bf50d06"
      },
      "source": [
        "X.ndim"
      ],
      "execution_count": 9,
      "outputs": [
        {
          "output_type": "execute_result",
          "data": {
            "text/plain": [
              "1"
            ]
          },
          "metadata": {
            "tags": []
          },
          "execution_count": 9
        }
      ]
    },
    {
      "cell_type": "code",
      "metadata": {
        "colab": {
          "base_uri": "https://localhost:8080/"
        },
        "id": "mfOZY1bfpiAG",
        "outputId": "350b35a3-4b61-48b8-a8a9-4399abebc313"
      },
      "source": [
        "# Turn our NumPy arrays into tensors\n",
        "X = tf.cast(tf.constant(X), dtype=tf.float32)\n",
        "y = tf.cast(tf.constant(y), dtype=tf.float32)\n",
        "X, y"
      ],
      "execution_count": 10,
      "outputs": [
        {
          "output_type": "execute_result",
          "data": {
            "text/plain": [
              "(<tf.Tensor: shape=(8,), dtype=float32, numpy=array([-7., -4., -1.,  2.,  5.,  8., 11., 14.], dtype=float32)>,\n",
              " <tf.Tensor: shape=(8,), dtype=float32, numpy=array([ 3.,  6.,  9., 12., 15., 18., 21., 24.], dtype=float32)>)"
            ]
          },
          "metadata": {
            "tags": []
          },
          "execution_count": 10
        }
      ]
    },
    {
      "cell_type": "code",
      "metadata": {
        "colab": {
          "base_uri": "https://localhost:8080/"
        },
        "id": "B6MpqJhNqgy7",
        "outputId": "47b6762b-0c31-412e-c6fa-6b73596e00cd"
      },
      "source": [
        "input_shape = X[0].shape\n",
        "output_shape = y[0].shape\n",
        "input_shape, output_shape"
      ],
      "execution_count": 11,
      "outputs": [
        {
          "output_type": "execute_result",
          "data": {
            "text/plain": [
              "(TensorShape([]), TensorShape([]))"
            ]
          },
          "metadata": {
            "tags": []
          },
          "execution_count": 11
        }
      ]
    },
    {
      "cell_type": "code",
      "metadata": {
        "colab": {
          "base_uri": "https://localhost:8080/",
          "height": 286
        },
        "id": "xuwazJA7q0Mr",
        "outputId": "fad9d99a-3e7f-48b6-d800-0f654270eaac"
      },
      "source": [
        "plt.scatter(X, y)"
      ],
      "execution_count": 12,
      "outputs": [
        {
          "output_type": "execute_result",
          "data": {
            "text/plain": [
              "<matplotlib.collections.PathCollection at 0x7f790d06dcd0>"
            ]
          },
          "metadata": {
            "tags": []
          },
          "execution_count": 12
        },
        {
          "output_type": "display_data",
          "data": {
            "image/png": "[encoded data removed]",
            "text/plain": [
              "<Figure size 432x288 with 1 Axes>"
            ]
          },
          "metadata": {
            "tags": [],
            "needs_background": "light"
          }
        }
      ]
    },
    {
      "cell_type": "markdown",
      "metadata": {
        "id": "lB9aULPprUXf"
      },
      "source": [
        "## Steps in modeling with TensorFlow\n",
        "\n",
        "1. **Creating a model** - define the input and output layers, as well as the hidden layers of a deep learning model.\n",
        "2. **Compiling a model** - define the loss function (in other words, the function which tells our model how wrong it is) and the optimizer (tells our model how to improve the patterns its learning) and evaluation metrics (what we can use to interpret the performance of our model).\n",
        "3. **Fitting a model** - letting the model try to find patterns between X & y (features and labels)."
      ]
    },
    {
      "cell_type": "code",
      "metadata": {
        "colab": {
          "base_uri": "https://localhost:8080/"
        },
        "id": "Wu1hf0QhsZby",
        "outputId": "1741b77b-2426-4967-d9b6-f285c3c1e791"
      },
      "source": [
        "# Set random seed\n",
        "tf.random.set_seed(42)\n",
        "\n",
        "# 1. Create a model using the Sequential API\n",
        "model = tf.keras.Sequential([\n",
        "                             tf.keras.layers.Dense(1)\n",
        "])\n",
        "\n",
        "# 2. Compile the model\n",
        "model.compile(loss=tf.keras.losses.mae, # mae is short for mean absolute error\n",
        "              optimizer=tf.keras.optimizers.SGD(), # sgd is short for stochastic gradient descent\n",
        "              metrics=[\"mae\"])\n",
        "\n",
        "# 3. Fit the model\n",
        "model.fit(X, y, epochs=5)"
      ],
      "execution_count": 13,
      "outputs": [
        {
          "output_type": "stream",
          "text": [
            "Epoch 1/5\n",
            "1/1 [==============================] - 0s 307ms/step - loss: 11.5048 - mae: 11.5048\n",
            "Epoch 2/5\n",
            "1/1 [==============================] - 0s 4ms/step - loss: 11.3723 - mae: 11.3723\n",
            "Epoch 3/5\n",
            "1/1 [==============================] - 0s 5ms/step - loss: 11.2398 - mae: 11.2398\n",
            "Epoch 4/5\n",
            "1/1 [==============================] - 0s 17ms/step - loss: 11.1073 - mae: 11.1073\n",
            "Epoch 5/5\n",
            "1/1 [==============================] - 0s 3ms/step - loss: 10.9748 - mae: 10.9748\n"
          ],
          "name": "stdout"
        },
        {
          "output_type": "execute_result",
          "data": {
            "text/plain": [
              "<tensorflow.python.keras.callbacks.History at 0x7f7909338150>"
            ]
          },
          "metadata": {
            "tags": []
          },
          "execution_count": 13
        }
      ]
    },
    {
      "cell_type": "code",
      "metadata": {
        "colab": {
          "base_uri": "https://localhost:8080/"
        },
        "id": "gM-LmFQXwlIF",
        "outputId": "8d5b31e5-de41-4628-aa5c-bc5d45edb318"
      },
      "source": [
        "# Check out X and y\n",
        "X, y"
      ],
      "execution_count": 14,
      "outputs": [
        {
          "output_type": "execute_result",
          "data": {
            "text/plain": [
              "(<tf.Tensor: shape=(8,), dtype=float32, numpy=array([-7., -4., -1.,  2.,  5.,  8., 11., 14.], dtype=float32)>,\n",
              " <tf.Tensor: shape=(8,), dtype=float32, numpy=array([ 3.,  6.,  9., 12., 15., 18., 21., 24.], dtype=float32)>)"
            ]
          },
          "metadata": {
            "tags": []
          },
          "execution_count": 14
        }
      ]
    },
    {
      "cell_type": "code",
      "metadata": {
        "colab": {
          "base_uri": "https://localhost:8080/"
        },
        "id": "WQ9JWS5VbFuW",
        "outputId": "5aef1280-d8f8-4f95-87f1-ce00b84b5919"
      },
      "source": [
        "# Try and make a prediction\n",
        "model.predict([17.0])"
      ],
      "execution_count": 15,
      "outputs": [
        {
          "output_type": "execute_result",
          "data": {
            "text/plain": [
              "array([[12.716021]], dtype=float32)"
            ]
          },
          "metadata": {
            "tags": []
          },
          "execution_count": 15
        }
      ]
    },
    {
      "cell_type": "code",
      "metadata": {
        "colab": {
          "base_uri": "https://localhost:8080/"
        },
        "id": "FXjVdw7zbQOZ",
        "outputId": "df5ef2c2-09e9-46cb-cce2-8e83b724fb96"
      },
      "source": [
        "y_pred = model.predict([17.0])\n",
        "y_pred"
      ],
      "execution_count": 16,
      "outputs": [
        {
          "output_type": "execute_result",
          "data": {
            "text/plain": [
              "array([[12.716021]], dtype=float32)"
            ]
          },
          "metadata": {
            "tags": []
          },
          "execution_count": 16
        }
      ]
    },
    {
      "cell_type": "code",
      "metadata": {
        "colab": {
          "base_uri": "https://localhost:8080/"
        },
        "id": "aJwvvNxzbjVO",
        "outputId": "f5f2fad8-1cef-41a1-e1c7-3559f9e9c921"
      },
      "source": [
        "y_pred - 27"
      ],
      "execution_count": 17,
      "outputs": [
        {
          "output_type": "execute_result",
          "data": {
            "text/plain": [
              "array([[-14.283979]], dtype=float32)"
            ]
          },
          "metadata": {
            "tags": []
          },
          "execution_count": 17
        }
      ]
    },
    {
      "cell_type": "markdown",
      "metadata": {
        "id": "mZTAkoaNbpvZ"
      },
      "source": [
        "# Improving our model\n",
        "\n",
        "We can improve our model by altering the steps we took to create our model.\n",
        "\n",
        "1. **Creating a model** - here we might add more layers, increase the number of hidden units (neurons) within each of the hidden layers, change the activation function of each layer.\n",
        "2. **Compiling the model** - here we might change the optimization function or perhaps the learning rate of the optimization function.\n",
        "3. **Fitting a model** - here we might fit a model for more epochs (leave it training for longer) or on more data (give the model more examples to learn from."
      ]
    },
    {
      "cell_type": "code",
      "metadata": {
        "colab": {
          "base_uri": "https://localhost:8080/"
        },
        "id": "yqVqjjS2bywY",
        "outputId": "6b9c62eb-4576-4ea9-f330-1022a9d48940"
      },
      "source": [
        "# Let's rebuild our model\n",
        "\n",
        "# 1. Create the model\n",
        "model = tf.keras.Sequential([\n",
        "                             tf.keras.layers.Dense(1)\n",
        "])\n",
        "\n",
        "# 2. Compile the model\n",
        "model.compile(loss=tf.keras.losses.mae,\n",
        "              optimizer=tf.keras.optimizers.SGD(),\n",
        "              metrics=[\"mae\"])\n",
        "\n",
        "# 3. Fit the model\n",
        "model.fit(X, y, epochs=100)"
      ],
      "execution_count": 18,
      "outputs": [
        {
          "output_type": "stream",
          "text": [
            "Epoch 1/100\n",
            "1/1 [==============================] - 0s 291ms/step - loss: 11.2219 - mae: 11.2219\n",
            "Epoch 2/100\n",
            "1/1 [==============================] - 0s 5ms/step - loss: 11.0894 - mae: 11.0894\n",
            "Epoch 3/100\n",
            "1/1 [==============================] - 0s 4ms/step - loss: 10.9569 - mae: 10.9569\n",
            "Epoch 4/100\n",
            "1/1 [==============================] - 0s 5ms/step - loss: 10.8244 - mae: 10.8244\n",
            "Epoch 5/100\n",
            "1/1 [==============================] - 0s 5ms/step - loss: 10.6919 - mae: 10.6919\n",
            "Epoch 6/100\n",
            "1/1 [==============================] - 0s 5ms/step - loss: 10.5594 - mae: 10.5594\n",
            "Epoch 7/100\n",
            "1/1 [==============================] - 0s 6ms/step - loss: 10.4269 - mae: 10.4269\n",
            "Epoch 8/100\n",
            "1/1 [==============================] - 0s 6ms/step - loss: 10.2944 - mae: 10.2944\n",
            "Epoch 9/100\n",
            "1/1 [==============================] - 0s 15ms/step - loss: 10.1619 - mae: 10.1619\n",
            "Epoch 10/100\n",
            "1/1 [==============================] - 0s 4ms/step - loss: 10.0294 - mae: 10.0294\n",
            "Epoch 11/100\n",
            "1/1 [==============================] - 0s 6ms/step - loss: 9.8969 - mae: 9.8969\n",
            "Epoch 12/100\n",
            "1/1 [==============================] - 0s 10ms/step - loss: 9.7644 - mae: 9.7644\n",
            "Epoch 13/100\n",
            "1/1 [==============================] - 0s 6ms/step - loss: 9.6319 - mae: 9.6319\n",
            "Epoch 14/100\n",
            "1/1 [==============================] - 0s 7ms/step - loss: 9.4994 - mae: 9.4994\n",
            "Epoch 15/100\n",
            "1/1 [==============================] - 0s 5ms/step - loss: 9.3669 - mae: 9.3669\n",
            "Epoch 16/100\n",
            "1/1 [==============================] - 0s 4ms/step - loss: 9.2344 - mae: 9.2344\n",
            "Epoch 17/100\n",
            "1/1 [==============================] - 0s 12ms/step - loss: 9.1019 - mae: 9.1019\n",
            "Epoch 18/100\n",
            "1/1 [==============================] - 0s 5ms/step - loss: 8.9694 - mae: 8.9694\n",
            "Epoch 19/100\n",
            "1/1 [==============================] - 0s 3ms/step - loss: 8.8369 - mae: 8.8369\n",
            "Epoch 20/100\n",
            "1/1 [==============================] - 0s 6ms/step - loss: 8.7044 - mae: 8.7044\n",
            "Epoch 21/100\n",
            "1/1 [==============================] - 0s 8ms/step - loss: 8.5719 - mae: 8.5719\n",
            "Epoch 22/100\n",
            "1/1 [==============================] - 0s 3ms/step - loss: 8.4394 - mae: 8.4394\n",
            "Epoch 23/100\n",
            "1/1 [==============================] - 0s 4ms/step - loss: 8.3069 - mae: 8.3069\n",
            "Epoch 24/100\n",
            "1/1 [==============================] - 0s 5ms/step - loss: 8.1744 - mae: 8.1744\n",
            "Epoch 25/100\n",
            "1/1 [==============================] - 0s 6ms/step - loss: 8.0419 - mae: 8.0419\n",
            "Epoch 26/100\n",
            "1/1 [==============================] - 0s 7ms/step - loss: 7.9094 - mae: 7.9094\n",
            "Epoch 27/100\n",
            "1/1 [==============================] - 0s 7ms/step - loss: 7.7769 - mae: 7.7769\n",
            "Epoch 28/100\n",
            "1/1 [==============================] - 0s 5ms/step - loss: 7.6444 - mae: 7.6444\n",
            "Epoch 29/100\n",
            "1/1 [==============================] - 0s 9ms/step - loss: 7.5119 - mae: 7.5119\n",
            "Epoch 30/100\n",
            "1/1 [==============================] - 0s 5ms/step - loss: 7.3794 - mae: 7.3794\n",
            "Epoch 31/100\n",
            "1/1 [==============================] - 0s 5ms/step - loss: 7.2750 - mae: 7.2750\n",
            "Epoch 32/100\n",
            "1/1 [==============================] - 0s 7ms/step - loss: 7.2694 - mae: 7.2694\n",
            "Epoch 33/100\n",
            "1/1 [==============================] - 0s 6ms/step - loss: 7.2638 - mae: 7.2638\n",
            "Epoch 34/100\n",
            "1/1 [==============================] - 0s 6ms/step - loss: 7.2581 - mae: 7.2581\n",
            "Epoch 35/100\n",
            "1/1 [==============================] - 0s 7ms/step - loss: 7.2525 - mae: 7.2525\n",
            "Epoch 36/100\n",
            "1/1 [==============================] - 0s 5ms/step - loss: 7.2469 - mae: 7.2469\n",
            "Epoch 37/100\n",
            "1/1 [==============================] - 0s 7ms/step - loss: 7.2412 - mae: 7.2412\n",
            "Epoch 38/100\n",
            "1/1 [==============================] - 0s 6ms/step - loss: 7.2356 - mae: 7.2356\n",
            "Epoch 39/100\n",
            "1/1 [==============================] - 0s 7ms/step - loss: 7.2300 - mae: 7.2300\n",
            "Epoch 40/100\n",
            "1/1 [==============================] - 0s 9ms/step - loss: 7.2244 - mae: 7.2244\n",
            "Epoch 41/100\n",
            "1/1 [==============================] - 0s 4ms/step - loss: 7.2188 - mae: 7.2188\n",
            "Epoch 42/100\n",
            "1/1 [==============================] - 0s 8ms/step - loss: 7.2131 - mae: 7.2131\n",
            "Epoch 43/100\n",
            "1/1 [==============================] - 0s 4ms/step - loss: 7.2075 - mae: 7.2075\n",
            "Epoch 44/100\n",
            "1/1 [==============================] - 0s 5ms/step - loss: 7.2019 - mae: 7.2019\n",
            "Epoch 45/100\n",
            "1/1 [==============================] - 0s 6ms/step - loss: 7.1962 - mae: 7.1962\n",
            "Epoch 46/100\n",
            "1/1 [==============================] - 0s 9ms/step - loss: 7.1906 - mae: 7.1906\n",
            "Epoch 47/100\n",
            "1/1 [==============================] - 0s 5ms/step - loss: 7.1850 - mae: 7.1850\n",
            "Epoch 48/100\n",
            "1/1 [==============================] - 0s 5ms/step - loss: 7.1794 - mae: 7.1794\n",
            "Epoch 49/100\n",
            "1/1 [==============================] - 0s 9ms/step - loss: 7.1737 - mae: 7.1737\n",
            "Epoch 50/100\n",
            "1/1 [==============================] - 0s 7ms/step - loss: 7.1681 - mae: 7.1681\n",
            "Epoch 51/100\n",
            "1/1 [==============================] - 0s 10ms/step - loss: 7.1625 - mae: 7.1625\n",
            "Epoch 52/100\n",
            "1/1 [==============================] - 0s 8ms/step - loss: 7.1569 - mae: 7.1569\n",
            "Epoch 53/100\n",
            "1/1 [==============================] - 0s 7ms/step - loss: 7.1512 - mae: 7.1512\n",
            "Epoch 54/100\n",
            "1/1 [==============================] - 0s 8ms/step - loss: 7.1456 - mae: 7.1456\n",
            "Epoch 55/100\n",
            "1/1 [==============================] - 0s 5ms/step - loss: 7.1400 - mae: 7.1400\n",
            "Epoch 56/100\n",
            "1/1 [==============================] - 0s 9ms/step - loss: 7.1344 - mae: 7.1344\n",
            "Epoch 57/100\n",
            "1/1 [==============================] - 0s 5ms/step - loss: 7.1287 - mae: 7.1287\n",
            "Epoch 58/100\n",
            "1/1 [==============================] - 0s 7ms/step - loss: 7.1231 - mae: 7.1231\n",
            "Epoch 59/100\n",
            "1/1 [==============================] - 0s 4ms/step - loss: 7.1175 - mae: 7.1175\n",
            "Epoch 60/100\n",
            "1/1 [==============================] - 0s 9ms/step - loss: 7.1119 - mae: 7.1119\n",
            "Epoch 61/100\n",
            "1/1 [==============================] - 0s 8ms/step - loss: 7.1062 - mae: 7.1062\n",
            "Epoch 62/100\n",
            "1/1 [==============================] - 0s 4ms/step - loss: 7.1006 - mae: 7.1006\n",
            "Epoch 63/100\n",
            "1/1 [==============================] - 0s 4ms/step - loss: 7.0950 - mae: 7.0950\n",
            "Epoch 64/100\n",
            "1/1 [==============================] - 0s 5ms/step - loss: 7.0894 - mae: 7.0894\n",
            "Epoch 65/100\n",
            "1/1 [==============================] - 0s 5ms/step - loss: 7.0838 - mae: 7.0838\n",
            "Epoch 66/100\n",
            "1/1 [==============================] - 0s 6ms/step - loss: 7.0781 - mae: 7.0781\n",
            "Epoch 67/100\n",
            "1/1 [==============================] - 0s 6ms/step - loss: 7.0725 - mae: 7.0725\n",
            "Epoch 68/100\n",
            "1/1 [==============================] - 0s 7ms/step - loss: 7.0669 - mae: 7.0669\n",
            "Epoch 69/100\n",
            "1/1 [==============================] - 0s 6ms/step - loss: 7.0613 - mae: 7.0613\n",
            "Epoch 70/100\n",
            "1/1 [==============================] - 0s 14ms/step - loss: 7.0556 - mae: 7.0556\n",
            "Epoch 71/100\n",
            "1/1 [==============================] - 0s 9ms/step - loss: 7.0500 - mae: 7.0500\n",
            "Epoch 72/100\n",
            "1/1 [==============================] - 0s 4ms/step - loss: 7.0444 - mae: 7.0444\n",
            "Epoch 73/100\n",
            "1/1 [==============================] - 0s 4ms/step - loss: 7.0388 - mae: 7.0388\n",
            "Epoch 74/100\n",
            "1/1 [==============================] - 0s 13ms/step - loss: 7.0331 - mae: 7.0331\n",
            "Epoch 75/100\n",
            "1/1 [==============================] - 0s 10ms/step - loss: 7.0275 - mae: 7.0275\n",
            "Epoch 76/100\n",
            "1/1 [==============================] - 0s 6ms/step - loss: 7.0219 - mae: 7.0219\n",
            "Epoch 77/100\n",
            "1/1 [==============================] - 0s 5ms/step - loss: 7.0163 - mae: 7.0163\n",
            "Epoch 78/100\n",
            "1/1 [==============================] - 0s 6ms/step - loss: 7.0106 - mae: 7.0106\n",
            "Epoch 79/100\n",
            "1/1 [==============================] - 0s 4ms/step - loss: 7.0050 - mae: 7.0050\n",
            "Epoch 80/100\n",
            "1/1 [==============================] - 0s 6ms/step - loss: 6.9994 - mae: 6.9994\n",
            "Epoch 81/100\n",
            "1/1 [==============================] - 0s 6ms/step - loss: 6.9938 - mae: 6.9938\n",
            "Epoch 82/100\n",
            "1/1 [==============================] - 0s 7ms/step - loss: 6.9881 - mae: 6.9881\n",
            "Epoch 83/100\n",
            "1/1 [==============================] - 0s 9ms/step - loss: 6.9825 - mae: 6.9825\n",
            "Epoch 84/100\n",
            "1/1 [==============================] - 0s 7ms/step - loss: 6.9769 - mae: 6.9769\n",
            "Epoch 85/100\n",
            "1/1 [==============================] - 0s 7ms/step - loss: 6.9713 - mae: 6.9713\n",
            "Epoch 86/100\n",
            "1/1 [==============================] - 0s 15ms/step - loss: 6.9656 - mae: 6.9656\n",
            "Epoch 87/100\n",
            "1/1 [==============================] - 0s 12ms/step - loss: 6.9600 - mae: 6.9600\n",
            "Epoch 88/100\n",
            "1/1 [==============================] - 0s 8ms/step - loss: 6.9544 - mae: 6.9544\n",
            "Epoch 89/100\n",
            "1/1 [==============================] - 0s 7ms/step - loss: 6.9488 - mae: 6.9488\n",
            "Epoch 90/100\n",
            "1/1 [==============================] - 0s 4ms/step - loss: 6.9431 - mae: 6.9431\n",
            "Epoch 91/100\n",
            "1/1 [==============================] - 0s 6ms/step - loss: 6.9375 - mae: 6.9375\n",
            "Epoch 92/100\n",
            "1/1 [==============================] - 0s 6ms/step - loss: 6.9319 - mae: 6.9319\n",
            "Epoch 93/100\n",
            "1/1 [==============================] - 0s 14ms/step - loss: 6.9263 - mae: 6.9263\n",
            "Epoch 94/100\n",
            "1/1 [==============================] - 0s 13ms/step - loss: 6.9206 - mae: 6.9206\n",
            "Epoch 95/100\n",
            "1/1 [==============================] - 0s 6ms/step - loss: 6.9150 - mae: 6.9150\n",
            "Epoch 96/100\n",
            "1/1 [==============================] - 0s 6ms/step - loss: 6.9094 - mae: 6.9094\n",
            "Epoch 97/100\n",
            "1/1 [==============================] - 0s 12ms/step - loss: 6.9038 - mae: 6.9038\n",
            "Epoch 98/100\n",
            "1/1 [==============================] - 0s 4ms/step - loss: 6.8981 - mae: 6.8981\n",
            "Epoch 99/100\n",
            "1/1 [==============================] - 0s 7ms/step - loss: 6.8925 - mae: 6.8925\n",
            "Epoch 100/100\n",
            "1/1 [==============================] - 0s 8ms/step - loss: 6.8869 - mae: 6.8869\n"
          ],
          "name": "stdout"
        },
        {
          "output_type": "execute_result",
          "data": {
            "text/plain": [
              "<tensorflow.python.keras.callbacks.History at 0x7f79070a9f90>"
            ]
          },
          "metadata": {
            "tags": []
          },
          "execution_count": 18
        }
      ]
    },
    {
      "cell_type": "code",
      "metadata": {
        "colab": {
          "base_uri": "https://localhost:8080/"
        },
        "id": "hfZzy2GggLF_",
        "outputId": "4a6f7010-aa8b-4fbb-e3c1-44a244dc4060"
      },
      "source": [
        "# Remind ourselves of the data\n",
        "X, y"
      ],
      "execution_count": 19,
      "outputs": [
        {
          "output_type": "execute_result",
          "data": {
            "text/plain": [
              "(<tf.Tensor: shape=(8,), dtype=float32, numpy=array([-7., -4., -1.,  2.,  5.,  8., 11., 14.], dtype=float32)>,\n",
              " <tf.Tensor: shape=(8,), dtype=float32, numpy=array([ 3.,  6.,  9., 12., 15., 18., 21., 24.], dtype=float32)>)"
            ]
          },
          "metadata": {
            "tags": []
          },
          "execution_count": 19
        }
      ]
    },
    {
      "cell_type": "code",
      "metadata": {
        "colab": {
          "base_uri": "https://localhost:8080/"
        },
        "id": "Zd6MyoFTgl40",
        "outputId": "5807d537-bd42-40f8-b5dd-4935c910c662"
      },
      "source": [
        "# Check our models prediction loss\n",
        "model.predict([17.0])"
      ],
      "execution_count": 20,
      "outputs": [
        {
          "output_type": "execute_result",
          "data": {
            "text/plain": [
              "array([[29.739855]], dtype=float32)"
            ]
          },
          "metadata": {
            "tags": []
          },
          "execution_count": 20
        }
      ]
    },
    {
      "cell_type": "code",
      "metadata": {
        "id": "FNRrDi_5guIh"
      },
      "source": [
        ""
      ],
      "execution_count": 20,
      "outputs": []
    },
    {
      "cell_type": "code",
      "metadata": {
        "colab": {
          "base_uri": "https://localhost:8080/"
        },
        "id": "FWr6-5PThT1k",
        "outputId": "43efdc6d-71b8-4b14-bf57-d1cbcd0ed875"
      },
      "source": [
        "# Let's rebuild our model\n",
        "\n",
        "# 1. Create the model\n",
        "model = tf.keras.Sequential([\n",
        "                             tf.keras.layers.Dense(50, activation=None),\n",
        "                             tf.keras.layers.Dense(1)\n",
        "])\n",
        "\n",
        "# 2. Compile the model\n",
        "model.compile(loss=tf.keras.losses.mae,\n",
        "              optimizer=tf.keras.optimizers.Adam(learning_rate=0.01),\n",
        "              metrics=[\"mae\"])\n",
        "\n",
        "# 3. Fit the model\n",
        "model.fit(X, y, epochs=100)"
      ],
      "execution_count": 21,
      "outputs": [
        {
          "output_type": "stream",
          "text": [
            "Epoch 1/100\n",
            "1/1 [==============================] - 0s 372ms/step - loss: 11.7682 - mae: 11.7682\n",
            "Epoch 2/100\n",
            "1/1 [==============================] - 0s 5ms/step - loss: 11.0963 - mae: 11.0963\n",
            "Epoch 3/100\n",
            "1/1 [==============================] - 0s 6ms/step - loss: 10.4150 - mae: 10.4150\n",
            "Epoch 4/100\n",
            "1/1 [==============================] - 0s 3ms/step - loss: 9.7212 - mae: 9.7212\n",
            "Epoch 5/100\n",
            "1/1 [==============================] - 0s 7ms/step - loss: 9.0104 - mae: 9.0104\n",
            "Epoch 6/100\n",
            "1/1 [==============================] - 0s 5ms/step - loss: 8.2778 - mae: 8.2778\n",
            "Epoch 7/100\n",
            "1/1 [==============================] - 0s 6ms/step - loss: 7.5198 - mae: 7.5198\n",
            "Epoch 8/100\n",
            "1/1 [==============================] - 0s 4ms/step - loss: 6.9648 - mae: 6.9648\n",
            "Epoch 9/100\n",
            "1/1 [==============================] - 0s 5ms/step - loss: 7.0672 - mae: 7.0672\n",
            "Epoch 10/100\n",
            "1/1 [==============================] - 0s 6ms/step - loss: 7.3315 - mae: 7.3315\n",
            "Epoch 11/100\n",
            "1/1 [==============================] - 0s 5ms/step - loss: 7.4673 - mae: 7.4673\n",
            "Epoch 12/100\n",
            "1/1 [==============================] - 0s 8ms/step - loss: 7.5285 - mae: 7.5285\n",
            "Epoch 13/100\n",
            "1/1 [==============================] - 0s 14ms/step - loss: 7.4011 - mae: 7.4011\n",
            "Epoch 14/100\n",
            "1/1 [==============================] - 0s 5ms/step - loss: 7.1923 - mae: 7.1923\n",
            "Epoch 15/100\n",
            "1/1 [==============================] - 0s 5ms/step - loss: 6.9575 - mae: 6.9575\n",
            "Epoch 16/100\n",
            "1/1 [==============================] - 0s 12ms/step - loss: 6.6953 - mae: 6.6953\n",
            "Epoch 17/100\n",
            "1/1 [==============================] - 0s 5ms/step - loss: 6.4127 - mae: 6.4127\n",
            "Epoch 18/100\n",
            "1/1 [==============================] - 0s 6ms/step - loss: 6.3048 - mae: 6.3048\n",
            "Epoch 19/100\n",
            "1/1 [==============================] - 0s 5ms/step - loss: 6.2575 - mae: 6.2575\n",
            "Epoch 20/100\n",
            "1/1 [==============================] - 0s 8ms/step - loss: 6.3982 - mae: 6.3982\n",
            "Epoch 21/100\n",
            "1/1 [==============================] - 0s 5ms/step - loss: 6.4551 - mae: 6.4551\n",
            "Epoch 22/100\n",
            "1/1 [==============================] - 0s 7ms/step - loss: 6.4000 - mae: 6.4000\n",
            "Epoch 23/100\n",
            "1/1 [==============================] - 0s 6ms/step - loss: 6.2482 - mae: 6.2482\n",
            "Epoch 24/100\n",
            "1/1 [==============================] - 0s 7ms/step - loss: 6.0105 - mae: 6.0105\n",
            "Epoch 25/100\n",
            "1/1 [==============================] - 0s 9ms/step - loss: 5.7876 - mae: 5.7876\n",
            "Epoch 26/100\n",
            "1/1 [==============================] - 0s 6ms/step - loss: 5.6809 - mae: 5.6809\n",
            "Epoch 27/100\n",
            "1/1 [==============================] - 0s 9ms/step - loss: 5.5715 - mae: 5.5715\n",
            "Epoch 28/100\n",
            "1/1 [==============================] - 0s 5ms/step - loss: 5.6122 - mae: 5.6122\n",
            "Epoch 29/100\n",
            "1/1 [==============================] - 0s 7ms/step - loss: 5.6074 - mae: 5.6074\n",
            "Epoch 30/100\n",
            "1/1 [==============================] - 0s 6ms/step - loss: 5.5541 - mae: 5.5541\n",
            "Epoch 31/100\n",
            "1/1 [==============================] - 0s 7ms/step - loss: 5.4568 - mae: 5.4568\n",
            "Epoch 32/100\n",
            "1/1 [==============================] - 0s 6ms/step - loss: 5.3199 - mae: 5.3199\n",
            "Epoch 33/100\n",
            "1/1 [==============================] - 0s 8ms/step - loss: 5.1477 - mae: 5.1477\n",
            "Epoch 34/100\n",
            "1/1 [==============================] - 0s 7ms/step - loss: 4.9442 - mae: 4.9442\n",
            "Epoch 35/100\n",
            "1/1 [==============================] - 0s 13ms/step - loss: 4.8239 - mae: 4.8239\n",
            "Epoch 36/100\n",
            "1/1 [==============================] - 0s 9ms/step - loss: 4.7389 - mae: 4.7389\n",
            "Epoch 37/100\n",
            "1/1 [==============================] - 0s 6ms/step - loss: 4.6657 - mae: 4.6657\n",
            "Epoch 38/100\n",
            "1/1 [==============================] - 0s 9ms/step - loss: 4.5846 - mae: 4.5846\n",
            "Epoch 39/100\n",
            "1/1 [==============================] - 0s 7ms/step - loss: 4.4027 - mae: 4.4027\n",
            "Epoch 40/100\n",
            "1/1 [==============================] - 0s 5ms/step - loss: 4.2653 - mae: 4.2653\n",
            "Epoch 41/100\n",
            "1/1 [==============================] - 0s 7ms/step - loss: 4.1212 - mae: 4.1212\n",
            "Epoch 42/100\n",
            "1/1 [==============================] - 0s 7ms/step - loss: 3.9702 - mae: 3.9702\n",
            "Epoch 43/100\n",
            "1/1 [==============================] - 0s 8ms/step - loss: 3.8272 - mae: 3.8272\n",
            "Epoch 44/100\n",
            "1/1 [==============================] - 0s 6ms/step - loss: 3.7041 - mae: 3.7041\n",
            "Epoch 45/100\n",
            "1/1 [==============================] - 0s 7ms/step - loss: 3.5320 - mae: 3.5320\n",
            "Epoch 46/100\n",
            "1/1 [==============================] - 0s 10ms/step - loss: 3.3664 - mae: 3.3664\n",
            "Epoch 47/100\n",
            "1/1 [==============================] - 0s 6ms/step - loss: 3.2116 - mae: 3.2116\n",
            "Epoch 48/100\n",
            "1/1 [==============================] - 0s 8ms/step - loss: 3.0463 - mae: 3.0463\n",
            "Epoch 49/100\n",
            "1/1 [==============================] - 0s 7ms/step - loss: 2.8705 - mae: 2.8705\n",
            "Epoch 50/100\n",
            "1/1 [==============================] - 0s 7ms/step - loss: 2.6840 - mae: 2.6840\n",
            "Epoch 51/100\n",
            "1/1 [==============================] - 0s 7ms/step - loss: 2.4868 - mae: 2.4868\n",
            "Epoch 52/100\n",
            "1/1 [==============================] - 0s 7ms/step - loss: 2.2787 - mae: 2.2787\n",
            "Epoch 53/100\n",
            "1/1 [==============================] - 0s 9ms/step - loss: 2.0596 - mae: 2.0596\n",
            "Epoch 54/100\n",
            "1/1 [==============================] - 0s 14ms/step - loss: 1.8293 - mae: 1.8293\n",
            "Epoch 55/100\n",
            "1/1 [==============================] - 0s 8ms/step - loss: 1.5876 - mae: 1.5876\n",
            "Epoch 56/100\n",
            "1/1 [==============================] - 0s 8ms/step - loss: 1.3530 - mae: 1.3530\n",
            "Epoch 57/100\n",
            "1/1 [==============================] - 0s 10ms/step - loss: 1.0849 - mae: 1.0849\n",
            "Epoch 58/100\n",
            "1/1 [==============================] - 0s 7ms/step - loss: 0.8224 - mae: 0.8224\n",
            "Epoch 59/100\n",
            "1/1 [==============================] - 0s 7ms/step - loss: 0.5467 - mae: 0.5467\n",
            "Epoch 60/100\n",
            "1/1 [==============================] - 0s 5ms/step - loss: 0.2758 - mae: 0.2758\n",
            "Epoch 61/100\n",
            "1/1 [==============================] - 0s 7ms/step - loss: 0.1354 - mae: 0.1354\n",
            "Epoch 62/100\n",
            "1/1 [==============================] - 0s 8ms/step - loss: 0.4494 - mae: 0.4494\n",
            "Epoch 63/100\n",
            "1/1 [==============================] - 0s 14ms/step - loss: 0.6498 - mae: 0.6498\n",
            "Epoch 64/100\n",
            "1/1 [==============================] - 0s 7ms/step - loss: 0.6216 - mae: 0.6216\n",
            "Epoch 65/100\n",
            "1/1 [==============================] - 0s 5ms/step - loss: 0.8036 - mae: 0.8036\n",
            "Epoch 66/100\n",
            "1/1 [==============================] - 0s 6ms/step - loss: 0.7995 - mae: 0.7995\n",
            "Epoch 67/100\n",
            "1/1 [==============================] - 0s 8ms/step - loss: 0.7409 - mae: 0.7409\n",
            "Epoch 68/100\n",
            "1/1 [==============================] - 0s 12ms/step - loss: 0.7806 - mae: 0.7806\n",
            "Epoch 69/100\n",
            "1/1 [==============================] - 0s 10ms/step - loss: 0.6305 - mae: 0.6305\n",
            "Epoch 70/100\n",
            "1/1 [==============================] - 0s 5ms/step - loss: 0.5556 - mae: 0.5556\n",
            "Epoch 71/100\n",
            "1/1 [==============================] - 0s 6ms/step - loss: 0.4306 - mae: 0.4306\n",
            "Epoch 72/100\n",
            "1/1 [==============================] - 0s 6ms/step - loss: 0.2786 - mae: 0.2786\n",
            "Epoch 73/100\n",
            "1/1 [==============================] - 0s 7ms/step - loss: 0.1378 - mae: 0.1378\n",
            "Epoch 74/100\n",
            "1/1 [==============================] - 0s 8ms/step - loss: 0.1193 - mae: 0.1193\n",
            "Epoch 75/100\n",
            "1/1 [==============================] - 0s 10ms/step - loss: 0.2777 - mae: 0.2777\n",
            "Epoch 76/100\n",
            "1/1 [==============================] - 0s 6ms/step - loss: 0.3245 - mae: 0.3245\n",
            "Epoch 77/100\n",
            "1/1 [==============================] - 0s 6ms/step - loss: 0.4157 - mae: 0.4157\n",
            "Epoch 78/100\n",
            "1/1 [==============================] - 0s 8ms/step - loss: 0.4319 - mae: 0.4319\n",
            "Epoch 79/100\n",
            "1/1 [==============================] - 0s 8ms/step - loss: 0.3391 - mae: 0.3391\n",
            "Epoch 80/100\n",
            "1/1 [==============================] - 0s 5ms/step - loss: 0.2968 - mae: 0.2968\n",
            "Epoch 81/100\n",
            "1/1 [==============================] - 0s 6ms/step - loss: 0.2355 - mae: 0.2355\n",
            "Epoch 82/100\n",
            "1/1 [==============================] - 0s 5ms/step - loss: 0.1633 - mae: 0.1633\n",
            "Epoch 83/100\n",
            "1/1 [==============================] - 0s 4ms/step - loss: 0.1339 - mae: 0.1339\n",
            "Epoch 84/100\n",
            "1/1 [==============================] - 0s 5ms/step - loss: 0.1262 - mae: 0.1262\n",
            "Epoch 85/100\n",
            "1/1 [==============================] - 0s 9ms/step - loss: 0.1702 - mae: 0.1702\n",
            "Epoch 86/100\n",
            "1/1 [==============================] - 0s 10ms/step - loss: 0.2124 - mae: 0.2124\n",
            "Epoch 87/100\n",
            "1/1 [==============================] - 0s 4ms/step - loss: 0.2288 - mae: 0.2288\n",
            "Epoch 88/100\n",
            "1/1 [==============================] - 0s 10ms/step - loss: 0.1901 - mae: 0.1901\n",
            "Epoch 89/100\n",
            "1/1 [==============================] - 0s 5ms/step - loss: 0.1354 - mae: 0.1354\n",
            "Epoch 90/100\n",
            "1/1 [==============================] - 0s 4ms/step - loss: 0.1218 - mae: 0.1218\n",
            "Epoch 91/100\n",
            "1/1 [==============================] - 0s 4ms/step - loss: 0.0382 - mae: 0.0382\n",
            "Epoch 92/100\n",
            "1/1 [==============================] - 0s 4ms/step - loss: 0.2197 - mae: 0.2197\n",
            "Epoch 93/100\n",
            "1/1 [==============================] - 0s 4ms/step - loss: 0.2189 - mae: 0.2189\n",
            "Epoch 94/100\n",
            "1/1 [==============================] - 0s 4ms/step - loss: 0.1427 - mae: 0.1427\n",
            "Epoch 95/100\n",
            "1/1 [==============================] - 0s 5ms/step - loss: 0.1168 - mae: 0.1168\n",
            "Epoch 96/100\n",
            "1/1 [==============================] - 0s 6ms/step - loss: 0.2069 - mae: 0.2069\n",
            "Epoch 97/100\n",
            "1/1 [==============================] - 0s 14ms/step - loss: 0.1524 - mae: 0.1524\n",
            "Epoch 98/100\n",
            "1/1 [==============================] - 0s 10ms/step - loss: 0.2133 - mae: 0.2133\n",
            "Epoch 99/100\n",
            "1/1 [==============================] - 0s 8ms/step - loss: 0.2329 - mae: 0.2329\n",
            "Epoch 100/100\n",
            "1/1 [==============================] - 0s 8ms/step - loss: 0.0780 - mae: 0.0780\n"
          ],
          "name": "stdout"
        },
        {
          "output_type": "execute_result",
          "data": {
            "text/plain": [
              "<tensorflow.python.keras.callbacks.History at 0x7f7907091350>"
            ]
          },
          "metadata": {
            "tags": []
          },
          "execution_count": 21
        }
      ]
    },
    {
      "cell_type": "code",
      "metadata": {
        "colab": {
          "base_uri": "https://localhost:8080/"
        },
        "id": "kBvj2_SFhZKV",
        "outputId": "61dcf8b2-5858-4d9b-f284-117b996a294c"
      },
      "source": [
        "# Check the prediction\n",
        "model.predict([17.0])"
      ],
      "execution_count": 22,
      "outputs": [
        {
          "output_type": "execute_result",
          "data": {
            "text/plain": [
              "array([[26.58353]], dtype=float32)"
            ]
          },
          "metadata": {
            "tags": []
          },
          "execution_count": 22
        }
      ]
    },
    {
      "cell_type": "markdown",
      "metadata": {
        "id": "yk__TFyJlGgn"
      },
      "source": [
        "# Evaluating a model\n",
        "\n",
        "In practice, a typical workflow you'll go through when building neural networks is:\n",
        "\n",
        "``Build a model -> fit it -> evaluate it -> tweak a model -> fit it -> evaluate it -> tweak it -> fit it -> evaluate it...``\n",
        "\n",
        "When it comes to evaluation... there are 3 words you should memorise:\n",
        "\n",
        ">\"Visualise, visualise, visualise\"\n",
        "\n",
        "It's a good idea to visualise:\n",
        "* The data - what data are we working with? What does it look like?\n",
        "* The model itself - what does our model look like?\n",
        "* The training of a model - how does a model perform while it learns?\n",
        "* The predictions of the model - how do the predictions of the model line up with the ground truth (original labels)?"
      ]
    },
    {
      "cell_type": "code",
      "metadata": {
        "colab": {
          "base_uri": "https://localhost:8080/"
        },
        "id": "I8gelGO9onC4",
        "outputId": "259505e0-115a-4a1d-f48c-e0aa971fee5c"
      },
      "source": [
        "# Make a bigger dataset\n",
        "X = tf.range(-100, 100, 4)\n",
        "X"
      ],
      "execution_count": 23,
      "outputs": [
        {
          "output_type": "execute_result",
          "data": {
            "text/plain": [
              "<tf.Tensor: shape=(50,), dtype=int32, numpy=\n",
              "array([-100,  -96,  -92,  -88,  -84,  -80,  -76,  -72,  -68,  -64,  -60,\n",
              "        -56,  -52,  -48,  -44,  -40,  -36,  -32,  -28,  -24,  -20,  -16,\n",
              "        -12,   -8,   -4,    0,    4,    8,   12,   16,   20,   24,   28,\n",
              "         32,   36,   40,   44,   48,   52,   56,   60,   64,   68,   72,\n",
              "         76,   80,   84,   88,   92,   96], dtype=int32)>"
            ]
          },
          "metadata": {
            "tags": []
          },
          "execution_count": 23
        }
      ]
    },
    {
      "cell_type": "code",
      "metadata": {
        "colab": {
          "base_uri": "https://localhost:8080/"
        },
        "id": "5jM2SI9Qo0Wa",
        "outputId": "772e0db0-e26a-435e-d492-690a3e84d97d"
      },
      "source": [
        "# Make labels for the dataset\n",
        "y = X + 10\n",
        "y"
      ],
      "execution_count": 24,
      "outputs": [
        {
          "output_type": "execute_result",
          "data": {
            "text/plain": [
              "<tf.Tensor: shape=(50,), dtype=int32, numpy=\n",
              "array([-90, -86, -82, -78, -74, -70, -66, -62, -58, -54, -50, -46, -42,\n",
              "       -38, -34, -30, -26, -22, -18, -14, -10,  -6,  -2,   2,   6,  10,\n",
              "        14,  18,  22,  26,  30,  34,  38,  42,  46,  50,  54,  58,  62,\n",
              "        66,  70,  74,  78,  82,  86,  90,  94,  98, 102, 106], dtype=int32)>"
            ]
          },
          "metadata": {
            "tags": []
          },
          "execution_count": 24
        }
      ]
    },
    {
      "cell_type": "code",
      "metadata": {
        "colab": {
          "base_uri": "https://localhost:8080/",
          "height": 282
        },
        "id": "s1mI8wM8o97c",
        "outputId": "72946e1b-0a9e-4058-f331-62d0fb73e09b"
      },
      "source": [
        "# Visualize the data\n",
        "plt.scatter(X, y)"
      ],
      "execution_count": 25,
      "outputs": [
        {
          "output_type": "execute_result",
          "data": {
            "text/plain": [
              "<matplotlib.collections.PathCollection at 0x7f790d8ec050>"
            ]
          },
          "metadata": {
            "tags": []
          },
          "execution_count": 25
        },
        {
          "output_type": "display_data",
          "data": {
            "image/png": "[encoded data removed]",
            "text/plain": [
              "<Figure size 432x288 with 1 Axes>"
            ]
          },
          "metadata": {
            "tags": [],
            "needs_background": "light"
          }
        }
      ]
    },
    {
      "cell_type": "markdown",
      "metadata": {
        "id": "E9eNvxYjpMMO"
      },
      "source": [
        "### The 3 sets...\n",
        "\n",
        "* **Training set** - the model learns from this data, which is typically 70-80% of the total data you have available.\n",
        "* **Validation set** - the model gets tuned on this data, which is typically 10-15% of the data available.\n",
        "* Test set - the model gets evaluated on this data to test what it has learned, this is typically 10-15% of the data available."
      ]
    },
    {
      "cell_type": "code",
      "metadata": {
        "colab": {
          "base_uri": "https://localhost:8080/"
        },
        "id": "S7JLlc94sylz",
        "outputId": "afcd3a34-9023-42f3-e83d-ca66737ccb1b"
      },
      "source": [
        "# Check the length of how many samples we have\n",
        "len(X)"
      ],
      "execution_count": 26,
      "outputs": [
        {
          "output_type": "execute_result",
          "data": {
            "text/plain": [
              "50"
            ]
          },
          "metadata": {
            "tags": []
          },
          "execution_count": 26
        }
      ]
    },
    {
      "cell_type": "code",
      "metadata": {
        "colab": {
          "base_uri": "https://localhost:8080/"
        },
        "id": "TiWAv7aGtj8C",
        "outputId": "679196b6-ecb0-4770-c0a9-14bae1aff800"
      },
      "source": [
        "# Split the data into train and test sets\n",
        "X_train = X[:40] # First 40 are training samples (80%)\n",
        "y_train = y[:40]\n",
        "\n",
        "X_test = X[40:] # Last 10 are test samples (20%)\n",
        "y_test = y[40:]\n",
        "\n",
        "len(X_train), len(X_test), len(y_train), len(y_test)"
      ],
      "execution_count": 27,
      "outputs": [
        {
          "output_type": "execute_result",
          "data": {
            "text/plain": [
              "(40, 10, 40, 10)"
            ]
          },
          "metadata": {
            "tags": []
          },
          "execution_count": 27
        }
      ]
    },
    {
      "cell_type": "markdown",
      "metadata": {
        "id": "U-yvyZQxt1Xy"
      },
      "source": [
        "### Visualising the data\n",
        "\n",
        "Now we've got our data in training and test sets... let's visualise it"
      ]
    },
    {
      "cell_type": "code",
      "metadata": {
        "colab": {
          "base_uri": "https://localhost:8080/",
          "height": 445
        },
        "id": "mo1RBlFquhak",
        "outputId": "e41a8612-7340-4404-de99-dc3a6724de54"
      },
      "source": [
        "plt.figure(figsize=(10, 7))\n",
        "# Plot training data in blue\n",
        "plt.scatter(X_train, y_train, c=\"b\", label=\"Training data\")\n",
        "# Plot test data in green\n",
        "plt.scatter(X_test, y_test, c=\"g\", label=\"Testing data\")\n",
        "# Show a legend\n",
        "plt.legend()"
      ],
      "execution_count": 28,
      "outputs": [
        {
          "output_type": "execute_result",
          "data": {
            "text/plain": [
              "<matplotlib.legend.Legend at 0x7f7904102890>"
            ]
          },
          "metadata": {
            "tags": []
          },
          "execution_count": 28
        },
        {
          "output_type": "display_data",
          "data": {
            "image/png": "[encoded data removed]",
            "text/plain": [
              "<Figure size 720x504 with 1 Axes>"
            ]
          },
          "metadata": {
            "tags": [],
            "needs_background": "light"
          }
        }
      ]
    },
    {
      "cell_type": "code",
      "metadata": {
        "id": "_zJ1dIaKvQF5"
      },
      "source": [
        "# Let's have a look at how to build a neural network for our data\n",
        "\n",
        "# 1. Create a model\n",
        "model = tf.keras.Sequential([\n",
        "                             tf.keras.layers.Dense(1)\n",
        "])\n",
        "\n",
        "# 2. Compile the model\n",
        "model.compile(loss=tf.keras.losses.mae,\n",
        "              optimizer=tf.keras.optimizers.SGD(),\n",
        "              metrics=[\"mae\"])\n",
        "\n",
        "# 3. Fit the model\n",
        "#model.fit(X_train, y_train, epochs=100)"
      ],
      "execution_count": 29,
      "outputs": []
    },
    {
      "cell_type": "markdown",
      "metadata": {
        "id": "xCYOLj3QJ-xS"
      },
      "source": [
        "# Visualising the model"
      ]
    },
    {
      "cell_type": "code",
      "metadata": {
        "id": "YGDkn59NKDu4"
      },
      "source": [
        "# Let's create a model that builds automatically by defining the input_shape argument in the first layer\n",
        "tf.random.set_seed(42)\n",
        "\n",
        "# 1. Create a model\n",
        "model = tf.keras.Sequential([\n",
        "                             tf.keras.layers.Dense(1, input_shape=[1], name=\"Input_layer\"),\n",
        "                             tf.keras.layers.Dense(1, name=\"Output_Layer\")\n",
        "], name=\"Our_first_named_model.\")\n",
        "\n",
        "# 2. Compile the model\n",
        "model.compile(loss=tf.keras.losses.mae,\n",
        "              optimizer=tf.keras.optimizers.SGD(),\n",
        "              metrics=[\"mae\"])"
      ],
      "execution_count": 30,
      "outputs": []
    },
    {
      "cell_type": "code",
      "metadata": {
        "colab": {
          "base_uri": "https://localhost:8080/"
        },
        "id": "mHyoqWptLvoj",
        "outputId": "e4cec6c4-2b47-4b05-bf41-4647983c673a"
      },
      "source": [
        "model.summary()"
      ],
      "execution_count": 31,
      "outputs": [
        {
          "output_type": "stream",
          "text": [
            "Model: \"Our_first_named_model.\"\n",
            "_________________________________________________________________\n",
            "Layer (type)                 Output Shape              Param #   \n",
            "=================================================================\n",
            "Input_layer (Dense)          (None, 1)                 2         \n",
            "_________________________________________________________________\n",
            "Output_Layer (Dense)         (None, 1)                 2         \n",
            "=================================================================\n",
            "Total params: 4\n",
            "Trainable params: 4\n",
            "Non-trainable params: 0\n",
            "_________________________________________________________________\n"
          ],
          "name": "stdout"
        }
      ]
    },
    {
      "cell_type": "markdown",
      "metadata": {
        "id": "Ziri0ynzL2wn"
      },
      "source": [
        "* Total params - total number of parameters in the model.\n",
        "* Trainable params - these are the parameters (patterns) the model can update as it trains.\n",
        "* Non-trainable params - these parameters aren't updated during the training (this is typical when you bring in already learned patterns or parameters from other models during **transfer learning**.)"
      ]
    },
    {
      "cell_type": "code",
      "metadata": {
        "colab": {
          "base_uri": "https://localhost:8080/"
        },
        "id": "MMcvs7hENqhE",
        "outputId": "a7ba1d87-3647-471d-ff69-03674a1b936b"
      },
      "source": [
        "# Let's fit our model to the training data\n",
        "model.fit(X_train, y_train, epochs=100)"
      ],
      "execution_count": 32,
      "outputs": [
        {
          "output_type": "stream",
          "text": [
            "Epoch 1/100\n",
            "2/2 [==============================] - 0s 4ms/step - loss: 22.6625 - mae: 22.6625\n",
            "Epoch 2/100\n",
            "2/2 [==============================] - 0s 8ms/step - loss: 16.9439 - mae: 16.9439\n",
            "Epoch 3/100\n",
            "2/2 [==============================] - 0s 6ms/step - loss: 13.8059 - mae: 13.8059\n",
            "Epoch 4/100\n",
            "2/2 [==============================] - 0s 6ms/step - loss: 17.4504 - mae: 17.4504\n",
            "Epoch 5/100\n",
            "2/2 [==============================] - 0s 5ms/step - loss: 12.0637 - mae: 12.0637\n",
            "Epoch 6/100\n",
            "2/2 [==============================] - 0s 4ms/step - loss: 9.8335 - mae: 9.8335\n",
            "Epoch 7/100\n",
            "2/2 [==============================] - 0s 6ms/step - loss: 10.7023 - mae: 10.7023\n",
            "Epoch 8/100\n",
            "2/2 [==============================] - 0s 9ms/step - loss: 10.8713 - mae: 10.8713\n",
            "Epoch 9/100\n",
            "2/2 [==============================] - 0s 4ms/step - loss: 38.0435 - mae: 38.0435\n",
            "Epoch 10/100\n",
            "2/2 [==============================] - 0s 9ms/step - loss: 25.6226 - mae: 25.6226\n",
            "Epoch 11/100\n",
            "2/2 [==============================] - 0s 4ms/step - loss: 10.2375 - mae: 10.2375\n",
            "Epoch 12/100\n",
            "2/2 [==============================] - 0s 7ms/step - loss: 25.1960 - mae: 25.1960\n",
            "Epoch 13/100\n",
            "2/2 [==============================] - 0s 6ms/step - loss: 17.0177 - mae: 17.0177\n",
            "Epoch 14/100\n",
            "2/2 [==============================] - 0s 6ms/step - loss: 25.9747 - mae: 25.9747\n",
            "Epoch 15/100\n",
            "2/2 [==============================] - 0s 5ms/step - loss: 18.0366 - mae: 18.0366\n",
            "Epoch 16/100\n",
            "2/2 [==============================] - 0s 3ms/step - loss: 7.3513 - mae: 7.3513\n",
            "Epoch 17/100\n",
            "2/2 [==============================] - 0s 4ms/step - loss: 10.8516 - mae: 10.8516\n",
            "Epoch 18/100\n",
            "2/2 [==============================] - 0s 3ms/step - loss: 19.5119 - mae: 19.5119\n",
            "Epoch 19/100\n",
            "2/2 [==============================] - 0s 7ms/step - loss: 10.3378 - mae: 10.3378\n",
            "Epoch 20/100\n",
            "2/2 [==============================] - 0s 4ms/step - loss: 17.6840 - mae: 17.6840\n",
            "Epoch 21/100\n",
            "2/2 [==============================] - 0s 4ms/step - loss: 15.8826 - mae: 15.8826\n",
            "Epoch 22/100\n",
            "2/2 [==============================] - 0s 5ms/step - loss: 14.1778 - mae: 14.1778\n",
            "Epoch 23/100\n",
            "2/2 [==============================] - 0s 4ms/step - loss: 8.7814 - mae: 8.7814\n",
            "Epoch 24/100\n",
            "2/2 [==============================] - 0s 4ms/step - loss: 11.0673 - mae: 11.0673\n",
            "Epoch 25/100\n",
            "2/2 [==============================] - 0s 4ms/step - loss: 12.6998 - mae: 12.6998\n",
            "Epoch 26/100\n",
            "2/2 [==============================] - 0s 3ms/step - loss: 26.2395 - mae: 26.2395\n",
            "Epoch 27/100\n",
            "2/2 [==============================] - 0s 3ms/step - loss: 11.7524 - mae: 11.7524\n",
            "Epoch 28/100\n",
            "2/2 [==============================] - 0s 3ms/step - loss: 22.9252 - mae: 22.9252\n",
            "Epoch 29/100\n",
            "2/2 [==============================] - 0s 10ms/step - loss: 9.2439 - mae: 9.2439\n",
            "Epoch 30/100\n",
            "2/2 [==============================] - 0s 5ms/step - loss: 29.3121 - mae: 29.3121\n",
            "Epoch 31/100\n",
            "2/2 [==============================] - 0s 4ms/step - loss: 53.1141 - mae: 53.1141\n",
            "Epoch 32/100\n",
            "2/2 [==============================] - 0s 3ms/step - loss: 12.3708 - mae: 12.3708\n",
            "Epoch 33/100\n",
            "2/2 [==============================] - 0s 4ms/step - loss: 12.1831 - mae: 12.1831\n",
            "Epoch 34/100\n",
            "2/2 [==============================] - 0s 4ms/step - loss: 23.9483 - mae: 23.9483\n",
            "Epoch 35/100\n",
            "2/2 [==============================] - 0s 4ms/step - loss: 12.6223 - mae: 12.6223\n",
            "Epoch 36/100\n",
            "2/2 [==============================] - 0s 3ms/step - loss: 21.5243 - mae: 21.5243\n",
            "Epoch 37/100\n",
            "2/2 [==============================] - 0s 3ms/step - loss: 11.3913 - mae: 11.3913\n",
            "Epoch 38/100\n",
            "2/2 [==============================] - 0s 3ms/step - loss: 13.4744 - mae: 13.4744\n",
            "Epoch 39/100\n",
            "2/2 [==============================] - 0s 5ms/step - loss: 10.7992 - mae: 10.7992\n",
            "Epoch 40/100\n",
            "2/2 [==============================] - 0s 3ms/step - loss: 16.6026 - mae: 16.6026\n",
            "Epoch 41/100\n",
            "2/2 [==============================] - 0s 5ms/step - loss: 10.9797 - mae: 10.9797\n",
            "Epoch 42/100\n",
            "2/2 [==============================] - 0s 3ms/step - loss: 9.3049 - mae: 9.3049\n",
            "Epoch 43/100\n",
            "2/2 [==============================] - 0s 4ms/step - loss: 9.5985 - mae: 9.5985\n",
            "Epoch 44/100\n",
            "2/2 [==============================] - 0s 3ms/step - loss: 27.9750 - mae: 27.9750\n",
            "Epoch 45/100\n",
            "2/2 [==============================] - 0s 4ms/step - loss: 11.2865 - mae: 11.2865\n",
            "Epoch 46/100\n",
            "2/2 [==============================] - 0s 4ms/step - loss: 14.0574 - mae: 14.0574\n",
            "Epoch 47/100\n",
            "2/2 [==============================] - 0s 4ms/step - loss: 13.5113 - mae: 13.5113\n",
            "Epoch 48/100\n",
            "2/2 [==============================] - 0s 3ms/step - loss: 17.3531 - mae: 17.3531\n",
            "Epoch 49/100\n",
            "2/2 [==============================] - 0s 3ms/step - loss: 9.5141 - mae: 9.5141\n",
            "Epoch 50/100\n",
            "2/2 [==============================] - 0s 3ms/step - loss: 13.6965 - mae: 13.6965\n",
            "Epoch 51/100\n",
            "2/2 [==============================] - 0s 3ms/step - loss: 11.5602 - mae: 11.5602\n",
            "Epoch 52/100\n",
            "2/2 [==============================] - 0s 5ms/step - loss: 30.1688 - mae: 30.1688\n",
            "Epoch 53/100\n",
            "2/2 [==============================] - 0s 3ms/step - loss: 13.7142 - mae: 13.7142\n",
            "Epoch 54/100\n",
            "2/2 [==============================] - 0s 5ms/step - loss: 26.3987 - mae: 26.3987\n",
            "Epoch 55/100\n",
            "2/2 [==============================] - 0s 8ms/step - loss: 25.9838 - mae: 25.9838\n",
            "Epoch 56/100\n",
            "2/2 [==============================] - 0s 9ms/step - loss: 11.2307 - mae: 11.2307\n",
            "Epoch 57/100\n",
            "2/2 [==============================] - 0s 5ms/step - loss: 13.2025 - mae: 13.2025\n",
            "Epoch 58/100\n",
            "2/2 [==============================] - 0s 3ms/step - loss: 9.8624 - mae: 9.8624\n",
            "Epoch 59/100\n",
            "2/2 [==============================] - 0s 3ms/step - loss: 13.3870 - mae: 13.3870\n",
            "Epoch 60/100\n",
            "2/2 [==============================] - 0s 5ms/step - loss: 10.9240 - mae: 10.9240\n",
            "Epoch 61/100\n",
            "2/2 [==============================] - 0s 4ms/step - loss: 13.5375 - mae: 13.5375\n",
            "Epoch 62/100\n",
            "2/2 [==============================] - 0s 5ms/step - loss: 17.6004 - mae: 17.6004\n",
            "Epoch 63/100\n",
            "2/2 [==============================] - 0s 9ms/step - loss: 9.1937 - mae: 9.1937\n",
            "Epoch 64/100\n",
            "2/2 [==============================] - 0s 3ms/step - loss: 18.4644 - mae: 18.4644\n",
            "Epoch 65/100\n",
            "2/2 [==============================] - 0s 6ms/step - loss: 10.1481 - mae: 10.1481\n",
            "Epoch 66/100\n",
            "2/2 [==============================] - 0s 6ms/step - loss: 24.3358 - mae: 24.3358\n",
            "Epoch 67/100\n",
            "2/2 [==============================] - 0s 8ms/step - loss: 10.9262 - mae: 10.9262\n",
            "Epoch 68/100\n",
            "2/2 [==============================] - 0s 5ms/step - loss: 10.8005 - mae: 10.8005\n",
            "Epoch 69/100\n",
            "2/2 [==============================] - 0s 4ms/step - loss: 23.3093 - mae: 23.3093\n",
            "Epoch 70/100\n",
            "2/2 [==============================] - 0s 8ms/step - loss: 8.8134 - mae: 8.8134\n",
            "Epoch 71/100\n",
            "2/2 [==============================] - 0s 3ms/step - loss: 15.9715 - mae: 15.9715\n",
            "Epoch 72/100\n",
            "2/2 [==============================] - 0s 7ms/step - loss: 8.1469 - mae: 8.1469\n",
            "Epoch 73/100\n",
            "2/2 [==============================] - 0s 9ms/step - loss: 9.4683 - mae: 9.4683\n",
            "Epoch 74/100\n",
            "2/2 [==============================] - 0s 4ms/step - loss: 28.1492 - mae: 28.1492\n",
            "Epoch 75/100\n",
            "2/2 [==============================] - 0s 6ms/step - loss: 10.2183 - mae: 10.2183\n",
            "Epoch 76/100\n",
            "2/2 [==============================] - 0s 6ms/step - loss: 13.1686 - mae: 13.1686\n",
            "Epoch 77/100\n",
            "2/2 [==============================] - 0s 4ms/step - loss: 18.4013 - mae: 18.4013\n",
            "Epoch 78/100\n",
            "2/2 [==============================] - 0s 3ms/step - loss: 9.0304 - mae: 9.0304\n",
            "Epoch 79/100\n",
            "2/2 [==============================] - 0s 7ms/step - loss: 23.4407 - mae: 23.4407\n",
            "Epoch 80/100\n",
            "2/2 [==============================] - 0s 5ms/step - loss: 26.1121 - mae: 26.1121\n",
            "Epoch 81/100\n",
            "2/2 [==============================] - 0s 4ms/step - loss: 11.4009 - mae: 11.4009\n",
            "Epoch 82/100\n",
            "2/2 [==============================] - 0s 13ms/step - loss: 12.5022 - mae: 12.5022\n",
            "Epoch 83/100\n",
            "2/2 [==============================] - 0s 4ms/step - loss: 17.1948 - mae: 17.1948\n",
            "Epoch 84/100\n",
            "2/2 [==============================] - 0s 3ms/step - loss: 6.6097 - mae: 6.6097\n",
            "Epoch 85/100\n",
            "2/2 [==============================] - 0s 5ms/step - loss: 20.2735 - mae: 20.2735\n",
            "Epoch 86/100\n",
            "2/2 [==============================] - 0s 5ms/step - loss: 10.1761 - mae: 10.1761\n",
            "Epoch 87/100\n",
            "2/2 [==============================] - 0s 5ms/step - loss: 24.3047 - mae: 24.3047\n",
            "Epoch 88/100\n",
            "2/2 [==============================] - 0s 5ms/step - loss: 18.9693 - mae: 18.9693\n",
            "Epoch 89/100\n",
            "2/2 [==============================] - 0s 5ms/step - loss: 7.1749 - mae: 7.1749\n",
            "Epoch 90/100\n",
            "2/2 [==============================] - 0s 4ms/step - loss: 18.2784 - mae: 18.2784\n",
            "Epoch 91/100\n",
            "2/2 [==============================] - 0s 5ms/step - loss: 13.3343 - mae: 13.3343\n",
            "Epoch 92/100\n",
            "2/2 [==============================] - 0s 4ms/step - loss: 8.7404 - mae: 8.7404\n",
            "Epoch 93/100\n",
            "2/2 [==============================] - 0s 4ms/step - loss: 14.1947 - mae: 14.1947\n",
            "Epoch 94/100\n",
            "2/2 [==============================] - 0s 6ms/step - loss: 17.1954 - mae: 17.1954\n",
            "Epoch 95/100\n",
            "2/2 [==============================] - 0s 4ms/step - loss: 16.7777 - mae: 16.7777\n",
            "Epoch 96/100\n",
            "2/2 [==============================] - 0s 4ms/step - loss: 11.1365 - mae: 11.1365\n",
            "Epoch 97/100\n",
            "2/2 [==============================] - 0s 5ms/step - loss: 21.1982 - mae: 21.1982\n",
            "Epoch 98/100\n",
            "2/2 [==============================] - 0s 4ms/step - loss: 10.4874 - mae: 10.4874\n",
            "Epoch 99/100\n",
            "2/2 [==============================] - 0s 6ms/step - loss: 14.5632 - mae: 14.5632\n",
            "Epoch 100/100\n",
            "2/2 [==============================] - 0s 6ms/step - loss: 17.7188 - mae: 17.7188\n"
          ],
          "name": "stdout"
        },
        {
          "output_type": "execute_result",
          "data": {
            "text/plain": [
              "<tensorflow.python.keras.callbacks.History at 0x7f79040bb3d0>"
            ]
          },
          "metadata": {
            "tags": []
          },
          "execution_count": 32
        }
      ]
    },
    {
      "cell_type": "code",
      "metadata": {
        "id": "a7-Bmd7QPMc-"
      },
      "source": [
        "from tensorflow.keras.utils import plot_model"
      ],
      "execution_count": 33,
      "outputs": []
    },
    {
      "cell_type": "code",
      "metadata": {
        "colab": {
          "base_uri": "https://localhost:8080/",
          "height": 312
        },
        "id": "J7DwlK2NQ0Di",
        "outputId": "44b6da13-272c-4330-babe-b2665f11f709"
      },
      "source": [
        "plot_model(model=model, show_shapes=True)"
      ],
      "execution_count": 34,
      "outputs": [
        {
          "output_type": "execute_result",
          "data": {
            "image/png": "[encoded data removed]",
            "text/plain": [
              "<IPython.core.display.Image object>"
            ]
          },
          "metadata": {
            "tags": []
          },
          "execution_count": 34
        }
      ]
    },
    {
      "cell_type": "markdown",
      "metadata": {
        "id": "b-H9JOG6Q9wm"
      },
      "source": [
        "### Visualising our model's predictions\n",
        "\n",
        "To visualise predictions, it's a good idea to plot them against the ground truth labels.\n",
        "\n",
        "Often you'll see this in the form of ``y_test`` or ``y_true`` versus ``y_pred`` (ground truth versus your models predictions)."
      ]
    },
    {
      "cell_type": "code",
      "metadata": {
        "colab": {
          "base_uri": "https://localhost:8080/"
        },
        "id": "w8VPAWEITYrF",
        "outputId": "3efcb41d-689a-45d3-b09b-f2e616db1c7d"
      },
      "source": [
        "# Make some predictions\n",
        "y_pred = model.predict(X_test)\n",
        "y_pred"
      ],
      "execution_count": 35,
      "outputs": [
        {
          "output_type": "execute_result",
          "data": {
            "text/plain": [
              "array([[ 69.4672  ],\n",
              "       [ 73.985695],\n",
              "       [ 78.50417 ],\n",
              "       [ 83.02267 ],\n",
              "       [ 87.541145],\n",
              "       [ 92.05964 ],\n",
              "       [ 96.57812 ],\n",
              "       [101.0966  ],\n",
              "       [105.61509 ],\n",
              "       [110.133575]], dtype=float32)"
            ]
          },
          "metadata": {
            "tags": []
          },
          "execution_count": 35
        }
      ]
    },
    {
      "cell_type": "code",
      "metadata": {
        "colab": {
          "base_uri": "https://localhost:8080/"
        },
        "id": "oCauMd33Uz_D",
        "outputId": "11e1f562-538d-439d-dd85-6003a80f6ffc"
      },
      "source": [
        "y_test"
      ],
      "execution_count": 36,
      "outputs": [
        {
          "output_type": "execute_result",
          "data": {
            "text/plain": [
              "<tf.Tensor: shape=(10,), dtype=int32, numpy=array([ 70,  74,  78,  82,  86,  90,  94,  98, 102, 106], dtype=int32)>"
            ]
          },
          "metadata": {
            "tags": []
          },
          "execution_count": 36
        }
      ]
    },
    {
      "cell_type": "markdown",
      "metadata": {
        "id": "Ez73kZpbVJyG"
      },
      "source": [
        "**Note:** If you feel like you're going to reuse some kind of functionality in the future, it's a good idea to turn it into a function."
      ]
    },
    {
      "cell_type": "code",
      "metadata": {
        "id": "RFybzs9-U4Ls"
      },
      "source": [
        "# Let's create a plotting function\n",
        "def plot_predictions(train_data=X_train,\n",
        "                     train_labels=y_train,\n",
        "                     test_data=X_test,\n",
        "                     test_labels=y_test,\n",
        "                     predictions= y_pred):\n",
        "    \"\"\"\n",
        "    Plots training data, test data and compares predictions to ground truth labels.\n",
        "    \"\"\"\n",
        "    plt.figure(figsize=(10,7))\n",
        "    # Plot training data in blue\n",
        "    plt.scatter(train_data, train_labels, c=\"b\", label=\"Training data\")\n",
        "    # Plot testing data in green\n",
        "    plt.scatter(test_data, test_labels, c=\"g\", label=\"Testing data\")\n",
        "    # Plot models predictions in red\n",
        "    plt.scatter(test_data, predictions, c=\"y\", label=\"Predictions\")\n",
        "    # Show the legend\n",
        "    plt.legend()"
      ],
      "execution_count": 37,
      "outputs": []
    },
    {
      "cell_type": "code",
      "metadata": {
        "colab": {
          "base_uri": "https://localhost:8080/",
          "height": 428
        },
        "id": "vQepUDz6XVmV",
        "outputId": "9a7d4124-316d-4cc2-b7bc-5607c9818aa9"
      },
      "source": [
        "plot_predictions()"
      ],
      "execution_count": 38,
      "outputs": [
        {
          "output_type": "display_data",
          "data": {
            "image/png": "[encoded data removed]",
            "text/plain": [
              "<Figure size 720x504 with 1 Axes>"
            ]
          },
          "metadata": {
            "tags": [],
            "needs_background": "light"
          }
        }
      ]
    },
    {
      "cell_type": "markdown",
      "metadata": {
        "id": "5vKNstwCXnJo"
      },
      "source": [
        "# Evaluating our models predictions with regression evaluation metrics\n",
        "\n",
        "Depending on the problem you are working on, there will be different evaluation metrics to evaluate your models performance.\n",
        "\n",
        "Since we're working on a regression, 2 of the main metrics:\n",
        "* **MAE** - mean absolute error, on average how wrong are each of my models predictions.\n",
        "* **MSE** - mean square error, square of the average errors."
      ]
    },
    {
      "cell_type": "code",
      "metadata": {
        "id": "Vl3v5E2ObxtP",
        "colab": {
          "base_uri": "https://localhost:8080/"
        },
        "outputId": "8acf7001-3919-4743-f519-3477f15a02e0"
      },
      "source": [
        "# Evaluate the model on the test set\n",
        "model.evaluate(X_test, y_test)"
      ],
      "execution_count": 39,
      "outputs": [
        {
          "output_type": "stream",
          "text": [
            "1/1 [==============================] - 0s 145ms/step - loss: 1.9098 - mae: 1.9098\n"
          ],
          "name": "stdout"
        },
        {
          "output_type": "execute_result",
          "data": {
            "text/plain": [
              "[1.9098113775253296, 1.9098113775253296]"
            ]
          },
          "metadata": {
            "tags": []
          },
          "execution_count": 39
        }
      ]
    },
    {
      "cell_type": "code",
      "metadata": {
        "id": "-kSfo3QOb23g",
        "colab": {
          "base_uri": "https://localhost:8080/"
        },
        "outputId": "4a092519-0b58-4a32-f7ae-041a5f4ff13a"
      },
      "source": [
        "y_pred"
      ],
      "execution_count": 40,
      "outputs": [
        {
          "output_type": "execute_result",
          "data": {
            "text/plain": [
              "array([[ 69.4672  ],\n",
              "       [ 73.985695],\n",
              "       [ 78.50417 ],\n",
              "       [ 83.02267 ],\n",
              "       [ 87.541145],\n",
              "       [ 92.05964 ],\n",
              "       [ 96.57812 ],\n",
              "       [101.0966  ],\n",
              "       [105.61509 ],\n",
              "       [110.133575]], dtype=float32)"
            ]
          },
          "metadata": {
            "tags": []
          },
          "execution_count": 40
        }
      ]
    },
    {
      "cell_type": "code",
      "metadata": {
        "colab": {
          "base_uri": "https://localhost:8080/"
        },
        "id": "C3_q3IFhCshI",
        "outputId": "e77bab93-f54f-463c-d721-f48e48ca8611"
      },
      "source": [
        "y_test"
      ],
      "execution_count": 41,
      "outputs": [
        {
          "output_type": "execute_result",
          "data": {
            "text/plain": [
              "<tf.Tensor: shape=(10,), dtype=int32, numpy=array([ 70,  74,  78,  82,  86,  90,  94,  98, 102, 106], dtype=int32)>"
            ]
          },
          "metadata": {
            "tags": []
          },
          "execution_count": 41
        }
      ]
    },
    {
      "cell_type": "code",
      "metadata": {
        "colab": {
          "base_uri": "https://localhost:8080/"
        },
        "id": "I7Y41TOsCtkQ",
        "outputId": "ffe1b3e3-aac9-488a-ac00-8e09fc52c3db"
      },
      "source": [
        "# Calculate the mean absolute error\n",
        "mae = tf.keras.losses.mae(y_true=y_test,\n",
        "                          y_pred=tf.squeeze(y_pred))\n",
        "mae"
      ],
      "execution_count": 42,
      "outputs": [
        {
          "output_type": "execute_result",
          "data": {
            "text/plain": [
              "<tf.Tensor: shape=(), dtype=float32, numpy=1.9098114>"
            ]
          },
          "metadata": {
            "tags": []
          },
          "execution_count": 42
        }
      ]
    },
    {
      "cell_type": "code",
      "metadata": {
        "colab": {
          "base_uri": "https://localhost:8080/"
        },
        "id": "E8Ds6zAyDL5U",
        "outputId": "f8698855-563e-430b-b238-247e8dd91607"
      },
      "source": [
        "# Calculate the mean square error\n",
        "mse = tf.keras.losses.mse(y_true=y_test,\n",
        "                          y_pred=tf.squeeze(y_pred))\n",
        "mse"
      ],
      "execution_count": 43,
      "outputs": [
        {
          "output_type": "execute_result",
          "data": {
            "text/plain": [
              "<tf.Tensor: shape=(), dtype=float32, numpy=5.459232>"
            ]
          },
          "metadata": {
            "tags": []
          },
          "execution_count": 43
        }
      ]
    },
    {
      "cell_type": "code",
      "metadata": {
        "id": "SeRKtFZiDqRX"
      },
      "source": [
        "# Make some functions to reuse MAE and MSE\n",
        "def mae(y_true, y_pred):\n",
        "    return tf.metrics.mean_absolute_error(y_true=y_true,\n",
        "                                          y_pred=tf.squeeze(y_pred))\n",
        "\n",
        "\n",
        "def mse(y_true, y_pred):\n",
        "    return tf.metrics.mean_squared_error(y_true=y_true,\n",
        "                                         y_pred=tf.squeeze(y_pred))"
      ],
      "execution_count": 44,
      "outputs": []
    },
    {
      "cell_type": "markdown",
      "metadata": {
        "id": "c1VZTRUbEClj"
      },
      "source": [
        "### Running experiments to improve our model\n",
        "\n",
        "1.   List item\n",
        "2.   List item\n",
        "\n",
        "\n",
        "\n",
        "```Build a model -> fit it -> evaluate it -> tweak it -> fit it -> evaluate it -> tweak it -> fit it -> evaluate it ...```\n",
        "\n",
        "1. **Get more data** - get more examples for your model to train on (more opportunities to learn patterns or relationships between features and labels).\n",
        "2. **Make your model larger (use a more complex model)** - this might come in the form of more layers or more hidden units in each layer.\n",
        "3. **Train for longer** - give your model more time to find patterns in the data (increase epochs)."
      ]
    },
    {
      "cell_type": "code",
      "metadata": {
        "colab": {
          "base_uri": "https://localhost:8080/"
        },
        "id": "y5my3NNxGkqv",
        "outputId": "179a2835-b37e-4997-a14a-0c311fe38062"
      },
      "source": [
        "X_train, y_train"
      ],
      "execution_count": 45,
      "outputs": [
        {
          "output_type": "execute_result",
          "data": {
            "text/plain": [
              "(<tf.Tensor: shape=(40,), dtype=int32, numpy=\n",
              " array([-100,  -96,  -92,  -88,  -84,  -80,  -76,  -72,  -68,  -64,  -60,\n",
              "         -56,  -52,  -48,  -44,  -40,  -36,  -32,  -28,  -24,  -20,  -16,\n",
              "         -12,   -8,   -4,    0,    4,    8,   12,   16,   20,   24,   28,\n",
              "          32,   36,   40,   44,   48,   52,   56], dtype=int32)>,\n",
              " <tf.Tensor: shape=(40,), dtype=int32, numpy=\n",
              " array([-90, -86, -82, -78, -74, -70, -66, -62, -58, -54, -50, -46, -42,\n",
              "        -38, -34, -30, -26, -22, -18, -14, -10,  -6,  -2,   2,   6,  10,\n",
              "         14,  18,  22,  26,  30,  34,  38,  42,  46,  50,  54,  58,  62,\n",
              "         66], dtype=int32)>)"
            ]
          },
          "metadata": {
            "tags": []
          },
          "execution_count": 45
        }
      ]
    },
    {
      "cell_type": "markdown",
      "metadata": {
        "id": "nvTacvlPHrvX"
      },
      "source": [
        "### Let's do 3 modelling experiments\n",
        "\n",
        "1. ```Model_1``` - same as original model, 1 layer, trained for 100 epochs.\n",
        "2. ```Model_2``` - 2 layers, trained for 100 epochs.\n",
        "3. ```Model_3``` - 2 layers, trained for 500 epochs."
      ]
    },
    {
      "cell_type": "markdown",
      "metadata": {
        "id": "1exuYuVVIWMJ"
      },
      "source": [
        "### Build Model_1"
      ]
    },
    {
      "cell_type": "code",
      "metadata": {
        "colab": {
          "base_uri": "https://localhost:8080/"
        },
        "id": "k1psCyX5ImVr",
        "outputId": "2c2f38ca-34da-4bec-fee9-8393cd298145"
      },
      "source": [
        "# Set random seed\n",
        "tf.random.set_seed(42)\n",
        "\n",
        "# 1. Create the model\n",
        "model_1 = tf.keras.Sequential([\n",
        "                               tf.keras.layers.Dense(1)\n",
        "])\n",
        "\n",
        "# 2. Compile the model\n",
        "model_1.compile(loss=tf.keras.losses.mae,\n",
        "                optimizer=tf.keras.optimizers.SGD(),\n",
        "                metrics=[\"mae\"])\n",
        "\n",
        "# 3. Fit the model\n",
        "model_1.fit(X_train, y_train, epochs=100)"
      ],
      "execution_count": 46,
      "outputs": [
        {
          "output_type": "stream",
          "text": [
            "Epoch 1/100\n",
            "2/2 [==============================] - 0s 9ms/step - loss: 15.9024 - mae: 15.9024\n",
            "Epoch 2/100\n",
            "2/2 [==============================] - 0s 6ms/step - loss: 11.2837 - mae: 11.2837\n",
            "Epoch 3/100\n",
            "2/2 [==============================] - 0s 4ms/step - loss: 11.1074 - mae: 11.1074\n",
            "Epoch 4/100\n",
            "2/2 [==============================] - 0s 5ms/step - loss: 9.2991 - mae: 9.2991\n",
            "Epoch 5/100\n",
            "2/2 [==============================] - 0s 6ms/step - loss: 10.1677 - mae: 10.1677\n",
            "Epoch 6/100\n",
            "2/2 [==============================] - 0s 8ms/step - loss: 9.4303 - mae: 9.4303\n",
            "Epoch 7/100\n",
            "2/2 [==============================] - 0s 6ms/step - loss: 8.5704 - mae: 8.5704\n",
            "Epoch 8/100\n",
            "2/2 [==============================] - 0s 3ms/step - loss: 9.0442 - mae: 9.0442\n",
            "Epoch 9/100\n",
            "2/2 [==============================] - 0s 6ms/step - loss: 18.7517 - mae: 18.7517\n",
            "Epoch 10/100\n",
            "2/2 [==============================] - 0s 4ms/step - loss: 10.1142 - mae: 10.1142\n",
            "Epoch 11/100\n",
            "2/2 [==============================] - 0s 7ms/step - loss: 8.3980 - mae: 8.3980\n",
            "Epoch 12/100\n",
            "2/2 [==============================] - 0s 5ms/step - loss: 10.6639 - mae: 10.6639\n",
            "Epoch 13/100\n",
            "2/2 [==============================] - 0s 6ms/step - loss: 9.7977 - mae: 9.7977\n",
            "Epoch 14/100\n",
            "2/2 [==============================] - 0s 4ms/step - loss: 16.0103 - mae: 16.0103\n",
            "Epoch 15/100\n",
            "2/2 [==============================] - 0s 6ms/step - loss: 11.4068 - mae: 11.4068\n",
            "Epoch 16/100\n",
            "2/2 [==============================] - 0s 11ms/step - loss: 8.5393 - mae: 8.5393\n",
            "Epoch 17/100\n",
            "2/2 [==============================] - 0s 10ms/step - loss: 13.6348 - mae: 13.6348\n",
            "Epoch 18/100\n",
            "2/2 [==============================] - 0s 5ms/step - loss: 11.4629 - mae: 11.4629\n",
            "Epoch 19/100\n",
            "2/2 [==============================] - 0s 9ms/step - loss: 17.9148 - mae: 17.9148\n",
            "Epoch 20/100\n",
            "2/2 [==============================] - 0s 6ms/step - loss: 15.0494 - mae: 15.0494\n",
            "Epoch 21/100\n",
            "2/2 [==============================] - 0s 9ms/step - loss: 11.0216 - mae: 11.0216\n",
            "Epoch 22/100\n",
            "2/2 [==============================] - 0s 11ms/step - loss: 8.1558 - mae: 8.1558\n",
            "Epoch 23/100\n",
            "2/2 [==============================] - 0s 5ms/step - loss: 9.5138 - mae: 9.5138\n",
            "Epoch 24/100\n",
            "2/2 [==============================] - 0s 10ms/step - loss: 7.6617 - mae: 7.6617\n",
            "Epoch 25/100\n",
            "2/2 [==============================] - 0s 4ms/step - loss: 13.1859 - mae: 13.1859\n",
            "Epoch 26/100\n",
            "2/2 [==============================] - 0s 9ms/step - loss: 16.4211 - mae: 16.4211\n",
            "Epoch 27/100\n",
            "2/2 [==============================] - 0s 6ms/step - loss: 13.1660 - mae: 13.1660\n",
            "Epoch 28/100\n",
            "2/2 [==============================] - 0s 5ms/step - loss: 14.2559 - mae: 14.2559\n",
            "Epoch 29/100\n",
            "2/2 [==============================] - 0s 7ms/step - loss: 10.0670 - mae: 10.0670\n",
            "Epoch 30/100\n",
            "2/2 [==============================] - 0s 4ms/step - loss: 16.3409 - mae: 16.3409\n",
            "Epoch 31/100\n",
            "2/2 [==============================] - 0s 5ms/step - loss: 23.6444 - mae: 23.6444\n",
            "Epoch 32/100\n",
            "2/2 [==============================] - 0s 5ms/step - loss: 7.6215 - mae: 7.6215\n",
            "Epoch 33/100\n",
            "2/2 [==============================] - 0s 5ms/step - loss: 9.3221 - mae: 9.3221\n",
            "Epoch 34/100\n",
            "2/2 [==============================] - 0s 4ms/step - loss: 13.7313 - mae: 13.7313\n",
            "Epoch 35/100\n",
            "2/2 [==============================] - 0s 14ms/step - loss: 11.1276 - mae: 11.1276\n",
            "Epoch 36/100\n",
            "2/2 [==============================] - 0s 5ms/step - loss: 13.3222 - mae: 13.3222\n",
            "Epoch 37/100\n",
            "2/2 [==============================] - 0s 10ms/step - loss: 9.4763 - mae: 9.4763\n",
            "Epoch 38/100\n",
            "2/2 [==============================] - 0s 7ms/step - loss: 10.1381 - mae: 10.1381\n",
            "Epoch 39/100\n",
            "2/2 [==============================] - 0s 5ms/step - loss: 10.1793 - mae: 10.1793\n",
            "Epoch 40/100\n",
            "2/2 [==============================] - 0s 3ms/step - loss: 10.9137 - mae: 10.9137\n",
            "Epoch 41/100\n",
            "2/2 [==============================] - 0s 6ms/step - loss: 7.9063 - mae: 7.9063\n",
            "Epoch 42/100\n",
            "2/2 [==============================] - 0s 7ms/step - loss: 10.0914 - mae: 10.0914\n",
            "Epoch 43/100\n",
            "2/2 [==============================] - 0s 8ms/step - loss: 8.7006 - mae: 8.7006\n",
            "Epoch 44/100\n",
            "2/2 [==============================] - 0s 4ms/step - loss: 12.2047 - mae: 12.2047\n",
            "Epoch 45/100\n",
            "2/2 [==============================] - 0s 6ms/step - loss: 13.7970 - mae: 13.7970\n",
            "Epoch 46/100\n",
            "2/2 [==============================] - 0s 8ms/step - loss: 8.4687 - mae: 8.4687\n",
            "Epoch 47/100\n",
            "2/2 [==============================] - 0s 4ms/step - loss: 9.1330 - mae: 9.1330\n",
            "Epoch 48/100\n",
            "2/2 [==============================] - 0s 5ms/step - loss: 10.6190 - mae: 10.6190\n",
            "Epoch 49/100\n",
            "2/2 [==============================] - 0s 3ms/step - loss: 7.7503 - mae: 7.7503\n",
            "Epoch 50/100\n",
            "2/2 [==============================] - 0s 10ms/step - loss: 9.5407 - mae: 9.5407\n",
            "Epoch 51/100\n",
            "2/2 [==============================] - 0s 4ms/step - loss: 9.1584 - mae: 9.1584\n",
            "Epoch 52/100\n",
            "2/2 [==============================] - 0s 4ms/step - loss: 16.3630 - mae: 16.3630\n",
            "Epoch 53/100\n",
            "2/2 [==============================] - 0s 3ms/step - loss: 14.1299 - mae: 14.1299\n",
            "Epoch 54/100\n",
            "2/2 [==============================] - 0s 7ms/step - loss: 21.1247 - mae: 21.1247\n",
            "Epoch 55/100\n",
            "2/2 [==============================] - 0s 4ms/step - loss: 16.3961 - mae: 16.3961\n",
            "Epoch 56/100\n",
            "2/2 [==============================] - 0s 9ms/step - loss: 9.9806 - mae: 9.9806\n",
            "Epoch 57/100\n",
            "2/2 [==============================] - 0s 9ms/step - loss: 9.9606 - mae: 9.9606\n",
            "Epoch 58/100\n",
            "2/2 [==============================] - 0s 4ms/step - loss: 9.2209 - mae: 9.2209\n",
            "Epoch 59/100\n",
            "2/2 [==============================] - 0s 4ms/step - loss: 8.4239 - mae: 8.4239\n",
            "Epoch 60/100\n",
            "2/2 [==============================] - 0s 6ms/step - loss: 9.4869 - mae: 9.4869\n",
            "Epoch 61/100\n",
            "2/2 [==============================] - 0s 7ms/step - loss: 11.4355 - mae: 11.4355\n",
            "Epoch 62/100\n",
            "2/2 [==============================] - 0s 3ms/step - loss: 11.6887 - mae: 11.6887\n",
            "Epoch 63/100\n",
            "2/2 [==============================] - 0s 4ms/step - loss: 7.0838 - mae: 7.0838\n",
            "Epoch 64/100\n",
            "2/2 [==============================] - 0s 4ms/step - loss: 16.9675 - mae: 16.9675\n",
            "Epoch 65/100\n",
            "2/2 [==============================] - 0s 4ms/step - loss: 12.4599 - mae: 12.4599\n",
            "Epoch 66/100\n",
            "2/2 [==============================] - 0s 7ms/step - loss: 13.0184 - mae: 13.0184\n",
            "Epoch 67/100\n",
            "2/2 [==============================] - 0s 7ms/step - loss: 8.0600 - mae: 8.0600\n",
            "Epoch 68/100\n",
            "2/2 [==============================] - 0s 4ms/step - loss: 10.1888 - mae: 10.1888\n",
            "Epoch 69/100\n",
            "2/2 [==============================] - 0s 4ms/step - loss: 12.3633 - mae: 12.3633\n",
            "Epoch 70/100\n",
            "2/2 [==============================] - 0s 5ms/step - loss: 9.0516 - mae: 9.0516\n",
            "Epoch 71/100\n",
            "2/2 [==============================] - 0s 4ms/step - loss: 10.0378 - mae: 10.0378\n",
            "Epoch 72/100\n",
            "2/2 [==============================] - 0s 5ms/step - loss: 10.0516 - mae: 10.0516\n",
            "Epoch 73/100\n",
            "2/2 [==============================] - 0s 6ms/step - loss: 12.6151 - mae: 12.6151\n",
            "Epoch 74/100\n",
            "2/2 [==============================] - 0s 3ms/step - loss: 10.3819 - mae: 10.3819\n",
            "Epoch 75/100\n",
            "2/2 [==============================] - 0s 5ms/step - loss: 9.7229 - mae: 9.7229\n",
            "Epoch 76/100\n",
            "2/2 [==============================] - 0s 7ms/step - loss: 11.2252 - mae: 11.2252\n",
            "Epoch 77/100\n",
            "2/2 [==============================] - 0s 5ms/step - loss: 8.3642 - mae: 8.3642\n",
            "Epoch 78/100\n",
            "2/2 [==============================] - 0s 5ms/step - loss: 9.1274 - mae: 9.1274\n",
            "Epoch 79/100\n",
            "2/2 [==============================] - 0s 6ms/step - loss: 19.5039 - mae: 19.5039\n",
            "Epoch 80/100\n",
            "2/2 [==============================] - 0s 8ms/step - loss: 14.8945 - mae: 14.8945\n",
            "Epoch 81/100\n",
            "2/2 [==============================] - 0s 3ms/step - loss: 9.0034 - mae: 9.0034\n",
            "Epoch 82/100\n",
            "2/2 [==============================] - 0s 7ms/step - loss: 13.0206 - mae: 13.0206\n",
            "Epoch 83/100\n",
            "2/2 [==============================] - 0s 4ms/step - loss: 7.9299 - mae: 7.9299\n",
            "Epoch 84/100\n",
            "2/2 [==============================] - 0s 8ms/step - loss: 7.6872 - mae: 7.6872\n",
            "Epoch 85/100\n",
            "2/2 [==============================] - 0s 5ms/step - loss: 10.0328 - mae: 10.0328\n",
            "Epoch 86/100\n",
            "2/2 [==============================] - 0s 3ms/step - loss: 9.2433 - mae: 9.2433\n",
            "Epoch 87/100\n",
            "2/2 [==============================] - 0s 4ms/step - loss: 12.0209 - mae: 12.0209\n",
            "Epoch 88/100\n",
            "2/2 [==============================] - 0s 8ms/step - loss: 10.6389 - mae: 10.6389\n",
            "Epoch 89/100\n",
            "2/2 [==============================] - 0s 4ms/step - loss: 7.2667 - mae: 7.2667\n",
            "Epoch 90/100\n",
            "2/2 [==============================] - 0s 4ms/step - loss: 12.7786 - mae: 12.7786\n",
            "Epoch 91/100\n",
            "2/2 [==============================] - 0s 3ms/step - loss: 7.3481 - mae: 7.3481\n",
            "Epoch 92/100\n",
            "2/2 [==============================] - 0s 4ms/step - loss: 7.7175 - mae: 7.7175\n",
            "Epoch 93/100\n",
            "2/2 [==============================] - 0s 4ms/step - loss: 7.1263 - mae: 7.1263\n",
            "Epoch 94/100\n",
            "2/2 [==============================] - 0s 4ms/step - loss: 12.6190 - mae: 12.6190\n",
            "Epoch 95/100\n",
            "2/2 [==============================] - 0s 4ms/step - loss: 10.0912 - mae: 10.0912\n",
            "Epoch 96/100\n",
            "2/2 [==============================] - 0s 3ms/step - loss: 9.3558 - mae: 9.3558\n",
            "Epoch 97/100\n",
            "2/2 [==============================] - 0s 15ms/step - loss: 12.6834 - mae: 12.6834\n",
            "Epoch 98/100\n",
            "2/2 [==============================] - 0s 5ms/step - loss: 8.6762 - mae: 8.6762\n",
            "Epoch 99/100\n",
            "2/2 [==============================] - 0s 5ms/step - loss: 9.4693 - mae: 9.4693\n",
            "Epoch 100/100\n",
            "2/2 [==============================] - 0s 3ms/step - loss: 8.7067 - mae: 8.7067\n"
          ],
          "name": "stdout"
        },
        {
          "output_type": "execute_result",
          "data": {
            "text/plain": [
              "<tensorflow.python.keras.callbacks.History at 0x7f7908764410>"
            ]
          },
          "metadata": {
            "tags": []
          },
          "execution_count": 46
        }
      ]
    },
    {
      "cell_type": "code",
      "metadata": {
        "colab": {
          "base_uri": "https://localhost:8080/",
          "height": 465
        },
        "id": "TFHybQvBJcwh",
        "outputId": "401b11da-c751-4b39-db5d-25050d2d88d6"
      },
      "source": [
        "# Make and plot predictions for Model_1\n",
        "y_preds_1 = model_1.predict(X_test)\n",
        "plot_predictions(predictions=y_preds_1)"
      ],
      "execution_count": 47,
      "outputs": [
        {
          "output_type": "stream",
          "text": [
            "WARNING:tensorflow:5 out of the last 6 calls to <function Model.make_predict_function.<locals>.predict_function at 0x7f7908857f80> triggered tf.function retracing. Tracing is expensive and the excessive number of tracings could be due to (1) creating @tf.function repeatedly in a loop, (2) passing tensors with different shapes, (3) passing Python objects instead of tensors. For (1), please define your @tf.function outside of the loop. For (2), @tf.function has experimental_relax_shapes=True option that relaxes argument shapes that can avoid unnecessary retracing. For (3), please refer to https://www.tensorflow.org/guide/function#controlling_retracing and https://www.tensorflow.org/api_docs/python/tf/function for  more details.\n"
          ],
          "name": "stdout"
        },
        {
          "output_type": "display_data",
          "data": {
            "image/png": "[encoded data removed]",
            "text/plain": [
              "<Figure size 720x504 with 1 Axes>"
            ]
          },
          "metadata": {
            "tags": [],
            "needs_background": "light"
          }
        }
      ]
    },
    {
      "cell_type": "code",
      "metadata": {
        "colab": {
          "base_uri": "https://localhost:8080/"
        },
        "id": "Mlqv7Hf8KExP",
        "outputId": "2c947ceb-4be8-4e1a-ec44-cb799a0df4c7"
      },
      "source": [
        "# Calculate Model_1 evaluation metrics\n",
        "mae_1 = mae(y_test, y_preds_1)\n",
        "mse_1 = mse(y_test, y_preds_1)\n",
        "mae_1, mse_1"
      ],
      "execution_count": 48,
      "outputs": [
        {
          "output_type": "execute_result",
          "data": {
            "text/plain": [
              "(<tf.Tensor: shape=(), dtype=float32, numpy=18.745327>,\n",
              " <tf.Tensor: shape=(), dtype=float32, numpy=353.57336>)"
            ]
          },
          "metadata": {
            "tags": []
          },
          "execution_count": 48
        }
      ]
    },
    {
      "cell_type": "markdown",
      "metadata": {
        "id": "ndr-dVrEKoAe"
      },
      "source": [
        "### Build Model_2\n",
        "\n",
        "2 dense layers, trained for 100 epochs"
      ]
    },
    {
      "cell_type": "code",
      "metadata": {
        "colab": {
          "base_uri": "https://localhost:8080/"
        },
        "id": "kbTP1F9ENzJv",
        "outputId": "1cdfa7f7-8a0d-40a0-e462-5fbd9a8bacff"
      },
      "source": [
        "# Set seed\n",
        "tf.random.set_seed(42)\n",
        "\n",
        "# 1. Create the model\n",
        "model_2 = tf.keras.Sequential([\n",
        "                               tf.keras.layers.Dense(10),\n",
        "                               tf.keras.layers.Dense(1)\n",
        "])\n",
        "\n",
        "# 2. Compile the model\n",
        "model_2.compile(loss=tf.keras.losses.mae,\n",
        "                optimizer=tf.keras.optimizers.SGD(),\n",
        "                metrics=[\"mse\"])\n",
        "\n",
        "# 3. Fit the model\n",
        "model_2.fit(X_train, y_train, epochs=100)"
      ],
      "execution_count": 49,
      "outputs": [
        {
          "output_type": "stream",
          "text": [
            "Epoch 1/100\n",
            "2/2 [==============================] - 0s 8ms/step - loss: 27.4058 - mse: 1084.1482\n",
            "Epoch 2/100\n",
            "2/2 [==============================] - 0s 4ms/step - loss: 24.6339 - mse: 777.9203\n",
            "Epoch 3/100\n",
            "2/2 [==============================] - 0s 4ms/step - loss: 29.8935 - mse: 1334.8956\n",
            "Epoch 4/100\n",
            "2/2 [==============================] - 0s 4ms/step - loss: 27.4055 - mse: 1106.8035\n",
            "Epoch 5/100\n",
            "2/2 [==============================] - 0s 8ms/step - loss: 14.9463 - mse: 281.1077\n",
            "Epoch 6/100\n",
            "2/2 [==============================] - 0s 4ms/step - loss: 11.8819 - mse: 168.6621\n",
            "Epoch 7/100\n",
            "2/2 [==============================] - 0s 5ms/step - loss: 11.1988 - mse: 151.3509\n",
            "Epoch 8/100\n",
            "2/2 [==============================] - 0s 4ms/step - loss: 11.0910 - mse: 160.3745\n",
            "Epoch 9/100\n",
            "2/2 [==============================] - 0s 5ms/step - loss: 40.4763 - mse: 2586.0090\n",
            "Epoch 10/100\n",
            "2/2 [==============================] - 0s 8ms/step - loss: 27.8688 - mse: 1094.4382\n",
            "Epoch 11/100\n",
            "2/2 [==============================] - 0s 7ms/step - loss: 10.2473 - mse: 147.9359\n",
            "Epoch 12/100\n",
            "2/2 [==============================] - 0s 9ms/step - loss: 25.2803 - mse: 890.3866\n",
            "Epoch 13/100\n",
            "2/2 [==============================] - 0s 3ms/step - loss: 16.9897 - mse: 399.9678\n",
            "Epoch 14/100\n",
            "2/2 [==============================] - 0s 7ms/step - loss: 25.9217 - mse: 1049.5515\n",
            "Epoch 15/100\n",
            "2/2 [==============================] - 0s 9ms/step - loss: 17.9948 - mse: 450.2580\n",
            "Epoch 16/100\n",
            "2/2 [==============================] - 0s 8ms/step - loss: 7.3510 - mse: 80.6206\n",
            "Epoch 17/100\n",
            "2/2 [==============================] - 0s 7ms/step - loss: 10.8636 - mse: 174.7868\n",
            "Epoch 18/100\n",
            "2/2 [==============================] - 0s 5ms/step - loss: 19.5304 - mse: 565.8053\n",
            "Epoch 19/100\n",
            "2/2 [==============================] - 0s 5ms/step - loss: 10.3469 - mse: 167.7749\n",
            "Epoch 20/100\n",
            "2/2 [==============================] - 0s 8ms/step - loss: 17.6985 - mse: 455.7096\n",
            "Epoch 21/100\n",
            "2/2 [==============================] - 0s 5ms/step - loss: 15.8984 - mse: 347.1929\n",
            "Epoch 22/100\n",
            "2/2 [==============================] - 0s 6ms/step - loss: 14.1991 - mse: 285.1767\n",
            "Epoch 23/100\n",
            "2/2 [==============================] - 0s 7ms/step - loss: 8.7720 - mse: 91.7852\n",
            "Epoch 24/100\n",
            "2/2 [==============================] - 0s 4ms/step - loss: 11.0570 - mse: 153.7430\n",
            "Epoch 25/100\n",
            "2/2 [==============================] - 0s 4ms/step - loss: 12.6838 - mse: 233.2949\n",
            "Epoch 26/100\n",
            "2/2 [==============================] - 0s 5ms/step - loss: 26.1877 - mse: 1024.6091\n",
            "Epoch 27/100\n",
            "2/2 [==============================] - 0s 4ms/step - loss: 11.7432 - mse: 194.8454\n",
            "Epoch 28/100\n",
            "2/2 [==============================] - 0s 7ms/step - loss: 22.8730 - mse: 835.6074\n",
            "Epoch 29/100\n",
            "2/2 [==============================] - 0s 3ms/step - loss: 9.2459 - mse: 96.7786\n",
            "Epoch 30/100\n",
            "2/2 [==============================] - 0s 3ms/step - loss: 29.2641 - mse: 1535.1349\n",
            "Epoch 31/100\n",
            "2/2 [==============================] - 0s 3ms/step - loss: 53.0225 - mse: 5030.2988\n",
            "Epoch 32/100\n",
            "2/2 [==============================] - 0s 3ms/step - loss: 11.9951 - mse: 211.7025\n",
            "Epoch 33/100\n",
            "2/2 [==============================] - 0s 3ms/step - loss: 15.6357 - mse: 337.3666\n",
            "Epoch 34/100\n",
            "2/2 [==============================] - 0s 3ms/step - loss: 12.6925 - mse: 214.4824\n",
            "Epoch 35/100\n",
            "2/2 [==============================] - 0s 3ms/step - loss: 9.2398 - mse: 92.9126\n",
            "Epoch 36/100\n",
            "2/2 [==============================] - 0s 3ms/step - loss: 16.6497 - mse: 403.6573\n",
            "Epoch 37/100\n",
            "2/2 [==============================] - 0s 6ms/step - loss: 11.0382 - mse: 192.3919\n",
            "Epoch 38/100\n",
            "2/2 [==============================] - 0s 4ms/step - loss: 18.1634 - mse: 433.6717\n",
            "Epoch 39/100\n",
            "2/2 [==============================] - 0s 3ms/step - loss: 19.1013 - mse: 529.6439\n",
            "Epoch 40/100\n",
            "2/2 [==============================] - 0s 4ms/step - loss: 20.4324 - mse: 610.1324\n",
            "Epoch 41/100\n",
            "2/2 [==============================] - 0s 11ms/step - loss: 14.9102 - mse: 279.6183\n",
            "Epoch 42/100\n",
            "2/2 [==============================] - 0s 4ms/step - loss: 12.2809 - mse: 186.6180\n",
            "Epoch 43/100\n",
            "2/2 [==============================] - 0s 4ms/step - loss: 10.7333 - mse: 167.0952\n",
            "Epoch 44/100\n",
            "2/2 [==============================] - 0s 4ms/step - loss: 23.0260 - mse: 830.4244\n",
            "Epoch 45/100\n",
            "2/2 [==============================] - 0s 7ms/step - loss: 10.3897 - mse: 128.9549\n",
            "Epoch 46/100\n",
            "2/2 [==============================] - 0s 4ms/step - loss: 11.7904 - mse: 181.9212\n",
            "Epoch 47/100\n",
            "2/2 [==============================] - 0s 11ms/step - loss: 9.6438 - mse: 153.8708\n",
            "Epoch 48/100\n",
            "2/2 [==============================] - 0s 4ms/step - loss: 17.2335 - mse: 402.8494\n",
            "Epoch 49/100\n",
            "2/2 [==============================] - 0s 7ms/step - loss: 9.5729 - mse: 99.8337\n",
            "Epoch 50/100\n",
            "2/2 [==============================] - 0s 7ms/step - loss: 13.8185 - mse: 260.3670\n",
            "Epoch 51/100\n",
            "2/2 [==============================] - 0s 5ms/step - loss: 11.5958 - mse: 154.7956\n",
            "Epoch 52/100\n",
            "2/2 [==============================] - 0s 6ms/step - loss: 30.5538 - mse: 1613.0886\n",
            "Epoch 53/100\n",
            "2/2 [==============================] - 0s 7ms/step - loss: 14.3541 - mse: 302.5293\n",
            "Epoch 54/100\n",
            "2/2 [==============================] - 0s 9ms/step - loss: 23.9713 - mse: 859.3983\n",
            "Epoch 55/100\n",
            "2/2 [==============================] - 0s 3ms/step - loss: 23.1938 - mse: 805.5452\n",
            "Epoch 56/100\n",
            "2/2 [==============================] - 0s 3ms/step - loss: 10.8837 - mse: 170.9834\n",
            "Epoch 57/100\n",
            "2/2 [==============================] - 0s 4ms/step - loss: 12.7445 - mse: 198.7015\n",
            "Epoch 58/100\n",
            "2/2 [==============================] - 0s 3ms/step - loss: 9.5995 - mse: 102.5890\n",
            "Epoch 59/100\n",
            "2/2 [==============================] - 0s 3ms/step - loss: 12.5172 - mse: 216.3367\n",
            "Epoch 60/100\n",
            "2/2 [==============================] - 0s 5ms/step - loss: 12.3200 - mse: 208.6371\n",
            "Epoch 61/100\n",
            "2/2 [==============================] - 0s 7ms/step - loss: 17.4604 - mse: 428.6393\n",
            "Epoch 62/100\n",
            "2/2 [==============================] - 0s 3ms/step - loss: 10.6052 - mse: 136.9777\n",
            "Epoch 63/100\n",
            "2/2 [==============================] - 0s 7ms/step - loss: 10.4893 - mse: 152.4555\n",
            "Epoch 64/100\n",
            "2/2 [==============================] - 0s 3ms/step - loss: 24.8450 - mse: 911.7512\n",
            "Epoch 65/100\n",
            "2/2 [==============================] - 0s 6ms/step - loss: 10.6761 - mse: 142.7374\n",
            "Epoch 66/100\n",
            "2/2 [==============================] - 0s 8ms/step - loss: 21.7809 - mse: 704.4492\n",
            "Epoch 67/100\n",
            "2/2 [==============================] - 0s 5ms/step - loss: 10.7136 - mse: 136.0194\n",
            "Epoch 68/100\n",
            "2/2 [==============================] - 0s 11ms/step - loss: 10.6397 - mse: 149.2300\n",
            "Epoch 69/100\n",
            "2/2 [==============================] - 0s 4ms/step - loss: 22.6914 - mse: 742.1761\n",
            "Epoch 70/100\n",
            "2/2 [==============================] - 0s 7ms/step - loss: 9.3316 - mse: 166.1628\n",
            "Epoch 71/100\n",
            "2/2 [==============================] - 0s 4ms/step - loss: 15.4355 - mse: 323.0843\n",
            "Epoch 72/100\n",
            "2/2 [==============================] - 0s 4ms/step - loss: 6.7437 - mse: 67.0210\n",
            "Epoch 73/100\n",
            "2/2 [==============================] - 0s 4ms/step - loss: 11.6891 - mse: 183.7296\n",
            "Epoch 74/100\n",
            "2/2 [==============================] - 0s 6ms/step - loss: 24.0400 - mse: 908.8992\n",
            "Epoch 75/100\n",
            "2/2 [==============================] - 0s 5ms/step - loss: 9.5896 - mse: 149.3948\n",
            "Epoch 76/100\n",
            "2/2 [==============================] - 0s 6ms/step - loss: 12.4371 - mse: 188.3310\n",
            "Epoch 77/100\n",
            "2/2 [==============================] - 0s 6ms/step - loss: 16.6489 - mse: 429.2708\n",
            "Epoch 78/100\n",
            "2/2 [==============================] - 0s 6ms/step - loss: 9.0614 - mse: 95.4870\n",
            "Epoch 79/100\n",
            "2/2 [==============================] - 0s 4ms/step - loss: 23.9675 - mse: 864.0864\n",
            "Epoch 80/100\n",
            "2/2 [==============================] - 0s 3ms/step - loss: 26.7463 - mse: 1104.4032\n",
            "Epoch 81/100\n",
            "2/2 [==============================] - 0s 7ms/step - loss: 11.6714 - mse: 170.7055\n",
            "Epoch 82/100\n",
            "2/2 [==============================] - 0s 5ms/step - loss: 12.0228 - mse: 211.9191\n",
            "Epoch 83/100\n",
            "2/2 [==============================] - 0s 3ms/step - loss: 17.4218 - mse: 395.5589\n",
            "Epoch 84/100\n",
            "2/2 [==============================] - 0s 6ms/step - loss: 7.2629 - mse: 73.0935\n",
            "Epoch 85/100\n",
            "2/2 [==============================] - 0s 15ms/step - loss: 14.9650 - mse: 312.8361\n",
            "Epoch 86/100\n",
            "2/2 [==============================] - 0s 4ms/step - loss: 15.2862 - mse: 315.3605\n",
            "Epoch 87/100\n",
            "2/2 [==============================] - 0s 7ms/step - loss: 19.1086 - mse: 521.2534\n",
            "Epoch 88/100\n",
            "2/2 [==============================] - 0s 8ms/step - loss: 29.8229 - mse: 1287.1907\n",
            "Epoch 89/100\n",
            "2/2 [==============================] - 0s 5ms/step - loss: 10.1742 - mse: 124.1342\n",
            "Epoch 90/100\n",
            "2/2 [==============================] - 0s 4ms/step - loss: 21.5240 - mse: 663.8611\n",
            "Epoch 91/100\n",
            "2/2 [==============================] - 0s 8ms/step - loss: 10.5716 - mse: 161.7467\n",
            "Epoch 92/100\n",
            "2/2 [==============================] - 0s 5ms/step - loss: 18.3977 - mse: 464.1326\n",
            "Epoch 93/100\n",
            "2/2 [==============================] - 0s 10ms/step - loss: 7.4138 - mse: 81.9820\n",
            "Epoch 94/100\n",
            "2/2 [==============================] - 0s 11ms/step - loss: 17.7380 - mse: 445.7379\n",
            "Epoch 95/100\n",
            "2/2 [==============================] - 0s 6ms/step - loss: 11.1144 - mse: 164.0820\n",
            "Epoch 96/100\n",
            "2/2 [==============================] - 0s 5ms/step - loss: 19.4346 - mse: 510.5842\n",
            "Epoch 97/100\n",
            "2/2 [==============================] - 0s 5ms/step - loss: 12.1593 - mse: 209.9755\n",
            "Epoch 98/100\n",
            "2/2 [==============================] - 0s 5ms/step - loss: 11.5653 - mse: 169.4052\n",
            "Epoch 99/100\n",
            "2/2 [==============================] - 0s 10ms/step - loss: 13.8827 - mse: 265.4630\n",
            "Epoch 100/100\n",
            "2/2 [==============================] - 0s 5ms/step - loss: 20.2277 - mse: 608.8218\n"
          ],
          "name": "stdout"
        },
        {
          "output_type": "execute_result",
          "data": {
            "text/plain": [
              "<tensorflow.python.keras.callbacks.History at 0x7f790919df50>"
            ]
          },
          "metadata": {
            "tags": []
          },
          "execution_count": 49
        }
      ]
    },
    {
      "cell_type": "code",
      "metadata": {
        "colab": {
          "base_uri": "https://localhost:8080/",
          "height": 465
        },
        "id": "hHLYGEDMOu1b",
        "outputId": "d711e6c6-77b5-41f9-9481-0f032fb599f0"
      },
      "source": [
        "# Make and plot predictions for Model_2\n",
        "y_preds_2 = model_2.predict(X_test)\n",
        "plot_predictions(predictions=y_preds_2)"
      ],
      "execution_count": 50,
      "outputs": [
        {
          "output_type": "stream",
          "text": [
            "WARNING:tensorflow:6 out of the last 7 calls to <function Model.make_predict_function.<locals>.predict_function at 0x7f79090d9200> triggered tf.function retracing. Tracing is expensive and the excessive number of tracings could be due to (1) creating @tf.function repeatedly in a loop, (2) passing tensors with different shapes, (3) passing Python objects instead of tensors. For (1), please define your @tf.function outside of the loop. For (2), @tf.function has experimental_relax_shapes=True option that relaxes argument shapes that can avoid unnecessary retracing. For (3), please refer to https://www.tensorflow.org/guide/function#controlling_retracing and https://www.tensorflow.org/api_docs/python/tf/function for  more details.\n"
          ],
          "name": "stdout"
        },
        {
          "output_type": "display_data",
          "data": {
            "image/png": "[encoded data removed]",
            "text/plain": [
              "<Figure size 720x504 with 1 Axes>"
            ]
          },
          "metadata": {
            "tags": [],
            "needs_background": "light"
          }
        }
      ]
    },
    {
      "cell_type": "code",
      "metadata": {
        "colab": {
          "base_uri": "https://localhost:8080/"
        },
        "id": "A78S_SfdPEU_",
        "outputId": "be4229a8-b944-403e-96e1-fba11e2a309e"
      },
      "source": [
        "# Calculate the Model_2 evaluation metrics\n",
        "mae_2 = mae(y_test, y_preds_2)\n",
        "mse_2 = mse(y_test, y_preds_2)\n",
        "mae_2, mse_2"
      ],
      "execution_count": 51,
      "outputs": [
        {
          "output_type": "execute_result",
          "data": {
            "text/plain": [
              "(<tf.Tensor: shape=(), dtype=float32, numpy=3.1969407>,\n",
              " <tf.Tensor: shape=(), dtype=float32, numpy=13.070143>)"
            ]
          },
          "metadata": {
            "tags": []
          },
          "execution_count": 51
        }
      ]
    },
    {
      "cell_type": "markdown",
      "metadata": {
        "id": "43aOz-QqPg2m"
      },
      "source": [
        "### Build Model_3\n",
        "\n",
        "2 layers, trained for 500 epochs"
      ]
    },
    {
      "cell_type": "code",
      "metadata": {
        "colab": {
          "base_uri": "https://localhost:8080/"
        },
        "id": "lAP2qRs5REZw",
        "outputId": "0de3b856-fced-4c93-e5c8-ed243745083c"
      },
      "source": [
        "# Set seed\n",
        "tf.random.set_seed(42)\n",
        "\n",
        "# 1. Create the model\n",
        "model_3 = tf.keras.Sequential([\n",
        "                               tf.keras.layers.Dense(10),\n",
        "                               tf.keras.layers.Dense(1)\n",
        "])\n",
        "\n",
        "# 2. Compile the model\n",
        "model_3.compile(loss=tf.keras.losses.mae,\n",
        "                optimizer=tf.keras.optimizers.SGD(),\n",
        "                metrics=[\"mse\"])\n",
        "\n",
        "# 3. Fit the model\n",
        "model_3.fit(X_train, y_train, epochs=500)"
      ],
      "execution_count": 52,
      "outputs": [
        {
          "output_type": "stream",
          "text": [
            "Epoch 1/500\n",
            "2/2 [==============================] - 0s 10ms/step - loss: 27.4058 - mse: 1084.1482\n",
            "Epoch 2/500\n",
            "2/2 [==============================] - 0s 9ms/step - loss: 24.6339 - mse: 777.9203\n",
            "Epoch 3/500\n",
            "2/2 [==============================] - 0s 6ms/step - loss: 29.8935 - mse: 1334.8956\n",
            "Epoch 4/500\n",
            "2/2 [==============================] - 0s 6ms/step - loss: 27.4055 - mse: 1106.8035\n",
            "Epoch 5/500\n",
            "2/2 [==============================] - 0s 10ms/step - loss: 14.9463 - mse: 281.1077\n",
            "Epoch 6/500\n",
            "2/2 [==============================] - 0s 7ms/step - loss: 11.8819 - mse: 168.6621\n",
            "Epoch 7/500\n",
            "2/2 [==============================] - 0s 6ms/step - loss: 11.1988 - mse: 151.3509\n",
            "Epoch 8/500\n",
            "2/2 [==============================] - 0s 5ms/step - loss: 11.0910 - mse: 160.3745\n",
            "Epoch 9/500\n",
            "2/2 [==============================] - 0s 7ms/step - loss: 40.4763 - mse: 2586.0090\n",
            "Epoch 10/500\n",
            "2/2 [==============================] - 0s 4ms/step - loss: 27.8688 - mse: 1094.4382\n",
            "Epoch 11/500\n",
            "2/2 [==============================] - 0s 3ms/step - loss: 10.2473 - mse: 147.9359\n",
            "Epoch 12/500\n",
            "2/2 [==============================] - 0s 3ms/step - loss: 25.2803 - mse: 890.3866\n",
            "Epoch 13/500\n",
            "2/2 [==============================] - 0s 4ms/step - loss: 16.9897 - mse: 399.9678\n",
            "Epoch 14/500\n",
            "2/2 [==============================] - 0s 6ms/step - loss: 25.9217 - mse: 1049.5515\n",
            "Epoch 15/500\n",
            "2/2 [==============================] - 0s 10ms/step - loss: 17.9948 - mse: 450.2580\n",
            "Epoch 16/500\n",
            "2/2 [==============================] - 0s 5ms/step - loss: 7.3510 - mse: 80.6206\n",
            "Epoch 17/500\n",
            "2/2 [==============================] - 0s 5ms/step - loss: 10.8636 - mse: 174.7868\n",
            "Epoch 18/500\n",
            "2/2 [==============================] - 0s 9ms/step - loss: 19.5304 - mse: 565.8053\n",
            "Epoch 19/500\n",
            "2/2 [==============================] - 0s 9ms/step - loss: 10.3469 - mse: 167.7749\n",
            "Epoch 20/500\n",
            "2/2 [==============================] - 0s 5ms/step - loss: 17.6985 - mse: 455.7096\n",
            "Epoch 21/500\n",
            "2/2 [==============================] - 0s 6ms/step - loss: 15.8984 - mse: 347.1929\n",
            "Epoch 22/500\n",
            "2/2 [==============================] - 0s 4ms/step - loss: 14.1991 - mse: 285.1767\n",
            "Epoch 23/500\n",
            "2/2 [==============================] - 0s 6ms/step - loss: 8.7720 - mse: 91.7852\n",
            "Epoch 24/500\n",
            "2/2 [==============================] - 0s 4ms/step - loss: 11.0570 - mse: 153.7430\n",
            "Epoch 25/500\n",
            "2/2 [==============================] - 0s 5ms/step - loss: 12.6838 - mse: 233.2949\n",
            "Epoch 26/500\n",
            "2/2 [==============================] - 0s 4ms/step - loss: 26.1877 - mse: 1024.6091\n",
            "Epoch 27/500\n",
            "2/2 [==============================] - 0s 3ms/step - loss: 11.7432 - mse: 194.8454\n",
            "Epoch 28/500\n",
            "2/2 [==============================] - 0s 12ms/step - loss: 22.8730 - mse: 835.6074\n",
            "Epoch 29/500\n",
            "2/2 [==============================] - 0s 4ms/step - loss: 9.2459 - mse: 96.7786\n",
            "Epoch 30/500\n",
            "2/2 [==============================] - 0s 4ms/step - loss: 29.2641 - mse: 1535.1349\n",
            "Epoch 31/500\n",
            "2/2 [==============================] - 0s 4ms/step - loss: 53.0225 - mse: 5030.2988\n",
            "Epoch 32/500\n",
            "2/2 [==============================] - 0s 4ms/step - loss: 11.9951 - mse: 211.7025\n",
            "Epoch 33/500\n",
            "2/2 [==============================] - 0s 5ms/step - loss: 15.6357 - mse: 337.3666\n",
            "Epoch 34/500\n",
            "2/2 [==============================] - 0s 4ms/step - loss: 12.6925 - mse: 214.4824\n",
            "Epoch 35/500\n",
            "2/2 [==============================] - 0s 5ms/step - loss: 9.2398 - mse: 92.9126\n",
            "Epoch 36/500\n",
            "2/2 [==============================] - 0s 4ms/step - loss: 16.6497 - mse: 403.6573\n",
            "Epoch 37/500\n",
            "2/2 [==============================] - 0s 4ms/step - loss: 11.0382 - mse: 192.3919\n",
            "Epoch 38/500\n",
            "2/2 [==============================] - 0s 4ms/step - loss: 18.1634 - mse: 433.6717\n",
            "Epoch 39/500\n",
            "2/2 [==============================] - 0s 4ms/step - loss: 19.1013 - mse: 529.6439\n",
            "Epoch 40/500\n",
            "2/2 [==============================] - 0s 13ms/step - loss: 20.4324 - mse: 610.1324\n",
            "Epoch 41/500\n",
            "2/2 [==============================] - 0s 4ms/step - loss: 14.9102 - mse: 279.6183\n",
            "Epoch 42/500\n",
            "2/2 [==============================] - 0s 5ms/step - loss: 12.2809 - mse: 186.6180\n",
            "Epoch 43/500\n",
            "2/2 [==============================] - 0s 6ms/step - loss: 10.7333 - mse: 167.0952\n",
            "Epoch 44/500\n",
            "2/2 [==============================] - 0s 4ms/step - loss: 23.0260 - mse: 830.4244\n",
            "Epoch 45/500\n",
            "2/2 [==============================] - 0s 4ms/step - loss: 10.3897 - mse: 128.9549\n",
            "Epoch 46/500\n",
            "2/2 [==============================] - 0s 4ms/step - loss: 11.7904 - mse: 181.9212\n",
            "Epoch 47/500\n",
            "2/2 [==============================] - 0s 4ms/step - loss: 9.6438 - mse: 153.8708\n",
            "Epoch 48/500\n",
            "2/2 [==============================] - 0s 4ms/step - loss: 17.2335 - mse: 402.8494\n",
            "Epoch 49/500\n",
            "2/2 [==============================] - 0s 5ms/step - loss: 9.5729 - mse: 99.8337\n",
            "Epoch 50/500\n",
            "2/2 [==============================] - 0s 5ms/step - loss: 13.8185 - mse: 260.3670\n",
            "Epoch 51/500\n",
            "2/2 [==============================] - 0s 4ms/step - loss: 11.5958 - mse: 154.7956\n",
            "Epoch 52/500\n",
            "2/2 [==============================] - 0s 4ms/step - loss: 30.5538 - mse: 1613.0886\n",
            "Epoch 53/500\n",
            "2/2 [==============================] - 0s 5ms/step - loss: 14.3541 - mse: 302.5293\n",
            "Epoch 54/500\n",
            "2/2 [==============================] - 0s 4ms/step - loss: 23.9713 - mse: 859.3983\n",
            "Epoch 55/500\n",
            "2/2 [==============================] - 0s 4ms/step - loss: 23.1938 - mse: 805.5452\n",
            "Epoch 56/500\n",
            "2/2 [==============================] - 0s 7ms/step - loss: 10.8837 - mse: 170.9834\n",
            "Epoch 57/500\n",
            "2/2 [==============================] - 0s 4ms/step - loss: 12.7445 - mse: 198.7015\n",
            "Epoch 58/500\n",
            "2/2 [==============================] - 0s 4ms/step - loss: 9.5995 - mse: 102.5890\n",
            "Epoch 59/500\n",
            "2/2 [==============================] - 0s 7ms/step - loss: 12.5172 - mse: 216.3367\n",
            "Epoch 60/500\n",
            "2/2 [==============================] - 0s 8ms/step - loss: 12.3200 - mse: 208.6371\n",
            "Epoch 61/500\n",
            "2/2 [==============================] - 0s 12ms/step - loss: 17.4604 - mse: 428.6393\n",
            "Epoch 62/500\n",
            "2/2 [==============================] - 0s 5ms/step - loss: 10.6052 - mse: 136.9777\n",
            "Epoch 63/500\n",
            "2/2 [==============================] - 0s 7ms/step - loss: 10.4893 - mse: 152.4555\n",
            "Epoch 64/500\n",
            "2/2 [==============================] - 0s 5ms/step - loss: 24.8450 - mse: 911.7512\n",
            "Epoch 65/500\n",
            "2/2 [==============================] - 0s 4ms/step - loss: 10.6761 - mse: 142.7374\n",
            "Epoch 66/500\n",
            "2/2 [==============================] - 0s 5ms/step - loss: 21.7809 - mse: 704.4492\n",
            "Epoch 67/500\n",
            "2/2 [==============================] - 0s 4ms/step - loss: 10.7136 - mse: 136.0194\n",
            "Epoch 68/500\n",
            "2/2 [==============================] - 0s 4ms/step - loss: 10.6397 - mse: 149.2300\n",
            "Epoch 69/500\n",
            "2/2 [==============================] - 0s 4ms/step - loss: 22.6914 - mse: 742.1761\n",
            "Epoch 70/500\n",
            "2/2 [==============================] - 0s 4ms/step - loss: 9.3316 - mse: 166.1628\n",
            "Epoch 71/500\n",
            "2/2 [==============================] - 0s 12ms/step - loss: 15.4355 - mse: 323.0843\n",
            "Epoch 72/500\n",
            "2/2 [==============================] - 0s 4ms/step - loss: 6.7437 - mse: 67.0210\n",
            "Epoch 73/500\n",
            "2/2 [==============================] - 0s 4ms/step - loss: 11.6891 - mse: 183.7296\n",
            "Epoch 74/500\n",
            "2/2 [==============================] - 0s 4ms/step - loss: 24.0400 - mse: 908.8992\n",
            "Epoch 75/500\n",
            "2/2 [==============================] - 0s 4ms/step - loss: 9.5896 - mse: 149.3948\n",
            "Epoch 76/500\n",
            "2/2 [==============================] - 0s 4ms/step - loss: 12.4371 - mse: 188.3310\n",
            "Epoch 77/500\n",
            "2/2 [==============================] - 0s 5ms/step - loss: 16.6489 - mse: 429.2708\n",
            "Epoch 78/500\n",
            "2/2 [==============================] - 0s 5ms/step - loss: 9.0614 - mse: 95.4870\n",
            "Epoch 79/500\n",
            "2/2 [==============================] - 0s 14ms/step - loss: 23.9675 - mse: 864.0864\n",
            "Epoch 80/500\n",
            "2/2 [==============================] - 0s 7ms/step - loss: 26.7463 - mse: 1104.4032\n",
            "Epoch 81/500\n",
            "2/2 [==============================] - 0s 4ms/step - loss: 11.6714 - mse: 170.7055\n",
            "Epoch 82/500\n",
            "2/2 [==============================] - 0s 3ms/step - loss: 12.0228 - mse: 211.9191\n",
            "Epoch 83/500\n",
            "2/2 [==============================] - 0s 6ms/step - loss: 17.4218 - mse: 395.5589\n",
            "Epoch 84/500\n",
            "2/2 [==============================] - 0s 4ms/step - loss: 7.2629 - mse: 73.0935\n",
            "Epoch 85/500\n",
            "2/2 [==============================] - 0s 4ms/step - loss: 14.9650 - mse: 312.8361\n",
            "Epoch 86/500\n",
            "2/2 [==============================] - 0s 3ms/step - loss: 15.2862 - mse: 315.3605\n",
            "Epoch 87/500\n",
            "2/2 [==============================] - 0s 4ms/step - loss: 19.1086 - mse: 521.2534\n",
            "Epoch 88/500\n",
            "2/2 [==============================] - 0s 5ms/step - loss: 29.8229 - mse: 1287.1907\n",
            "Epoch 89/500\n",
            "2/2 [==============================] - 0s 3ms/step - loss: 10.1742 - mse: 124.1342\n",
            "Epoch 90/500\n",
            "2/2 [==============================] - 0s 5ms/step - loss: 21.5240 - mse: 663.8611\n",
            "Epoch 91/500\n",
            "2/2 [==============================] - 0s 4ms/step - loss: 10.5716 - mse: 161.7467\n",
            "Epoch 92/500\n",
            "2/2 [==============================] - 0s 8ms/step - loss: 18.3977 - mse: 464.1326\n",
            "Epoch 93/500\n",
            "2/2 [==============================] - 0s 7ms/step - loss: 7.4138 - mse: 81.9820\n",
            "Epoch 94/500\n",
            "2/2 [==============================] - 0s 3ms/step - loss: 17.7380 - mse: 445.7379\n",
            "Epoch 95/500\n",
            "2/2 [==============================] - 0s 4ms/step - loss: 11.1144 - mse: 164.0820\n",
            "Epoch 96/500\n",
            "2/2 [==============================] - 0s 4ms/step - loss: 19.4346 - mse: 510.5842\n",
            "Epoch 97/500\n",
            "2/2 [==============================] - 0s 3ms/step - loss: 12.1593 - mse: 209.9755\n",
            "Epoch 98/500\n",
            "2/2 [==============================] - 0s 4ms/step - loss: 11.5653 - mse: 169.4052\n",
            "Epoch 99/500\n",
            "2/2 [==============================] - 0s 5ms/step - loss: 13.8827 - mse: 265.4630\n",
            "Epoch 100/500\n",
            "2/2 [==============================] - 0s 4ms/step - loss: 20.2277 - mse: 608.8218\n",
            "Epoch 101/500\n",
            "2/2 [==============================] - 0s 4ms/step - loss: 11.4479 - mse: 177.1446\n",
            "Epoch 102/500\n",
            "2/2 [==============================] - 0s 3ms/step - loss: 17.4842 - mse: 426.5329\n",
            "Epoch 103/500\n",
            "2/2 [==============================] - 0s 6ms/step - loss: 7.0217 - mse: 65.2649\n",
            "Epoch 104/500\n",
            "2/2 [==============================] - 0s 6ms/step - loss: 23.5789 - mse: 757.4911\n",
            "Epoch 105/500\n",
            "2/2 [==============================] - 0s 3ms/step - loss: 16.8932 - mse: 443.0951\n",
            "Epoch 106/500\n",
            "2/2 [==============================] - 0s 5ms/step - loss: 9.2954 - mse: 144.6570\n",
            "Epoch 107/500\n",
            "2/2 [==============================] - 0s 4ms/step - loss: 25.3749 - mse: 934.2098\n",
            "Epoch 108/500\n",
            "2/2 [==============================] - 0s 4ms/step - loss: 13.4621 - mse: 269.8598\n",
            "Epoch 109/500\n",
            "2/2 [==============================] - 0s 6ms/step - loss: 9.5238 - mse: 108.7908\n",
            "Epoch 110/500\n",
            "2/2 [==============================] - 0s 4ms/step - loss: 9.6722 - mse: 128.8767\n",
            "Epoch 111/500\n",
            "2/2 [==============================] - 0s 4ms/step - loss: 14.5987 - mse: 295.9862\n",
            "Epoch 112/500\n",
            "2/2 [==============================] - 0s 7ms/step - loss: 9.5670 - mse: 123.4113\n",
            "Epoch 113/500\n",
            "2/2 [==============================] - 0s 8ms/step - loss: 17.8092 - mse: 460.3867\n",
            "Epoch 114/500\n",
            "2/2 [==============================] - 0s 4ms/step - loss: 17.1782 - mse: 441.2208\n",
            "Epoch 115/500\n",
            "2/2 [==============================] - 0s 4ms/step - loss: 11.1182 - mse: 155.0961\n",
            "Epoch 116/500\n",
            "2/2 [==============================] - 0s 4ms/step - loss: 23.3071 - mse: 791.7657\n",
            "Epoch 117/500\n",
            "2/2 [==============================] - 0s 4ms/step - loss: 9.6144 - mse: 126.1895\n",
            "Epoch 118/500\n",
            "2/2 [==============================] - 0s 4ms/step - loss: 10.6899 - mse: 140.2945\n",
            "Epoch 119/500\n",
            "2/2 [==============================] - 0s 5ms/step - loss: 8.0355 - mse: 78.3508\n",
            "Epoch 120/500\n",
            "2/2 [==============================] - 0s 7ms/step - loss: 29.6859 - mse: 1315.8645\n",
            "Epoch 121/500\n",
            "2/2 [==============================] - 0s 10ms/step - loss: 8.0714 - mse: 70.6648\n",
            "Epoch 122/500\n",
            "2/2 [==============================] - 0s 5ms/step - loss: 28.3086 - mse: 1233.3849\n",
            "Epoch 123/500\n",
            "2/2 [==============================] - 0s 6ms/step - loss: 32.9014 - mse: 1591.9503\n",
            "Epoch 124/500\n",
            "2/2 [==============================] - 0s 5ms/step - loss: 19.6291 - mse: 571.6960\n",
            "Epoch 125/500\n",
            "2/2 [==============================] - 0s 9ms/step - loss: 7.0095 - mse: 72.1091\n",
            "Epoch 126/500\n",
            "2/2 [==============================] - 0s 5ms/step - loss: 21.8056 - mse: 666.4340\n",
            "Epoch 127/500\n",
            "2/2 [==============================] - 0s 7ms/step - loss: 7.9812 - mse: 69.5627\n",
            "Epoch 128/500\n",
            "2/2 [==============================] - 0s 4ms/step - loss: 21.0585 - mse: 653.6486\n",
            "Epoch 129/500\n",
            "2/2 [==============================] - 0s 4ms/step - loss: 9.0107 - mse: 120.8763\n",
            "Epoch 130/500\n",
            "2/2 [==============================] - 0s 10ms/step - loss: 24.0502 - mse: 815.7742\n",
            "Epoch 131/500\n",
            "2/2 [==============================] - 0s 5ms/step - loss: 9.7537 - mse: 133.0194\n",
            "Epoch 132/500\n",
            "2/2 [==============================] - 0s 10ms/step - loss: 18.3052 - mse: 500.9214\n",
            "Epoch 133/500\n",
            "2/2 [==============================] - 0s 6ms/step - loss: 7.5833 - mse: 80.1913\n",
            "Epoch 134/500\n",
            "2/2 [==============================] - 0s 4ms/step - loss: 18.5755 - mse: 506.3341\n",
            "Epoch 135/500\n",
            "2/2 [==============================] - 0s 11ms/step - loss: 10.5360 - mse: 148.5977\n",
            "Epoch 136/500\n",
            "2/2 [==============================] - 0s 7ms/step - loss: 18.2694 - mse: 472.4460\n",
            "Epoch 137/500\n",
            "2/2 [==============================] - 0s 7ms/step - loss: 23.1658 - mse: 724.0381\n",
            "Epoch 138/500\n",
            "2/2 [==============================] - 0s 7ms/step - loss: 9.1362 - mse: 139.5299\n",
            "Epoch 139/500\n",
            "2/2 [==============================] - 0s 10ms/step - loss: 8.9181 - mse: 144.6079\n",
            "Epoch 140/500\n",
            "2/2 [==============================] - 0s 8ms/step - loss: 16.4732 - mse: 389.2471\n",
            "Epoch 141/500\n",
            "2/2 [==============================] - 0s 4ms/step - loss: 8.4208 - mse: 91.7413\n",
            "Epoch 142/500\n",
            "2/2 [==============================] - 0s 7ms/step - loss: 36.9540 - mse: 2404.8650\n",
            "Epoch 143/500\n",
            "2/2 [==============================] - 0s 6ms/step - loss: 25.5820 - mse: 927.2343\n",
            "Epoch 144/500\n",
            "2/2 [==============================] - 0s 5ms/step - loss: 9.5392 - mse: 144.3266\n",
            "Epoch 145/500\n",
            "2/2 [==============================] - 0s 5ms/step - loss: 26.6058 - mse: 957.1338\n",
            "Epoch 146/500\n",
            "2/2 [==============================] - 0s 5ms/step - loss: 8.7248 - mse: 109.2954\n",
            "Epoch 147/500\n",
            "2/2 [==============================] - 0s 8ms/step - loss: 15.6172 - mse: 311.2310\n",
            "Epoch 148/500\n",
            "2/2 [==============================] - 0s 5ms/step - loss: 18.3065 - mse: 464.7855\n",
            "Epoch 149/500\n",
            "2/2 [==============================] - 0s 8ms/step - loss: 8.1994 - mse: 106.4583\n",
            "Epoch 150/500\n",
            "2/2 [==============================] - 0s 4ms/step - loss: 7.4964 - mse: 66.4456\n",
            "Epoch 151/500\n",
            "2/2 [==============================] - 0s 11ms/step - loss: 18.3374 - mse: 485.9982\n",
            "Epoch 152/500\n",
            "2/2 [==============================] - 0s 4ms/step - loss: 10.2895 - mse: 130.5616\n",
            "Epoch 153/500\n",
            "2/2 [==============================] - 0s 13ms/step - loss: 29.6425 - mse: 1268.4631\n",
            "Epoch 154/500\n",
            "2/2 [==============================] - 0s 3ms/step - loss: 10.5556 - mse: 201.2335\n",
            "Epoch 155/500\n",
            "2/2 [==============================] - 0s 8ms/step - loss: 15.4537 - mse: 347.2169\n",
            "Epoch 156/500\n",
            "2/2 [==============================] - 0s 12ms/step - loss: 17.0174 - mse: 438.8495\n",
            "Epoch 157/500\n",
            "2/2 [==============================] - 0s 3ms/step - loss: 32.8218 - mse: 1744.8142\n",
            "Epoch 158/500\n",
            "2/2 [==============================] - 0s 7ms/step - loss: 10.7038 - mse: 151.0813\n",
            "Epoch 159/500\n",
            "2/2 [==============================] - 0s 11ms/step - loss: 8.9054 - mse: 97.7705\n",
            "Epoch 160/500\n",
            "2/2 [==============================] - 0s 6ms/step - loss: 22.1321 - mse: 709.4396\n",
            "Epoch 161/500\n",
            "2/2 [==============================] - 0s 3ms/step - loss: 11.7113 - mse: 202.9613\n",
            "Epoch 162/500\n",
            "2/2 [==============================] - 0s 5ms/step - loss: 21.5734 - mse: 670.2861\n",
            "Epoch 163/500\n",
            "2/2 [==============================] - 0s 4ms/step - loss: 19.2485 - mse: 533.4074\n",
            "Epoch 164/500\n",
            "2/2 [==============================] - 0s 11ms/step - loss: 11.0156 - mse: 177.6826\n",
            "Epoch 165/500\n",
            "2/2 [==============================] - 0s 12ms/step - loss: 9.6187 - mse: 179.8633\n",
            "Epoch 166/500\n",
            "2/2 [==============================] - 0s 13ms/step - loss: 21.5908 - mse: 681.9667\n",
            "Epoch 167/500\n",
            "2/2 [==============================] - 0s 6ms/step - loss: 26.2851 - mse: 1048.8446\n",
            "Epoch 168/500\n",
            "2/2 [==============================] - 0s 4ms/step - loss: 9.8525 - mse: 118.2892\n",
            "Epoch 169/500\n",
            "2/2 [==============================] - 0s 3ms/step - loss: 22.5630 - mse: 787.0588\n",
            "Epoch 170/500\n",
            "2/2 [==============================] - 0s 5ms/step - loss: 10.1499 - mse: 195.9051\n",
            "Epoch 171/500\n",
            "2/2 [==============================] - 0s 4ms/step - loss: 18.0464 - mse: 503.4533\n",
            "Epoch 172/500\n",
            "2/2 [==============================] - 0s 7ms/step - loss: 28.8377 - mse: 1305.7986\n",
            "Epoch 173/500\n",
            "2/2 [==============================] - 0s 14ms/step - loss: 16.5279 - mse: 432.1444\n",
            "Epoch 174/500\n",
            "2/2 [==============================] - 0s 12ms/step - loss: 11.2115 - mse: 199.9691\n",
            "Epoch 175/500\n",
            "2/2 [==============================] - 0s 4ms/step - loss: 27.5839 - mse: 1097.8187\n",
            "Epoch 176/500\n",
            "2/2 [==============================] - 0s 6ms/step - loss: 8.2680 - mse: 77.5372\n",
            "Epoch 177/500\n",
            "2/2 [==============================] - 0s 10ms/step - loss: 9.2580 - mse: 108.9075\n",
            "Epoch 178/500\n",
            "2/2 [==============================] - 0s 4ms/step - loss: 18.1440 - mse: 466.0513\n",
            "Epoch 179/500\n",
            "2/2 [==============================] - 0s 5ms/step - loss: 10.5995 - mse: 147.8543\n",
            "Epoch 180/500\n",
            "2/2 [==============================] - 0s 7ms/step - loss: 7.8992 - mse: 100.6932\n",
            "Epoch 181/500\n",
            "2/2 [==============================] - 0s 4ms/step - loss: 17.4015 - mse: 438.6035\n",
            "Epoch 182/500\n",
            "2/2 [==============================] - 0s 9ms/step - loss: 11.0089 - mse: 157.1596\n",
            "Epoch 183/500\n",
            "2/2 [==============================] - 0s 5ms/step - loss: 11.7027 - mse: 203.9956\n",
            "Epoch 184/500\n",
            "2/2 [==============================] - 0s 6ms/step - loss: 30.4062 - mse: 1387.3850\n",
            "Epoch 185/500\n",
            "2/2 [==============================] - 0s 6ms/step - loss: 7.5557 - mse: 98.6847\n",
            "Epoch 186/500\n",
            "2/2 [==============================] - 0s 3ms/step - loss: 15.9905 - mse: 369.3699\n",
            "Epoch 187/500\n",
            "2/2 [==============================] - 0s 6ms/step - loss: 8.5579 - mse: 85.4846\n",
            "Epoch 188/500\n",
            "2/2 [==============================] - 0s 30ms/step - loss: 28.7339 - mse: 1175.7068\n",
            "Epoch 189/500\n",
            "2/2 [==============================] - 0s 10ms/step - loss: 13.1689 - mse: 271.3447\n",
            "Epoch 190/500\n",
            "2/2 [==============================] - 0s 16ms/step - loss: 18.3101 - mse: 512.5546\n",
            "Epoch 191/500\n",
            "2/2 [==============================] - 0s 4ms/step - loss: 13.7376 - mse: 264.9675\n",
            "Epoch 192/500\n",
            "2/2 [==============================] - 0s 4ms/step - loss: 13.7104 - mse: 261.0630\n",
            "Epoch 193/500\n",
            "2/2 [==============================] - 0s 3ms/step - loss: 28.5842 - mse: 1135.1302\n",
            "Epoch 194/500\n",
            "2/2 [==============================] - 0s 4ms/step - loss: 7.0707 - mse: 78.6824\n",
            "Epoch 195/500\n",
            "2/2 [==============================] - 0s 4ms/step - loss: 7.0550 - mse: 74.9454\n",
            "Epoch 196/500\n",
            "2/2 [==============================] - 0s 19ms/step - loss: 22.0067 - mse: 709.4537\n",
            "Epoch 197/500\n",
            "2/2 [==============================] - 0s 4ms/step - loss: 20.8443 - mse: 643.6125\n",
            "Epoch 198/500\n",
            "2/2 [==============================] - 0s 7ms/step - loss: 12.4713 - mse: 236.5511\n",
            "Epoch 199/500\n",
            "2/2 [==============================] - 0s 4ms/step - loss: 17.9099 - mse: 460.3531\n",
            "Epoch 200/500\n",
            "2/2 [==============================] - 0s 4ms/step - loss: 13.7494 - mse: 282.2669\n",
            "Epoch 201/500\n",
            "2/2 [==============================] - 0s 4ms/step - loss: 5.4687 - mse: 41.0882\n",
            "Epoch 202/500\n",
            "2/2 [==============================] - 0s 4ms/step - loss: 13.7006 - mse: 293.8446\n",
            "Epoch 203/500\n",
            "2/2 [==============================] - 0s 5ms/step - loss: 9.4142 - mse: 139.9066\n",
            "Epoch 204/500\n",
            "2/2 [==============================] - 0s 4ms/step - loss: 20.9796 - mse: 656.2629\n",
            "Epoch 205/500\n",
            "2/2 [==============================] - 0s 4ms/step - loss: 9.5470 - mse: 127.9146\n",
            "Epoch 206/500\n",
            "2/2 [==============================] - 0s 4ms/step - loss: 11.7256 - mse: 195.6241\n",
            "Epoch 207/500\n",
            "2/2 [==============================] - 0s 11ms/step - loss: 14.3772 - mse: 317.1679\n",
            "Epoch 208/500\n",
            "2/2 [==============================] - 0s 4ms/step - loss: 14.8579 - mse: 323.1455\n",
            "Epoch 209/500\n",
            "2/2 [==============================] - 0s 6ms/step - loss: 14.9706 - mse: 345.7379\n",
            "Epoch 210/500\n",
            "2/2 [==============================] - 0s 4ms/step - loss: 17.8998 - mse: 467.4648\n",
            "Epoch 211/500\n",
            "2/2 [==============================] - 0s 6ms/step - loss: 9.8327 - mse: 145.8636\n",
            "Epoch 212/500\n",
            "2/2 [==============================] - 0s 11ms/step - loss: 18.3352 - mse: 507.7771\n",
            "Epoch 213/500\n",
            "2/2 [==============================] - 0s 8ms/step - loss: 15.0383 - mse: 307.6406\n",
            "Epoch 214/500\n",
            "2/2 [==============================] - 0s 4ms/step - loss: 14.5874 - mse: 293.5642\n",
            "Epoch 215/500\n",
            "2/2 [==============================] - 0s 7ms/step - loss: 23.3015 - mse: 799.4148\n",
            "Epoch 216/500\n",
            "2/2 [==============================] - 0s 11ms/step - loss: 13.3613 - mse: 278.0950\n",
            "Epoch 217/500\n",
            "2/2 [==============================] - 0s 10ms/step - loss: 9.8517 - mse: 136.3093\n",
            "Epoch 218/500\n",
            "2/2 [==============================] - 0s 5ms/step - loss: 12.5451 - mse: 206.5809\n",
            "Epoch 219/500\n",
            "2/2 [==============================] - 0s 27ms/step - loss: 4.9472 - mse: 37.4063\n",
            "Epoch 220/500\n",
            "2/2 [==============================] - 0s 5ms/step - loss: 7.1130 - mse: 57.5579\n",
            "Epoch 221/500\n",
            "2/2 [==============================] - 0s 9ms/step - loss: 35.4567 - mse: 2108.1023\n",
            "Epoch 222/500\n",
            "2/2 [==============================] - 0s 4ms/step - loss: 34.8634 - mse: 1966.9613\n",
            "Epoch 223/500\n",
            "2/2 [==============================] - 0s 8ms/step - loss: 7.9846 - mse: 119.7549\n",
            "Epoch 224/500\n",
            "2/2 [==============================] - 0s 11ms/step - loss: 14.7004 - mse: 318.5025\n",
            "Epoch 225/500\n",
            "2/2 [==============================] - 0s 5ms/step - loss: 16.7196 - mse: 360.6416\n",
            "Epoch 226/500\n",
            "2/2 [==============================] - 0s 6ms/step - loss: 15.9329 - mse: 369.8890\n",
            "Epoch 227/500\n",
            "2/2 [==============================] - 0s 7ms/step - loss: 16.1644 - mse: 369.5817\n",
            "Epoch 228/500\n",
            "2/2 [==============================] - 0s 15ms/step - loss: 13.9324 - mse: 282.1421\n",
            "Epoch 229/500\n",
            "2/2 [==============================] - 0s 5ms/step - loss: 18.0504 - mse: 457.4227\n",
            "Epoch 230/500\n",
            "2/2 [==============================] - 0s 4ms/step - loss: 15.6120 - mse: 314.6218\n",
            "Epoch 231/500\n",
            "2/2 [==============================] - 0s 4ms/step - loss: 21.2041 - mse: 670.7587\n",
            "Epoch 232/500\n",
            "2/2 [==============================] - 0s 11ms/step - loss: 25.2732 - mse: 913.5804\n",
            "Epoch 233/500\n",
            "2/2 [==============================] - 0s 16ms/step - loss: 16.3176 - mse: 387.7160\n",
            "Epoch 234/500\n",
            "2/2 [==============================] - 0s 11ms/step - loss: 7.2729 - mse: 66.5098\n",
            "Epoch 235/500\n",
            "2/2 [==============================] - 0s 7ms/step - loss: 16.9688 - mse: 403.1298\n",
            "Epoch 236/500\n",
            "2/2 [==============================] - 0s 5ms/step - loss: 7.1225 - mse: 69.7516\n",
            "Epoch 237/500\n",
            "2/2 [==============================] - 0s 5ms/step - loss: 9.2058 - mse: 118.9100\n",
            "Epoch 238/500\n",
            "2/2 [==============================] - 0s 5ms/step - loss: 8.0961 - mse: 86.7115\n",
            "Epoch 239/500\n",
            "2/2 [==============================] - 0s 7ms/step - loss: 17.0538 - mse: 438.0269\n",
            "Epoch 240/500\n",
            "2/2 [==============================] - 0s 4ms/step - loss: 8.8627 - mse: 107.8192\n",
            "Epoch 241/500\n",
            "2/2 [==============================] - 0s 17ms/step - loss: 13.1711 - mse: 273.2422\n",
            "Epoch 242/500\n",
            "2/2 [==============================] - 0s 6ms/step - loss: 8.7886 - mse: 104.8366\n",
            "Epoch 243/500\n",
            "2/2 [==============================] - 0s 9ms/step - loss: 18.8161 - mse: 541.4716\n",
            "Epoch 244/500\n",
            "2/2 [==============================] - 0s 13ms/step - loss: 14.0531 - mse: 275.3817\n",
            "Epoch 245/500\n",
            "2/2 [==============================] - 0s 13ms/step - loss: 14.6831 - mse: 290.1828\n",
            "Epoch 246/500\n",
            "2/2 [==============================] - 0s 10ms/step - loss: 15.8045 - mse: 370.7154\n",
            "Epoch 247/500\n",
            "2/2 [==============================] - 0s 12ms/step - loss: 17.6810 - mse: 421.4945\n",
            "Epoch 248/500\n",
            "2/2 [==============================] - 0s 12ms/step - loss: 13.2367 - mse: 251.7197\n",
            "Epoch 249/500\n",
            "2/2 [==============================] - 0s 6ms/step - loss: 14.5070 - mse: 288.7692\n",
            "Epoch 250/500\n",
            "2/2 [==============================] - 0s 14ms/step - loss: 23.2322 - mse: 793.2501\n",
            "Epoch 251/500\n",
            "2/2 [==============================] - 0s 5ms/step - loss: 9.3009 - mse: 119.0357\n",
            "Epoch 252/500\n",
            "2/2 [==============================] - 0s 7ms/step - loss: 36.6569 - mse: 2195.6194\n",
            "Epoch 253/500\n",
            "2/2 [==============================] - 0s 17ms/step - loss: 21.8205 - mse: 667.9635\n",
            "Epoch 254/500\n",
            "2/2 [==============================] - 0s 10ms/step - loss: 7.2792 - mse: 77.8093\n",
            "Epoch 255/500\n",
            "2/2 [==============================] - 0s 3ms/step - loss: 24.7127 - mse: 882.9670\n",
            "Epoch 256/500\n",
            "2/2 [==============================] - 0s 12ms/step - loss: 12.4220 - mse: 220.3517\n",
            "Epoch 257/500\n",
            "2/2 [==============================] - 0s 10ms/step - loss: 10.5823 - mse: 164.0441\n",
            "Epoch 258/500\n",
            "2/2 [==============================] - 0s 3ms/step - loss: 14.4883 - mse: 322.3513\n",
            "Epoch 259/500\n",
            "2/2 [==============================] - 0s 4ms/step - loss: 8.6132 - mse: 98.6933\n",
            "Epoch 260/500\n",
            "2/2 [==============================] - 0s 4ms/step - loss: 43.0580 - mse: 2975.2341\n",
            "Epoch 261/500\n",
            "2/2 [==============================] - 0s 4ms/step - loss: 18.4611 - mse: 493.6667\n",
            "Epoch 262/500\n",
            "2/2 [==============================] - 0s 3ms/step - loss: 6.8820 - mse: 94.3408\n",
            "Epoch 263/500\n",
            "2/2 [==============================] - 0s 10ms/step - loss: 13.7211 - mse: 268.5678\n",
            "Epoch 264/500\n",
            "2/2 [==============================] - 0s 13ms/step - loss: 21.0154 - mse: 653.9614\n",
            "Epoch 265/500\n",
            "2/2 [==============================] - 0s 10ms/step - loss: 19.3731 - mse: 545.6253\n",
            "Epoch 266/500\n",
            "2/2 [==============================] - 0s 3ms/step - loss: 11.4735 - mse: 234.7203\n",
            "Epoch 267/500\n",
            "2/2 [==============================] - 0s 6ms/step - loss: 7.5302 - mse: 112.0908\n",
            "Epoch 268/500\n",
            "2/2 [==============================] - 0s 12ms/step - loss: 21.6453 - mse: 670.2252\n",
            "Epoch 269/500\n",
            "2/2 [==============================] - 0s 14ms/step - loss: 33.1785 - mse: 1653.7379\n",
            "Epoch 270/500\n",
            "2/2 [==============================] - 0s 5ms/step - loss: 10.0833 - mse: 148.7353\n",
            "Epoch 271/500\n",
            "2/2 [==============================] - 0s 4ms/step - loss: 12.1012 - mse: 303.1726\n",
            "Epoch 272/500\n",
            "2/2 [==============================] - 0s 4ms/step - loss: 26.1372 - mse: 944.6776\n",
            "Epoch 273/500\n",
            "2/2 [==============================] - 0s 3ms/step - loss: 12.1751 - mse: 228.8034\n",
            "Epoch 274/500\n",
            "2/2 [==============================] - 0s 3ms/step - loss: 13.3272 - mse: 282.3035\n",
            "Epoch 275/500\n",
            "2/2 [==============================] - 0s 4ms/step - loss: 29.3775 - mse: 1229.1163\n",
            "Epoch 276/500\n",
            "2/2 [==============================] - 0s 10ms/step - loss: 7.3329 - mse: 104.3417\n",
            "Epoch 277/500\n",
            "2/2 [==============================] - 0s 10ms/step - loss: 31.1362 - mse: 1360.7679\n",
            "Epoch 278/500\n",
            "2/2 [==============================] - 0s 7ms/step - loss: 12.3015 - mse: 234.6620\n",
            "Epoch 279/500\n",
            "2/2 [==============================] - 0s 4ms/step - loss: 16.4103 - mse: 416.9113\n",
            "Epoch 280/500\n",
            "2/2 [==============================] - 0s 8ms/step - loss: 21.9118 - mse: 716.7842\n",
            "Epoch 281/500\n",
            "2/2 [==============================] - 0s 10ms/step - loss: 22.1501 - mse: 745.2065\n",
            "Epoch 282/500\n",
            "2/2 [==============================] - 0s 8ms/step - loss: 7.7429 - mse: 90.5224\n",
            "Epoch 283/500\n",
            "2/2 [==============================] - 0s 3ms/step - loss: 8.1429 - mse: 87.9050\n",
            "Epoch 284/500\n",
            "2/2 [==============================] - 0s 4ms/step - loss: 24.9435 - mse: 936.1608\n",
            "Epoch 285/500\n",
            "2/2 [==============================] - 0s 3ms/step - loss: 13.6958 - mse: 299.3615\n",
            "Epoch 286/500\n",
            "2/2 [==============================] - 0s 4ms/step - loss: 6.8926 - mse: 81.2999\n",
            "Epoch 287/500\n",
            "2/2 [==============================] - 0s 5ms/step - loss: 24.5352 - mse: 862.2879\n",
            "Epoch 288/500\n",
            "2/2 [==============================] - 0s 4ms/step - loss: 20.1721 - mse: 605.2875\n",
            "Epoch 289/500\n",
            "2/2 [==============================] - 0s 3ms/step - loss: 11.9658 - mse: 244.8307\n",
            "Epoch 290/500\n",
            "2/2 [==============================] - 0s 7ms/step - loss: 16.5391 - mse: 366.5719\n",
            "Epoch 291/500\n",
            "2/2 [==============================] - 0s 4ms/step - loss: 16.8017 - mse: 414.8177\n",
            "Epoch 292/500\n",
            "2/2 [==============================] - 0s 6ms/step - loss: 9.4642 - mse: 213.4544\n",
            "Epoch 293/500\n",
            "2/2 [==============================] - 0s 18ms/step - loss: 15.2711 - mse: 318.1684\n",
            "Epoch 294/500\n",
            "2/2 [==============================] - 0s 5ms/step - loss: 22.7179 - mse: 780.8712\n",
            "Epoch 295/500\n",
            "2/2 [==============================] - 0s 7ms/step - loss: 17.9234 - mse: 458.5733\n",
            "Epoch 296/500\n",
            "2/2 [==============================] - 0s 5ms/step - loss: 6.1743 - mse: 59.0634\n",
            "Epoch 297/500\n",
            "2/2 [==============================] - 0s 8ms/step - loss: 10.9440 - mse: 254.2861\n",
            "Epoch 298/500\n",
            "2/2 [==============================] - 0s 5ms/step - loss: 23.1530 - mse: 785.9867\n",
            "Epoch 299/500\n",
            "2/2 [==============================] - 0s 5ms/step - loss: 17.7331 - mse: 469.9268\n",
            "Epoch 300/500\n",
            "2/2 [==============================] - 0s 4ms/step - loss: 6.9824 - mse: 65.0503\n",
            "Epoch 301/500\n",
            "2/2 [==============================] - 0s 6ms/step - loss: 25.1857 - mse: 898.2788\n",
            "Epoch 302/500\n",
            "2/2 [==============================] - 0s 8ms/step - loss: 8.9025 - mse: 116.0077\n",
            "Epoch 303/500\n",
            "2/2 [==============================] - 0s 5ms/step - loss: 17.7668 - mse: 461.9373\n",
            "Epoch 304/500\n",
            "2/2 [==============================] - 0s 4ms/step - loss: 11.0002 - mse: 173.9248\n",
            "Epoch 305/500\n",
            "2/2 [==============================] - 0s 10ms/step - loss: 12.9191 - mse: 271.8381\n",
            "Epoch 306/500\n",
            "2/2 [==============================] - 0s 8ms/step - loss: 8.4033 - mse: 94.4444\n",
            "Epoch 307/500\n",
            "2/2 [==============================] - 0s 13ms/step - loss: 13.6094 - mse: 279.1173\n",
            "Epoch 308/500\n",
            "2/2 [==============================] - 0s 4ms/step - loss: 7.4404 - mse: 78.3839\n",
            "Epoch 309/500\n",
            "2/2 [==============================] - 0s 3ms/step - loss: 9.4642 - mse: 138.8858\n",
            "Epoch 310/500\n",
            "2/2 [==============================] - 0s 4ms/step - loss: 10.7099 - mse: 198.2187\n",
            "Epoch 311/500\n",
            "2/2 [==============================] - 0s 4ms/step - loss: 13.2814 - mse: 254.2447\n",
            "Epoch 312/500\n",
            "2/2 [==============================] - 0s 7ms/step - loss: 29.9763 - mse: 1241.6272\n",
            "Epoch 313/500\n",
            "2/2 [==============================] - 0s 9ms/step - loss: 7.6304 - mse: 104.4100\n",
            "Epoch 314/500\n",
            "2/2 [==============================] - 0s 4ms/step - loss: 9.9106 - mse: 239.5556\n",
            "Epoch 315/500\n",
            "2/2 [==============================] - 0s 6ms/step - loss: 23.7669 - mse: 820.7438\n",
            "Epoch 316/500\n",
            "2/2 [==============================] - 0s 4ms/step - loss: 16.3937 - mse: 404.4796\n",
            "Epoch 317/500\n",
            "2/2 [==============================] - 0s 5ms/step - loss: 21.0758 - mse: 606.4604\n",
            "Epoch 318/500\n",
            "2/2 [==============================] - 0s 4ms/step - loss: 7.9367 - mse: 81.3765\n",
            "Epoch 319/500\n",
            "2/2 [==============================] - 0s 4ms/step - loss: 17.9731 - mse: 479.6092\n",
            "Epoch 320/500\n",
            "2/2 [==============================] - 0s 6ms/step - loss: 10.2375 - mse: 174.0454\n",
            "Epoch 321/500\n",
            "2/2 [==============================] - 0s 10ms/step - loss: 8.3338 - mse: 110.8493\n",
            "Epoch 322/500\n",
            "2/2 [==============================] - 0s 8ms/step - loss: 5.0621 - mse: 39.6195\n",
            "Epoch 323/500\n",
            "2/2 [==============================] - 0s 4ms/step - loss: 23.5109 - mse: 802.4891\n",
            "Epoch 324/500\n",
            "2/2 [==============================] - 0s 11ms/step - loss: 6.8309 - mse: 57.6746\n",
            "Epoch 325/500\n",
            "2/2 [==============================] - 0s 13ms/step - loss: 16.3863 - mse: 384.4404\n",
            "Epoch 326/500\n",
            "2/2 [==============================] - 0s 6ms/step - loss: 7.5019 - mse: 78.7650\n",
            "Epoch 327/500\n",
            "2/2 [==============================] - 0s 6ms/step - loss: 20.0573 - mse: 568.8239\n",
            "Epoch 328/500\n",
            "2/2 [==============================] - 0s 4ms/step - loss: 13.7661 - mse: 265.8646\n",
            "Epoch 329/500\n",
            "2/2 [==============================] - 0s 15ms/step - loss: 16.8282 - mse: 430.9923\n",
            "Epoch 330/500\n",
            "2/2 [==============================] - 0s 5ms/step - loss: 7.0514 - mse: 81.9922\n",
            "Epoch 331/500\n",
            "2/2 [==============================] - 0s 3ms/step - loss: 21.4846 - mse: 704.3917\n",
            "Epoch 332/500\n",
            "2/2 [==============================] - 0s 12ms/step - loss: 12.2880 - mse: 236.5700\n",
            "Epoch 333/500\n",
            "2/2 [==============================] - 0s 8ms/step - loss: 11.8117 - mse: 222.0919\n",
            "Epoch 334/500\n",
            "2/2 [==============================] - 0s 9ms/step - loss: 8.3600 - mse: 169.8893\n",
            "Epoch 335/500\n",
            "2/2 [==============================] - 0s 9ms/step - loss: 12.4833 - mse: 276.8587\n",
            "Epoch 336/500\n",
            "2/2 [==============================] - 0s 8ms/step - loss: 32.2171 - mse: 1416.1729\n",
            "Epoch 337/500\n",
            "2/2 [==============================] - 0s 4ms/step - loss: 10.4477 - mse: 180.3260\n",
            "Epoch 338/500\n",
            "2/2 [==============================] - 0s 5ms/step - loss: 19.6832 - mse: 573.4711\n",
            "Epoch 339/500\n",
            "2/2 [==============================] - 0s 5ms/step - loss: 35.0762 - mse: 1849.1539\n",
            "Epoch 340/500\n",
            "2/2 [==============================] - 0s 8ms/step - loss: 10.4192 - mse: 181.4144\n",
            "Epoch 341/500\n",
            "2/2 [==============================] - 0s 8ms/step - loss: 9.7625 - mse: 156.3229\n",
            "Epoch 342/500\n",
            "2/2 [==============================] - 0s 8ms/step - loss: 11.9500 - mse: 188.5579\n",
            "Epoch 343/500\n",
            "2/2 [==============================] - 0s 6ms/step - loss: 9.3943 - mse: 145.3949\n",
            "Epoch 344/500\n",
            "2/2 [==============================] - 0s 13ms/step - loss: 5.6071 - mse: 44.6760\n",
            "Epoch 345/500\n",
            "2/2 [==============================] - 0s 6ms/step - loss: 37.4876 - mse: 2291.7795\n",
            "Epoch 346/500\n",
            "2/2 [==============================] - 0s 14ms/step - loss: 16.8830 - mse: 411.1353\n",
            "Epoch 347/500\n",
            "2/2 [==============================] - 0s 17ms/step - loss: 12.8748 - mse: 281.5983\n",
            "Epoch 348/500\n",
            "2/2 [==============================] - 0s 4ms/step - loss: 8.1960 - mse: 162.6964\n",
            "Epoch 349/500\n",
            "2/2 [==============================] - 0s 5ms/step - loss: 13.5568 - mse: 261.1368\n",
            "Epoch 350/500\n",
            "2/2 [==============================] - 0s 6ms/step - loss: 15.4354 - mse: 333.2080\n",
            "Epoch 351/500\n",
            "2/2 [==============================] - 0s 6ms/step - loss: 32.9626 - mse: 1524.7932\n",
            "Epoch 352/500\n",
            "2/2 [==============================] - 0s 9ms/step - loss: 14.2040 - mse: 282.7506\n",
            "Epoch 353/500\n",
            "2/2 [==============================] - 0s 7ms/step - loss: 15.9196 - mse: 374.1915\n",
            "Epoch 354/500\n",
            "2/2 [==============================] - 0s 4ms/step - loss: 19.0878 - mse: 534.9771\n",
            "Epoch 355/500\n",
            "2/2 [==============================] - 0s 11ms/step - loss: 34.1178 - mse: 1782.7025\n",
            "Epoch 356/500\n",
            "2/2 [==============================] - 0s 14ms/step - loss: 7.6798 - mse: 90.9118\n",
            "Epoch 357/500\n",
            "2/2 [==============================] - 0s 10ms/step - loss: 25.2287 - mse: 974.0947\n",
            "Epoch 358/500\n",
            "2/2 [==============================] - 0s 4ms/step - loss: 22.6759 - mse: 742.0939\n",
            "Epoch 359/500\n",
            "2/2 [==============================] - 0s 5ms/step - loss: 8.8765 - mse: 198.2591\n",
            "Epoch 360/500\n",
            "2/2 [==============================] - 0s 6ms/step - loss: 21.4709 - mse: 687.3278\n",
            "Epoch 361/500\n",
            "2/2 [==============================] - 0s 5ms/step - loss: 20.6073 - mse: 616.7942\n",
            "Epoch 362/500\n",
            "2/2 [==============================] - 0s 5ms/step - loss: 7.0611 - mse: 69.3817\n",
            "Epoch 363/500\n",
            "2/2 [==============================] - 0s 6ms/step - loss: 25.8117 - mse: 994.8185\n",
            "Epoch 364/500\n",
            "2/2 [==============================] - 0s 13ms/step - loss: 32.2247 - mse: 1527.6050\n",
            "Epoch 365/500\n",
            "2/2 [==============================] - 0s 4ms/step - loss: 10.0204 - mse: 161.6848\n",
            "Epoch 366/500\n",
            "2/2 [==============================] - 0s 5ms/step - loss: 9.6722 - mse: 227.5722\n",
            "Epoch 367/500\n",
            "2/2 [==============================] - 0s 4ms/step - loss: 30.4171 - mse: 1294.6047\n",
            "Epoch 368/500\n",
            "2/2 [==============================] - 0s 9ms/step - loss: 10.5020 - mse: 236.3134\n",
            "Epoch 369/500\n",
            "2/2 [==============================] - 0s 4ms/step - loss: 14.9909 - mse: 330.8544\n",
            "Epoch 370/500\n",
            "2/2 [==============================] - 0s 5ms/step - loss: 14.6580 - mse: 308.0736\n",
            "Epoch 371/500\n",
            "2/2 [==============================] - 0s 17ms/step - loss: 23.3672 - mse: 789.0358\n",
            "Epoch 372/500\n",
            "2/2 [==============================] - 0s 11ms/step - loss: 13.1025 - mse: 290.2268\n",
            "Epoch 373/500\n",
            "2/2 [==============================] - 0s 7ms/step - loss: 9.2586 - mse: 140.7053\n",
            "Epoch 374/500\n",
            "2/2 [==============================] - 0s 11ms/step - loss: 9.6648 - mse: 194.1147\n",
            "Epoch 375/500\n",
            "2/2 [==============================] - 0s 7ms/step - loss: 13.0041 - mse: 237.9867\n",
            "Epoch 376/500\n",
            "2/2 [==============================] - 0s 4ms/step - loss: 14.8863 - mse: 324.7536\n",
            "Epoch 377/500\n",
            "2/2 [==============================] - 0s 4ms/step - loss: 14.7932 - mse: 297.2056\n",
            "Epoch 378/500\n",
            "2/2 [==============================] - 0s 4ms/step - loss: 16.2751 - mse: 418.5632\n",
            "Epoch 379/500\n",
            "2/2 [==============================] - 0s 12ms/step - loss: 20.8307 - mse: 596.8133\n",
            "Epoch 380/500\n",
            "2/2 [==============================] - 0s 7ms/step - loss: 33.5317 - mse: 1684.8943\n",
            "Epoch 381/500\n",
            "2/2 [==============================] - 0s 6ms/step - loss: 8.2166 - mse: 100.6385\n",
            "Epoch 382/500\n",
            "2/2 [==============================] - 0s 14ms/step - loss: 13.0960 - mse: 282.0384\n",
            "Epoch 383/500\n",
            "2/2 [==============================] - 0s 10ms/step - loss: 8.3999 - mse: 126.0928\n",
            "Epoch 384/500\n",
            "2/2 [==============================] - 0s 8ms/step - loss: 7.1283 - mse: 72.4399\n",
            "Epoch 385/500\n",
            "2/2 [==============================] - 0s 5ms/step - loss: 10.9390 - mse: 249.4376\n",
            "Epoch 386/500\n",
            "2/2 [==============================] - 0s 3ms/step - loss: 19.7654 - mse: 601.5795\n",
            "Epoch 387/500\n",
            "2/2 [==============================] - 0s 4ms/step - loss: 24.8625 - mse: 896.3691\n",
            "Epoch 388/500\n",
            "2/2 [==============================] - 0s 4ms/step - loss: 8.7422 - mse: 128.0917\n",
            "Epoch 389/500\n",
            "2/2 [==============================] - 0s 7ms/step - loss: 5.9488 - mse: 48.1568\n",
            "Epoch 390/500\n",
            "2/2 [==============================] - 0s 12ms/step - loss: 24.4400 - mse: 881.1037\n",
            "Epoch 391/500\n",
            "2/2 [==============================] - 0s 5ms/step - loss: 5.9771 - mse: 73.2800\n",
            "Epoch 392/500\n",
            "2/2 [==============================] - 0s 7ms/step - loss: 16.3250 - mse: 379.2592\n",
            "Epoch 393/500\n",
            "2/2 [==============================] - 0s 7ms/step - loss: 6.0917 - mse: 76.7833\n",
            "Epoch 394/500\n",
            "2/2 [==============================] - 0s 4ms/step - loss: 11.0963 - mse: 204.7650\n",
            "Epoch 395/500\n",
            "2/2 [==============================] - 0s 6ms/step - loss: 14.9601 - mse: 336.1563\n",
            "Epoch 396/500\n",
            "2/2 [==============================] - 0s 14ms/step - loss: 7.6462 - mse: 103.3247\n",
            "Epoch 397/500\n",
            "2/2 [==============================] - 0s 15ms/step - loss: 8.7654 - mse: 136.5433\n",
            "Epoch 398/500\n",
            "2/2 [==============================] - 0s 7ms/step - loss: 14.5991 - mse: 320.4537\n",
            "Epoch 399/500\n",
            "2/2 [==============================] - 0s 5ms/step - loss: 11.3166 - mse: 280.6889\n",
            "Epoch 400/500\n",
            "2/2 [==============================] - 0s 7ms/step - loss: 21.9080 - mse: 741.3461\n",
            "Epoch 401/500\n",
            "2/2 [==============================] - 0s 5ms/step - loss: 14.8653 - mse: 348.6721\n",
            "Epoch 402/500\n",
            "2/2 [==============================] - 0s 9ms/step - loss: 8.4970 - mse: 115.5853\n",
            "Epoch 403/500\n",
            "2/2 [==============================] - 0s 10ms/step - loss: 10.3957 - mse: 191.0402\n",
            "Epoch 404/500\n",
            "2/2 [==============================] - 0s 5ms/step - loss: 10.2556 - mse: 207.5718\n",
            "Epoch 405/500\n",
            "2/2 [==============================] - 0s 4ms/step - loss: 6.3392 - mse: 68.2857\n",
            "Epoch 406/500\n",
            "2/2 [==============================] - 0s 6ms/step - loss: 17.4602 - mse: 460.2048\n",
            "Epoch 407/500\n",
            "2/2 [==============================] - 0s 10ms/step - loss: 11.4627 - mse: 284.7277\n",
            "Epoch 408/500\n",
            "2/2 [==============================] - 0s 8ms/step - loss: 20.7294 - mse: 662.1500\n",
            "Epoch 409/500\n",
            "2/2 [==============================] - 0s 10ms/step - loss: 31.3338 - mse: 1522.7683\n",
            "Epoch 410/500\n",
            "2/2 [==============================] - 0s 17ms/step - loss: 9.2542 - mse: 221.9487\n",
            "Epoch 411/500\n",
            "2/2 [==============================] - 0s 7ms/step - loss: 14.8621 - mse: 285.8415\n",
            "Epoch 412/500\n",
            "2/2 [==============================] - 0s 11ms/step - loss: 21.7182 - mse: 721.0389\n",
            "Epoch 413/500\n",
            "2/2 [==============================] - 0s 12ms/step - loss: 12.6615 - mse: 248.9694\n",
            "Epoch 414/500\n",
            "2/2 [==============================] - 0s 10ms/step - loss: 6.0687 - mse: 88.3708\n",
            "Epoch 415/500\n",
            "2/2 [==============================] - 0s 9ms/step - loss: 13.2201 - mse: 239.8954\n",
            "Epoch 416/500\n",
            "2/2 [==============================] - 0s 4ms/step - loss: 27.4244 - mse: 1037.9579\n",
            "Epoch 417/500\n",
            "2/2 [==============================] - 0s 7ms/step - loss: 10.6407 - mse: 207.4821\n",
            "Epoch 418/500\n",
            "2/2 [==============================] - 0s 13ms/step - loss: 12.8230 - mse: 236.7907\n",
            "Epoch 419/500\n",
            "2/2 [==============================] - 0s 4ms/step - loss: 15.8836 - mse: 374.5482\n",
            "Epoch 420/500\n",
            "2/2 [==============================] - 0s 14ms/step - loss: 24.7510 - mse: 849.5329\n",
            "Epoch 421/500\n",
            "2/2 [==============================] - 0s 13ms/step - loss: 17.3753 - mse: 444.1830\n",
            "Epoch 422/500\n",
            "2/2 [==============================] - 0s 7ms/step - loss: 7.8241 - mse: 157.5328\n",
            "Epoch 423/500\n",
            "2/2 [==============================] - 0s 3ms/step - loss: 25.3789 - mse: 907.6139\n",
            "Epoch 424/500\n",
            "2/2 [==============================] - 0s 10ms/step - loss: 15.1031 - mse: 369.3289\n",
            "Epoch 425/500\n",
            "2/2 [==============================] - 0s 22ms/step - loss: 7.1643 - mse: 75.3718\n",
            "Epoch 426/500\n",
            "2/2 [==============================] - 0s 19ms/step - loss: 20.3318 - mse: 572.0355\n",
            "Epoch 427/500\n",
            "2/2 [==============================] - 0s 8ms/step - loss: 6.3283 - mse: 84.9745\n",
            "Epoch 428/500\n",
            "2/2 [==============================] - 0s 16ms/step - loss: 12.9961 - mse: 288.4218\n",
            "Epoch 429/500\n",
            "2/2 [==============================] - 0s 5ms/step - loss: 10.7869 - mse: 192.7742\n",
            "Epoch 430/500\n",
            "2/2 [==============================] - 0s 8ms/step - loss: 11.4007 - mse: 248.2724\n",
            "Epoch 431/500\n",
            "2/2 [==============================] - 0s 12ms/step - loss: 10.6152 - mse: 218.3398\n",
            "Epoch 432/500\n",
            "2/2 [==============================] - 0s 5ms/step - loss: 11.4582 - mse: 239.2198\n",
            "Epoch 433/500\n",
            "2/2 [==============================] - 0s 10ms/step - loss: 11.3851 - mse: 296.6783\n",
            "Epoch 434/500\n",
            "2/2 [==============================] - 0s 5ms/step - loss: 30.3986 - mse: 1296.5632\n",
            "Epoch 435/500\n",
            "2/2 [==============================] - 0s 5ms/step - loss: 10.5052 - mse: 283.6812\n",
            "Epoch 436/500\n",
            "2/2 [==============================] - 0s 4ms/step - loss: 28.8810 - mse: 1216.2336\n",
            "Epoch 437/500\n",
            "2/2 [==============================] - 0s 4ms/step - loss: 8.5916 - mse: 209.5433\n",
            "Epoch 438/500\n",
            "2/2 [==============================] - 0s 8ms/step - loss: 12.7378 - mse: 264.4510\n",
            "Epoch 439/500\n",
            "2/2 [==============================] - 0s 7ms/step - loss: 33.6754 - mse: 1570.2361\n",
            "Epoch 440/500\n",
            "2/2 [==============================] - 0s 4ms/step - loss: 15.0963 - mse: 294.7132\n",
            "Epoch 441/500\n",
            "2/2 [==============================] - 0s 18ms/step - loss: 17.4813 - mse: 487.0573\n",
            "Epoch 442/500\n",
            "2/2 [==============================] - 0s 9ms/step - loss: 22.3049 - mse: 750.9305\n",
            "Epoch 443/500\n",
            "2/2 [==============================] - 0s 8ms/step - loss: 23.5841 - mse: 784.1378\n",
            "Epoch 444/500\n",
            "2/2 [==============================] - 0s 7ms/step - loss: 11.0008 - mse: 203.7582\n",
            "Epoch 445/500\n",
            "2/2 [==============================] - 0s 8ms/step - loss: 14.9175 - mse: 316.4790\n",
            "Epoch 446/500\n",
            "2/2 [==============================] - 0s 8ms/step - loss: 17.9979 - mse: 515.1712\n",
            "Epoch 447/500\n",
            "2/2 [==============================] - 0s 8ms/step - loss: 5.4482 - mse: 51.4485\n",
            "Epoch 448/500\n",
            "2/2 [==============================] - 0s 8ms/step - loss: 10.0527 - mse: 253.4828\n",
            "Epoch 449/500\n",
            "2/2 [==============================] - 0s 8ms/step - loss: 14.0052 - mse: 277.3353\n",
            "Epoch 450/500\n",
            "2/2 [==============================] - 0s 8ms/step - loss: 16.7782 - mse: 424.4229\n",
            "Epoch 451/500\n",
            "2/2 [==============================] - 0s 4ms/step - loss: 14.2937 - mse: 303.4478\n",
            "Epoch 452/500\n",
            "2/2 [==============================] - 0s 7ms/step - loss: 30.6193 - mse: 1329.8268\n",
            "Epoch 453/500\n",
            "2/2 [==============================] - 0s 7ms/step - loss: 7.6541 - mse: 159.0376\n",
            "Epoch 454/500\n",
            "2/2 [==============================] - 0s 4ms/step - loss: 28.1428 - mse: 1104.4142\n",
            "Epoch 455/500\n",
            "2/2 [==============================] - 0s 5ms/step - loss: 8.0017 - mse: 119.3274\n",
            "Epoch 456/500\n",
            "2/2 [==============================] - 0s 18ms/step - loss: 10.3933 - mse: 289.6392\n",
            "Epoch 457/500\n",
            "2/2 [==============================] - 0s 4ms/step - loss: 15.0242 - mse: 318.3535\n",
            "Epoch 458/500\n",
            "2/2 [==============================] - 0s 4ms/step - loss: 16.5653 - mse: 439.8007\n",
            "Epoch 459/500\n",
            "2/2 [==============================] - 0s 4ms/step - loss: 26.8566 - mse: 1033.5485\n",
            "Epoch 460/500\n",
            "2/2 [==============================] - 0s 4ms/step - loss: 12.4852 - mse: 251.1162\n",
            "Epoch 461/500\n",
            "2/2 [==============================] - 0s 4ms/step - loss: 12.4784 - mse: 272.9071\n",
            "Epoch 462/500\n",
            "2/2 [==============================] - 0s 4ms/step - loss: 13.3186 - mse: 245.2335\n",
            "Epoch 463/500\n",
            "2/2 [==============================] - 0s 4ms/step - loss: 29.5524 - mse: 1219.8660\n",
            "Epoch 464/500\n",
            "2/2 [==============================] - 0s 4ms/step - loss: 3.4664 - mse: 22.0145\n",
            "Epoch 465/500\n",
            "2/2 [==============================] - 0s 6ms/step - loss: 15.2136 - mse: 352.9369\n",
            "Epoch 466/500\n",
            "2/2 [==============================] - 0s 6ms/step - loss: 20.8327 - mse: 651.1593\n",
            "Epoch 467/500\n",
            "2/2 [==============================] - 0s 7ms/step - loss: 30.5108 - mse: 1421.0009\n",
            "Epoch 468/500\n",
            "2/2 [==============================] - 0s 7ms/step - loss: 11.0597 - mse: 236.2266\n",
            "Epoch 469/500\n",
            "2/2 [==============================] - 0s 9ms/step - loss: 12.8372 - mse: 278.2045\n",
            "Epoch 470/500\n",
            "2/2 [==============================] - 0s 4ms/step - loss: 3.2398 - mse: 14.0655\n",
            "Epoch 471/500\n",
            "2/2 [==============================] - 0s 4ms/step - loss: 16.6964 - mse: 372.9566\n",
            "Epoch 472/500\n",
            "2/2 [==============================] - 0s 3ms/step - loss: 13.3883 - mse: 253.4232\n",
            "Epoch 473/500\n",
            "2/2 [==============================] - 0s 4ms/step - loss: 15.2771 - mse: 396.6107\n",
            "Epoch 474/500\n",
            "2/2 [==============================] - 0s 4ms/step - loss: 11.7448 - mse: 305.3250\n",
            "Epoch 475/500\n",
            "2/2 [==============================] - 0s 5ms/step - loss: 16.4113 - mse: 397.1613\n",
            "Epoch 476/500\n",
            "2/2 [==============================] - 0s 4ms/step - loss: 13.8785 - mse: 273.7976\n",
            "Epoch 477/500\n",
            "2/2 [==============================] - 0s 9ms/step - loss: 30.6702 - mse: 1309.4625\n",
            "Epoch 478/500\n",
            "2/2 [==============================] - 0s 10ms/step - loss: 8.5880 - mse: 188.9073\n",
            "Epoch 479/500\n",
            "2/2 [==============================] - 0s 7ms/step - loss: 10.7384 - mse: 261.5203\n",
            "Epoch 480/500\n",
            "2/2 [==============================] - 0s 4ms/step - loss: 17.9051 - mse: 484.4154\n",
            "Epoch 481/500\n",
            "2/2 [==============================] - 0s 4ms/step - loss: 15.8095 - mse: 368.1044\n",
            "Epoch 482/500\n",
            "2/2 [==============================] - 0s 5ms/step - loss: 21.3054 - mse: 698.1634\n",
            "Epoch 483/500\n",
            "2/2 [==============================] - 0s 4ms/step - loss: 25.3845 - mse: 955.1250\n",
            "Epoch 484/500\n",
            "2/2 [==============================] - 0s 4ms/step - loss: 23.9815 - mse: 811.2782\n",
            "Epoch 485/500\n",
            "2/2 [==============================] - 0s 6ms/step - loss: 5.7734 - mse: 53.7612\n",
            "Epoch 486/500\n",
            "2/2 [==============================] - 0s 8ms/step - loss: 20.0010 - mse: 565.2876\n",
            "Epoch 487/500\n",
            "2/2 [==============================] - 0s 14ms/step - loss: 14.0419 - mse: 286.2684\n",
            "Epoch 488/500\n",
            "2/2 [==============================] - 0s 3ms/step - loss: 30.6088 - mse: 1334.5730\n",
            "Epoch 489/500\n",
            "2/2 [==============================] - 0s 11ms/step - loss: 11.9409 - mse: 237.4729\n",
            "Epoch 490/500\n",
            "2/2 [==============================] - 0s 21ms/step - loss: 12.7352 - mse: 252.5674\n",
            "Epoch 491/500\n",
            "2/2 [==============================] - 0s 14ms/step - loss: 23.6139 - mse: 837.7737\n",
            "Epoch 492/500\n",
            "2/2 [==============================] - 0s 10ms/step - loss: 20.5365 - mse: 592.2181\n",
            "Epoch 493/500\n",
            "2/2 [==============================] - 0s 7ms/step - loss: 4.9942 - mse: 48.0282\n",
            "Epoch 494/500\n",
            "2/2 [==============================] - 0s 9ms/step - loss: 12.7986 - mse: 247.7645\n",
            "Epoch 495/500\n",
            "2/2 [==============================] - 0s 3ms/step - loss: 13.3772 - mse: 239.0901\n",
            "Epoch 496/500\n",
            "2/2 [==============================] - 0s 10ms/step - loss: 12.6727 - mse: 241.5636\n",
            "Epoch 497/500\n",
            "2/2 [==============================] - 0s 6ms/step - loss: 17.6192 - mse: 515.3860\n",
            "Epoch 498/500\n",
            "2/2 [==============================] - 0s 6ms/step - loss: 23.5629 - mse: 816.5500\n",
            "Epoch 499/500\n",
            "2/2 [==============================] - 0s 6ms/step - loss: 9.3755 - mse: 136.1007\n",
            "Epoch 500/500\n",
            "2/2 [==============================] - 0s 5ms/step - loss: 14.6316 - mse: 295.2644\n"
          ],
          "name": "stdout"
        },
        {
          "output_type": "execute_result",
          "data": {
            "text/plain": [
              "<tensorflow.python.keras.callbacks.History at 0x7f790880b790>"
            ]
          },
          "metadata": {
            "tags": []
          },
          "execution_count": 52
        }
      ]
    },
    {
      "cell_type": "code",
      "metadata": {
        "colab": {
          "base_uri": "https://localhost:8080/",
          "height": 428
        },
        "id": "5jMCuuM2R0Fv",
        "outputId": "09abba05-48f4-4b5b-92f7-cec7ef6de6b4"
      },
      "source": [
        "# Make and plot predictiosn for Model_3\n",
        "y_preds_3 = model_3.predict(X_test)\n",
        "plot_predictions(predictions=y_preds_3)"
      ],
      "execution_count": 53,
      "outputs": [
        {
          "output_type": "display_data",
          "data": {
            "image/png": "[encoded data removed]",
            "text/plain": [
              "<Figure size 720x504 with 1 Axes>"
            ]
          },
          "metadata": {
            "tags": [],
            "needs_background": "light"
          }
        }
      ]
    },
    {
      "cell_type": "code",
      "metadata": {
        "colab": {
          "base_uri": "https://localhost:8080/"
        },
        "id": "64UJ22XgSLfB",
        "outputId": "890aacc6-ece1-4c26-b8aa-3f1e9b364e53"
      },
      "source": [
        "# Calculate the Model_3 evaluation metrics\n",
        "mae_3 = mae(y_test, y_preds_3)\n",
        "mse_3 = mse(y_test, y_preds_3)\n",
        "mae_3, mse_3"
      ],
      "execution_count": 54,
      "outputs": [
        {
          "output_type": "execute_result",
          "data": {
            "text/plain": [
              "(<tf.Tensor: shape=(), dtype=float32, numpy=68.713615>,\n",
              " <tf.Tensor: shape=(), dtype=float32, numpy=4808.0273>)"
            ]
          },
          "metadata": {
            "tags": []
          },
          "execution_count": 54
        }
      ]
    },
    {
      "cell_type": "markdown",
      "metadata": {
        "id": "PlQwQb8-Sp1v"
      },
      "source": [
        "### Comparing the results of our experiments\n",
        "\n",
        "We've run some experiments, now let's compare the results"
      ]
    },
    {
      "cell_type": "code",
      "metadata": {
        "colab": {
          "base_uri": "https://localhost:8080/",
          "height": 142
        },
        "id": "l93-hcKrUJf2",
        "outputId": "93e998c0-dac0-4e27-f28d-54ea4f712ae1"
      },
      "source": [
        "# Let's compare our models results using a pandas DataFrame\n",
        "import pandas as pd\n",
        "\n",
        "model_results = [[\"Model_1\", mae_1.numpy(), mse_1.numpy()],\n",
        "                 [\"Model_2\", mae_2.numpy(), mse_2.numpy()],\n",
        "                 [\"Model_3\", mae_3.numpy(), mse_3.numpy()]]\n",
        "\n",
        "all_results = pd.DataFrame(model_results, columns=[\"Model\", \"MAE\", \"MSE\"])\n",
        "all_results"
      ],
      "execution_count": 55,
      "outputs": [
        {
          "output_type": "execute_result",
          "data": {
            "text/html": [
              "<div>\n",
              "<style scoped>\n",
              "    .dataframe tbody tr th:only-of-type {\n",
              "        vertical-align: middle;\n",
              "    }\n",
              "\n",
              "    .dataframe tbody tr th {\n",
              "        vertical-align: top;\n",
              "    }\n",
              "\n",
              "    .dataframe thead th {\n",
              "        text-align: right;\n",
              "    }\n",
              "</style>\n",
              "<table border=\"1\" class=\"dataframe\">\n",
              "  <thead>\n",
              "    <tr style=\"text-align: right;\">\n",
              "      <th></th>\n",
              "      <th>Model</th>\n",
              "      <th>MAE</th>\n",
              "      <th>MSE</th>\n",
              "    </tr>\n",
              "  </thead>\n",
              "  <tbody>\n",
              "    <tr>\n",
              "      <th>0</th>\n",
              "      <td>Model_1</td>\n",
              "      <td>18.745327</td>\n",
              "      <td>353.573364</td>\n",
              "    </tr>\n",
              "    <tr>\n",
              "      <th>1</th>\n",
              "      <td>Model_2</td>\n",
              "      <td>3.196941</td>\n",
              "      <td>13.070143</td>\n",
              "    </tr>\n",
              "    <tr>\n",
              "      <th>2</th>\n",
              "      <td>Model_3</td>\n",
              "      <td>68.713615</td>\n",
              "      <td>4808.027344</td>\n",
              "    </tr>\n",
              "  </tbody>\n",
              "</table>\n",
              "</div>"
            ],
            "text/plain": [
              "     Model        MAE          MSE\n",
              "0  Model_1  18.745327   353.573364\n",
              "1  Model_2   3.196941    13.070143\n",
              "2  Model_3  68.713615  4808.027344"
            ]
          },
          "metadata": {
            "tags": []
          },
          "execution_count": 55
        }
      ]
    },
    {
      "cell_type": "markdown",
      "metadata": {
        "id": "obaNtexXXSzR"
      },
      "source": [
        "## Tracking your experiments\n",
        "\n",
        "One really good habit in machine learning modelling is to track the results of your experiments.\n",
        "\n",
        "Luckily there are tools to help!\n",
        "\n",
        "* **TensorBoard** - a component of the TensorFlow library to help track modelling experiments.\n",
        "* **Weights & Biases** - a tool for tracking all kinds of machine learning experiments (plugs straight into TensorBoard)."
      ]
    },
    {
      "cell_type": "markdown",
      "metadata": {
        "id": "QSRW375eVrRA"
      },
      "source": [
        "## Saving our models\n",
        "\n",
        "Saving our models allows us to use them outside of google colab (or wherever they were trained) such as in a web or mobile application.\n",
        "\n",
        "There are 2 main formats we can save our models too:\n",
        "\n",
        "1. The SavedModel format.\n",
        "2. The HDF5 format."
      ]
    },
    {
      "cell_type": "code",
      "metadata": {
        "id": "c_2ZaRaiXGsW",
        "colab": {
          "base_uri": "https://localhost:8080/"
        },
        "outputId": "ed6cfc85-e422-4179-fbb3-9c8dc3e279fb"
      },
      "source": [
        "# Save model using the SavedModel fornat\n",
        "model_2.save(\"best_model_SavedModel_format\")"
      ],
      "execution_count": 56,
      "outputs": [
        {
          "output_type": "stream",
          "text": [
            "INFO:tensorflow:Assets written to: best_model_SavedModel_format/assets\n"
          ],
          "name": "stdout"
        }
      ]
    },
    {
      "cell_type": "code",
      "metadata": {
        "id": "5l4U-721FHLD"
      },
      "source": [
        "# Save model using the HDF5 format\n",
        "model_2.save(\"best_model_HDF5_format.h5\")"
      ],
      "execution_count": 57,
      "outputs": []
    },
    {
      "cell_type": "markdown",
      "metadata": {
        "id": "btY9vxRgFwXu"
      },
      "source": [
        "## Loading in a saved model"
      ]
    },
    {
      "cell_type": "code",
      "metadata": {
        "colab": {
          "base_uri": "https://localhost:8080/"
        },
        "id": "9N-UyCi-GNv4",
        "outputId": "12137ea4-477f-4c42-e40d-0b2eff86de97"
      },
      "source": [
        "# Load in the SavedModel format\n",
        "loaded_SavedModel_format = tf.keras.models.load_model(\"best_model_SavedModel_format\")\n",
        "loaded_SavedModel_format.summary()"
      ],
      "execution_count": 58,
      "outputs": [
        {
          "output_type": "stream",
          "text": [
            "Model: \"sequential_5\"\n",
            "_________________________________________________________________\n",
            "Layer (type)                 Output Shape              Param #   \n",
            "=================================================================\n",
            "dense_6 (Dense)              (None, 10)                20        \n",
            "_________________________________________________________________\n",
            "dense_7 (Dense)              (None, 1)                 11        \n",
            "=================================================================\n",
            "Total params: 31\n",
            "Trainable params: 31\n",
            "Non-trainable params: 0\n",
            "_________________________________________________________________\n"
          ],
          "name": "stdout"
        }
      ]
    },
    {
      "cell_type": "code",
      "metadata": {
        "colab": {
          "base_uri": "https://localhost:8080/"
        },
        "id": "xKZh_2AdG390",
        "outputId": "76e7d1c2-a482-4903-82b5-ed3819a530b4"
      },
      "source": [
        "model_2.summary()"
      ],
      "execution_count": 59,
      "outputs": [
        {
          "output_type": "stream",
          "text": [
            "Model: \"sequential_5\"\n",
            "_________________________________________________________________\n",
            "Layer (type)                 Output Shape              Param #   \n",
            "=================================================================\n",
            "dense_6 (Dense)              (None, 10)                20        \n",
            "_________________________________________________________________\n",
            "dense_7 (Dense)              (None, 1)                 11        \n",
            "=================================================================\n",
            "Total params: 31\n",
            "Trainable params: 31\n",
            "Non-trainable params: 0\n",
            "_________________________________________________________________\n"
          ],
          "name": "stdout"
        }
      ]
    },
    {
      "cell_type": "code",
      "metadata": {
        "colab": {
          "base_uri": "https://localhost:8080/"
        },
        "id": "BjSU31fcG7sI",
        "outputId": "948425ad-a60a-482e-d864-6ee6bd608bfd"
      },
      "source": [
        "# Compare model_2 predictions with SavedModel format predictions\n",
        "model_2_preds = model_2.predict(X_test)\n",
        "loaded_SavedModel_format_preds = loaded_SavedModel_format.predict(X_test)\n",
        "model_2_preds == loaded_SavedModel_format_preds"
      ],
      "execution_count": 60,
      "outputs": [
        {
          "output_type": "execute_result",
          "data": {
            "text/plain": [
              "array([[ True],\n",
              "       [ True],\n",
              "       [ True],\n",
              "       [ True],\n",
              "       [ True],\n",
              "       [ True],\n",
              "       [ True],\n",
              "       [ True],\n",
              "       [ True],\n",
              "       [ True]])"
            ]
          },
          "metadata": {
            "tags": []
          },
          "execution_count": 60
        }
      ]
    },
    {
      "cell_type": "code",
      "metadata": {
        "colab": {
          "base_uri": "https://localhost:8080/"
        },
        "id": "LgVNyKirKISC",
        "outputId": "96f5befc-4563-4af3-efba-4f31fe04297f"
      },
      "source": [
        "# Compare the MAE of model_2_preds and loaded_SavedModel_preds\n",
        "mae(y_true=y_test, y_pred=model_2_preds) == mae(y_true=y_test, y_pred=loaded_SavedModel_format_preds)"
      ],
      "execution_count": 61,
      "outputs": [
        {
          "output_type": "execute_result",
          "data": {
            "text/plain": [
              "<tf.Tensor: shape=(), dtype=bool, numpy=True>"
            ]
          },
          "metadata": {
            "tags": []
          },
          "execution_count": 61
        }
      ]
    },
    {
      "cell_type": "code",
      "metadata": {
        "colab": {
          "base_uri": "https://localhost:8080/"
        },
        "id": "zjkgv8qmHrDc",
        "outputId": "b278cac2-cd64-4450-8a42-5b7a452c911e"
      },
      "source": [
        "# Load in the HDF5 format model\n",
        "loaded_h5_model = tf.keras.models.load_model(\"best_model_HDF5_format.h5\")\n",
        "loaded_h5_model.summary()"
      ],
      "execution_count": 62,
      "outputs": [
        {
          "output_type": "stream",
          "text": [
            "Model: \"sequential_5\"\n",
            "_________________________________________________________________\n",
            "Layer (type)                 Output Shape              Param #   \n",
            "=================================================================\n",
            "dense_6 (Dense)              (None, 10)                20        \n",
            "_________________________________________________________________\n",
            "dense_7 (Dense)              (None, 1)                 11        \n",
            "=================================================================\n",
            "Total params: 31\n",
            "Trainable params: 31\n",
            "Non-trainable params: 0\n",
            "_________________________________________________________________\n"
          ],
          "name": "stdout"
        }
      ]
    },
    {
      "cell_type": "code",
      "metadata": {
        "colab": {
          "base_uri": "https://localhost:8080/"
        },
        "id": "lExCUOMQIzXU",
        "outputId": "71a01975-febb-49e5-885c-4f334a7801ea"
      },
      "source": [
        "# Compare the model_2 predictions with the HDF5 format predictions\n",
        "model_2_preds = model_2.predict(X_test)\n",
        "loaded_h5_model_preds = loaded_h5_model.predict(X_test)\n",
        "model_2_preds == loaded_h5_model_preds"
      ],
      "execution_count": 63,
      "outputs": [
        {
          "output_type": "execute_result",
          "data": {
            "text/plain": [
              "array([[ True],\n",
              "       [ True],\n",
              "       [ True],\n",
              "       [ True],\n",
              "       [ True],\n",
              "       [ True],\n",
              "       [ True],\n",
              "       [ True],\n",
              "       [ True],\n",
              "       [ True]])"
            ]
          },
          "metadata": {
            "tags": []
          },
          "execution_count": 63
        }
      ]
    },
    {
      "cell_type": "markdown",
      "metadata": {
        "id": "uTPTYNzIJ5PG"
      },
      "source": [
        "## Download a model (or any other file) from Google Colab\n",
        "\n",
        "If you want to download your files from Google Colab:\n",
        "1. You can go to the \"files\" tab and right click on the file you're after and click \"Download\".\n",
        "2. Use code (see the cell below).\n",
        "3. Save it to Google Drive by connecting Google Drive and copying it there (see 2nd code cell below)."
      ]
    },
    {
      "cell_type": "code",
      "metadata": {
        "colab": {
          "base_uri": "https://localhost:8080/",
          "height": 17
        },
        "id": "73HreV0QLvxa",
        "outputId": "42d3c665-a5f4-4753-cc3b-f9c6914dea36"
      },
      "source": [
        "# Download a file from Google Colab\n",
        "from google.colab import files\n",
        "files.download(\"/content/best_model_HDF5_format.h5\")"
      ],
      "execution_count": 64,
      "outputs": [
        {
          "output_type": "display_data",
          "data": {
            "application/javascript": [
              "\n",
              "    async function download(id, filename, size) {\n",
              "      if (!google.colab.kernel.accessAllowed) {\n",
              "        return;\n",
              "      }\n",
              "      const div = document.createElement('div');\n",
              "      const label = document.createElement('label');\n",
              "      label.textContent = `Downloading \"${filename}\": `;\n",
              "      div.appendChild(label);\n",
              "      const progress = document.createElement('progress');\n",
              "      progress.max = size;\n",
              "      div.appendChild(progress);\n",
              "      document.body.appendChild(div);\n",
              "\n",
              "      const buffers = [];\n",
              "      let downloaded = 0;\n",
              "\n",
              "      const channel = await google.colab.kernel.comms.open(id);\n",
              "      // Send a message to notify the kernel that we're ready.\n",
              "      channel.send({})\n",
              "\n",
              "      for await (const message of channel.messages) {\n",
              "        // Send a message to notify the kernel that we're ready.\n",
              "        channel.send({})\n",
              "        if (message.buffers) {\n",
              "          for (const buffer of message.buffers) {\n",
              "            buffers.push(buffer);\n",
              "            downloaded += buffer.byteLength;\n",
              "            progress.value = downloaded;\n",
              "          }\n",
              "        }\n",
              "      }\n",
              "      const blob = new Blob(buffers, {type: 'application/binary'});\n",
              "      const a = document.createElement('a');\n",
              "      a.href = window.URL.createObjectURL(blob);\n",
              "      a.download = filename;\n",
              "      div.appendChild(a);\n",
              "      a.click();\n",
              "      div.remove();\n",
              "    }\n",
              "  "
            ],
            "text/plain": [
              "<IPython.core.display.Javascript object>"
            ]
          },
          "metadata": {
            "tags": []
          }
        },
        {
          "output_type": "display_data",
          "data": {
            "application/javascript": [
              "download(\"download_fc5e0d29-cdec-46f4-bb10-a6d8b3ccdcbb\", \"best_model_HDF5_format.h5\", 17040)"
            ],
            "text/plain": [
              "<IPython.core.display.Javascript object>"
            ]
          },
          "metadata": {
            "tags": []
          }
        }
      ]
    },
    {
      "cell_type": "code",
      "metadata": {
        "id": "ZR1f4_HgMIVR"
      },
      "source": [
        "# Save a file from Google Colab to Google Drive (requires mounting Google Drive, click drive icon in the files tab on the left)\n",
        "!cp best_model_HDF5_format.h5 \"/content/drive/MyDrive/Colab Notebooks\""
      ],
      "execution_count": 65,
      "outputs": []
    },
    {
      "cell_type": "markdown",
      "metadata": {
        "id": "lF-thbQyNVHM"
      },
      "source": [
        "# A larger example"
      ]
    },
    {
      "cell_type": "code",
      "metadata": {
        "id": "tpFrVNVZOiuO"
      },
      "source": [
        "# Import required libraries\n",
        "import tensorflow as tf\n",
        "import pandas as pd\n",
        "import matplotlib.pyplot as plt"
      ],
      "execution_count": 66,
      "outputs": []
    },
    {
      "cell_type": "code",
      "metadata": {
        "colab": {
          "base_uri": "https://localhost:8080/",
          "height": 419
        },
        "id": "Yw5yD94FR2v_",
        "outputId": "46defb21-eb34-4895-ee01-87fd0b55f2bf"
      },
      "source": [
        "# Read in the insurance dataset\n",
        "insurance = pd.read_csv(\"https://raw.githubusercontent.com/stedy/Machine-Learning-with-R-datasets/master/insurance.csv\")\n",
        "insurance"
      ],
      "execution_count": 67,
      "outputs": [
        {
          "output_type": "execute_result",
          "data": {
            "text/html": [
              "<div>\n",
              "<style scoped>\n",
              "    .dataframe tbody tr th:only-of-type {\n",
              "        vertical-align: middle;\n",
              "    }\n",
              "\n",
              "    .dataframe tbody tr th {\n",
              "        vertical-align: top;\n",
              "    }\n",
              "\n",
              "    .dataframe thead th {\n",
              "        text-align: right;\n",
              "    }\n",
              "</style>\n",
              "<table border=\"1\" class=\"dataframe\">\n",
              "  <thead>\n",
              "    <tr style=\"text-align: right;\">\n",
              "      <th></th>\n",
              "      <th>age</th>\n",
              "      <th>sex</th>\n",
              "      <th>bmi</th>\n",
              "      <th>children</th>\n",
              "      <th>smoker</th>\n",
              "      <th>region</th>\n",
              "      <th>charges</th>\n",
              "    </tr>\n",
              "  </thead>\n",
              "  <tbody>\n",
              "    <tr>\n",
              "      <th>0</th>\n",
              "      <td>19</td>\n",
              "      <td>female</td>\n",
              "      <td>27.900</td>\n",
              "      <td>0</td>\n",
              "      <td>yes</td>\n",
              "      <td>southwest</td>\n",
              "      <td>16884.92400</td>\n",
              "    </tr>\n",
              "    <tr>\n",
              "      <th>1</th>\n",
              "      <td>18</td>\n",
              "      <td>male</td>\n",
              "      <td>33.770</td>\n",
              "      <td>1</td>\n",
              "      <td>no</td>\n",
              "      <td>southeast</td>\n",
              "      <td>1725.55230</td>\n",
              "    </tr>\n",
              "    <tr>\n",
              "      <th>2</th>\n",
              "      <td>28</td>\n",
              "      <td>male</td>\n",
              "      <td>33.000</td>\n",
              "      <td>3</td>\n",
              "      <td>no</td>\n",
              "      <td>southeast</td>\n",
              "      <td>4449.46200</td>\n",
              "    </tr>\n",
              "    <tr>\n",
              "      <th>3</th>\n",
              "      <td>33</td>\n",
              "      <td>male</td>\n",
              "      <td>22.705</td>\n",
              "      <td>0</td>\n",
              "      <td>no</td>\n",
              "      <td>northwest</td>\n",
              "      <td>21984.47061</td>\n",
              "    </tr>\n",
              "    <tr>\n",
              "      <th>4</th>\n",
              "      <td>32</td>\n",
              "      <td>male</td>\n",
              "      <td>28.880</td>\n",
              "      <td>0</td>\n",
              "      <td>no</td>\n",
              "      <td>northwest</td>\n",
              "      <td>3866.85520</td>\n",
              "    </tr>\n",
              "    <tr>\n",
              "      <th>...</th>\n",
              "      <td>...</td>\n",
              "      <td>...</td>\n",
              "      <td>...</td>\n",
              "      <td>...</td>\n",
              "      <td>...</td>\n",
              "      <td>...</td>\n",
              "      <td>...</td>\n",
              "    </tr>\n",
              "    <tr>\n",
              "      <th>1333</th>\n",
              "      <td>50</td>\n",
              "      <td>male</td>\n",
              "      <td>30.970</td>\n",
              "      <td>3</td>\n",
              "      <td>no</td>\n",
              "      <td>northwest</td>\n",
              "      <td>10600.54830</td>\n",
              "    </tr>\n",
              "    <tr>\n",
              "      <th>1334</th>\n",
              "      <td>18</td>\n",
              "      <td>female</td>\n",
              "      <td>31.920</td>\n",
              "      <td>0</td>\n",
              "      <td>no</td>\n",
              "      <td>northeast</td>\n",
              "      <td>2205.98080</td>\n",
              "    </tr>\n",
              "    <tr>\n",
              "      <th>1335</th>\n",
              "      <td>18</td>\n",
              "      <td>female</td>\n",
              "      <td>36.850</td>\n",
              "      <td>0</td>\n",
              "      <td>no</td>\n",
              "      <td>southeast</td>\n",
              "      <td>1629.83350</td>\n",
              "    </tr>\n",
              "    <tr>\n",
              "      <th>1336</th>\n",
              "      <td>21</td>\n",
              "      <td>female</td>\n",
              "      <td>25.800</td>\n",
              "      <td>0</td>\n",
              "      <td>no</td>\n",
              "      <td>southwest</td>\n",
              "      <td>2007.94500</td>\n",
              "    </tr>\n",
              "    <tr>\n",
              "      <th>1337</th>\n",
              "      <td>61</td>\n",
              "      <td>female</td>\n",
              "      <td>29.070</td>\n",
              "      <td>0</td>\n",
              "      <td>yes</td>\n",
              "      <td>northwest</td>\n",
              "      <td>29141.36030</td>\n",
              "    </tr>\n",
              "  </tbody>\n",
              "</table>\n",
              "<p>1338 rows × 7 columns</p>\n",
              "</div>"
            ],
            "text/plain": [
              "      age     sex     bmi  children smoker     region      charges\n",
              "0      19  female  27.900         0    yes  southwest  16884.92400\n",
              "1      18    male  33.770         1     no  southeast   1725.55230\n",
              "2      28    male  33.000         3     no  southeast   4449.46200\n",
              "3      33    male  22.705         0     no  northwest  21984.47061\n",
              "4      32    male  28.880         0     no  northwest   3866.85520\n",
              "...   ...     ...     ...       ...    ...        ...          ...\n",
              "1333   50    male  30.970         3     no  northwest  10600.54830\n",
              "1334   18  female  31.920         0     no  northeast   2205.98080\n",
              "1335   18  female  36.850         0     no  southeast   1629.83350\n",
              "1336   21  female  25.800         0     no  southwest   2007.94500\n",
              "1337   61  female  29.070         0    yes  northwest  29141.36030\n",
              "\n",
              "[1338 rows x 7 columns]"
            ]
          },
          "metadata": {
            "tags": []
          },
          "execution_count": 67
        }
      ]
    },
    {
      "cell_type": "code",
      "metadata": {
        "colab": {
          "base_uri": "https://localhost:8080/",
          "height": 204
        },
        "id": "stsTmnBrSJdd",
        "outputId": "cbc88b53-7abd-48c1-a9a9-50e713770957"
      },
      "source": [
        "# Let's one-hot encode our DataFrame\n",
        "insurance_one_hot = pd.get_dummies(insurance)\n",
        "insurance_one_hot.head()"
      ],
      "execution_count": 68,
      "outputs": [
        {
          "output_type": "execute_result",
          "data": {
            "text/html": [
              "<div>\n",
              "<style scoped>\n",
              "    .dataframe tbody tr th:only-of-type {\n",
              "        vertical-align: middle;\n",
              "    }\n",
              "\n",
              "    .dataframe tbody tr th {\n",
              "        vertical-align: top;\n",
              "    }\n",
              "\n",
              "    .dataframe thead th {\n",
              "        text-align: right;\n",
              "    }\n",
              "</style>\n",
              "<table border=\"1\" class=\"dataframe\">\n",
              "  <thead>\n",
              "    <tr style=\"text-align: right;\">\n",
              "      <th></th>\n",
              "      <th>age</th>\n",
              "      <th>bmi</th>\n",
              "      <th>children</th>\n",
              "      <th>charges</th>\n",
              "      <th>sex_female</th>\n",
              "      <th>sex_male</th>\n",
              "      <th>smoker_no</th>\n",
              "      <th>smoker_yes</th>\n",
              "      <th>region_northeast</th>\n",
              "      <th>region_northwest</th>\n",
              "      <th>region_southeast</th>\n",
              "      <th>region_southwest</th>\n",
              "    </tr>\n",
              "  </thead>\n",
              "  <tbody>\n",
              "    <tr>\n",
              "      <th>0</th>\n",
              "      <td>19</td>\n",
              "      <td>27.900</td>\n",
              "      <td>0</td>\n",
              "      <td>16884.92400</td>\n",
              "      <td>1</td>\n",
              "      <td>0</td>\n",
              "      <td>0</td>\n",
              "      <td>1</td>\n",
              "      <td>0</td>\n",
              "      <td>0</td>\n",
              "      <td>0</td>\n",
              "      <td>1</td>\n",
              "    </tr>\n",
              "    <tr>\n",
              "      <th>1</th>\n",
              "      <td>18</td>\n",
              "      <td>33.770</td>\n",
              "      <td>1</td>\n",
              "      <td>1725.55230</td>\n",
              "      <td>0</td>\n",
              "      <td>1</td>\n",
              "      <td>1</td>\n",
              "      <td>0</td>\n",
              "      <td>0</td>\n",
              "      <td>0</td>\n",
              "      <td>1</td>\n",
              "      <td>0</td>\n",
              "    </tr>\n",
              "    <tr>\n",
              "      <th>2</th>\n",
              "      <td>28</td>\n",
              "      <td>33.000</td>\n",
              "      <td>3</td>\n",
              "      <td>4449.46200</td>\n",
              "      <td>0</td>\n",
              "      <td>1</td>\n",
              "      <td>1</td>\n",
              "      <td>0</td>\n",
              "      <td>0</td>\n",
              "      <td>0</td>\n",
              "      <td>1</td>\n",
              "      <td>0</td>\n",
              "    </tr>\n",
              "    <tr>\n",
              "      <th>3</th>\n",
              "      <td>33</td>\n",
              "      <td>22.705</td>\n",
              "      <td>0</td>\n",
              "      <td>21984.47061</td>\n",
              "      <td>0</td>\n",
              "      <td>1</td>\n",
              "      <td>1</td>\n",
              "      <td>0</td>\n",
              "      <td>0</td>\n",
              "      <td>1</td>\n",
              "      <td>0</td>\n",
              "      <td>0</td>\n",
              "    </tr>\n",
              "    <tr>\n",
              "      <th>4</th>\n",
              "      <td>32</td>\n",
              "      <td>28.880</td>\n",
              "      <td>0</td>\n",
              "      <td>3866.85520</td>\n",
              "      <td>0</td>\n",
              "      <td>1</td>\n",
              "      <td>1</td>\n",
              "      <td>0</td>\n",
              "      <td>0</td>\n",
              "      <td>1</td>\n",
              "      <td>0</td>\n",
              "      <td>0</td>\n",
              "    </tr>\n",
              "  </tbody>\n",
              "</table>\n",
              "</div>"
            ],
            "text/plain": [
              "   age     bmi  children  ...  region_northwest  region_southeast  region_southwest\n",
              "0   19  27.900         0  ...                 0                 0                 1\n",
              "1   18  33.770         1  ...                 0                 1                 0\n",
              "2   28  33.000         3  ...                 0                 1                 0\n",
              "3   33  22.705         0  ...                 1                 0                 0\n",
              "4   32  28.880         0  ...                 1                 0                 0\n",
              "\n",
              "[5 rows x 12 columns]"
            ]
          },
          "metadata": {
            "tags": []
          },
          "execution_count": 68
        }
      ]
    },
    {
      "cell_type": "code",
      "metadata": {
        "id": "1y0ve82_T_3z"
      },
      "source": [
        "# Create X & y values (features and labels)\n",
        "X = insurance_one_hot.drop(\"charges\", axis=1)\n",
        "y = insurance_one_hot[\"charges\"]"
      ],
      "execution_count": 69,
      "outputs": []
    },
    {
      "cell_type": "code",
      "metadata": {
        "colab": {
          "base_uri": "https://localhost:8080/",
          "height": 204
        },
        "id": "FHtJIcGF-yg0",
        "outputId": "0664e720-a437-4870-fbc0-1c10f8c7be06"
      },
      "source": [
        "# View X\n",
        "X.head()"
      ],
      "execution_count": 70,
      "outputs": [
        {
          "output_type": "execute_result",
          "data": {
            "text/html": [
              "<div>\n",
              "<style scoped>\n",
              "    .dataframe tbody tr th:only-of-type {\n",
              "        vertical-align: middle;\n",
              "    }\n",
              "\n",
              "    .dataframe tbody tr th {\n",
              "        vertical-align: top;\n",
              "    }\n",
              "\n",
              "    .dataframe thead th {\n",
              "        text-align: right;\n",
              "    }\n",
              "</style>\n",
              "<table border=\"1\" class=\"dataframe\">\n",
              "  <thead>\n",
              "    <tr style=\"text-align: right;\">\n",
              "      <th></th>\n",
              "      <th>age</th>\n",
              "      <th>bmi</th>\n",
              "      <th>children</th>\n",
              "      <th>sex_female</th>\n",
              "      <th>sex_male</th>\n",
              "      <th>smoker_no</th>\n",
              "      <th>smoker_yes</th>\n",
              "      <th>region_northeast</th>\n",
              "      <th>region_northwest</th>\n",
              "      <th>region_southeast</th>\n",
              "      <th>region_southwest</th>\n",
              "    </tr>\n",
              "  </thead>\n",
              "  <tbody>\n",
              "    <tr>\n",
              "      <th>0</th>\n",
              "      <td>19</td>\n",
              "      <td>27.900</td>\n",
              "      <td>0</td>\n",
              "      <td>1</td>\n",
              "      <td>0</td>\n",
              "      <td>0</td>\n",
              "      <td>1</td>\n",
              "      <td>0</td>\n",
              "      <td>0</td>\n",
              "      <td>0</td>\n",
              "      <td>1</td>\n",
              "    </tr>\n",
              "    <tr>\n",
              "      <th>1</th>\n",
              "      <td>18</td>\n",
              "      <td>33.770</td>\n",
              "      <td>1</td>\n",
              "      <td>0</td>\n",
              "      <td>1</td>\n",
              "      <td>1</td>\n",
              "      <td>0</td>\n",
              "      <td>0</td>\n",
              "      <td>0</td>\n",
              "      <td>1</td>\n",
              "      <td>0</td>\n",
              "    </tr>\n",
              "    <tr>\n",
              "      <th>2</th>\n",
              "      <td>28</td>\n",
              "      <td>33.000</td>\n",
              "      <td>3</td>\n",
              "      <td>0</td>\n",
              "      <td>1</td>\n",
              "      <td>1</td>\n",
              "      <td>0</td>\n",
              "      <td>0</td>\n",
              "      <td>0</td>\n",
              "      <td>1</td>\n",
              "      <td>0</td>\n",
              "    </tr>\n",
              "    <tr>\n",
              "      <th>3</th>\n",
              "      <td>33</td>\n",
              "      <td>22.705</td>\n",
              "      <td>0</td>\n",
              "      <td>0</td>\n",
              "      <td>1</td>\n",
              "      <td>1</td>\n",
              "      <td>0</td>\n",
              "      <td>0</td>\n",
              "      <td>1</td>\n",
              "      <td>0</td>\n",
              "      <td>0</td>\n",
              "    </tr>\n",
              "    <tr>\n",
              "      <th>4</th>\n",
              "      <td>32</td>\n",
              "      <td>28.880</td>\n",
              "      <td>0</td>\n",
              "      <td>0</td>\n",
              "      <td>1</td>\n",
              "      <td>1</td>\n",
              "      <td>0</td>\n",
              "      <td>0</td>\n",
              "      <td>1</td>\n",
              "      <td>0</td>\n",
              "      <td>0</td>\n",
              "    </tr>\n",
              "  </tbody>\n",
              "</table>\n",
              "</div>"
            ],
            "text/plain": [
              "   age     bmi  children  ...  region_northwest  region_southeast  region_southwest\n",
              "0   19  27.900         0  ...                 0                 0                 1\n",
              "1   18  33.770         1  ...                 0                 1                 0\n",
              "2   28  33.000         3  ...                 0                 1                 0\n",
              "3   33  22.705         0  ...                 1                 0                 0\n",
              "4   32  28.880         0  ...                 1                 0                 0\n",
              "\n",
              "[5 rows x 11 columns]"
            ]
          },
          "metadata": {
            "tags": []
          },
          "execution_count": 70
        }
      ]
    },
    {
      "cell_type": "code",
      "metadata": {
        "colab": {
          "base_uri": "https://localhost:8080/"
        },
        "id": "kuLHJI32-4Cx",
        "outputId": "c1ab8033-c1f2-44d8-94e1-6534d0e67c0b"
      },
      "source": [
        "# View y\n",
        "y.head()"
      ],
      "execution_count": 71,
      "outputs": [
        {
          "output_type": "execute_result",
          "data": {
            "text/plain": [
              "0    16884.92400\n",
              "1     1725.55230\n",
              "2     4449.46200\n",
              "3    21984.47061\n",
              "4     3866.85520\n",
              "Name: charges, dtype: float64"
            ]
          },
          "metadata": {
            "tags": []
          },
          "execution_count": 71
        }
      ]
    },
    {
      "cell_type": "code",
      "metadata": {
        "colab": {
          "base_uri": "https://localhost:8080/"
        },
        "id": "HPar1KmP9Yqa",
        "outputId": "4c060f5d-9f7c-46f1-abcb-ec9351d2a51d"
      },
      "source": [
        "# Create training and test sets\n",
        "from sklearn.model_selection import train_test_split\n",
        "X_train, X_test, y_train, y_test = train_test_split(X, y, test_size=0.2, random_state=42)\n",
        "len(X), len(X_train), len(X_test)"
      ],
      "execution_count": 72,
      "outputs": [
        {
          "output_type": "execute_result",
          "data": {
            "text/plain": [
              "(1338, 1070, 268)"
            ]
          },
          "metadata": {
            "tags": []
          },
          "execution_count": 72
        }
      ]
    },
    {
      "cell_type": "code",
      "metadata": {
        "colab": {
          "base_uri": "https://localhost:8080/"
        },
        "id": "PXVODhD79eex",
        "outputId": "fd3eee5f-00bc-4a96-88b8-10fcddadaed9"
      },
      "source": [
        "# Build a neural network (similar to model_2 above)\n",
        "tf.random.set_seed(42)\n",
        "\n",
        "# 1. Create a model\n",
        "insurance_model = tf.keras.Sequential([\n",
        "                                       tf.keras.layers.Dense(20),\n",
        "                                       tf.keras.layers.Dense(1)\n",
        "])\n",
        "\n",
        "# 2. Compile the model\n",
        "insurance_model.compile(loss=tf.keras.losses.mae,\n",
        "                        optimizer=tf.keras.optimizers.Adam(learning_rate=0.01),\n",
        "                        metrics=[\"mae\"])\n",
        "\n",
        "# 3. Fit the model\n",
        "insurance_model.fit(X_train, y_train, epochs=1000)"
      ],
      "execution_count": 87,
      "outputs": [
        {
          "output_type": "stream",
          "text": [
            "Epoch 1/1000\n",
            "34/34 [==============================] - 0s 2ms/step - loss: 13237.7148 - mae: 13237.7148\n",
            "Epoch 2/1000\n",
            "34/34 [==============================] - 0s 1ms/step - loss: 12684.0674 - mae: 12684.0674\n",
            "Epoch 3/1000\n",
            "34/34 [==============================] - 0s 1ms/step - loss: 11376.1631 - mae: 11376.1631\n",
            "Epoch 4/1000\n",
            "34/34 [==============================] - 0s 1ms/step - loss: 9495.1318 - mae: 9495.1318\n",
            "Epoch 5/1000\n",
            "34/34 [==============================] - 0s 1ms/step - loss: 7974.1787 - mae: 7974.1787\n",
            "Epoch 6/1000\n",
            "34/34 [==============================] - 0s 2ms/step - loss: 7454.5088 - mae: 7454.5088\n",
            "Epoch 7/1000\n",
            "34/34 [==============================] - 0s 2ms/step - loss: 7396.7837 - mae: 7396.7837\n",
            "Epoch 8/1000\n",
            "34/34 [==============================] - 0s 1ms/step - loss: 7367.2856 - mae: 7367.2856\n",
            "Epoch 9/1000\n",
            "34/34 [==============================] - 0s 2ms/step - loss: 7336.2676 - mae: 7336.2676\n",
            "Epoch 10/1000\n",
            "34/34 [==============================] - 0s 2ms/step - loss: 7305.6323 - mae: 7305.6323\n",
            "Epoch 11/1000\n",
            "34/34 [==============================] - 0s 1ms/step - loss: 7276.0034 - mae: 7276.0034\n",
            "Epoch 12/1000\n",
            "34/34 [==============================] - 0s 1ms/step - loss: 7241.0640 - mae: 7241.0640\n",
            "Epoch 13/1000\n",
            "34/34 [==============================] - 0s 1ms/step - loss: 7207.3018 - mae: 7207.3018\n",
            "Epoch 14/1000\n",
            "34/34 [==============================] - 0s 1ms/step - loss: 7170.4619 - mae: 7170.4619\n",
            "Epoch 15/1000\n",
            "34/34 [==============================] - 0s 2ms/step - loss: 7136.3252 - mae: 7136.3252\n",
            "Epoch 16/1000\n",
            "34/34 [==============================] - 0s 1ms/step - loss: 7098.4243 - mae: 7098.4243\n",
            "Epoch 17/1000\n",
            "34/34 [==============================] - 0s 1ms/step - loss: 7060.0483 - mae: 7060.0483\n",
            "Epoch 18/1000\n",
            "34/34 [==============================] - 0s 1ms/step - loss: 7018.0078 - mae: 7018.0078\n",
            "Epoch 19/1000\n",
            "34/34 [==============================] - 0s 1ms/step - loss: 6977.5737 - mae: 6977.5737\n",
            "Epoch 20/1000\n",
            "34/34 [==============================] - 0s 1ms/step - loss: 6932.9907 - mae: 6932.9907\n",
            "Epoch 21/1000\n",
            "34/34 [==============================] - 0s 1ms/step - loss: 6892.3198 - mae: 6892.3198\n",
            "Epoch 22/1000\n",
            "34/34 [==============================] - 0s 1ms/step - loss: 6848.7119 - mae: 6848.7119\n",
            "Epoch 23/1000\n",
            "34/34 [==============================] - 0s 1ms/step - loss: 6800.1177 - mae: 6800.1177\n",
            "Epoch 24/1000\n",
            "34/34 [==============================] - 0s 1ms/step - loss: 6752.3760 - mae: 6752.3760\n",
            "Epoch 25/1000\n",
            "34/34 [==============================] - 0s 1ms/step - loss: 6708.5405 - mae: 6708.5405\n",
            "Epoch 26/1000\n",
            "34/34 [==============================] - 0s 1ms/step - loss: 6660.8184 - mae: 6660.8184\n",
            "Epoch 27/1000\n",
            "34/34 [==============================] - 0s 1ms/step - loss: 6611.1025 - mae: 6611.1021\n",
            "Epoch 28/1000\n",
            "34/34 [==============================] - 0s 1ms/step - loss: 6564.0811 - mae: 6564.0811\n",
            "Epoch 29/1000\n",
            "34/34 [==============================] - 0s 1ms/step - loss: 6520.9824 - mae: 6520.9824\n",
            "Epoch 30/1000\n",
            "34/34 [==============================] - 0s 1ms/step - loss: 6492.7314 - mae: 6492.7314\n",
            "Epoch 31/1000\n",
            "34/34 [==============================] - 0s 1ms/step - loss: 6460.8120 - mae: 6460.8120\n",
            "Epoch 32/1000\n",
            "34/34 [==============================] - 0s 2ms/step - loss: 6438.0557 - mae: 6438.0557\n",
            "Epoch 33/1000\n",
            "34/34 [==============================] - 0s 1ms/step - loss: 6420.2085 - mae: 6420.2085\n",
            "Epoch 34/1000\n",
            "34/34 [==============================] - 0s 1ms/step - loss: 6400.1089 - mae: 6400.1089\n",
            "Epoch 35/1000\n",
            "34/34 [==============================] - 0s 1ms/step - loss: 6378.2998 - mae: 6378.2998\n",
            "Epoch 36/1000\n",
            "34/34 [==============================] - 0s 1ms/step - loss: 6363.2183 - mae: 6363.2183\n",
            "Epoch 37/1000\n",
            "34/34 [==============================] - 0s 1ms/step - loss: 6338.5083 - mae: 6338.5083\n",
            "Epoch 38/1000\n",
            "34/34 [==============================] - 0s 1ms/step - loss: 6324.8853 - mae: 6324.8853\n",
            "Epoch 39/1000\n",
            "34/34 [==============================] - 0s 1ms/step - loss: 6302.6392 - mae: 6302.6392\n",
            "Epoch 40/1000\n",
            "34/34 [==============================] - 0s 1ms/step - loss: 6283.3145 - mae: 6283.3145\n",
            "Epoch 41/1000\n",
            "34/34 [==============================] - 0s 1ms/step - loss: 6266.8315 - mae: 6266.8315\n",
            "Epoch 42/1000\n",
            "34/34 [==============================] - 0s 2ms/step - loss: 6243.9419 - mae: 6243.9419\n",
            "Epoch 43/1000\n",
            "34/34 [==============================] - 0s 1ms/step - loss: 6226.5239 - mae: 6226.5239\n",
            "Epoch 44/1000\n",
            "34/34 [==============================] - 0s 2ms/step - loss: 6201.7729 - mae: 6201.7729\n",
            "Epoch 45/1000\n",
            "34/34 [==============================] - 0s 1ms/step - loss: 6190.1821 - mae: 6190.1821\n",
            "Epoch 46/1000\n",
            "34/34 [==============================] - 0s 1ms/step - loss: 6162.4619 - mae: 6162.4619\n",
            "Epoch 47/1000\n",
            "34/34 [==============================] - 0s 1ms/step - loss: 6144.2612 - mae: 6144.2612\n",
            "Epoch 48/1000\n",
            "34/34 [==============================] - 0s 1ms/step - loss: 6112.1357 - mae: 6112.1357\n",
            "Epoch 49/1000\n",
            "34/34 [==============================] - 0s 1ms/step - loss: 6091.2437 - mae: 6091.2437\n",
            "Epoch 50/1000\n",
            "34/34 [==============================] - 0s 1ms/step - loss: 6070.7559 - mae: 6070.7559\n",
            "Epoch 51/1000\n",
            "34/34 [==============================] - 0s 1ms/step - loss: 6043.6250 - mae: 6043.6250\n",
            "Epoch 52/1000\n",
            "34/34 [==============================] - 0s 2ms/step - loss: 6017.9487 - mae: 6017.9487\n",
            "Epoch 53/1000\n",
            "34/34 [==============================] - 0s 1ms/step - loss: 5992.1187 - mae: 5992.1182\n",
            "Epoch 54/1000\n",
            "34/34 [==============================] - 0s 1ms/step - loss: 5963.2744 - mae: 5963.2744\n",
            "Epoch 55/1000\n",
            "34/34 [==============================] - 0s 1ms/step - loss: 5939.7764 - mae: 5939.7764\n",
            "Epoch 56/1000\n",
            "34/34 [==============================] - 0s 1ms/step - loss: 5911.9390 - mae: 5911.9390\n",
            "Epoch 57/1000\n",
            "34/34 [==============================] - 0s 1ms/step - loss: 5883.4971 - mae: 5883.4971\n",
            "Epoch 58/1000\n",
            "34/34 [==============================] - 0s 1ms/step - loss: 5852.5312 - mae: 5852.5312\n",
            "Epoch 59/1000\n",
            "34/34 [==============================] - 0s 1ms/step - loss: 5822.0869 - mae: 5822.0869\n",
            "Epoch 60/1000\n",
            "34/34 [==============================] - 0s 1ms/step - loss: 5796.6401 - mae: 5796.6401\n",
            "Epoch 61/1000\n",
            "34/34 [==============================] - 0s 1ms/step - loss: 5753.3638 - mae: 5753.3638\n",
            "Epoch 62/1000\n",
            "34/34 [==============================] - 0s 1ms/step - loss: 5728.0542 - mae: 5728.0542\n",
            "Epoch 63/1000\n",
            "34/34 [==============================] - 0s 2ms/step - loss: 5691.3257 - mae: 5691.3257\n",
            "Epoch 64/1000\n",
            "34/34 [==============================] - 0s 1ms/step - loss: 5652.8062 - mae: 5652.8062\n",
            "Epoch 65/1000\n",
            "34/34 [==============================] - 0s 1ms/step - loss: 5621.9478 - mae: 5621.9478\n",
            "Epoch 66/1000\n",
            "34/34 [==============================] - 0s 1ms/step - loss: 5580.3584 - mae: 5580.3584\n",
            "Epoch 67/1000\n",
            "34/34 [==============================] - 0s 1ms/step - loss: 5548.0640 - mae: 5548.0640\n",
            "Epoch 68/1000\n",
            "34/34 [==============================] - 0s 1ms/step - loss: 5504.4185 - mae: 5504.4185\n",
            "Epoch 69/1000\n",
            "34/34 [==============================] - 0s 1ms/step - loss: 5467.2075 - mae: 5467.2075\n",
            "Epoch 70/1000\n",
            "34/34 [==============================] - 0s 1ms/step - loss: 5421.9922 - mae: 5421.9922\n",
            "Epoch 71/1000\n",
            "34/34 [==============================] - 0s 2ms/step - loss: 5376.0024 - mae: 5376.0024\n",
            "Epoch 72/1000\n",
            "34/34 [==============================] - 0s 2ms/step - loss: 5330.5366 - mae: 5330.5366\n",
            "Epoch 73/1000\n",
            "34/34 [==============================] - 0s 1ms/step - loss: 5298.8911 - mae: 5298.8911\n",
            "Epoch 74/1000\n",
            "34/34 [==============================] - 0s 1ms/step - loss: 5241.3682 - mae: 5241.3682\n",
            "Epoch 75/1000\n",
            "34/34 [==============================] - 0s 1ms/step - loss: 5196.3115 - mae: 5196.3115\n",
            "Epoch 76/1000\n",
            "34/34 [==============================] - 0s 1ms/step - loss: 5147.6411 - mae: 5147.6411\n",
            "Epoch 77/1000\n",
            "34/34 [==============================] - 0s 1ms/step - loss: 5096.8608 - mae: 5096.8608\n",
            "Epoch 78/1000\n",
            "34/34 [==============================] - 0s 1ms/step - loss: 5039.8887 - mae: 5039.8887\n",
            "Epoch 79/1000\n",
            "34/34 [==============================] - 0s 2ms/step - loss: 4985.6196 - mae: 4985.6196\n",
            "Epoch 80/1000\n",
            "34/34 [==============================] - 0s 2ms/step - loss: 4930.3374 - mae: 4930.3374\n",
            "Epoch 81/1000\n",
            "34/34 [==============================] - 0s 1ms/step - loss: 4877.7139 - mae: 4877.7139\n",
            "Epoch 82/1000\n",
            "34/34 [==============================] - 0s 2ms/step - loss: 4820.0049 - mae: 4820.0049\n",
            "Epoch 83/1000\n",
            "34/34 [==============================] - 0s 1ms/step - loss: 4763.9512 - mae: 4763.9512\n",
            "Epoch 84/1000\n",
            "34/34 [==============================] - 0s 1ms/step - loss: 4691.6899 - mae: 4691.6899\n",
            "Epoch 85/1000\n",
            "34/34 [==============================] - 0s 2ms/step - loss: 4631.2593 - mae: 4631.2593\n",
            "Epoch 86/1000\n",
            "34/34 [==============================] - 0s 1ms/step - loss: 4565.2637 - mae: 4565.2637\n",
            "Epoch 87/1000\n",
            "34/34 [==============================] - 0s 1ms/step - loss: 4504.5601 - mae: 4504.5601\n",
            "Epoch 88/1000\n",
            "34/34 [==============================] - 0s 1ms/step - loss: 4437.0835 - mae: 4437.0835\n",
            "Epoch 89/1000\n",
            "34/34 [==============================] - 0s 1ms/step - loss: 4373.6426 - mae: 4373.6426\n",
            "Epoch 90/1000\n",
            "34/34 [==============================] - 0s 1ms/step - loss: 4309.8882 - mae: 4309.8882\n",
            "Epoch 91/1000\n",
            "34/34 [==============================] - 0s 2ms/step - loss: 4255.8149 - mae: 4255.8149\n",
            "Epoch 92/1000\n",
            "34/34 [==============================] - 0s 2ms/step - loss: 4196.4629 - mae: 4196.4629\n",
            "Epoch 93/1000\n",
            "34/34 [==============================] - 0s 1ms/step - loss: 4141.6973 - mae: 4141.6973\n",
            "Epoch 94/1000\n",
            "34/34 [==============================] - 0s 2ms/step - loss: 4081.0439 - mae: 4081.0439\n",
            "Epoch 95/1000\n",
            "34/34 [==============================] - 0s 1ms/step - loss: 4033.2285 - mae: 4033.2285\n",
            "Epoch 96/1000\n",
            "34/34 [==============================] - 0s 1ms/step - loss: 3997.8528 - mae: 3997.8528\n",
            "Epoch 97/1000\n",
            "34/34 [==============================] - 0s 2ms/step - loss: 3957.5137 - mae: 3957.5137\n",
            "Epoch 98/1000\n",
            "34/34 [==============================] - 0s 2ms/step - loss: 3936.9636 - mae: 3936.9636\n",
            "Epoch 99/1000\n",
            "34/34 [==============================] - 0s 2ms/step - loss: 3919.2139 - mae: 3919.2139\n",
            "Epoch 100/1000\n",
            "34/34 [==============================] - 0s 2ms/step - loss: 3891.5742 - mae: 3891.5742\n",
            "Epoch 101/1000\n",
            "34/34 [==============================] - 0s 1ms/step - loss: 3874.2798 - mae: 3874.2798\n",
            "Epoch 102/1000\n",
            "34/34 [==============================] - 0s 1ms/step - loss: 3847.6877 - mae: 3847.6877\n",
            "Epoch 103/1000\n",
            "34/34 [==============================] - 0s 1ms/step - loss: 3836.0525 - mae: 3836.0525\n",
            "Epoch 104/1000\n",
            "34/34 [==============================] - 0s 1ms/step - loss: 3823.4233 - mae: 3823.4233\n",
            "Epoch 105/1000\n",
            "34/34 [==============================] - 0s 2ms/step - loss: 3810.9524 - mae: 3810.9524\n",
            "Epoch 106/1000\n",
            "34/34 [==============================] - 0s 2ms/step - loss: 3805.5542 - mae: 3805.5542\n",
            "Epoch 107/1000\n",
            "34/34 [==============================] - 0s 2ms/step - loss: 3807.4639 - mae: 3807.4639\n",
            "Epoch 108/1000\n",
            "34/34 [==============================] - 0s 2ms/step - loss: 3795.6509 - mae: 3795.6509\n",
            "Epoch 109/1000\n",
            "34/34 [==============================] - 0s 1ms/step - loss: 3784.6931 - mae: 3784.6931\n",
            "Epoch 110/1000\n",
            "34/34 [==============================] - 0s 1ms/step - loss: 3778.5149 - mae: 3778.5149\n",
            "Epoch 111/1000\n",
            "34/34 [==============================] - 0s 1ms/step - loss: 3778.6304 - mae: 3778.6304\n",
            "Epoch 112/1000\n",
            "34/34 [==============================] - 0s 1ms/step - loss: 3768.5071 - mae: 3768.5071\n",
            "Epoch 113/1000\n",
            "34/34 [==============================] - 0s 2ms/step - loss: 3766.2161 - mae: 3766.2161\n",
            "Epoch 114/1000\n",
            "34/34 [==============================] - 0s 2ms/step - loss: 3775.2859 - mae: 3775.2859\n",
            "Epoch 115/1000\n",
            "34/34 [==============================] - 0s 1ms/step - loss: 3775.6809 - mae: 3775.6809\n",
            "Epoch 116/1000\n",
            "34/34 [==============================] - 0s 1ms/step - loss: 3761.9663 - mae: 3761.9663\n",
            "Epoch 117/1000\n",
            "34/34 [==============================] - 0s 1ms/step - loss: 3763.0361 - mae: 3763.0361\n",
            "Epoch 118/1000\n",
            "34/34 [==============================] - 0s 1ms/step - loss: 3755.6726 - mae: 3755.6726\n",
            "Epoch 119/1000\n",
            "34/34 [==============================] - 0s 1ms/step - loss: 3752.8972 - mae: 3752.8972\n",
            "Epoch 120/1000\n",
            "34/34 [==============================] - 0s 1ms/step - loss: 3747.3274 - mae: 3747.3274\n",
            "Epoch 121/1000\n",
            "34/34 [==============================] - 0s 2ms/step - loss: 3751.9348 - mae: 3751.9348\n",
            "Epoch 122/1000\n",
            "34/34 [==============================] - 0s 1ms/step - loss: 3751.4197 - mae: 3751.4197\n",
            "Epoch 123/1000\n",
            "34/34 [==============================] - 0s 1ms/step - loss: 3745.8608 - mae: 3745.8608\n",
            "Epoch 124/1000\n",
            "34/34 [==============================] - 0s 1ms/step - loss: 3744.0452 - mae: 3744.0452\n",
            "Epoch 125/1000\n",
            "34/34 [==============================] - 0s 1ms/step - loss: 3739.7078 - mae: 3739.7078\n",
            "Epoch 126/1000\n",
            "34/34 [==============================] - 0s 1ms/step - loss: 3743.6704 - mae: 3743.6704\n",
            "Epoch 127/1000\n",
            "34/34 [==============================] - 0s 2ms/step - loss: 3738.4998 - mae: 3738.4998\n",
            "Epoch 128/1000\n",
            "34/34 [==============================] - 0s 1ms/step - loss: 3747.5249 - mae: 3747.5249\n",
            "Epoch 129/1000\n",
            "34/34 [==============================] - 0s 1ms/step - loss: 3750.7302 - mae: 3750.7302\n",
            "Epoch 130/1000\n",
            "34/34 [==============================] - 0s 2ms/step - loss: 3750.4880 - mae: 3750.4880\n",
            "Epoch 131/1000\n",
            "34/34 [==============================] - 0s 2ms/step - loss: 3735.5178 - mae: 3735.5178\n",
            "Epoch 132/1000\n",
            "34/34 [==============================] - 0s 1ms/step - loss: 3730.4185 - mae: 3730.4185\n",
            "Epoch 133/1000\n",
            "34/34 [==============================] - 0s 1ms/step - loss: 3730.7253 - mae: 3730.7253\n",
            "Epoch 134/1000\n",
            "34/34 [==============================] - 0s 1ms/step - loss: 3727.8242 - mae: 3727.8242\n",
            "Epoch 135/1000\n",
            "34/34 [==============================] - 0s 2ms/step - loss: 3725.0999 - mae: 3725.0999\n",
            "Epoch 136/1000\n",
            "34/34 [==============================] - 0s 2ms/step - loss: 3724.7083 - mae: 3724.7083\n",
            "Epoch 137/1000\n",
            "34/34 [==============================] - 0s 1ms/step - loss: 3725.9551 - mae: 3725.9551\n",
            "Epoch 138/1000\n",
            "34/34 [==============================] - 0s 1ms/step - loss: 3748.7480 - mae: 3748.7480\n",
            "Epoch 139/1000\n",
            "34/34 [==============================] - 0s 1ms/step - loss: 3722.8445 - mae: 3722.8445\n",
            "Epoch 140/1000\n",
            "34/34 [==============================] - 0s 1ms/step - loss: 3725.9370 - mae: 3725.9370\n",
            "Epoch 141/1000\n",
            "34/34 [==============================] - 0s 1ms/step - loss: 3727.1775 - mae: 3727.1775\n",
            "Epoch 142/1000\n",
            "34/34 [==============================] - 0s 1ms/step - loss: 3739.4163 - mae: 3739.4163\n",
            "Epoch 143/1000\n",
            "34/34 [==============================] - 0s 1ms/step - loss: 3714.9966 - mae: 3714.9966\n",
            "Epoch 144/1000\n",
            "34/34 [==============================] - 0s 2ms/step - loss: 3714.6807 - mae: 3714.6807\n",
            "Epoch 145/1000\n",
            "34/34 [==============================] - 0s 1ms/step - loss: 3717.7551 - mae: 3717.7551\n",
            "Epoch 146/1000\n",
            "34/34 [==============================] - 0s 1ms/step - loss: 3718.8105 - mae: 3718.8105\n",
            "Epoch 147/1000\n",
            "34/34 [==============================] - 0s 2ms/step - loss: 3722.3179 - mae: 3722.3179\n",
            "Epoch 148/1000\n",
            "34/34 [==============================] - 0s 2ms/step - loss: 3720.5007 - mae: 3720.5007\n",
            "Epoch 149/1000\n",
            "34/34 [==============================] - 0s 2ms/step - loss: 3707.2390 - mae: 3707.2390\n",
            "Epoch 150/1000\n",
            "34/34 [==============================] - 0s 1ms/step - loss: 3708.6875 - mae: 3708.6875\n",
            "Epoch 151/1000\n",
            "34/34 [==============================] - 0s 1ms/step - loss: 3707.2878 - mae: 3707.2878\n",
            "Epoch 152/1000\n",
            "34/34 [==============================] - 0s 2ms/step - loss: 3708.2974 - mae: 3708.2974\n",
            "Epoch 153/1000\n",
            "34/34 [==============================] - 0s 1ms/step - loss: 3714.9492 - mae: 3714.9492\n",
            "Epoch 154/1000\n",
            "34/34 [==============================] - 0s 2ms/step - loss: 3705.3235 - mae: 3705.3235\n",
            "Epoch 155/1000\n",
            "34/34 [==============================] - 0s 2ms/step - loss: 3709.4451 - mae: 3709.4451\n",
            "Epoch 156/1000\n",
            "34/34 [==============================] - 0s 1ms/step - loss: 3704.3809 - mae: 3704.3809\n",
            "Epoch 157/1000\n",
            "34/34 [==============================] - 0s 1ms/step - loss: 3701.8228 - mae: 3701.8228\n",
            "Epoch 158/1000\n",
            "34/34 [==============================] - 0s 2ms/step - loss: 3696.5291 - mae: 3696.5291\n",
            "Epoch 159/1000\n",
            "34/34 [==============================] - 0s 2ms/step - loss: 3696.4766 - mae: 3696.4766\n",
            "Epoch 160/1000\n",
            "34/34 [==============================] - 0s 1ms/step - loss: 3701.3599 - mae: 3701.3599\n",
            "Epoch 161/1000\n",
            "34/34 [==============================] - 0s 2ms/step - loss: 3697.2539 - mae: 3697.2539\n",
            "Epoch 162/1000\n",
            "34/34 [==============================] - 0s 1ms/step - loss: 3690.0640 - mae: 3690.0640\n",
            "Epoch 163/1000\n",
            "34/34 [==============================] - 0s 2ms/step - loss: 3687.8679 - mae: 3687.8679\n",
            "Epoch 164/1000\n",
            "34/34 [==============================] - 0s 1ms/step - loss: 3694.6455 - mae: 3694.6455\n",
            "Epoch 165/1000\n",
            "34/34 [==============================] - 0s 2ms/step - loss: 3686.0894 - mae: 3686.0894\n",
            "Epoch 166/1000\n",
            "34/34 [==============================] - 0s 1ms/step - loss: 3688.0850 - mae: 3688.0850\n",
            "Epoch 167/1000\n",
            "34/34 [==============================] - 0s 2ms/step - loss: 3685.1089 - mae: 3685.1089\n",
            "Epoch 168/1000\n",
            "34/34 [==============================] - 0s 2ms/step - loss: 3685.0027 - mae: 3685.0027\n",
            "Epoch 169/1000\n",
            "34/34 [==============================] - 0s 1ms/step - loss: 3684.2034 - mae: 3684.2034\n",
            "Epoch 170/1000\n",
            "34/34 [==============================] - 0s 2ms/step - loss: 3678.2109 - mae: 3678.2109\n",
            "Epoch 171/1000\n",
            "34/34 [==============================] - 0s 1ms/step - loss: 3678.7017 - mae: 3678.7017\n",
            "Epoch 172/1000\n",
            "34/34 [==============================] - 0s 2ms/step - loss: 3682.7217 - mae: 3682.7217\n",
            "Epoch 173/1000\n",
            "34/34 [==============================] - 0s 2ms/step - loss: 3674.7949 - mae: 3674.7949\n",
            "Epoch 174/1000\n",
            "34/34 [==============================] - 0s 2ms/step - loss: 3680.5825 - mae: 3680.5825\n",
            "Epoch 175/1000\n",
            "34/34 [==============================] - 0s 1ms/step - loss: 3675.4189 - mae: 3675.4189\n",
            "Epoch 176/1000\n",
            "34/34 [==============================] - 0s 1ms/step - loss: 3680.6711 - mae: 3680.6711\n",
            "Epoch 177/1000\n",
            "34/34 [==============================] - 0s 1ms/step - loss: 3670.4675 - mae: 3670.4675\n",
            "Epoch 178/1000\n",
            "34/34 [==============================] - 0s 2ms/step - loss: 3666.7288 - mae: 3666.7288\n",
            "Epoch 179/1000\n",
            "34/34 [==============================] - 0s 2ms/step - loss: 3679.2668 - mae: 3679.2668\n",
            "Epoch 180/1000\n",
            "34/34 [==============================] - 0s 2ms/step - loss: 3684.8376 - mae: 3684.8376\n",
            "Epoch 181/1000\n",
            "34/34 [==============================] - 0s 2ms/step - loss: 3669.5964 - mae: 3669.5964\n",
            "Epoch 182/1000\n",
            "34/34 [==============================] - 0s 2ms/step - loss: 3666.0186 - mae: 3666.0186\n",
            "Epoch 183/1000\n",
            "34/34 [==============================] - 0s 2ms/step - loss: 3664.1978 - mae: 3664.1978\n",
            "Epoch 184/1000\n",
            "34/34 [==============================] - 0s 1ms/step - loss: 3673.7251 - mae: 3673.7251\n",
            "Epoch 185/1000\n",
            "34/34 [==============================] - 0s 1ms/step - loss: 3667.0427 - mae: 3667.0427\n",
            "Epoch 186/1000\n",
            "34/34 [==============================] - 0s 2ms/step - loss: 3670.3796 - mae: 3670.3796\n",
            "Epoch 187/1000\n",
            "34/34 [==============================] - 0s 1ms/step - loss: 3665.3052 - mae: 3665.3052\n",
            "Epoch 188/1000\n",
            "34/34 [==============================] - 0s 2ms/step - loss: 3668.3425 - mae: 3668.3425\n",
            "Epoch 189/1000\n",
            "34/34 [==============================] - 0s 2ms/step - loss: 3657.9219 - mae: 3657.9219\n",
            "Epoch 190/1000\n",
            "34/34 [==============================] - 0s 2ms/step - loss: 3661.8567 - mae: 3661.8567\n",
            "Epoch 191/1000\n",
            "34/34 [==============================] - 0s 1ms/step - loss: 3672.7563 - mae: 3672.7563\n",
            "Epoch 192/1000\n",
            "34/34 [==============================] - 0s 1ms/step - loss: 3660.7812 - mae: 3660.7812\n",
            "Epoch 193/1000\n",
            "34/34 [==============================] - 0s 2ms/step - loss: 3651.9668 - mae: 3651.9668\n",
            "Epoch 194/1000\n",
            "34/34 [==============================] - 0s 1ms/step - loss: 3653.5593 - mae: 3653.5593\n",
            "Epoch 195/1000\n",
            "34/34 [==============================] - 0s 2ms/step - loss: 3646.9944 - mae: 3646.9944\n",
            "Epoch 196/1000\n",
            "34/34 [==============================] - 0s 1ms/step - loss: 3663.0891 - mae: 3663.0891\n",
            "Epoch 197/1000\n",
            "34/34 [==============================] - 0s 1ms/step - loss: 3643.1187 - mae: 3643.1187\n",
            "Epoch 198/1000\n",
            "34/34 [==============================] - 0s 1ms/step - loss: 3644.7515 - mae: 3644.7515\n",
            "Epoch 199/1000\n",
            "34/34 [==============================] - 0s 2ms/step - loss: 3648.4502 - mae: 3648.4502\n",
            "Epoch 200/1000\n",
            "34/34 [==============================] - 0s 1ms/step - loss: 3643.0886 - mae: 3643.0886\n",
            "Epoch 201/1000\n",
            "34/34 [==============================] - 0s 1ms/step - loss: 3643.6501 - mae: 3643.6501\n",
            "Epoch 202/1000\n",
            "34/34 [==============================] - 0s 2ms/step - loss: 3646.1294 - mae: 3646.1294\n",
            "Epoch 203/1000\n",
            "34/34 [==============================] - 0s 1ms/step - loss: 3643.3904 - mae: 3643.3904\n",
            "Epoch 204/1000\n",
            "34/34 [==============================] - 0s 1ms/step - loss: 3636.6963 - mae: 3636.6963\n",
            "Epoch 205/1000\n",
            "34/34 [==============================] - 0s 2ms/step - loss: 3642.5640 - mae: 3642.5640\n",
            "Epoch 206/1000\n",
            "34/34 [==============================] - 0s 2ms/step - loss: 3635.0588 - mae: 3635.0588\n",
            "Epoch 207/1000\n",
            "34/34 [==============================] - 0s 1ms/step - loss: 3641.7129 - mae: 3641.7129\n",
            "Epoch 208/1000\n",
            "34/34 [==============================] - 0s 1ms/step - loss: 3632.6184 - mae: 3632.6184\n",
            "Epoch 209/1000\n",
            "34/34 [==============================] - 0s 2ms/step - loss: 3633.8174 - mae: 3633.8174\n",
            "Epoch 210/1000\n",
            "34/34 [==============================] - 0s 2ms/step - loss: 3640.8164 - mae: 3640.8164\n",
            "Epoch 211/1000\n",
            "34/34 [==============================] - 0s 2ms/step - loss: 3633.9810 - mae: 3633.9810\n",
            "Epoch 212/1000\n",
            "34/34 [==============================] - 0s 1ms/step - loss: 3643.9116 - mae: 3643.9116\n",
            "Epoch 213/1000\n",
            "34/34 [==============================] - 0s 1ms/step - loss: 3634.6348 - mae: 3634.6348\n",
            "Epoch 214/1000\n",
            "34/34 [==============================] - 0s 2ms/step - loss: 3660.1147 - mae: 3660.1147\n",
            "Epoch 215/1000\n",
            "34/34 [==============================] - 0s 1ms/step - loss: 3637.2800 - mae: 3637.2800\n",
            "Epoch 216/1000\n",
            "34/34 [==============================] - 0s 2ms/step - loss: 3626.2219 - mae: 3626.2219\n",
            "Epoch 217/1000\n",
            "34/34 [==============================] - 0s 1ms/step - loss: 3624.9023 - mae: 3624.9023\n",
            "Epoch 218/1000\n",
            "34/34 [==============================] - 0s 2ms/step - loss: 3626.0850 - mae: 3626.0850\n",
            "Epoch 219/1000\n",
            "34/34 [==============================] - 0s 1ms/step - loss: 3630.7720 - mae: 3630.7720\n",
            "Epoch 220/1000\n",
            "34/34 [==============================] - 0s 2ms/step - loss: 3616.1785 - mae: 3616.1785\n",
            "Epoch 221/1000\n",
            "34/34 [==============================] - 0s 1ms/step - loss: 3619.2681 - mae: 3619.2681\n",
            "Epoch 222/1000\n",
            "34/34 [==============================] - 0s 1ms/step - loss: 3634.9995 - mae: 3634.9995\n",
            "Epoch 223/1000\n",
            "34/34 [==============================] - 0s 2ms/step - loss: 3617.2090 - mae: 3617.2090\n",
            "Epoch 224/1000\n",
            "34/34 [==============================] - 0s 2ms/step - loss: 3620.2095 - mae: 3620.2095\n",
            "Epoch 225/1000\n",
            "34/34 [==============================] - 0s 2ms/step - loss: 3612.5557 - mae: 3612.5557\n",
            "Epoch 226/1000\n",
            "34/34 [==============================] - 0s 1ms/step - loss: 3609.5574 - mae: 3609.5574\n",
            "Epoch 227/1000\n",
            "34/34 [==============================] - 0s 1ms/step - loss: 3605.5457 - mae: 3605.5457\n",
            "Epoch 228/1000\n",
            "34/34 [==============================] - 0s 1ms/step - loss: 3607.2705 - mae: 3607.2705\n",
            "Epoch 229/1000\n",
            "34/34 [==============================] - 0s 2ms/step - loss: 3611.2527 - mae: 3611.2527\n",
            "Epoch 230/1000\n",
            "34/34 [==============================] - 0s 1ms/step - loss: 3603.1143 - mae: 3603.1143\n",
            "Epoch 231/1000\n",
            "34/34 [==============================] - 0s 2ms/step - loss: 3601.0693 - mae: 3601.0693\n",
            "Epoch 232/1000\n",
            "34/34 [==============================] - 0s 2ms/step - loss: 3595.7568 - mae: 3595.7568\n",
            "Epoch 233/1000\n",
            "34/34 [==============================] - 0s 3ms/step - loss: 3595.9470 - mae: 3595.9470\n",
            "Epoch 234/1000\n",
            "34/34 [==============================] - 0s 1ms/step - loss: 3606.0117 - mae: 3606.0117\n",
            "Epoch 235/1000\n",
            "34/34 [==============================] - 0s 2ms/step - loss: 3618.6711 - mae: 3618.6711\n",
            "Epoch 236/1000\n",
            "34/34 [==============================] - 0s 1ms/step - loss: 3599.0017 - mae: 3599.0017\n",
            "Epoch 237/1000\n",
            "34/34 [==============================] - 0s 1ms/step - loss: 3603.8792 - mae: 3603.8792\n",
            "Epoch 238/1000\n",
            "34/34 [==============================] - 0s 1ms/step - loss: 3586.6423 - mae: 3586.6423\n",
            "Epoch 239/1000\n",
            "34/34 [==============================] - 0s 1ms/step - loss: 3592.3997 - mae: 3592.3997\n",
            "Epoch 240/1000\n",
            "34/34 [==============================] - 0s 2ms/step - loss: 3594.8447 - mae: 3594.8447\n",
            "Epoch 241/1000\n",
            "34/34 [==============================] - 0s 1ms/step - loss: 3585.1663 - mae: 3585.1663\n",
            "Epoch 242/1000\n",
            "34/34 [==============================] - 0s 1ms/step - loss: 3586.1609 - mae: 3586.1609\n",
            "Epoch 243/1000\n",
            "34/34 [==============================] - 0s 1ms/step - loss: 3579.5408 - mae: 3579.5408\n",
            "Epoch 244/1000\n",
            "34/34 [==============================] - 0s 2ms/step - loss: 3594.9104 - mae: 3594.9104\n",
            "Epoch 245/1000\n",
            "34/34 [==============================] - 0s 1ms/step - loss: 3579.5205 - mae: 3579.5205\n",
            "Epoch 246/1000\n",
            "34/34 [==============================] - 0s 2ms/step - loss: 3575.5283 - mae: 3575.5283\n",
            "Epoch 247/1000\n",
            "34/34 [==============================] - 0s 2ms/step - loss: 3577.0989 - mae: 3577.0989\n",
            "Epoch 248/1000\n",
            "34/34 [==============================] - 0s 2ms/step - loss: 3593.3257 - mae: 3593.3257\n",
            "Epoch 249/1000\n",
            "34/34 [==============================] - 0s 1ms/step - loss: 3576.4387 - mae: 3576.4387\n",
            "Epoch 250/1000\n",
            "34/34 [==============================] - 0s 1ms/step - loss: 3569.4524 - mae: 3569.4524\n",
            "Epoch 251/1000\n",
            "34/34 [==============================] - 0s 2ms/step - loss: 3568.0713 - mae: 3568.0713\n",
            "Epoch 252/1000\n",
            "34/34 [==============================] - 0s 1ms/step - loss: 3573.8562 - mae: 3573.8562\n",
            "Epoch 253/1000\n",
            "34/34 [==============================] - 0s 1ms/step - loss: 3566.9399 - mae: 3566.9399\n",
            "Epoch 254/1000\n",
            "34/34 [==============================] - 0s 2ms/step - loss: 3565.9087 - mae: 3565.9087\n",
            "Epoch 255/1000\n",
            "34/34 [==============================] - 0s 2ms/step - loss: 3559.6050 - mae: 3559.6050\n",
            "Epoch 256/1000\n",
            "34/34 [==============================] - 0s 2ms/step - loss: 3564.0862 - mae: 3564.0862\n",
            "Epoch 257/1000\n",
            "34/34 [==============================] - 0s 1ms/step - loss: 3559.7637 - mae: 3559.7637\n",
            "Epoch 258/1000\n",
            "34/34 [==============================] - 0s 2ms/step - loss: 3575.6353 - mae: 3575.6353\n",
            "Epoch 259/1000\n",
            "34/34 [==============================] - 0s 1ms/step - loss: 3556.8679 - mae: 3556.8679\n",
            "Epoch 260/1000\n",
            "34/34 [==============================] - 0s 2ms/step - loss: 3565.3953 - mae: 3565.3953\n",
            "Epoch 261/1000\n",
            "34/34 [==============================] - 0s 2ms/step - loss: 3558.5088 - mae: 3558.5088\n",
            "Epoch 262/1000\n",
            "34/34 [==============================] - 0s 2ms/step - loss: 3553.1101 - mae: 3553.1101\n",
            "Epoch 263/1000\n",
            "34/34 [==============================] - 0s 1ms/step - loss: 3556.5911 - mae: 3556.5911\n",
            "Epoch 264/1000\n",
            "34/34 [==============================] - 0s 2ms/step - loss: 3556.7473 - mae: 3556.7473\n",
            "Epoch 265/1000\n",
            "34/34 [==============================] - 0s 2ms/step - loss: 3552.9348 - mae: 3552.9348\n",
            "Epoch 266/1000\n",
            "34/34 [==============================] - 0s 2ms/step - loss: 3552.5010 - mae: 3552.5010\n",
            "Epoch 267/1000\n",
            "34/34 [==============================] - 0s 1ms/step - loss: 3559.3298 - mae: 3559.3298\n",
            "Epoch 268/1000\n",
            "34/34 [==============================] - 0s 1ms/step - loss: 3548.9695 - mae: 3548.9695\n",
            "Epoch 269/1000\n",
            "34/34 [==============================] - 0s 1ms/step - loss: 3558.4426 - mae: 3558.4426\n",
            "Epoch 270/1000\n",
            "34/34 [==============================] - 0s 2ms/step - loss: 3545.7798 - mae: 3545.7798\n",
            "Epoch 271/1000\n",
            "34/34 [==============================] - 0s 2ms/step - loss: 3545.4995 - mae: 3545.4995\n",
            "Epoch 272/1000\n",
            "34/34 [==============================] - 0s 2ms/step - loss: 3542.0481 - mae: 3542.0481\n",
            "Epoch 273/1000\n",
            "34/34 [==============================] - 0s 1ms/step - loss: 3545.5942 - mae: 3545.5942\n",
            "Epoch 274/1000\n",
            "34/34 [==============================] - 0s 2ms/step - loss: 3544.0330 - mae: 3544.0330\n",
            "Epoch 275/1000\n",
            "34/34 [==============================] - 0s 2ms/step - loss: 3540.7207 - mae: 3540.7207\n",
            "Epoch 276/1000\n",
            "34/34 [==============================] - 0s 1ms/step - loss: 3545.7168 - mae: 3545.7168\n",
            "Epoch 277/1000\n",
            "34/34 [==============================] - 0s 1ms/step - loss: 3539.9858 - mae: 3539.9858\n",
            "Epoch 278/1000\n",
            "34/34 [==============================] - 0s 1ms/step - loss: 3538.7793 - mae: 3538.7793\n",
            "Epoch 279/1000\n",
            "34/34 [==============================] - 0s 2ms/step - loss: 3544.7786 - mae: 3544.7786\n",
            "Epoch 280/1000\n",
            "34/34 [==============================] - 0s 1ms/step - loss: 3536.4922 - mae: 3536.4922\n",
            "Epoch 281/1000\n",
            "34/34 [==============================] - 0s 1ms/step - loss: 3534.6797 - mae: 3534.6797\n",
            "Epoch 282/1000\n",
            "34/34 [==============================] - 0s 2ms/step - loss: 3532.4785 - mae: 3532.4785\n",
            "Epoch 283/1000\n",
            "34/34 [==============================] - 0s 1ms/step - loss: 3536.8162 - mae: 3536.8162\n",
            "Epoch 284/1000\n",
            "34/34 [==============================] - 0s 2ms/step - loss: 3533.0762 - mae: 3533.0762\n",
            "Epoch 285/1000\n",
            "34/34 [==============================] - 0s 2ms/step - loss: 3539.1345 - mae: 3539.1345\n",
            "Epoch 286/1000\n",
            "34/34 [==============================] - 0s 2ms/step - loss: 3524.9685 - mae: 3524.9685\n",
            "Epoch 287/1000\n",
            "34/34 [==============================] - 0s 1ms/step - loss: 3526.3872 - mae: 3526.3872\n",
            "Epoch 288/1000\n",
            "34/34 [==============================] - 0s 2ms/step - loss: 3525.7031 - mae: 3525.7031\n",
            "Epoch 289/1000\n",
            "34/34 [==============================] - 0s 1ms/step - loss: 3529.0200 - mae: 3529.0200\n",
            "Epoch 290/1000\n",
            "34/34 [==============================] - 0s 1ms/step - loss: 3533.4141 - mae: 3533.4141\n",
            "Epoch 291/1000\n",
            "34/34 [==============================] - 0s 2ms/step - loss: 3531.7275 - mae: 3531.7275\n",
            "Epoch 292/1000\n",
            "34/34 [==============================] - 0s 2ms/step - loss: 3532.8484 - mae: 3532.8484\n",
            "Epoch 293/1000\n",
            "34/34 [==============================] - 0s 1ms/step - loss: 3524.2458 - mae: 3524.2458\n",
            "Epoch 294/1000\n",
            "34/34 [==============================] - 0s 1ms/step - loss: 3532.1140 - mae: 3532.1140\n",
            "Epoch 295/1000\n",
            "34/34 [==============================] - 0s 2ms/step - loss: 3538.1277 - mae: 3538.1277\n",
            "Epoch 296/1000\n",
            "34/34 [==============================] - 0s 2ms/step - loss: 3519.6975 - mae: 3519.6975\n",
            "Epoch 297/1000\n",
            "34/34 [==============================] - 0s 1ms/step - loss: 3515.0842 - mae: 3515.0842\n",
            "Epoch 298/1000\n",
            "34/34 [==============================] - 0s 1ms/step - loss: 3516.4812 - mae: 3516.4812\n",
            "Epoch 299/1000\n",
            "34/34 [==============================] - 0s 2ms/step - loss: 3529.4751 - mae: 3529.4751\n",
            "Epoch 300/1000\n",
            "34/34 [==============================] - 0s 2ms/step - loss: 3518.8467 - mae: 3518.8467\n",
            "Epoch 301/1000\n",
            "34/34 [==============================] - 0s 2ms/step - loss: 3517.3464 - mae: 3517.3464\n",
            "Epoch 302/1000\n",
            "34/34 [==============================] - 0s 1ms/step - loss: 3539.7437 - mae: 3539.7437\n",
            "Epoch 303/1000\n",
            "34/34 [==============================] - 0s 1ms/step - loss: 3543.3496 - mae: 3543.3496\n",
            "Epoch 304/1000\n",
            "34/34 [==============================] - 0s 2ms/step - loss: 3516.2261 - mae: 3516.2261\n",
            "Epoch 305/1000\n",
            "34/34 [==============================] - 0s 1ms/step - loss: 3510.6467 - mae: 3510.6467\n",
            "Epoch 306/1000\n",
            "34/34 [==============================] - 0s 1ms/step - loss: 3513.5422 - mae: 3513.5422\n",
            "Epoch 307/1000\n",
            "34/34 [==============================] - 0s 2ms/step - loss: 3512.5183 - mae: 3512.5183\n",
            "Epoch 308/1000\n",
            "34/34 [==============================] - 0s 2ms/step - loss: 3511.6997 - mae: 3511.6997\n",
            "Epoch 309/1000\n",
            "34/34 [==============================] - 0s 2ms/step - loss: 3506.2224 - mae: 3506.2224\n",
            "Epoch 310/1000\n",
            "34/34 [==============================] - 0s 2ms/step - loss: 3508.9607 - mae: 3508.9607\n",
            "Epoch 311/1000\n",
            "34/34 [==============================] - 0s 1ms/step - loss: 3514.6873 - mae: 3514.6873\n",
            "Epoch 312/1000\n",
            "34/34 [==============================] - 0s 2ms/step - loss: 3509.3240 - mae: 3509.3240\n",
            "Epoch 313/1000\n",
            "34/34 [==============================] - 0s 1ms/step - loss: 3502.1309 - mae: 3502.1309\n",
            "Epoch 314/1000\n",
            "34/34 [==============================] - 0s 1ms/step - loss: 3503.6877 - mae: 3503.6877\n",
            "Epoch 315/1000\n",
            "34/34 [==============================] - 0s 2ms/step - loss: 3509.7593 - mae: 3509.7593\n",
            "Epoch 316/1000\n",
            "34/34 [==============================] - 0s 2ms/step - loss: 3502.4705 - mae: 3502.4705\n",
            "Epoch 317/1000\n",
            "34/34 [==============================] - 0s 2ms/step - loss: 3497.6311 - mae: 3497.6311\n",
            "Epoch 318/1000\n",
            "34/34 [==============================] - 0s 1ms/step - loss: 3501.0261 - mae: 3501.0261\n",
            "Epoch 319/1000\n",
            "34/34 [==============================] - 0s 2ms/step - loss: 3498.0481 - mae: 3498.0481\n",
            "Epoch 320/1000\n",
            "34/34 [==============================] - 0s 2ms/step - loss: 3502.4907 - mae: 3502.4907\n",
            "Epoch 321/1000\n",
            "34/34 [==============================] - 0s 1ms/step - loss: 3504.3997 - mae: 3504.3997\n",
            "Epoch 322/1000\n",
            "34/34 [==============================] - 0s 2ms/step - loss: 3509.5024 - mae: 3509.5024\n",
            "Epoch 323/1000\n",
            "34/34 [==============================] - 0s 2ms/step - loss: 3496.2449 - mae: 3496.2449\n",
            "Epoch 324/1000\n",
            "34/34 [==============================] - 0s 1ms/step - loss: 3493.3267 - mae: 3493.3267\n",
            "Epoch 325/1000\n",
            "34/34 [==============================] - 0s 3ms/step - loss: 3490.1567 - mae: 3490.1567\n",
            "Epoch 326/1000\n",
            "34/34 [==============================] - 0s 2ms/step - loss: 3490.6299 - mae: 3490.6299\n",
            "Epoch 327/1000\n",
            "34/34 [==============================] - 0s 2ms/step - loss: 3487.6074 - mae: 3487.6074\n",
            "Epoch 328/1000\n",
            "34/34 [==============================] - 0s 1ms/step - loss: 3498.8945 - mae: 3498.8945\n",
            "Epoch 329/1000\n",
            "34/34 [==============================] - 0s 1ms/step - loss: 3516.0767 - mae: 3516.0767\n",
            "Epoch 330/1000\n",
            "34/34 [==============================] - 0s 1ms/step - loss: 3485.2529 - mae: 3485.2529\n",
            "Epoch 331/1000\n",
            "34/34 [==============================] - 0s 2ms/step - loss: 3488.7070 - mae: 3488.7070\n",
            "Epoch 332/1000\n",
            "34/34 [==============================] - 0s 2ms/step - loss: 3486.3887 - mae: 3486.3887\n",
            "Epoch 333/1000\n",
            "34/34 [==============================] - 0s 1ms/step - loss: 3481.1060 - mae: 3481.1060\n",
            "Epoch 334/1000\n",
            "34/34 [==============================] - 0s 1ms/step - loss: 3480.7161 - mae: 3480.7161\n",
            "Epoch 335/1000\n",
            "34/34 [==============================] - 0s 1ms/step - loss: 3479.5669 - mae: 3479.5669\n",
            "Epoch 336/1000\n",
            "34/34 [==============================] - 0s 1ms/step - loss: 3482.1328 - mae: 3482.1328\n",
            "Epoch 337/1000\n",
            "34/34 [==============================] - 0s 2ms/step - loss: 3485.7979 - mae: 3485.7979\n",
            "Epoch 338/1000\n",
            "34/34 [==============================] - 0s 2ms/step - loss: 3495.7715 - mae: 3495.7715\n",
            "Epoch 339/1000\n",
            "34/34 [==============================] - 0s 1ms/step - loss: 3482.1724 - mae: 3482.1724\n",
            "Epoch 340/1000\n",
            "34/34 [==============================] - 0s 2ms/step - loss: 3481.8311 - mae: 3481.8311\n",
            "Epoch 341/1000\n",
            "34/34 [==============================] - 0s 1ms/step - loss: 3482.6470 - mae: 3482.6470\n",
            "Epoch 342/1000\n",
            "34/34 [==============================] - 0s 1ms/step - loss: 3485.7476 - mae: 3485.7476\n",
            "Epoch 343/1000\n",
            "34/34 [==============================] - 0s 2ms/step - loss: 3481.6199 - mae: 3481.6199\n",
            "Epoch 344/1000\n",
            "34/34 [==============================] - 0s 2ms/step - loss: 3482.0852 - mae: 3482.0852\n",
            "Epoch 345/1000\n",
            "34/34 [==============================] - 0s 2ms/step - loss: 3485.6028 - mae: 3485.6028\n",
            "Epoch 346/1000\n",
            "34/34 [==============================] - 0s 2ms/step - loss: 3485.8669 - mae: 3485.8669\n",
            "Epoch 347/1000\n",
            "34/34 [==============================] - 0s 2ms/step - loss: 3482.0259 - mae: 3482.0259\n",
            "Epoch 348/1000\n",
            "34/34 [==============================] - 0s 2ms/step - loss: 3478.5823 - mae: 3478.5823\n",
            "Epoch 349/1000\n",
            "34/34 [==============================] - 0s 2ms/step - loss: 3483.3054 - mae: 3483.3054\n",
            "Epoch 350/1000\n",
            "34/34 [==============================] - 0s 1ms/step - loss: 3479.4001 - mae: 3479.4001\n",
            "Epoch 351/1000\n",
            "34/34 [==============================] - 0s 1ms/step - loss: 3483.6433 - mae: 3483.6433\n",
            "Epoch 352/1000\n",
            "34/34 [==============================] - 0s 2ms/step - loss: 3481.7644 - mae: 3481.7644\n",
            "Epoch 353/1000\n",
            "34/34 [==============================] - 0s 2ms/step - loss: 3499.9795 - mae: 3499.9795\n",
            "Epoch 354/1000\n",
            "34/34 [==============================] - 0s 1ms/step - loss: 3476.8110 - mae: 3476.8110\n",
            "Epoch 355/1000\n",
            "34/34 [==============================] - 0s 1ms/step - loss: 3475.9792 - mae: 3475.9792\n",
            "Epoch 356/1000\n",
            "34/34 [==============================] - 0s 2ms/step - loss: 3490.6128 - mae: 3490.6128\n",
            "Epoch 357/1000\n",
            "34/34 [==============================] - 0s 1ms/step - loss: 3477.1348 - mae: 3477.1348\n",
            "Epoch 358/1000\n",
            "34/34 [==============================] - 0s 2ms/step - loss: 3482.6831 - mae: 3482.6831\n",
            "Epoch 359/1000\n",
            "34/34 [==============================] - 0s 2ms/step - loss: 3504.1841 - mae: 3504.1841\n",
            "Epoch 360/1000\n",
            "34/34 [==============================] - 0s 2ms/step - loss: 3483.3308 - mae: 3483.3308\n",
            "Epoch 361/1000\n",
            "34/34 [==============================] - 0s 1ms/step - loss: 3482.4644 - mae: 3482.4644\n",
            "Epoch 362/1000\n",
            "34/34 [==============================] - 0s 2ms/step - loss: 3486.8928 - mae: 3486.8928\n",
            "Epoch 363/1000\n",
            "34/34 [==============================] - 0s 2ms/step - loss: 3484.4741 - mae: 3484.4741\n",
            "Epoch 364/1000\n",
            "34/34 [==============================] - 0s 1ms/step - loss: 3501.9995 - mae: 3501.9995\n",
            "Epoch 365/1000\n",
            "34/34 [==============================] - 0s 1ms/step - loss: 3487.5552 - mae: 3487.5552\n",
            "Epoch 366/1000\n",
            "34/34 [==============================] - 0s 2ms/step - loss: 3480.4863 - mae: 3480.4863\n",
            "Epoch 367/1000\n",
            "34/34 [==============================] - 0s 2ms/step - loss: 3474.7141 - mae: 3474.7141\n",
            "Epoch 368/1000\n",
            "34/34 [==============================] - 0s 2ms/step - loss: 3479.4429 - mae: 3479.4429\n",
            "Epoch 369/1000\n",
            "34/34 [==============================] - 0s 1ms/step - loss: 3481.3777 - mae: 3481.3777\n",
            "Epoch 370/1000\n",
            "34/34 [==============================] - 0s 1ms/step - loss: 3487.9858 - mae: 3487.9858\n",
            "Epoch 371/1000\n",
            "34/34 [==============================] - 0s 1ms/step - loss: 3479.8757 - mae: 3479.8757\n",
            "Epoch 372/1000\n",
            "34/34 [==============================] - 0s 2ms/step - loss: 3476.3311 - mae: 3476.3311\n",
            "Epoch 373/1000\n",
            "34/34 [==============================] - 0s 1ms/step - loss: 3474.9971 - mae: 3474.9971\n",
            "Epoch 374/1000\n",
            "34/34 [==============================] - 0s 2ms/step - loss: 3487.8960 - mae: 3487.8960\n",
            "Epoch 375/1000\n",
            "34/34 [==============================] - 0s 2ms/step - loss: 3475.4053 - mae: 3475.4053\n",
            "Epoch 376/1000\n",
            "34/34 [==============================] - 0s 2ms/step - loss: 3474.8762 - mae: 3474.8762\n",
            "Epoch 377/1000\n",
            "34/34 [==============================] - 0s 2ms/step - loss: 3476.6799 - mae: 3476.6799\n",
            "Epoch 378/1000\n",
            "34/34 [==============================] - 0s 2ms/step - loss: 3479.7095 - mae: 3479.7095\n",
            "Epoch 379/1000\n",
            "34/34 [==============================] - 0s 2ms/step - loss: 3496.8171 - mae: 3496.8171\n",
            "Epoch 380/1000\n",
            "34/34 [==============================] - 0s 2ms/step - loss: 3482.0054 - mae: 3482.0054\n",
            "Epoch 381/1000\n",
            "34/34 [==============================] - 0s 2ms/step - loss: 3492.9956 - mae: 3492.9956\n",
            "Epoch 382/1000\n",
            "34/34 [==============================] - 0s 1ms/step - loss: 3482.1399 - mae: 3482.1399\n",
            "Epoch 383/1000\n",
            "34/34 [==============================] - 0s 2ms/step - loss: 3480.6685 - mae: 3480.6685\n",
            "Epoch 384/1000\n",
            "34/34 [==============================] - 0s 2ms/step - loss: 3499.9675 - mae: 3499.9675\n",
            "Epoch 385/1000\n",
            "34/34 [==============================] - 0s 2ms/step - loss: 3478.8708 - mae: 3478.8708\n",
            "Epoch 386/1000\n",
            "34/34 [==============================] - 0s 2ms/step - loss: 3487.7783 - mae: 3487.7783\n",
            "Epoch 387/1000\n",
            "34/34 [==============================] - 0s 1ms/step - loss: 3481.0183 - mae: 3481.0183\n",
            "Epoch 388/1000\n",
            "34/34 [==============================] - 0s 2ms/step - loss: 3479.6125 - mae: 3479.6125\n",
            "Epoch 389/1000\n",
            "34/34 [==============================] - 0s 2ms/step - loss: 3484.8643 - mae: 3484.8643\n",
            "Epoch 390/1000\n",
            "34/34 [==============================] - 0s 2ms/step - loss: 3500.2075 - mae: 3500.2075\n",
            "Epoch 391/1000\n",
            "34/34 [==============================] - 0s 2ms/step - loss: 3490.2644 - mae: 3490.2644\n",
            "Epoch 392/1000\n",
            "34/34 [==============================] - 0s 1ms/step - loss: 3485.0479 - mae: 3485.0479\n",
            "Epoch 393/1000\n",
            "34/34 [==============================] - 0s 1ms/step - loss: 3496.8181 - mae: 3496.8181\n",
            "Epoch 394/1000\n",
            "34/34 [==============================] - 0s 2ms/step - loss: 3477.6111 - mae: 3477.6111\n",
            "Epoch 395/1000\n",
            "34/34 [==============================] - 0s 2ms/step - loss: 3490.4080 - mae: 3490.4080\n",
            "Epoch 396/1000\n",
            "34/34 [==============================] - 0s 2ms/step - loss: 3481.7617 - mae: 3481.7617\n",
            "Epoch 397/1000\n",
            "34/34 [==============================] - 0s 2ms/step - loss: 3481.7510 - mae: 3481.7510\n",
            "Epoch 398/1000\n",
            "34/34 [==============================] - 0s 2ms/step - loss: 3480.2056 - mae: 3480.2056\n",
            "Epoch 399/1000\n",
            "34/34 [==============================] - 0s 2ms/step - loss: 3483.6494 - mae: 3483.6494\n",
            "Epoch 400/1000\n",
            "34/34 [==============================] - 0s 2ms/step - loss: 3476.7620 - mae: 3476.7620\n",
            "Epoch 401/1000\n",
            "34/34 [==============================] - 0s 2ms/step - loss: 3480.7522 - mae: 3480.7522\n",
            "Epoch 402/1000\n",
            "34/34 [==============================] - 0s 2ms/step - loss: 3479.8362 - mae: 3479.8362\n",
            "Epoch 403/1000\n",
            "34/34 [==============================] - 0s 1ms/step - loss: 3483.6853 - mae: 3483.6853\n",
            "Epoch 404/1000\n",
            "34/34 [==============================] - 0s 2ms/step - loss: 3481.7256 - mae: 3481.7256\n",
            "Epoch 405/1000\n",
            "34/34 [==============================] - 0s 1ms/step - loss: 3474.5107 - mae: 3474.5107\n",
            "Epoch 406/1000\n",
            "34/34 [==============================] - 0s 2ms/step - loss: 3482.8523 - mae: 3482.8523\n",
            "Epoch 407/1000\n",
            "34/34 [==============================] - 0s 1ms/step - loss: 3483.3362 - mae: 3483.3362\n",
            "Epoch 408/1000\n",
            "34/34 [==============================] - 0s 2ms/step - loss: 3481.4189 - mae: 3481.4189\n",
            "Epoch 409/1000\n",
            "34/34 [==============================] - 0s 2ms/step - loss: 3480.7495 - mae: 3480.7495\n",
            "Epoch 410/1000\n",
            "34/34 [==============================] - 0s 2ms/step - loss: 3476.8303 - mae: 3476.8303\n",
            "Epoch 411/1000\n",
            "34/34 [==============================] - 0s 1ms/step - loss: 3484.1985 - mae: 3484.1985\n",
            "Epoch 412/1000\n",
            "34/34 [==============================] - 0s 1ms/step - loss: 3477.4727 - mae: 3477.4727\n",
            "Epoch 413/1000\n",
            "34/34 [==============================] - 0s 2ms/step - loss: 3477.0430 - mae: 3477.0430\n",
            "Epoch 414/1000\n",
            "34/34 [==============================] - 0s 2ms/step - loss: 3477.1299 - mae: 3477.1299\n",
            "Epoch 415/1000\n",
            "34/34 [==============================] - 0s 2ms/step - loss: 3488.6660 - mae: 3488.6660\n",
            "Epoch 416/1000\n",
            "34/34 [==============================] - 0s 2ms/step - loss: 3476.2852 - mae: 3476.2852\n",
            "Epoch 417/1000\n",
            "34/34 [==============================] - 0s 2ms/step - loss: 3476.9373 - mae: 3476.9373\n",
            "Epoch 418/1000\n",
            "34/34 [==============================] - 0s 2ms/step - loss: 3488.1040 - mae: 3488.1040\n",
            "Epoch 419/1000\n",
            "34/34 [==============================] - 0s 2ms/step - loss: 3478.5244 - mae: 3478.5244\n",
            "Epoch 420/1000\n",
            "34/34 [==============================] - 0s 2ms/step - loss: 3489.7122 - mae: 3489.7122\n",
            "Epoch 421/1000\n",
            "34/34 [==============================] - 0s 2ms/step - loss: 3477.5945 - mae: 3477.5945\n",
            "Epoch 422/1000\n",
            "34/34 [==============================] - 0s 2ms/step - loss: 3484.8633 - mae: 3484.8633\n",
            "Epoch 423/1000\n",
            "34/34 [==============================] - 0s 2ms/step - loss: 3487.5796 - mae: 3487.5796\n",
            "Epoch 424/1000\n",
            "34/34 [==============================] - 0s 1ms/step - loss: 3503.3738 - mae: 3503.3738\n",
            "Epoch 425/1000\n",
            "34/34 [==============================] - 0s 2ms/step - loss: 3476.0588 - mae: 3476.0588\n",
            "Epoch 426/1000\n",
            "34/34 [==============================] - 0s 2ms/step - loss: 3496.7031 - mae: 3496.7031\n",
            "Epoch 427/1000\n",
            "34/34 [==============================] - 0s 1ms/step - loss: 3482.7256 - mae: 3482.7256\n",
            "Epoch 428/1000\n",
            "34/34 [==============================] - 0s 2ms/step - loss: 3476.7458 - mae: 3476.7458\n",
            "Epoch 429/1000\n",
            "34/34 [==============================] - 0s 1ms/step - loss: 3474.4075 - mae: 3474.4075\n",
            "Epoch 430/1000\n",
            "34/34 [==============================] - 0s 2ms/step - loss: 3483.2764 - mae: 3483.2764\n",
            "Epoch 431/1000\n",
            "34/34 [==============================] - 0s 1ms/step - loss: 3499.8379 - mae: 3499.8379\n",
            "Epoch 432/1000\n",
            "34/34 [==============================] - 0s 1ms/step - loss: 3474.2908 - mae: 3474.2908\n",
            "Epoch 433/1000\n",
            "34/34 [==============================] - 0s 2ms/step - loss: 3476.2668 - mae: 3476.2668\n",
            "Epoch 434/1000\n",
            "34/34 [==============================] - 0s 1ms/step - loss: 3486.1729 - mae: 3486.1729\n",
            "Epoch 435/1000\n",
            "34/34 [==============================] - 0s 2ms/step - loss: 3490.8289 - mae: 3490.8289\n",
            "Epoch 436/1000\n",
            "34/34 [==============================] - 0s 2ms/step - loss: 3482.5698 - mae: 3482.5698\n",
            "Epoch 437/1000\n",
            "34/34 [==============================] - 0s 2ms/step - loss: 3481.5410 - mae: 3481.5410\n",
            "Epoch 438/1000\n",
            "34/34 [==============================] - 0s 2ms/step - loss: 3489.4299 - mae: 3489.4299\n",
            "Epoch 439/1000\n",
            "34/34 [==============================] - 0s 2ms/step - loss: 3481.3679 - mae: 3481.3679\n",
            "Epoch 440/1000\n",
            "34/34 [==============================] - 0s 1ms/step - loss: 3488.4402 - mae: 3488.4402\n",
            "Epoch 441/1000\n",
            "34/34 [==============================] - 0s 1ms/step - loss: 3479.9910 - mae: 3479.9910\n",
            "Epoch 442/1000\n",
            "34/34 [==============================] - 0s 2ms/step - loss: 3488.0908 - mae: 3488.0908\n",
            "Epoch 443/1000\n",
            "34/34 [==============================] - 0s 2ms/step - loss: 3478.8181 - mae: 3478.8181\n",
            "Epoch 444/1000\n",
            "34/34 [==============================] - 0s 2ms/step - loss: 3480.7241 - mae: 3480.7241\n",
            "Epoch 445/1000\n",
            "34/34 [==============================] - 0s 2ms/step - loss: 3490.4763 - mae: 3490.4763\n",
            "Epoch 446/1000\n",
            "34/34 [==============================] - 0s 2ms/step - loss: 3507.5977 - mae: 3507.5977\n",
            "Epoch 447/1000\n",
            "34/34 [==============================] - 0s 2ms/step - loss: 3479.3040 - mae: 3479.3040\n",
            "Epoch 448/1000\n",
            "34/34 [==============================] - 0s 2ms/step - loss: 3482.7402 - mae: 3482.7402\n",
            "Epoch 449/1000\n",
            "34/34 [==============================] - 0s 1ms/step - loss: 3486.8667 - mae: 3486.8667\n",
            "Epoch 450/1000\n",
            "34/34 [==============================] - 0s 2ms/step - loss: 3483.5408 - mae: 3483.5408\n",
            "Epoch 451/1000\n",
            "34/34 [==============================] - 0s 2ms/step - loss: 3487.4590 - mae: 3487.4590\n",
            "Epoch 452/1000\n",
            "34/34 [==============================] - 0s 1ms/step - loss: 3486.9644 - mae: 3486.9644\n",
            "Epoch 453/1000\n",
            "34/34 [==============================] - 0s 1ms/step - loss: 3475.9912 - mae: 3475.9912\n",
            "Epoch 454/1000\n",
            "34/34 [==============================] - 0s 2ms/step - loss: 3485.6125 - mae: 3485.6125\n",
            "Epoch 455/1000\n",
            "34/34 [==============================] - 0s 2ms/step - loss: 3485.0715 - mae: 3485.0715\n",
            "Epoch 456/1000\n",
            "34/34 [==============================] - 0s 1ms/step - loss: 3480.9558 - mae: 3480.9558\n",
            "Epoch 457/1000\n",
            "34/34 [==============================] - 0s 2ms/step - loss: 3486.5117 - mae: 3486.5117\n",
            "Epoch 458/1000\n",
            "34/34 [==============================] - 0s 2ms/step - loss: 3483.9348 - mae: 3483.9348\n",
            "Epoch 459/1000\n",
            "34/34 [==============================] - 0s 2ms/step - loss: 3479.8069 - mae: 3479.8069\n",
            "Epoch 460/1000\n",
            "34/34 [==============================] - 0s 2ms/step - loss: 3478.2219 - mae: 3478.2219\n",
            "Epoch 461/1000\n",
            "34/34 [==============================] - 0s 1ms/step - loss: 3475.9182 - mae: 3475.9182\n",
            "Epoch 462/1000\n",
            "34/34 [==============================] - 0s 1ms/step - loss: 3478.6167 - mae: 3478.6167\n",
            "Epoch 463/1000\n",
            "34/34 [==============================] - 0s 2ms/step - loss: 3479.1191 - mae: 3479.1191\n",
            "Epoch 464/1000\n",
            "34/34 [==============================] - 0s 2ms/step - loss: 3479.7002 - mae: 3479.7002\n",
            "Epoch 465/1000\n",
            "34/34 [==============================] - 0s 2ms/step - loss: 3479.0476 - mae: 3479.0476\n",
            "Epoch 466/1000\n",
            "34/34 [==============================] - 0s 2ms/step - loss: 3480.2817 - mae: 3480.2817\n",
            "Epoch 467/1000\n",
            "34/34 [==============================] - 0s 1ms/step - loss: 3480.8525 - mae: 3480.8525\n",
            "Epoch 468/1000\n",
            "34/34 [==============================] - 0s 2ms/step - loss: 3486.2107 - mae: 3486.2107\n",
            "Epoch 469/1000\n",
            "34/34 [==============================] - 0s 2ms/step - loss: 3477.1804 - mae: 3477.1804\n",
            "Epoch 470/1000\n",
            "34/34 [==============================] - 0s 2ms/step - loss: 3477.6782 - mae: 3477.6782\n",
            "Epoch 471/1000\n",
            "34/34 [==============================] - 0s 2ms/step - loss: 3485.9690 - mae: 3485.9690\n",
            "Epoch 472/1000\n",
            "34/34 [==============================] - 0s 2ms/step - loss: 3475.0188 - mae: 3475.0188\n",
            "Epoch 473/1000\n",
            "34/34 [==============================] - 0s 2ms/step - loss: 3479.0342 - mae: 3479.0342\n",
            "Epoch 474/1000\n",
            "34/34 [==============================] - 0s 3ms/step - loss: 3480.3523 - mae: 3480.3523\n",
            "Epoch 475/1000\n",
            "34/34 [==============================] - 0s 2ms/step - loss: 3489.7751 - mae: 3489.7751\n",
            "Epoch 476/1000\n",
            "34/34 [==============================] - 0s 2ms/step - loss: 3488.9014 - mae: 3488.9014\n",
            "Epoch 477/1000\n",
            "34/34 [==============================] - 0s 2ms/step - loss: 3494.5496 - mae: 3494.5496\n",
            "Epoch 478/1000\n",
            "34/34 [==============================] - 0s 2ms/step - loss: 3476.4871 - mae: 3476.4871\n",
            "Epoch 479/1000\n",
            "34/34 [==============================] - 0s 2ms/step - loss: 3478.5623 - mae: 3478.5623\n",
            "Epoch 480/1000\n",
            "34/34 [==============================] - 0s 1ms/step - loss: 3486.8901 - mae: 3486.8901\n",
            "Epoch 481/1000\n",
            "34/34 [==============================] - 0s 2ms/step - loss: 3478.0181 - mae: 3478.0181\n",
            "Epoch 482/1000\n",
            "34/34 [==============================] - 0s 2ms/step - loss: 3482.3555 - mae: 3482.3555\n",
            "Epoch 483/1000\n",
            "34/34 [==============================] - 0s 2ms/step - loss: 3484.8059 - mae: 3484.8059\n",
            "Epoch 484/1000\n",
            "34/34 [==============================] - 0s 2ms/step - loss: 3486.2644 - mae: 3486.2644\n",
            "Epoch 485/1000\n",
            "34/34 [==============================] - 0s 1ms/step - loss: 3485.3853 - mae: 3485.3853\n",
            "Epoch 486/1000\n",
            "34/34 [==============================] - 0s 2ms/step - loss: 3513.0188 - mae: 3513.0188\n",
            "Epoch 487/1000\n",
            "34/34 [==============================] - 0s 2ms/step - loss: 3482.5186 - mae: 3482.5186\n",
            "Epoch 488/1000\n",
            "34/34 [==============================] - 0s 2ms/step - loss: 3477.8220 - mae: 3477.8220\n",
            "Epoch 489/1000\n",
            "34/34 [==============================] - 0s 2ms/step - loss: 3472.9446 - mae: 3472.9446\n",
            "Epoch 490/1000\n",
            "34/34 [==============================] - 0s 2ms/step - loss: 3475.3533 - mae: 3475.3533\n",
            "Epoch 491/1000\n",
            "34/34 [==============================] - 0s 2ms/step - loss: 3513.4233 - mae: 3513.4233\n",
            "Epoch 492/1000\n",
            "34/34 [==============================] - 0s 2ms/step - loss: 3473.3091 - mae: 3473.3091\n",
            "Epoch 493/1000\n",
            "34/34 [==============================] - 0s 2ms/step - loss: 3494.2761 - mae: 3494.2761\n",
            "Epoch 494/1000\n",
            "34/34 [==============================] - 0s 2ms/step - loss: 3476.4128 - mae: 3476.4128\n",
            "Epoch 495/1000\n",
            "34/34 [==============================] - 0s 2ms/step - loss: 3480.6868 - mae: 3480.6868\n",
            "Epoch 496/1000\n",
            "34/34 [==============================] - 0s 1ms/step - loss: 3476.9512 - mae: 3476.9512\n",
            "Epoch 497/1000\n",
            "34/34 [==============================] - 0s 2ms/step - loss: 3490.6443 - mae: 3490.6443\n",
            "Epoch 498/1000\n",
            "34/34 [==============================] - 0s 2ms/step - loss: 3491.8169 - mae: 3491.8169\n",
            "Epoch 499/1000\n",
            "34/34 [==============================] - 0s 2ms/step - loss: 3476.2959 - mae: 3476.2959\n",
            "Epoch 500/1000\n",
            "34/34 [==============================] - 0s 2ms/step - loss: 3476.7683 - mae: 3476.7683\n",
            "Epoch 501/1000\n",
            "34/34 [==============================] - 0s 2ms/step - loss: 3476.6533 - mae: 3476.6533\n",
            "Epoch 502/1000\n",
            "34/34 [==============================] - 0s 2ms/step - loss: 3481.1555 - mae: 3481.1555\n",
            "Epoch 503/1000\n",
            "34/34 [==============================] - 0s 2ms/step - loss: 3492.2097 - mae: 3492.2097\n",
            "Epoch 504/1000\n",
            "34/34 [==============================] - 0s 2ms/step - loss: 3476.3223 - mae: 3476.3223\n",
            "Epoch 505/1000\n",
            "34/34 [==============================] - 0s 2ms/step - loss: 3479.6624 - mae: 3479.6624\n",
            "Epoch 506/1000\n",
            "34/34 [==============================] - 0s 2ms/step - loss: 3483.7622 - mae: 3483.7622\n",
            "Epoch 507/1000\n",
            "34/34 [==============================] - 0s 2ms/step - loss: 3492.1045 - mae: 3492.1045\n",
            "Epoch 508/1000\n",
            "34/34 [==============================] - 0s 1ms/step - loss: 3481.4463 - mae: 3481.4463\n",
            "Epoch 509/1000\n",
            "34/34 [==============================] - 0s 1ms/step - loss: 3480.5679 - mae: 3480.5679\n",
            "Epoch 510/1000\n",
            "34/34 [==============================] - 0s 2ms/step - loss: 3478.3066 - mae: 3478.3066\n",
            "Epoch 511/1000\n",
            "34/34 [==============================] - 0s 2ms/step - loss: 3481.1797 - mae: 3481.1797\n",
            "Epoch 512/1000\n",
            "34/34 [==============================] - 0s 2ms/step - loss: 3486.8628 - mae: 3486.8628\n",
            "Epoch 513/1000\n",
            "34/34 [==============================] - 0s 2ms/step - loss: 3474.3364 - mae: 3474.3364\n",
            "Epoch 514/1000\n",
            "34/34 [==============================] - 0s 2ms/step - loss: 3478.3159 - mae: 3478.3159\n",
            "Epoch 515/1000\n",
            "34/34 [==============================] - 0s 2ms/step - loss: 3481.9163 - mae: 3481.9163\n",
            "Epoch 516/1000\n",
            "34/34 [==============================] - 0s 2ms/step - loss: 3480.1631 - mae: 3480.1631\n",
            "Epoch 517/1000\n",
            "34/34 [==============================] - 0s 2ms/step - loss: 3477.8943 - mae: 3477.8943\n",
            "Epoch 518/1000\n",
            "34/34 [==============================] - 0s 2ms/step - loss: 3473.4934 - mae: 3473.4934\n",
            "Epoch 519/1000\n",
            "34/34 [==============================] - 0s 2ms/step - loss: 3488.9294 - mae: 3488.9294\n",
            "Epoch 520/1000\n",
            "34/34 [==============================] - 0s 1ms/step - loss: 3473.3193 - mae: 3473.3193\n",
            "Epoch 521/1000\n",
            "34/34 [==============================] - 0s 2ms/step - loss: 3493.3718 - mae: 3493.3718\n",
            "Epoch 522/1000\n",
            "34/34 [==============================] - 0s 2ms/step - loss: 3505.4514 - mae: 3505.4514\n",
            "Epoch 523/1000\n",
            "34/34 [==============================] - 0s 2ms/step - loss: 3479.9739 - mae: 3479.9739\n",
            "Epoch 524/1000\n",
            "34/34 [==============================] - 0s 2ms/step - loss: 3480.8943 - mae: 3480.8943\n",
            "Epoch 525/1000\n",
            "34/34 [==============================] - 0s 2ms/step - loss: 3476.0754 - mae: 3476.0754\n",
            "Epoch 526/1000\n",
            "34/34 [==============================] - 0s 2ms/step - loss: 3469.9939 - mae: 3469.9939\n",
            "Epoch 527/1000\n",
            "34/34 [==============================] - 0s 2ms/step - loss: 3475.7795 - mae: 3475.7795\n",
            "Epoch 528/1000\n",
            "34/34 [==============================] - 0s 2ms/step - loss: 3485.7686 - mae: 3485.7686\n",
            "Epoch 529/1000\n",
            "34/34 [==============================] - 0s 2ms/step - loss: 3483.3132 - mae: 3483.3132\n",
            "Epoch 530/1000\n",
            "34/34 [==============================] - 0s 2ms/step - loss: 3480.3418 - mae: 3480.3418\n",
            "Epoch 531/1000\n",
            "34/34 [==============================] - 0s 2ms/step - loss: 3498.3237 - mae: 3498.3237\n",
            "Epoch 532/1000\n",
            "34/34 [==============================] - 0s 2ms/step - loss: 3481.3596 - mae: 3481.3596\n",
            "Epoch 533/1000\n",
            "34/34 [==============================] - 0s 2ms/step - loss: 3485.3118 - mae: 3485.3118\n",
            "Epoch 534/1000\n",
            "34/34 [==============================] - 0s 2ms/step - loss: 3485.4988 - mae: 3485.4988\n",
            "Epoch 535/1000\n",
            "34/34 [==============================] - 0s 2ms/step - loss: 3479.4949 - mae: 3479.4949\n",
            "Epoch 536/1000\n",
            "34/34 [==============================] - 0s 2ms/step - loss: 3474.3376 - mae: 3474.3376\n",
            "Epoch 537/1000\n",
            "34/34 [==============================] - 0s 2ms/step - loss: 3485.9683 - mae: 3485.9683\n",
            "Epoch 538/1000\n",
            "34/34 [==============================] - 0s 2ms/step - loss: 3481.9888 - mae: 3481.9888\n",
            "Epoch 539/1000\n",
            "34/34 [==============================] - 0s 2ms/step - loss: 3474.2146 - mae: 3474.2146\n",
            "Epoch 540/1000\n",
            "34/34 [==============================] - 0s 2ms/step - loss: 3493.0193 - mae: 3493.0193\n",
            "Epoch 541/1000\n",
            "34/34 [==============================] - 0s 2ms/step - loss: 3477.8464 - mae: 3477.8464\n",
            "Epoch 542/1000\n",
            "34/34 [==============================] - 0s 2ms/step - loss: 3479.5796 - mae: 3479.5796\n",
            "Epoch 543/1000\n",
            "34/34 [==============================] - 0s 2ms/step - loss: 3482.4094 - mae: 3482.4094\n",
            "Epoch 544/1000\n",
            "34/34 [==============================] - 0s 1ms/step - loss: 3480.6543 - mae: 3480.6543\n",
            "Epoch 545/1000\n",
            "34/34 [==============================] - 0s 2ms/step - loss: 3477.5513 - mae: 3477.5513\n",
            "Epoch 546/1000\n",
            "34/34 [==============================] - 0s 2ms/step - loss: 3485.3936 - mae: 3485.3936\n",
            "Epoch 547/1000\n",
            "34/34 [==============================] - 0s 1ms/step - loss: 3483.1956 - mae: 3483.1956\n",
            "Epoch 548/1000\n",
            "34/34 [==============================] - 0s 2ms/step - loss: 3484.8865 - mae: 3484.8865\n",
            "Epoch 549/1000\n",
            "34/34 [==============================] - 0s 2ms/step - loss: 3477.7368 - mae: 3477.7368\n",
            "Epoch 550/1000\n",
            "34/34 [==============================] - 0s 2ms/step - loss: 3475.4966 - mae: 3475.4966\n",
            "Epoch 551/1000\n",
            "34/34 [==============================] - 0s 1ms/step - loss: 3484.1541 - mae: 3484.1541\n",
            "Epoch 552/1000\n",
            "34/34 [==============================] - 0s 2ms/step - loss: 3475.6370 - mae: 3475.6370\n",
            "Epoch 553/1000\n",
            "34/34 [==============================] - 0s 2ms/step - loss: 3475.6060 - mae: 3475.6060\n",
            "Epoch 554/1000\n",
            "34/34 [==============================] - 0s 2ms/step - loss: 3484.8184 - mae: 3484.8184\n",
            "Epoch 555/1000\n",
            "34/34 [==============================] - 0s 2ms/step - loss: 3480.4265 - mae: 3480.4265\n",
            "Epoch 556/1000\n",
            "34/34 [==============================] - 0s 2ms/step - loss: 3481.8125 - mae: 3481.8125\n",
            "Epoch 557/1000\n",
            "34/34 [==============================] - 0s 2ms/step - loss: 3483.6978 - mae: 3483.6978\n",
            "Epoch 558/1000\n",
            "34/34 [==============================] - 0s 1ms/step - loss: 3473.5842 - mae: 3473.5842\n",
            "Epoch 559/1000\n",
            "34/34 [==============================] - 0s 2ms/step - loss: 3482.1934 - mae: 3482.1934\n",
            "Epoch 560/1000\n",
            "34/34 [==============================] - 0s 2ms/step - loss: 3484.0112 - mae: 3484.0112\n",
            "Epoch 561/1000\n",
            "34/34 [==============================] - 0s 2ms/step - loss: 3484.4441 - mae: 3484.4441\n",
            "Epoch 562/1000\n",
            "34/34 [==============================] - 0s 2ms/step - loss: 3473.2749 - mae: 3473.2749\n",
            "Epoch 563/1000\n",
            "34/34 [==============================] - 0s 2ms/step - loss: 3481.2495 - mae: 3481.2495\n",
            "Epoch 564/1000\n",
            "34/34 [==============================] - 0s 2ms/step - loss: 3483.6519 - mae: 3483.6519\n",
            "Epoch 565/1000\n",
            "34/34 [==============================] - 0s 2ms/step - loss: 3482.0784 - mae: 3482.0784\n",
            "Epoch 566/1000\n",
            "34/34 [==============================] - 0s 3ms/step - loss: 3481.6345 - mae: 3481.6345\n",
            "Epoch 567/1000\n",
            "34/34 [==============================] - 0s 2ms/step - loss: 3477.3748 - mae: 3477.3748\n",
            "Epoch 568/1000\n",
            "34/34 [==============================] - 0s 2ms/step - loss: 3485.0076 - mae: 3485.0076\n",
            "Epoch 569/1000\n",
            "34/34 [==============================] - 0s 2ms/step - loss: 3483.1116 - mae: 3483.1116\n",
            "Epoch 570/1000\n",
            "34/34 [==============================] - 0s 2ms/step - loss: 3475.8813 - mae: 3475.8813\n",
            "Epoch 571/1000\n",
            "34/34 [==============================] - 0s 2ms/step - loss: 3480.7527 - mae: 3480.7527\n",
            "Epoch 572/1000\n",
            "34/34 [==============================] - 0s 2ms/step - loss: 3473.2224 - mae: 3473.2224\n",
            "Epoch 573/1000\n",
            "34/34 [==============================] - 0s 1ms/step - loss: 3488.8567 - mae: 3488.8567\n",
            "Epoch 574/1000\n",
            "34/34 [==============================] - 0s 2ms/step - loss: 3478.8237 - mae: 3478.8237\n",
            "Epoch 575/1000\n",
            "34/34 [==============================] - 0s 2ms/step - loss: 3477.5642 - mae: 3477.5642\n",
            "Epoch 576/1000\n",
            "34/34 [==============================] - 0s 2ms/step - loss: 3473.6182 - mae: 3473.6182\n",
            "Epoch 577/1000\n",
            "34/34 [==============================] - 0s 2ms/step - loss: 3499.0024 - mae: 3499.0024\n",
            "Epoch 578/1000\n",
            "34/34 [==============================] - 0s 3ms/step - loss: 3474.4246 - mae: 3474.4246\n",
            "Epoch 579/1000\n",
            "34/34 [==============================] - 0s 2ms/step - loss: 3483.0308 - mae: 3483.0308\n",
            "Epoch 580/1000\n",
            "34/34 [==============================] - 0s 2ms/step - loss: 3474.5708 - mae: 3474.5708\n",
            "Epoch 581/1000\n",
            "34/34 [==============================] - 0s 2ms/step - loss: 3478.8486 - mae: 3478.8486\n",
            "Epoch 582/1000\n",
            "34/34 [==============================] - 0s 2ms/step - loss: 3486.1599 - mae: 3486.1599\n",
            "Epoch 583/1000\n",
            "34/34 [==============================] - 0s 2ms/step - loss: 3490.2529 - mae: 3490.2529\n",
            "Epoch 584/1000\n",
            "34/34 [==============================] - 0s 2ms/step - loss: 3482.9573 - mae: 3482.9573\n",
            "Epoch 585/1000\n",
            "34/34 [==============================] - 0s 2ms/step - loss: 3480.7651 - mae: 3480.7651\n",
            "Epoch 586/1000\n",
            "34/34 [==============================] - 0s 2ms/step - loss: 3476.0833 - mae: 3476.0833\n",
            "Epoch 587/1000\n",
            "34/34 [==============================] - 0s 2ms/step - loss: 3478.1594 - mae: 3478.1594\n",
            "Epoch 588/1000\n",
            "34/34 [==============================] - 0s 1ms/step - loss: 3480.5295 - mae: 3480.5295\n",
            "Epoch 589/1000\n",
            "34/34 [==============================] - 0s 2ms/step - loss: 3475.6282 - mae: 3475.6282\n",
            "Epoch 590/1000\n",
            "34/34 [==============================] - 0s 2ms/step - loss: 3477.3440 - mae: 3477.3440\n",
            "Epoch 591/1000\n",
            "34/34 [==============================] - 0s 2ms/step - loss: 3474.9170 - mae: 3474.9170\n",
            "Epoch 592/1000\n",
            "34/34 [==============================] - 0s 2ms/step - loss: 3477.8574 - mae: 3477.8574\n",
            "Epoch 593/1000\n",
            "34/34 [==============================] - 0s 2ms/step - loss: 3476.9321 - mae: 3476.9321\n",
            "Epoch 594/1000\n",
            "34/34 [==============================] - 0s 2ms/step - loss: 3494.1277 - mae: 3494.1277\n",
            "Epoch 595/1000\n",
            "34/34 [==============================] - 0s 2ms/step - loss: 3501.5671 - mae: 3501.5671\n",
            "Epoch 596/1000\n",
            "34/34 [==============================] - 0s 2ms/step - loss: 3477.7803 - mae: 3477.7803\n",
            "Epoch 597/1000\n",
            "34/34 [==============================] - 0s 2ms/step - loss: 3475.0137 - mae: 3475.0137\n",
            "Epoch 598/1000\n",
            "34/34 [==============================] - 0s 2ms/step - loss: 3480.1284 - mae: 3480.1284\n",
            "Epoch 599/1000\n",
            "34/34 [==============================] - 0s 1ms/step - loss: 3484.0720 - mae: 3484.0720\n",
            "Epoch 600/1000\n",
            "34/34 [==============================] - 0s 2ms/step - loss: 3471.9724 - mae: 3471.9724\n",
            "Epoch 601/1000\n",
            "34/34 [==============================] - 0s 2ms/step - loss: 3479.2632 - mae: 3479.2632\n",
            "Epoch 602/1000\n",
            "34/34 [==============================] - 0s 2ms/step - loss: 3491.4944 - mae: 3491.4944\n",
            "Epoch 603/1000\n",
            "34/34 [==============================] - 0s 2ms/step - loss: 3482.9485 - mae: 3482.9485\n",
            "Epoch 604/1000\n",
            "34/34 [==============================] - 0s 2ms/step - loss: 3502.0134 - mae: 3502.0134\n",
            "Epoch 605/1000\n",
            "34/34 [==============================] - 0s 2ms/step - loss: 3477.0518 - mae: 3477.0518\n",
            "Epoch 606/1000\n",
            "34/34 [==============================] - 0s 2ms/step - loss: 3476.7842 - mae: 3476.7842\n",
            "Epoch 607/1000\n",
            "34/34 [==============================] - 0s 2ms/step - loss: 3490.7451 - mae: 3490.7451\n",
            "Epoch 608/1000\n",
            "34/34 [==============================] - 0s 2ms/step - loss: 3484.3167 - mae: 3484.3167\n",
            "Epoch 609/1000\n",
            "34/34 [==============================] - 0s 2ms/step - loss: 3474.4922 - mae: 3474.4922\n",
            "Epoch 610/1000\n",
            "34/34 [==============================] - 0s 1ms/step - loss: 3482.5300 - mae: 3482.5300\n",
            "Epoch 611/1000\n",
            "34/34 [==============================] - 0s 2ms/step - loss: 3487.3677 - mae: 3487.3677\n",
            "Epoch 612/1000\n",
            "34/34 [==============================] - 0s 1ms/step - loss: 3478.8853 - mae: 3478.8853\n",
            "Epoch 613/1000\n",
            "34/34 [==============================] - 0s 2ms/step - loss: 3483.4941 - mae: 3483.4941\n",
            "Epoch 614/1000\n",
            "34/34 [==============================] - 0s 2ms/step - loss: 3478.5298 - mae: 3478.5298\n",
            "Epoch 615/1000\n",
            "34/34 [==============================] - 0s 1ms/step - loss: 3484.1775 - mae: 3484.1775\n",
            "Epoch 616/1000\n",
            "34/34 [==============================] - 0s 2ms/step - loss: 3487.7964 - mae: 3487.7964\n",
            "Epoch 617/1000\n",
            "34/34 [==============================] - 0s 2ms/step - loss: 3490.5415 - mae: 3490.5415\n",
            "Epoch 618/1000\n",
            "34/34 [==============================] - 0s 2ms/step - loss: 3481.5190 - mae: 3481.5190\n",
            "Epoch 619/1000\n",
            "34/34 [==============================] - 0s 2ms/step - loss: 3478.8911 - mae: 3478.8911\n",
            "Epoch 620/1000\n",
            "34/34 [==============================] - 0s 2ms/step - loss: 3496.7969 - mae: 3496.7969\n",
            "Epoch 621/1000\n",
            "34/34 [==============================] - 0s 2ms/step - loss: 3508.0063 - mae: 3508.0063\n",
            "Epoch 622/1000\n",
            "34/34 [==============================] - 0s 2ms/step - loss: 3488.5029 - mae: 3488.5029\n",
            "Epoch 623/1000\n",
            "34/34 [==============================] - 0s 2ms/step - loss: 3480.2422 - mae: 3480.2422\n",
            "Epoch 624/1000\n",
            "34/34 [==============================] - 0s 2ms/step - loss: 3480.0906 - mae: 3480.0906\n",
            "Epoch 625/1000\n",
            "34/34 [==============================] - 0s 2ms/step - loss: 3481.6755 - mae: 3481.6755\n",
            "Epoch 626/1000\n",
            "34/34 [==============================] - 0s 2ms/step - loss: 3485.2163 - mae: 3485.2163\n",
            "Epoch 627/1000\n",
            "34/34 [==============================] - 0s 2ms/step - loss: 3481.0715 - mae: 3481.0715\n",
            "Epoch 628/1000\n",
            "34/34 [==============================] - 0s 2ms/step - loss: 3478.5610 - mae: 3478.5610\n",
            "Epoch 629/1000\n",
            "34/34 [==============================] - 0s 2ms/step - loss: 3475.2583 - mae: 3475.2583\n",
            "Epoch 630/1000\n",
            "34/34 [==============================] - 0s 2ms/step - loss: 3475.6846 - mae: 3475.6846\n",
            "Epoch 631/1000\n",
            "34/34 [==============================] - 0s 1ms/step - loss: 3476.3733 - mae: 3476.3733\n",
            "Epoch 632/1000\n",
            "34/34 [==============================] - 0s 2ms/step - loss: 3475.7227 - mae: 3475.7227\n",
            "Epoch 633/1000\n",
            "34/34 [==============================] - 0s 2ms/step - loss: 3482.1140 - mae: 3482.1140\n",
            "Epoch 634/1000\n",
            "34/34 [==============================] - 0s 2ms/step - loss: 3485.9236 - mae: 3485.9236\n",
            "Epoch 635/1000\n",
            "34/34 [==============================] - 0s 2ms/step - loss: 3476.6636 - mae: 3476.6636\n",
            "Epoch 636/1000\n",
            "34/34 [==============================] - 0s 2ms/step - loss: 3480.5200 - mae: 3480.5200\n",
            "Epoch 637/1000\n",
            "34/34 [==============================] - 0s 2ms/step - loss: 3485.3303 - mae: 3485.3303\n",
            "Epoch 638/1000\n",
            "34/34 [==============================] - 0s 2ms/step - loss: 3482.8025 - mae: 3482.8025\n",
            "Epoch 639/1000\n",
            "34/34 [==============================] - 0s 2ms/step - loss: 3485.4033 - mae: 3485.4033\n",
            "Epoch 640/1000\n",
            "34/34 [==============================] - 0s 2ms/step - loss: 3475.5488 - mae: 3475.5488\n",
            "Epoch 641/1000\n",
            "34/34 [==============================] - 0s 2ms/step - loss: 3480.7681 - mae: 3480.7681\n",
            "Epoch 642/1000\n",
            "34/34 [==============================] - 0s 2ms/step - loss: 3485.3157 - mae: 3485.3157\n",
            "Epoch 643/1000\n",
            "34/34 [==============================] - 0s 2ms/step - loss: 3482.3101 - mae: 3482.3101\n",
            "Epoch 644/1000\n",
            "34/34 [==============================] - 0s 2ms/step - loss: 3480.9907 - mae: 3480.9907\n",
            "Epoch 645/1000\n",
            "34/34 [==============================] - 0s 3ms/step - loss: 3479.3555 - mae: 3479.3555\n",
            "Epoch 646/1000\n",
            "34/34 [==============================] - 0s 2ms/step - loss: 3484.7822 - mae: 3484.7822\n",
            "Epoch 647/1000\n",
            "34/34 [==============================] - 0s 2ms/step - loss: 3482.0537 - mae: 3482.0537\n",
            "Epoch 648/1000\n",
            "34/34 [==============================] - 0s 2ms/step - loss: 3484.0017 - mae: 3484.0017\n",
            "Epoch 649/1000\n",
            "34/34 [==============================] - 0s 2ms/step - loss: 3484.2124 - mae: 3484.2124\n",
            "Epoch 650/1000\n",
            "34/34 [==============================] - 0s 2ms/step - loss: 3474.5952 - mae: 3474.5952\n",
            "Epoch 651/1000\n",
            "34/34 [==============================] - 0s 2ms/step - loss: 3482.1780 - mae: 3482.1780\n",
            "Epoch 652/1000\n",
            "34/34 [==============================] - 0s 2ms/step - loss: 3484.0391 - mae: 3484.0391\n",
            "Epoch 653/1000\n",
            "34/34 [==============================] - 0s 2ms/step - loss: 3479.5842 - mae: 3479.5842\n",
            "Epoch 654/1000\n",
            "34/34 [==============================] - 0s 2ms/step - loss: 3480.8286 - mae: 3480.8286\n",
            "Epoch 655/1000\n",
            "34/34 [==============================] - 0s 2ms/step - loss: 3486.0801 - mae: 3486.0801\n",
            "Epoch 656/1000\n",
            "34/34 [==============================] - 0s 2ms/step - loss: 3483.5513 - mae: 3483.5513\n",
            "Epoch 657/1000\n",
            "34/34 [==============================] - 0s 2ms/step - loss: 3481.2292 - mae: 3481.2292\n",
            "Epoch 658/1000\n",
            "34/34 [==============================] - 0s 2ms/step - loss: 3475.0635 - mae: 3475.0635\n",
            "Epoch 659/1000\n",
            "34/34 [==============================] - 0s 2ms/step - loss: 3473.6697 - mae: 3473.6697\n",
            "Epoch 660/1000\n",
            "34/34 [==============================] - 0s 2ms/step - loss: 3474.2935 - mae: 3474.2935\n",
            "Epoch 661/1000\n",
            "34/34 [==============================] - 0s 2ms/step - loss: 3474.7561 - mae: 3474.7561\n",
            "Epoch 662/1000\n",
            "34/34 [==============================] - 0s 2ms/step - loss: 3476.4565 - mae: 3476.4565\n",
            "Epoch 663/1000\n",
            "34/34 [==============================] - 0s 2ms/step - loss: 3485.3342 - mae: 3485.3342\n",
            "Epoch 664/1000\n",
            "34/34 [==============================] - 0s 2ms/step - loss: 3476.6387 - mae: 3476.6387\n",
            "Epoch 665/1000\n",
            "34/34 [==============================] - 0s 2ms/step - loss: 3475.3667 - mae: 3475.3667\n",
            "Epoch 666/1000\n",
            "34/34 [==============================] - 0s 2ms/step - loss: 3483.9004 - mae: 3483.9004\n",
            "Epoch 667/1000\n",
            "34/34 [==============================] - 0s 2ms/step - loss: 3476.3835 - mae: 3476.3835\n",
            "Epoch 668/1000\n",
            "34/34 [==============================] - 0s 2ms/step - loss: 3480.4529 - mae: 3480.4529\n",
            "Epoch 669/1000\n",
            "34/34 [==============================] - 0s 3ms/step - loss: 3476.7625 - mae: 3476.7625\n",
            "Epoch 670/1000\n",
            "34/34 [==============================] - 0s 2ms/step - loss: 3478.8794 - mae: 3478.8794\n",
            "Epoch 671/1000\n",
            "34/34 [==============================] - 0s 1ms/step - loss: 3478.3286 - mae: 3478.3286\n",
            "Epoch 672/1000\n",
            "34/34 [==============================] - 0s 2ms/step - loss: 3479.4624 - mae: 3479.4624\n",
            "Epoch 673/1000\n",
            "34/34 [==============================] - 0s 2ms/step - loss: 3485.3228 - mae: 3485.3228\n",
            "Epoch 674/1000\n",
            "34/34 [==============================] - 0s 2ms/step - loss: 3477.4170 - mae: 3477.4170\n",
            "Epoch 675/1000\n",
            "34/34 [==============================] - 0s 2ms/step - loss: 3476.2310 - mae: 3476.2310\n",
            "Epoch 676/1000\n",
            "34/34 [==============================] - 0s 2ms/step - loss: 3480.5383 - mae: 3480.5383\n",
            "Epoch 677/1000\n",
            "34/34 [==============================] - 0s 2ms/step - loss: 3487.5811 - mae: 3487.5811\n",
            "Epoch 678/1000\n",
            "34/34 [==============================] - 0s 2ms/step - loss: 3506.9741 - mae: 3506.9741\n",
            "Epoch 679/1000\n",
            "34/34 [==============================] - 0s 2ms/step - loss: 3482.6443 - mae: 3482.6443\n",
            "Epoch 680/1000\n",
            "34/34 [==============================] - 0s 2ms/step - loss: 3483.8967 - mae: 3483.8967\n",
            "Epoch 681/1000\n",
            "34/34 [==============================] - 0s 2ms/step - loss: 3482.7825 - mae: 3482.7825\n",
            "Epoch 682/1000\n",
            "34/34 [==============================] - 0s 2ms/step - loss: 3478.5483 - mae: 3478.5483\n",
            "Epoch 683/1000\n",
            "34/34 [==============================] - 0s 2ms/step - loss: 3477.6194 - mae: 3477.6194\n",
            "Epoch 684/1000\n",
            "34/34 [==============================] - 0s 2ms/step - loss: 3478.5715 - mae: 3478.5715\n",
            "Epoch 685/1000\n",
            "34/34 [==============================] - 0s 2ms/step - loss: 3482.9104 - mae: 3482.9104\n",
            "Epoch 686/1000\n",
            "34/34 [==============================] - 0s 2ms/step - loss: 3481.7993 - mae: 3481.7993\n",
            "Epoch 687/1000\n",
            "34/34 [==============================] - 0s 2ms/step - loss: 3484.5137 - mae: 3484.5137\n",
            "Epoch 688/1000\n",
            "34/34 [==============================] - 0s 2ms/step - loss: 3476.8979 - mae: 3476.8979\n",
            "Epoch 689/1000\n",
            "34/34 [==============================] - 0s 1ms/step - loss: 3478.6382 - mae: 3478.6382\n",
            "Epoch 690/1000\n",
            "34/34 [==============================] - 0s 2ms/step - loss: 3497.8340 - mae: 3497.8340\n",
            "Epoch 691/1000\n",
            "34/34 [==============================] - 0s 2ms/step - loss: 3479.7429 - mae: 3479.7429\n",
            "Epoch 692/1000\n",
            "34/34 [==============================] - 0s 1ms/step - loss: 3479.3540 - mae: 3479.3540\n",
            "Epoch 693/1000\n",
            "34/34 [==============================] - 0s 2ms/step - loss: 3475.5591 - mae: 3475.5591\n",
            "Epoch 694/1000\n",
            "34/34 [==============================] - 0s 2ms/step - loss: 3478.1221 - mae: 3478.1221\n",
            "Epoch 695/1000\n",
            "34/34 [==============================] - 0s 2ms/step - loss: 3487.6978 - mae: 3487.6978\n",
            "Epoch 696/1000\n",
            "34/34 [==============================] - 0s 2ms/step - loss: 3480.5305 - mae: 3480.5305\n",
            "Epoch 697/1000\n",
            "34/34 [==============================] - 0s 2ms/step - loss: 3483.5842 - mae: 3483.5842\n",
            "Epoch 698/1000\n",
            "34/34 [==============================] - 0s 2ms/step - loss: 3483.5256 - mae: 3483.5256\n",
            "Epoch 699/1000\n",
            "34/34 [==============================] - 0s 2ms/step - loss: 3474.5571 - mae: 3474.5571\n",
            "Epoch 700/1000\n",
            "34/34 [==============================] - 0s 2ms/step - loss: 3473.6750 - mae: 3473.6750\n",
            "Epoch 701/1000\n",
            "34/34 [==============================] - 0s 2ms/step - loss: 3477.5161 - mae: 3477.5161\n",
            "Epoch 702/1000\n",
            "34/34 [==============================] - 0s 2ms/step - loss: 3493.3179 - mae: 3493.3179\n",
            "Epoch 703/1000\n",
            "34/34 [==============================] - 0s 2ms/step - loss: 3472.5898 - mae: 3472.5898\n",
            "Epoch 704/1000\n",
            "34/34 [==============================] - 0s 2ms/step - loss: 3486.4531 - mae: 3486.4531\n",
            "Epoch 705/1000\n",
            "34/34 [==============================] - 0s 2ms/step - loss: 3491.0540 - mae: 3491.0540\n",
            "Epoch 706/1000\n",
            "34/34 [==============================] - 0s 2ms/step - loss: 3473.4219 - mae: 3473.4219\n",
            "Epoch 707/1000\n",
            "34/34 [==============================] - 0s 2ms/step - loss: 3474.8577 - mae: 3474.8577\n",
            "Epoch 708/1000\n",
            "34/34 [==============================] - 0s 3ms/step - loss: 3488.9016 - mae: 3488.9016\n",
            "Epoch 709/1000\n",
            "34/34 [==============================] - 0s 2ms/step - loss: 3506.9756 - mae: 3506.9756\n",
            "Epoch 710/1000\n",
            "34/34 [==============================] - 0s 2ms/step - loss: 3487.1699 - mae: 3487.1699\n",
            "Epoch 711/1000\n",
            "34/34 [==============================] - 0s 2ms/step - loss: 3488.3940 - mae: 3488.3940\n",
            "Epoch 712/1000\n",
            "34/34 [==============================] - 0s 2ms/step - loss: 3475.3721 - mae: 3475.3721\n",
            "Epoch 713/1000\n",
            "34/34 [==============================] - 0s 2ms/step - loss: 3475.5071 - mae: 3475.5071\n",
            "Epoch 714/1000\n",
            "34/34 [==============================] - 0s 2ms/step - loss: 3477.9841 - mae: 3477.9841\n",
            "Epoch 715/1000\n",
            "34/34 [==============================] - 0s 2ms/step - loss: 3480.5571 - mae: 3480.5571\n",
            "Epoch 716/1000\n",
            "34/34 [==============================] - 0s 2ms/step - loss: 3490.3823 - mae: 3490.3823\n",
            "Epoch 717/1000\n",
            "34/34 [==============================] - 0s 2ms/step - loss: 3471.8438 - mae: 3471.8438\n",
            "Epoch 718/1000\n",
            "34/34 [==============================] - 0s 2ms/step - loss: 3486.1577 - mae: 3486.1577\n",
            "Epoch 719/1000\n",
            "34/34 [==============================] - 0s 2ms/step - loss: 3493.8831 - mae: 3493.8831\n",
            "Epoch 720/1000\n",
            "34/34 [==============================] - 0s 2ms/step - loss: 3481.2744 - mae: 3481.2744\n",
            "Epoch 721/1000\n",
            "34/34 [==============================] - 0s 2ms/step - loss: 3488.3936 - mae: 3488.3936\n",
            "Epoch 722/1000\n",
            "34/34 [==============================] - 0s 2ms/step - loss: 3481.5542 - mae: 3481.5542\n",
            "Epoch 723/1000\n",
            "34/34 [==============================] - 0s 2ms/step - loss: 3474.8354 - mae: 3474.8354\n",
            "Epoch 724/1000\n",
            "34/34 [==============================] - 0s 2ms/step - loss: 3483.1965 - mae: 3483.1965\n",
            "Epoch 725/1000\n",
            "34/34 [==============================] - 0s 2ms/step - loss: 3483.7310 - mae: 3483.7310\n",
            "Epoch 726/1000\n",
            "34/34 [==============================] - 0s 2ms/step - loss: 3481.2637 - mae: 3481.2637\n",
            "Epoch 727/1000\n",
            "34/34 [==============================] - 0s 2ms/step - loss: 3482.1892 - mae: 3482.1892\n",
            "Epoch 728/1000\n",
            "34/34 [==============================] - 0s 2ms/step - loss: 3474.8428 - mae: 3474.8428\n",
            "Epoch 729/1000\n",
            "34/34 [==============================] - 0s 2ms/step - loss: 3485.1125 - mae: 3485.1125\n",
            "Epoch 730/1000\n",
            "34/34 [==============================] - 0s 2ms/step - loss: 3473.1543 - mae: 3473.1543\n",
            "Epoch 731/1000\n",
            "34/34 [==============================] - 0s 2ms/step - loss: 3478.3911 - mae: 3478.3911\n",
            "Epoch 732/1000\n",
            "34/34 [==============================] - 0s 3ms/step - loss: 3481.8230 - mae: 3481.8230\n",
            "Epoch 733/1000\n",
            "34/34 [==============================] - 0s 2ms/step - loss: 3487.6892 - mae: 3487.6892\n",
            "Epoch 734/1000\n",
            "34/34 [==============================] - 0s 2ms/step - loss: 3479.1548 - mae: 3479.1548\n",
            "Epoch 735/1000\n",
            "34/34 [==============================] - 0s 2ms/step - loss: 3480.5786 - mae: 3480.5786\n",
            "Epoch 736/1000\n",
            "34/34 [==============================] - 0s 2ms/step - loss: 3490.5500 - mae: 3490.5500\n",
            "Epoch 737/1000\n",
            "34/34 [==============================] - 0s 2ms/step - loss: 3490.1885 - mae: 3490.1885\n",
            "Epoch 738/1000\n",
            "34/34 [==============================] - 0s 2ms/step - loss: 3478.0027 - mae: 3478.0027\n",
            "Epoch 739/1000\n",
            "34/34 [==============================] - 0s 2ms/step - loss: 3475.7368 - mae: 3475.7368\n",
            "Epoch 740/1000\n",
            "34/34 [==============================] - 0s 2ms/step - loss: 3478.5217 - mae: 3478.5217\n",
            "Epoch 741/1000\n",
            "34/34 [==============================] - 0s 2ms/step - loss: 3481.7979 - mae: 3481.7979\n",
            "Epoch 742/1000\n",
            "34/34 [==============================] - 0s 2ms/step - loss: 3483.4363 - mae: 3483.4363\n",
            "Epoch 743/1000\n",
            "34/34 [==============================] - 0s 2ms/step - loss: 3477.7959 - mae: 3477.7959\n",
            "Epoch 744/1000\n",
            "34/34 [==============================] - 0s 2ms/step - loss: 3482.3987 - mae: 3482.3987\n",
            "Epoch 745/1000\n",
            "34/34 [==============================] - 0s 2ms/step - loss: 3485.2405 - mae: 3485.2405\n",
            "Epoch 746/1000\n",
            "34/34 [==============================] - 0s 2ms/step - loss: 3474.2344 - mae: 3474.2344\n",
            "Epoch 747/1000\n",
            "34/34 [==============================] - 0s 2ms/step - loss: 3480.2959 - mae: 3480.2959\n",
            "Epoch 748/1000\n",
            "34/34 [==============================] - 0s 2ms/step - loss: 3482.5767 - mae: 3482.5767\n",
            "Epoch 749/1000\n",
            "34/34 [==============================] - 0s 2ms/step - loss: 3483.4890 - mae: 3483.4890\n",
            "Epoch 750/1000\n",
            "34/34 [==============================] - 0s 2ms/step - loss: 3478.5447 - mae: 3478.5447\n",
            "Epoch 751/1000\n",
            "34/34 [==============================] - 0s 2ms/step - loss: 3477.8074 - mae: 3477.8074\n",
            "Epoch 752/1000\n",
            "34/34 [==============================] - 0s 2ms/step - loss: 3485.8213 - mae: 3485.8213\n",
            "Epoch 753/1000\n",
            "34/34 [==============================] - 0s 2ms/step - loss: 3484.7715 - mae: 3484.7715\n",
            "Epoch 754/1000\n",
            "34/34 [==============================] - 0s 2ms/step - loss: 3483.5710 - mae: 3483.5710\n",
            "Epoch 755/1000\n",
            "34/34 [==============================] - 0s 2ms/step - loss: 3473.6265 - mae: 3473.6265\n",
            "Epoch 756/1000\n",
            "34/34 [==============================] - 0s 2ms/step - loss: 3481.4399 - mae: 3481.4399\n",
            "Epoch 757/1000\n",
            "34/34 [==============================] - 0s 2ms/step - loss: 3484.9805 - mae: 3484.9805\n",
            "Epoch 758/1000\n",
            "34/34 [==============================] - 0s 2ms/step - loss: 3475.8525 - mae: 3475.8525\n",
            "Epoch 759/1000\n",
            "34/34 [==============================] - 0s 2ms/step - loss: 3483.9167 - mae: 3483.9167\n",
            "Epoch 760/1000\n",
            "34/34 [==============================] - 0s 2ms/step - loss: 3488.0554 - mae: 3488.0554\n",
            "Epoch 761/1000\n",
            "34/34 [==============================] - 0s 2ms/step - loss: 3475.2336 - mae: 3475.2336\n",
            "Epoch 762/1000\n",
            "34/34 [==============================] - 0s 2ms/step - loss: 3476.1377 - mae: 3476.1377\n",
            "Epoch 763/1000\n",
            "34/34 [==============================] - 0s 2ms/step - loss: 3476.4285 - mae: 3476.4285\n",
            "Epoch 764/1000\n",
            "34/34 [==============================] - 0s 2ms/step - loss: 3476.4736 - mae: 3476.4736\n",
            "Epoch 765/1000\n",
            "34/34 [==============================] - 0s 2ms/step - loss: 3483.0571 - mae: 3483.0571\n",
            "Epoch 766/1000\n",
            "34/34 [==============================] - 0s 2ms/step - loss: 3483.4810 - mae: 3483.4810\n",
            "Epoch 767/1000\n",
            "34/34 [==============================] - 0s 2ms/step - loss: 3480.3838 - mae: 3480.3838\n",
            "Epoch 768/1000\n",
            "34/34 [==============================] - 0s 2ms/step - loss: 3476.3655 - mae: 3476.3655\n",
            "Epoch 769/1000\n",
            "34/34 [==============================] - 0s 3ms/step - loss: 3499.1655 - mae: 3499.1655\n",
            "Epoch 770/1000\n",
            "34/34 [==============================] - 0s 2ms/step - loss: 3481.3457 - mae: 3481.3457\n",
            "Epoch 771/1000\n",
            "34/34 [==============================] - 0s 2ms/step - loss: 3477.0750 - mae: 3477.0750\n",
            "Epoch 772/1000\n",
            "34/34 [==============================] - 0s 2ms/step - loss: 3476.6040 - mae: 3476.6040\n",
            "Epoch 773/1000\n",
            "34/34 [==============================] - 0s 2ms/step - loss: 3487.5845 - mae: 3487.5845\n",
            "Epoch 774/1000\n",
            "34/34 [==============================] - 0s 2ms/step - loss: 3477.5413 - mae: 3477.5413\n",
            "Epoch 775/1000\n",
            "34/34 [==============================] - 0s 2ms/step - loss: 3484.0874 - mae: 3484.0874\n",
            "Epoch 776/1000\n",
            "34/34 [==============================] - 0s 2ms/step - loss: 3488.7942 - mae: 3488.7942\n",
            "Epoch 777/1000\n",
            "34/34 [==============================] - 0s 2ms/step - loss: 3484.6750 - mae: 3484.6750\n",
            "Epoch 778/1000\n",
            "34/34 [==============================] - 0s 2ms/step - loss: 3481.3757 - mae: 3481.3757\n",
            "Epoch 779/1000\n",
            "34/34 [==============================] - 0s 2ms/step - loss: 3482.6990 - mae: 3482.6990\n",
            "Epoch 780/1000\n",
            "34/34 [==============================] - 0s 2ms/step - loss: 3501.3567 - mae: 3501.3567\n",
            "Epoch 781/1000\n",
            "34/34 [==============================] - 0s 3ms/step - loss: 3485.0166 - mae: 3485.0166\n",
            "Epoch 782/1000\n",
            "34/34 [==============================] - 0s 2ms/step - loss: 3481.2974 - mae: 3481.2974\n",
            "Epoch 783/1000\n",
            "34/34 [==============================] - 0s 2ms/step - loss: 3485.4858 - mae: 3485.4858\n",
            "Epoch 784/1000\n",
            "34/34 [==============================] - 0s 2ms/step - loss: 3480.9922 - mae: 3480.9922\n",
            "Epoch 785/1000\n",
            "34/34 [==============================] - 0s 1ms/step - loss: 3473.8374 - mae: 3473.8374\n",
            "Epoch 786/1000\n",
            "34/34 [==============================] - 0s 2ms/step - loss: 3473.8999 - mae: 3473.8999\n",
            "Epoch 787/1000\n",
            "34/34 [==============================] - 0s 2ms/step - loss: 3481.5269 - mae: 3481.5269\n",
            "Epoch 788/1000\n",
            "34/34 [==============================] - 0s 2ms/step - loss: 3486.2966 - mae: 3486.2966\n",
            "Epoch 789/1000\n",
            "34/34 [==============================] - 0s 2ms/step - loss: 3479.3774 - mae: 3479.3774\n",
            "Epoch 790/1000\n",
            "34/34 [==============================] - 0s 2ms/step - loss: 3476.7075 - mae: 3476.7075\n",
            "Epoch 791/1000\n",
            "34/34 [==============================] - 0s 2ms/step - loss: 3482.0342 - mae: 3482.0342\n",
            "Epoch 792/1000\n",
            "34/34 [==============================] - 0s 2ms/step - loss: 3478.9702 - mae: 3478.9702\n",
            "Epoch 793/1000\n",
            "34/34 [==============================] - 0s 2ms/step - loss: 3474.3015 - mae: 3474.3015\n",
            "Epoch 794/1000\n",
            "34/34 [==============================] - 0s 2ms/step - loss: 3481.0400 - mae: 3481.0400\n",
            "Epoch 795/1000\n",
            "34/34 [==============================] - 0s 2ms/step - loss: 3473.2253 - mae: 3473.2253\n",
            "Epoch 796/1000\n",
            "34/34 [==============================] - 0s 2ms/step - loss: 3476.8777 - mae: 3476.8777\n",
            "Epoch 797/1000\n",
            "34/34 [==============================] - 0s 2ms/step - loss: 3498.0220 - mae: 3498.0220\n",
            "Epoch 798/1000\n",
            "34/34 [==============================] - 0s 2ms/step - loss: 3485.2673 - mae: 3485.2673\n",
            "Epoch 799/1000\n",
            "34/34 [==============================] - 0s 2ms/step - loss: 3477.2336 - mae: 3477.2336\n",
            "Epoch 800/1000\n",
            "34/34 [==============================] - 0s 2ms/step - loss: 3479.5959 - mae: 3479.5959\n",
            "Epoch 801/1000\n",
            "34/34 [==============================] - 0s 2ms/step - loss: 3482.0161 - mae: 3482.0161\n",
            "Epoch 802/1000\n",
            "34/34 [==============================] - 0s 2ms/step - loss: 3476.7817 - mae: 3476.7817\n",
            "Epoch 803/1000\n",
            "34/34 [==============================] - 0s 2ms/step - loss: 3474.3618 - mae: 3474.3618\n",
            "Epoch 804/1000\n",
            "34/34 [==============================] - 0s 2ms/step - loss: 3473.5095 - mae: 3473.5095\n",
            "Epoch 805/1000\n",
            "34/34 [==============================] - 0s 2ms/step - loss: 3477.7202 - mae: 3477.7202\n",
            "Epoch 806/1000\n",
            "34/34 [==============================] - 0s 2ms/step - loss: 3477.6731 - mae: 3477.6731\n",
            "Epoch 807/1000\n",
            "34/34 [==============================] - 0s 2ms/step - loss: 3475.4136 - mae: 3475.4136\n",
            "Epoch 808/1000\n",
            "34/34 [==============================] - 0s 2ms/step - loss: 3476.5859 - mae: 3476.5859\n",
            "Epoch 809/1000\n",
            "34/34 [==============================] - 0s 2ms/step - loss: 3474.2166 - mae: 3474.2166\n",
            "Epoch 810/1000\n",
            "34/34 [==============================] - 0s 2ms/step - loss: 3492.1006 - mae: 3492.1006\n",
            "Epoch 811/1000\n",
            "34/34 [==============================] - 0s 2ms/step - loss: 3480.2175 - mae: 3480.2175\n",
            "Epoch 812/1000\n",
            "34/34 [==============================] - 0s 2ms/step - loss: 3496.9607 - mae: 3496.9607\n",
            "Epoch 813/1000\n",
            "34/34 [==============================] - 0s 2ms/step - loss: 3474.3125 - mae: 3474.3125\n",
            "Epoch 814/1000\n",
            "34/34 [==============================] - 0s 2ms/step - loss: 3483.3286 - mae: 3483.3286\n",
            "Epoch 815/1000\n",
            "34/34 [==============================] - 0s 2ms/step - loss: 3487.8210 - mae: 3487.8210\n",
            "Epoch 816/1000\n",
            "34/34 [==============================] - 0s 2ms/step - loss: 3491.6091 - mae: 3491.6091\n",
            "Epoch 817/1000\n",
            "34/34 [==============================] - 0s 2ms/step - loss: 3482.4265 - mae: 3482.4265\n",
            "Epoch 818/1000\n",
            "34/34 [==============================] - 0s 2ms/step - loss: 3483.4421 - mae: 3483.4421\n",
            "Epoch 819/1000\n",
            "34/34 [==============================] - 0s 2ms/step - loss: 3473.6624 - mae: 3473.6624\n",
            "Epoch 820/1000\n",
            "34/34 [==============================] - 0s 2ms/step - loss: 3486.1279 - mae: 3486.1279\n",
            "Epoch 821/1000\n",
            "34/34 [==============================] - 0s 2ms/step - loss: 3476.1235 - mae: 3476.1235\n",
            "Epoch 822/1000\n",
            "34/34 [==============================] - 0s 2ms/step - loss: 3480.6372 - mae: 3480.6372\n",
            "Epoch 823/1000\n",
            "34/34 [==============================] - 0s 2ms/step - loss: 3473.3760 - mae: 3473.3760\n",
            "Epoch 824/1000\n",
            "34/34 [==============================] - 0s 2ms/step - loss: 3482.2290 - mae: 3482.2290\n",
            "Epoch 825/1000\n",
            "34/34 [==============================] - 0s 2ms/step - loss: 3475.8540 - mae: 3475.8540\n",
            "Epoch 826/1000\n",
            "34/34 [==============================] - 0s 2ms/step - loss: 3482.6501 - mae: 3482.6501\n",
            "Epoch 827/1000\n",
            "34/34 [==============================] - 0s 2ms/step - loss: 3481.2742 - mae: 3481.2742\n",
            "Epoch 828/1000\n",
            "34/34 [==============================] - 0s 2ms/step - loss: 3473.4785 - mae: 3473.4785\n",
            "Epoch 829/1000\n",
            "34/34 [==============================] - 0s 2ms/step - loss: 3478.0317 - mae: 3478.0317\n",
            "Epoch 830/1000\n",
            "34/34 [==============================] - 0s 2ms/step - loss: 3478.8728 - mae: 3478.8728\n",
            "Epoch 831/1000\n",
            "34/34 [==============================] - 0s 2ms/step - loss: 3481.5989 - mae: 3481.5989\n",
            "Epoch 832/1000\n",
            "34/34 [==============================] - 0s 2ms/step - loss: 3488.4060 - mae: 3488.4060\n",
            "Epoch 833/1000\n",
            "34/34 [==============================] - 0s 2ms/step - loss: 3488.5786 - mae: 3488.5786\n",
            "Epoch 834/1000\n",
            "34/34 [==============================] - 0s 2ms/step - loss: 3481.1929 - mae: 3481.1929\n",
            "Epoch 835/1000\n",
            "34/34 [==============================] - 0s 2ms/step - loss: 3481.6653 - mae: 3481.6653\n",
            "Epoch 836/1000\n",
            "34/34 [==============================] - 0s 2ms/step - loss: 3483.3425 - mae: 3483.3425\n",
            "Epoch 837/1000\n",
            "34/34 [==============================] - 0s 2ms/step - loss: 3476.4180 - mae: 3476.4180\n",
            "Epoch 838/1000\n",
            "34/34 [==============================] - 0s 2ms/step - loss: 3483.1147 - mae: 3483.1147\n",
            "Epoch 839/1000\n",
            "34/34 [==============================] - 0s 2ms/step - loss: 3478.9155 - mae: 3478.9155\n",
            "Epoch 840/1000\n",
            "34/34 [==============================] - 0s 2ms/step - loss: 3480.0059 - mae: 3480.0059\n",
            "Epoch 841/1000\n",
            "34/34 [==============================] - 0s 2ms/step - loss: 3491.9053 - mae: 3491.9053\n",
            "Epoch 842/1000\n",
            "34/34 [==============================] - 0s 2ms/step - loss: 3475.7979 - mae: 3475.7979\n",
            "Epoch 843/1000\n",
            "34/34 [==============================] - 0s 2ms/step - loss: 3477.4697 - mae: 3477.4697\n",
            "Epoch 844/1000\n",
            "34/34 [==============================] - 0s 2ms/step - loss: 3483.2114 - mae: 3483.2114\n",
            "Epoch 845/1000\n",
            "34/34 [==============================] - 0s 2ms/step - loss: 3483.2788 - mae: 3483.2788\n",
            "Epoch 846/1000\n",
            "34/34 [==============================] - 0s 2ms/step - loss: 3484.9187 - mae: 3484.9187\n",
            "Epoch 847/1000\n",
            "34/34 [==============================] - 0s 2ms/step - loss: 3480.9365 - mae: 3480.9365\n",
            "Epoch 848/1000\n",
            "34/34 [==============================] - 0s 2ms/step - loss: 3474.7776 - mae: 3474.7776\n",
            "Epoch 849/1000\n",
            "34/34 [==============================] - 0s 2ms/step - loss: 3481.3279 - mae: 3481.3279\n",
            "Epoch 850/1000\n",
            "34/34 [==============================] - 0s 2ms/step - loss: 3482.6931 - mae: 3482.6931\n",
            "Epoch 851/1000\n",
            "34/34 [==============================] - 0s 2ms/step - loss: 3478.9458 - mae: 3478.9458\n",
            "Epoch 852/1000\n",
            "34/34 [==============================] - 0s 2ms/step - loss: 3480.8987 - mae: 3480.8987\n",
            "Epoch 853/1000\n",
            "34/34 [==============================] - 0s 2ms/step - loss: 3490.8796 - mae: 3490.8796\n",
            "Epoch 854/1000\n",
            "34/34 [==============================] - 0s 2ms/step - loss: 3482.9170 - mae: 3482.9170\n",
            "Epoch 855/1000\n",
            "34/34 [==============================] - 0s 3ms/step - loss: 3483.2554 - mae: 3483.2554\n",
            "Epoch 856/1000\n",
            "34/34 [==============================] - 0s 2ms/step - loss: 3478.8342 - mae: 3478.8342\n",
            "Epoch 857/1000\n",
            "34/34 [==============================] - 0s 2ms/step - loss: 3477.2832 - mae: 3477.2832\n",
            "Epoch 858/1000\n",
            "34/34 [==============================] - 0s 2ms/step - loss: 3471.8232 - mae: 3471.8232\n",
            "Epoch 859/1000\n",
            "34/34 [==============================] - 0s 2ms/step - loss: 3480.8372 - mae: 3480.8372\n",
            "Epoch 860/1000\n",
            "34/34 [==============================] - 0s 3ms/step - loss: 3477.0054 - mae: 3477.0054\n",
            "Epoch 861/1000\n",
            "34/34 [==============================] - 0s 2ms/step - loss: 3477.5664 - mae: 3477.5664\n",
            "Epoch 862/1000\n",
            "34/34 [==============================] - 0s 2ms/step - loss: 3475.7461 - mae: 3475.7461\n",
            "Epoch 863/1000\n",
            "34/34 [==============================] - 0s 2ms/step - loss: 3496.1917 - mae: 3496.1917\n",
            "Epoch 864/1000\n",
            "34/34 [==============================] - 0s 2ms/step - loss: 3498.0857 - mae: 3498.0857\n",
            "Epoch 865/1000\n",
            "34/34 [==============================] - 0s 2ms/step - loss: 3486.9070 - mae: 3486.9070\n",
            "Epoch 866/1000\n",
            "34/34 [==============================] - 0s 2ms/step - loss: 3495.4180 - mae: 3495.4180\n",
            "Epoch 867/1000\n",
            "34/34 [==============================] - 0s 2ms/step - loss: 3485.2915 - mae: 3485.2915\n",
            "Epoch 868/1000\n",
            "34/34 [==============================] - 0s 1ms/step - loss: 3488.6418 - mae: 3488.6418\n",
            "Epoch 869/1000\n",
            "34/34 [==============================] - 0s 2ms/step - loss: 3482.4348 - mae: 3482.4348\n",
            "Epoch 870/1000\n",
            "34/34 [==============================] - 0s 2ms/step - loss: 3472.3992 - mae: 3472.3992\n",
            "Epoch 871/1000\n",
            "34/34 [==============================] - 0s 2ms/step - loss: 3489.5137 - mae: 3489.5137\n",
            "Epoch 872/1000\n",
            "34/34 [==============================] - 0s 2ms/step - loss: 3480.6184 - mae: 3480.6184\n",
            "Epoch 873/1000\n",
            "34/34 [==============================] - 0s 2ms/step - loss: 3482.1265 - mae: 3482.1265\n",
            "Epoch 874/1000\n",
            "34/34 [==============================] - 0s 2ms/step - loss: 3491.6790 - mae: 3491.6790\n",
            "Epoch 875/1000\n",
            "34/34 [==============================] - 0s 2ms/step - loss: 3476.2732 - mae: 3476.2732\n",
            "Epoch 876/1000\n",
            "34/34 [==============================] - 0s 2ms/step - loss: 3483.4360 - mae: 3483.4360\n",
            "Epoch 877/1000\n",
            "34/34 [==============================] - 0s 2ms/step - loss: 3479.0940 - mae: 3479.0940\n",
            "Epoch 878/1000\n",
            "34/34 [==============================] - 0s 2ms/step - loss: 3475.3899 - mae: 3475.3899\n",
            "Epoch 879/1000\n",
            "34/34 [==============================] - 0s 2ms/step - loss: 3476.5994 - mae: 3476.5994\n",
            "Epoch 880/1000\n",
            "34/34 [==============================] - 0s 2ms/step - loss: 3490.8179 - mae: 3490.8179\n",
            "Epoch 881/1000\n",
            "34/34 [==============================] - 0s 2ms/step - loss: 3477.1455 - mae: 3477.1455\n",
            "Epoch 882/1000\n",
            "34/34 [==============================] - 0s 3ms/step - loss: 3478.7898 - mae: 3478.7898\n",
            "Epoch 883/1000\n",
            "34/34 [==============================] - 0s 3ms/step - loss: 3487.5916 - mae: 3487.5916\n",
            "Epoch 884/1000\n",
            "34/34 [==============================] - 0s 3ms/step - loss: 3488.9277 - mae: 3488.9277\n",
            "Epoch 885/1000\n",
            "34/34 [==============================] - 0s 2ms/step - loss: 3486.6206 - mae: 3486.6206\n",
            "Epoch 886/1000\n",
            "34/34 [==============================] - 0s 2ms/step - loss: 3490.1511 - mae: 3490.1511\n",
            "Epoch 887/1000\n",
            "34/34 [==============================] - 0s 2ms/step - loss: 3486.2327 - mae: 3486.2327\n",
            "Epoch 888/1000\n",
            "34/34 [==============================] - 0s 2ms/step - loss: 3481.8252 - mae: 3481.8252\n",
            "Epoch 889/1000\n",
            "34/34 [==============================] - 0s 2ms/step - loss: 3480.5151 - mae: 3480.5151\n",
            "Epoch 890/1000\n",
            "34/34 [==============================] - 0s 2ms/step - loss: 3483.3274 - mae: 3483.3274\n",
            "Epoch 891/1000\n",
            "34/34 [==============================] - 0s 2ms/step - loss: 3474.1543 - mae: 3474.1543\n",
            "Epoch 892/1000\n",
            "34/34 [==============================] - 0s 2ms/step - loss: 3482.1008 - mae: 3482.1008\n",
            "Epoch 893/1000\n",
            "34/34 [==============================] - 0s 2ms/step - loss: 3479.4353 - mae: 3479.4353\n",
            "Epoch 894/1000\n",
            "34/34 [==============================] - 0s 2ms/step - loss: 3488.1716 - mae: 3488.1716\n",
            "Epoch 895/1000\n",
            "34/34 [==============================] - 0s 2ms/step - loss: 3481.3506 - mae: 3481.3506\n",
            "Epoch 896/1000\n",
            "34/34 [==============================] - 0s 2ms/step - loss: 3490.1055 - mae: 3490.1055\n",
            "Epoch 897/1000\n",
            "34/34 [==============================] - 0s 2ms/step - loss: 3488.1116 - mae: 3488.1116\n",
            "Epoch 898/1000\n",
            "34/34 [==============================] - 0s 2ms/step - loss: 3480.4609 - mae: 3480.4609\n",
            "Epoch 899/1000\n",
            "34/34 [==============================] - 0s 2ms/step - loss: 3488.2510 - mae: 3488.2510\n",
            "Epoch 900/1000\n",
            "34/34 [==============================] - 0s 2ms/step - loss: 3477.4441 - mae: 3477.4441\n",
            "Epoch 901/1000\n",
            "34/34 [==============================] - 0s 2ms/step - loss: 3484.7646 - mae: 3484.7646\n",
            "Epoch 902/1000\n",
            "34/34 [==============================] - 0s 2ms/step - loss: 3477.6433 - mae: 3477.6433\n",
            "Epoch 903/1000\n",
            "34/34 [==============================] - 0s 3ms/step - loss: 3477.5356 - mae: 3477.5356\n",
            "Epoch 904/1000\n",
            "34/34 [==============================] - 0s 2ms/step - loss: 3480.4119 - mae: 3480.4119\n",
            "Epoch 905/1000\n",
            "34/34 [==============================] - 0s 2ms/step - loss: 3480.2490 - mae: 3480.2490\n",
            "Epoch 906/1000\n",
            "34/34 [==============================] - 0s 2ms/step - loss: 3483.4714 - mae: 3483.4714\n",
            "Epoch 907/1000\n",
            "34/34 [==============================] - 0s 2ms/step - loss: 3473.6277 - mae: 3473.6277\n",
            "Epoch 908/1000\n",
            "34/34 [==============================] - 0s 2ms/step - loss: 3486.3105 - mae: 3486.3105\n",
            "Epoch 909/1000\n",
            "34/34 [==============================] - 0s 2ms/step - loss: 3479.2676 - mae: 3479.2676\n",
            "Epoch 910/1000\n",
            "34/34 [==============================] - 0s 2ms/step - loss: 3477.4595 - mae: 3477.4595\n",
            "Epoch 911/1000\n",
            "34/34 [==============================] - 0s 2ms/step - loss: 3491.3999 - mae: 3491.3999\n",
            "Epoch 912/1000\n",
            "34/34 [==============================] - 0s 2ms/step - loss: 3485.3694 - mae: 3485.3694\n",
            "Epoch 913/1000\n",
            "34/34 [==============================] - 0s 2ms/step - loss: 3475.6780 - mae: 3475.6780\n",
            "Epoch 914/1000\n",
            "34/34 [==============================] - 0s 2ms/step - loss: 3486.6875 - mae: 3486.6875\n",
            "Epoch 915/1000\n",
            "34/34 [==============================] - 0s 2ms/step - loss: 3480.4043 - mae: 3480.4043\n",
            "Epoch 916/1000\n",
            "34/34 [==============================] - 0s 2ms/step - loss: 3495.1465 - mae: 3495.1465\n",
            "Epoch 917/1000\n",
            "34/34 [==============================] - 0s 2ms/step - loss: 3481.6167 - mae: 3481.6167\n",
            "Epoch 918/1000\n",
            "34/34 [==============================] - 0s 2ms/step - loss: 3486.0566 - mae: 3486.0566\n",
            "Epoch 919/1000\n",
            "34/34 [==============================] - 0s 2ms/step - loss: 3483.2520 - mae: 3483.2520\n",
            "Epoch 920/1000\n",
            "34/34 [==============================] - 0s 2ms/step - loss: 3480.2107 - mae: 3480.2107\n",
            "Epoch 921/1000\n",
            "34/34 [==============================] - 0s 2ms/step - loss: 3479.4702 - mae: 3479.4702\n",
            "Epoch 922/1000\n",
            "34/34 [==============================] - 0s 2ms/step - loss: 3495.0449 - mae: 3495.0449\n",
            "Epoch 923/1000\n",
            "34/34 [==============================] - 0s 2ms/step - loss: 3493.6580 - mae: 3493.6580\n",
            "Epoch 924/1000\n",
            "34/34 [==============================] - 0s 2ms/step - loss: 3486.1765 - mae: 3486.1765\n",
            "Epoch 925/1000\n",
            "34/34 [==============================] - 0s 2ms/step - loss: 3491.2422 - mae: 3491.2422\n",
            "Epoch 926/1000\n",
            "34/34 [==============================] - 0s 2ms/step - loss: 3479.8010 - mae: 3479.8010\n",
            "Epoch 927/1000\n",
            "34/34 [==============================] - 0s 2ms/step - loss: 3477.9382 - mae: 3477.9382\n",
            "Epoch 928/1000\n",
            "34/34 [==============================] - 0s 2ms/step - loss: 3475.1016 - mae: 3475.1016\n",
            "Epoch 929/1000\n",
            "34/34 [==============================] - 0s 2ms/step - loss: 3476.9580 - mae: 3476.9580\n",
            "Epoch 930/1000\n",
            "34/34 [==============================] - 0s 2ms/step - loss: 3480.1384 - mae: 3480.1384\n",
            "Epoch 931/1000\n",
            "34/34 [==============================] - 0s 3ms/step - loss: 3478.4839 - mae: 3478.4839\n",
            "Epoch 932/1000\n",
            "34/34 [==============================] - 0s 2ms/step - loss: 3481.6956 - mae: 3481.6956\n",
            "Epoch 933/1000\n",
            "34/34 [==============================] - 0s 2ms/step - loss: 3484.1201 - mae: 3484.1199\n",
            "Epoch 934/1000\n",
            "34/34 [==============================] - 0s 2ms/step - loss: 3492.3994 - mae: 3492.3994\n",
            "Epoch 935/1000\n",
            "34/34 [==============================] - 0s 2ms/step - loss: 3482.3289 - mae: 3482.3289\n",
            "Epoch 936/1000\n",
            "34/34 [==============================] - 0s 2ms/step - loss: 3493.4878 - mae: 3493.4878\n",
            "Epoch 937/1000\n",
            "34/34 [==============================] - 0s 2ms/step - loss: 3480.8589 - mae: 3480.8589\n",
            "Epoch 938/1000\n",
            "34/34 [==============================] - 0s 2ms/step - loss: 3479.3281 - mae: 3479.3281\n",
            "Epoch 939/1000\n",
            "34/34 [==============================] - 0s 2ms/step - loss: 3480.1187 - mae: 3480.1187\n",
            "Epoch 940/1000\n",
            "34/34 [==============================] - 0s 2ms/step - loss: 3488.1482 - mae: 3488.1482\n",
            "Epoch 941/1000\n",
            "34/34 [==============================] - 0s 2ms/step - loss: 3476.0229 - mae: 3476.0229\n",
            "Epoch 942/1000\n",
            "34/34 [==============================] - 0s 2ms/step - loss: 3479.7456 - mae: 3479.7456\n",
            "Epoch 943/1000\n",
            "34/34 [==============================] - 0s 2ms/step - loss: 3480.5244 - mae: 3480.5244\n",
            "Epoch 944/1000\n",
            "34/34 [==============================] - 0s 2ms/step - loss: 3494.9092 - mae: 3494.9092\n",
            "Epoch 945/1000\n",
            "34/34 [==============================] - 0s 2ms/step - loss: 3484.1047 - mae: 3484.1047\n",
            "Epoch 946/1000\n",
            "34/34 [==============================] - 0s 2ms/step - loss: 3478.6472 - mae: 3478.6472\n",
            "Epoch 947/1000\n",
            "34/34 [==============================] - 0s 2ms/step - loss: 3475.8745 - mae: 3475.8745\n",
            "Epoch 948/1000\n",
            "34/34 [==============================] - 0s 3ms/step - loss: 3487.6973 - mae: 3487.6973\n",
            "Epoch 949/1000\n",
            "34/34 [==============================] - 0s 2ms/step - loss: 3477.4558 - mae: 3477.4558\n",
            "Epoch 950/1000\n",
            "34/34 [==============================] - 0s 2ms/step - loss: 3480.3333 - mae: 3480.3333\n",
            "Epoch 951/1000\n",
            "34/34 [==============================] - 0s 2ms/step - loss: 3479.2146 - mae: 3479.2146\n",
            "Epoch 952/1000\n",
            "34/34 [==============================] - 0s 2ms/step - loss: 3485.7695 - mae: 3485.7695\n",
            "Epoch 953/1000\n",
            "34/34 [==============================] - 0s 2ms/step - loss: 3477.1311 - mae: 3477.1311\n",
            "Epoch 954/1000\n",
            "34/34 [==============================] - 0s 2ms/step - loss: 3477.3821 - mae: 3477.3821\n",
            "Epoch 955/1000\n",
            "34/34 [==============================] - 0s 2ms/step - loss: 3478.8235 - mae: 3478.8235\n",
            "Epoch 956/1000\n",
            "34/34 [==============================] - 0s 2ms/step - loss: 3479.0186 - mae: 3479.0186\n",
            "Epoch 957/1000\n",
            "34/34 [==============================] - 0s 2ms/step - loss: 3485.2214 - mae: 3485.2214\n",
            "Epoch 958/1000\n",
            "34/34 [==============================] - 0s 2ms/step - loss: 3476.5510 - mae: 3476.5510\n",
            "Epoch 959/1000\n",
            "34/34 [==============================] - 0s 3ms/step - loss: 3481.4434 - mae: 3481.4434\n",
            "Epoch 960/1000\n",
            "34/34 [==============================] - 0s 2ms/step - loss: 3478.9602 - mae: 3478.9602\n",
            "Epoch 961/1000\n",
            "34/34 [==============================] - 0s 2ms/step - loss: 3477.0571 - mae: 3477.0571\n",
            "Epoch 962/1000\n",
            "34/34 [==============================] - 0s 2ms/step - loss: 3477.5579 - mae: 3477.5579\n",
            "Epoch 963/1000\n",
            "34/34 [==============================] - 0s 2ms/step - loss: 3478.3792 - mae: 3478.3792\n",
            "Epoch 964/1000\n",
            "34/34 [==============================] - 0s 2ms/step - loss: 3487.7798 - mae: 3487.7798\n",
            "Epoch 965/1000\n",
            "34/34 [==============================] - 0s 2ms/step - loss: 3482.0798 - mae: 3482.0798\n",
            "Epoch 966/1000\n",
            "34/34 [==============================] - 0s 2ms/step - loss: 3472.4658 - mae: 3472.4658\n",
            "Epoch 967/1000\n",
            "34/34 [==============================] - 0s 2ms/step - loss: 3480.3191 - mae: 3480.3191\n",
            "Epoch 968/1000\n",
            "34/34 [==============================] - 0s 2ms/step - loss: 3502.3989 - mae: 3502.3989\n",
            "Epoch 969/1000\n",
            "34/34 [==============================] - 0s 3ms/step - loss: 3483.3547 - mae: 3483.3547\n",
            "Epoch 970/1000\n",
            "34/34 [==============================] - 0s 2ms/step - loss: 3475.8945 - mae: 3475.8945\n",
            "Epoch 971/1000\n",
            "34/34 [==============================] - 0s 2ms/step - loss: 3481.2229 - mae: 3481.2229\n",
            "Epoch 972/1000\n",
            "34/34 [==============================] - 0s 2ms/step - loss: 3503.7163 - mae: 3503.7163\n",
            "Epoch 973/1000\n",
            "34/34 [==============================] - 0s 3ms/step - loss: 3495.6021 - mae: 3495.6021\n",
            "Epoch 974/1000\n",
            "34/34 [==============================] - 0s 2ms/step - loss: 3479.9036 - mae: 3479.9036\n",
            "Epoch 975/1000\n",
            "34/34 [==============================] - 0s 2ms/step - loss: 3475.8191 - mae: 3475.8191\n",
            "Epoch 976/1000\n",
            "34/34 [==============================] - 0s 2ms/step - loss: 3474.0015 - mae: 3474.0015\n",
            "Epoch 977/1000\n",
            "34/34 [==============================] - 0s 2ms/step - loss: 3475.1277 - mae: 3475.1277\n",
            "Epoch 978/1000\n",
            "34/34 [==============================] - 0s 2ms/step - loss: 3477.5999 - mae: 3477.5999\n",
            "Epoch 979/1000\n",
            "34/34 [==============================] - 0s 3ms/step - loss: 3480.3171 - mae: 3480.3171\n",
            "Epoch 980/1000\n",
            "34/34 [==============================] - 0s 2ms/step - loss: 3473.8250 - mae: 3473.8250\n",
            "Epoch 981/1000\n",
            "34/34 [==============================] - 0s 2ms/step - loss: 3478.3125 - mae: 3478.3125\n",
            "Epoch 982/1000\n",
            "34/34 [==============================] - 0s 2ms/step - loss: 3509.4358 - mae: 3509.4358\n",
            "Epoch 983/1000\n",
            "34/34 [==============================] - 0s 2ms/step - loss: 3481.5466 - mae: 3481.5466\n",
            "Epoch 984/1000\n",
            "34/34 [==============================] - 0s 2ms/step - loss: 3475.0239 - mae: 3475.0239\n",
            "Epoch 985/1000\n",
            "34/34 [==============================] - 0s 2ms/step - loss: 3478.9136 - mae: 3478.9136\n",
            "Epoch 986/1000\n",
            "34/34 [==============================] - 0s 2ms/step - loss: 3474.7849 - mae: 3474.7849\n",
            "Epoch 987/1000\n",
            "34/34 [==============================] - 0s 2ms/step - loss: 3491.4011 - mae: 3491.4011\n",
            "Epoch 988/1000\n",
            "34/34 [==============================] - 0s 2ms/step - loss: 3478.6472 - mae: 3478.6472\n",
            "Epoch 989/1000\n",
            "34/34 [==============================] - 0s 2ms/step - loss: 3474.8906 - mae: 3474.8906\n",
            "Epoch 990/1000\n",
            "34/34 [==============================] - 0s 2ms/step - loss: 3474.1304 - mae: 3474.1304\n",
            "Epoch 991/1000\n",
            "34/34 [==============================] - 0s 2ms/step - loss: 3483.5679 - mae: 3483.5679\n",
            "Epoch 992/1000\n",
            "34/34 [==============================] - 0s 2ms/step - loss: 3477.3506 - mae: 3477.3506\n",
            "Epoch 993/1000\n",
            "34/34 [==============================] - 0s 2ms/step - loss: 3476.3928 - mae: 3476.3928\n",
            "Epoch 994/1000\n",
            "34/34 [==============================] - 0s 2ms/step - loss: 3476.4119 - mae: 3476.4119\n",
            "Epoch 995/1000\n",
            "34/34 [==============================] - 0s 2ms/step - loss: 3478.2876 - mae: 3478.2876\n",
            "Epoch 996/1000\n",
            "34/34 [==============================] - 0s 2ms/step - loss: 3483.1594 - mae: 3483.1594\n",
            "Epoch 997/1000\n",
            "34/34 [==============================] - 0s 2ms/step - loss: 3504.7710 - mae: 3504.7710\n",
            "Epoch 998/1000\n",
            "34/34 [==============================] - 0s 2ms/step - loss: 3491.2490 - mae: 3491.2490\n",
            "Epoch 999/1000\n",
            "34/34 [==============================] - 0s 3ms/step - loss: 3478.0051 - mae: 3478.0051\n",
            "Epoch 1000/1000\n",
            "34/34 [==============================] - 0s 2ms/step - loss: 3502.1567 - mae: 3502.1567\n"
          ],
          "name": "stdout"
        },
        {
          "output_type": "execute_result",
          "data": {
            "text/plain": [
              "<tensorflow.python.keras.callbacks.History at 0x7f78efda4750>"
            ]
          },
          "metadata": {
            "tags": []
          },
          "execution_count": 87
        }
      ]
    },
    {
      "cell_type": "code",
      "metadata": {
        "colab": {
          "base_uri": "https://localhost:8080/"
        },
        "id": "EKqbSsSg9j4D",
        "outputId": "c3d47259-31e6-49ff-a021-2228b8bcadd8"
      },
      "source": [
        "# Check the results of the insurance model on the test data\n",
        "insurance_model.evaluate(X_test, y_test)"
      ],
      "execution_count": 88,
      "outputs": [
        {
          "output_type": "stream",
          "text": [
            "9/9 [==============================] - 0s 2ms/step - loss: 3225.1672 - mae: 3225.1672\n"
          ],
          "name": "stdout"
        },
        {
          "output_type": "execute_result",
          "data": {
            "text/plain": [
              "[3225.167236328125, 3225.167236328125]"
            ]
          },
          "metadata": {
            "tags": []
          },
          "execution_count": 88
        }
      ]
    },
    {
      "cell_type": "code",
      "metadata": {
        "id": "kRoL29GZCPph"
      },
      "source": [
        "# Video 03 - 25\n"
      ],
      "execution_count": 74,
      "outputs": []
    }
  ]
}