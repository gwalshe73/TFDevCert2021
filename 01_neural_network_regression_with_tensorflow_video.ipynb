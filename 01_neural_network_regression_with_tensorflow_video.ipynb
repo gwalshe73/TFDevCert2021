{
  "nbformat": 4,
  "nbformat_minor": 0,
  "metadata": {
    "colab": {
      "name": "01_neural_network_regression_with_tensorflow_video.ipynb",
      "provenance": [],
      "collapsed_sections": [],
      "toc_visible": true,
      "mount_file_id": "1ZXFmKRMJ33peG986TXhXuZZc1ESW3zWR",
      "authorship_tag": "ABX9TyMSWi6/Q4mDtbZ440oHMrxn",
      "include_colab_link": true
    },
    "kernelspec": {
      "name": "python3",
      "display_name": "Python 3"
    },
    "language_info": {
      "name": "python"
    },
    "accelerator": "GPU"
  },
  "cells": [
    {
      "cell_type": "markdown",
      "metadata": {
        "id": "view-in-github",
        "colab_type": "text"
      },
      "source": [
        "<a href=\"https://colab.research.google.com/github/gwalshe73/TFDC2021ZtoM/blob/main/01_neural_network_regression_with_tensorflow_video.ipynb\" target=\"_parent\"><img src=\"https://colab.research.google.com/assets/colab-badge.svg\" alt=\"Open In Colab\"/></a>"
      ]
    },
    {
      "cell_type": "markdown",
      "metadata": {
        "id": "Zq02Zy0VI47J"
      },
      "source": [
        "# Introduction to Regression with Neural Networks in TensorFlow\n",
        "\n",
        "There are many definitions for a regression problem but in our case, we're going to simplify it: predicting a numerical variable based on some other combination of variables, even shorter... predicting a number."
      ]
    },
    {
      "cell_type": "code",
      "metadata": {
        "colab": {
          "base_uri": "https://localhost:8080/"
        },
        "id": "wPYycrSrJpl5",
        "outputId": "fee49f2c-42ba-488b-b5ff-ea24af2eeb20"
      },
      "source": [
        "# Import TensorFlow\n",
        "import tensorflow as tf\n",
        "print(tf.__version__)"
      ],
      "execution_count": 1,
      "outputs": [
        {
          "output_type": "stream",
          "text": [
            "2.5.0\n"
          ],
          "name": "stdout"
        }
      ]
    },
    {
      "cell_type": "code",
      "metadata": {
        "colab": {
          "base_uri": "https://localhost:8080/",
          "height": 286
        },
        "id": "9Ml38q-wKQY1",
        "outputId": "28135324-8cb0-4e9d-d045-daa94a9e93da"
      },
      "source": [
        "import numpy as np\n",
        "import matplotlib.pyplot as plt\n",
        "\n",
        "# Create features\n",
        "X = np.array([-7.0, -4.0, -1.0, 2.0, 5.0, 8.0, 11.0, 14.0])\n",
        "\n",
        "# Create labels\n",
        "y = np.array([3.0, 6.0, 9.0, 12.0, 15.0, 18.0, 21.0, 24.0])\n",
        "\n",
        "# Visualise it\n",
        "plt.scatter(X, y)"
      ],
      "execution_count": 2,
      "outputs": [
        {
          "output_type": "execute_result",
          "data": {
            "text/plain": [
              "<matplotlib.collections.PathCollection at 0x7fb107490fd0>"
            ]
          },
          "metadata": {
            "tags": []
          },
          "execution_count": 2
        },
        {
          "output_type": "display_data",
          "data": {
            "image/png": "[encoded data removed]",
            "text/plain": [
              "<Figure size 432x288 with 1 Axes>"
            ]
          },
          "metadata": {
            "tags": [],
            "needs_background": "light"
          }
        }
      ]
    },
    {
      "cell_type": "code",
      "metadata": {
        "colab": {
          "base_uri": "https://localhost:8080/"
        },
        "id": "wC-yEns6LYXD",
        "outputId": "b99051ee-89ab-4549-ccb2-488227c4f9ca"
      },
      "source": [
        "y == X + 10"
      ],
      "execution_count": 3,
      "outputs": [
        {
          "output_type": "execute_result",
          "data": {
            "text/plain": [
              "array([ True,  True,  True,  True,  True,  True,  True,  True])"
            ]
          },
          "metadata": {
            "tags": []
          },
          "execution_count": 3
        }
      ]
    },
    {
      "cell_type": "code",
      "metadata": {
        "colab": {
          "base_uri": "https://localhost:8080/"
        },
        "id": "0YOJbRtgmg1x",
        "outputId": "843f9bee-8b56-4199-f593-8fd6df2c25f6"
      },
      "source": [
        "# Create a demo tensor for a our housing price prediction problem\n",
        "house_info = tf.constant([\"bedroom\", \"bathroom\", \"garage\"])\n",
        "house_price = tf.constant([939700])\n",
        "house_info, house_price"
      ],
      "execution_count": 4,
      "outputs": [
        {
          "output_type": "execute_result",
          "data": {
            "text/plain": [
              "(<tf.Tensor: shape=(3,), dtype=string, numpy=array([b'bedroom', b'bathroom', b'garage'], dtype=object)>,\n",
              " <tf.Tensor: shape=(1,), dtype=int32, numpy=array([939700], dtype=int32)>)"
            ]
          },
          "metadata": {
            "tags": []
          },
          "execution_count": 4
        }
      ]
    },
    {
      "cell_type": "code",
      "metadata": {
        "colab": {
          "base_uri": "https://localhost:8080/"
        },
        "id": "okEN9pfvnMKN",
        "outputId": "f7805dca-415f-43aa-a8f4-e687f9901ae4"
      },
      "source": [
        "X[0], y[0]"
      ],
      "execution_count": 5,
      "outputs": [
        {
          "output_type": "execute_result",
          "data": {
            "text/plain": [
              "(-7.0, 3.0)"
            ]
          },
          "metadata": {
            "tags": []
          },
          "execution_count": 5
        }
      ]
    },
    {
      "cell_type": "code",
      "metadata": {
        "colab": {
          "base_uri": "https://localhost:8080/"
        },
        "id": "Bg8N54wun9at",
        "outputId": "212284cd-c0da-44bf-d94e-4a0236a9442e"
      },
      "source": [
        "X[1], y[1]"
      ],
      "execution_count": 6,
      "outputs": [
        {
          "output_type": "execute_result",
          "data": {
            "text/plain": [
              "(-4.0, 6.0)"
            ]
          },
          "metadata": {
            "tags": []
          },
          "execution_count": 6
        }
      ]
    },
    {
      "cell_type": "code",
      "metadata": {
        "id": "Za9aIV_nn_w4",
        "colab": {
          "base_uri": "https://localhost:8080/"
        },
        "outputId": "69ae0fa4-eccb-46ac-e6fa-1487e94c901b"
      },
      "source": [
        "input_shape = X.shape\n",
        "output_shape = y.shape\n",
        "input_shape, output_shape"
      ],
      "execution_count": 7,
      "outputs": [
        {
          "output_type": "execute_result",
          "data": {
            "text/plain": [
              "((8,), (8,))"
            ]
          },
          "metadata": {
            "tags": []
          },
          "execution_count": 7
        }
      ]
    },
    {
      "cell_type": "code",
      "metadata": {
        "colab": {
          "base_uri": "https://localhost:8080/"
        },
        "id": "j6eRNpO0o9ZD",
        "outputId": "5bd9e38f-ed9b-4a65-a59c-774c36913ae6"
      },
      "source": [
        "X[0].ndim"
      ],
      "execution_count": 8,
      "outputs": [
        {
          "output_type": "execute_result",
          "data": {
            "text/plain": [
              "0"
            ]
          },
          "metadata": {
            "tags": []
          },
          "execution_count": 8
        }
      ]
    },
    {
      "cell_type": "code",
      "metadata": {
        "colab": {
          "base_uri": "https://localhost:8080/"
        },
        "id": "hawmxdJ1pgDE",
        "outputId": "810926d3-da1d-41af-a13c-82e37ef50f87"
      },
      "source": [
        "X.ndim"
      ],
      "execution_count": 9,
      "outputs": [
        {
          "output_type": "execute_result",
          "data": {
            "text/plain": [
              "1"
            ]
          },
          "metadata": {
            "tags": []
          },
          "execution_count": 9
        }
      ]
    },
    {
      "cell_type": "code",
      "metadata": {
        "colab": {
          "base_uri": "https://localhost:8080/"
        },
        "id": "mfOZY1bfpiAG",
        "outputId": "41ab0e23-8add-4bed-8f90-734c1d6fa652"
      },
      "source": [
        "# Turn our NumPy arrays into tensors\n",
        "X = tf.cast(tf.constant(X), dtype=tf.float32)\n",
        "y = tf.cast(tf.constant(y), dtype=tf.float32)\n",
        "X, y"
      ],
      "execution_count": 10,
      "outputs": [
        {
          "output_type": "execute_result",
          "data": {
            "text/plain": [
              "(<tf.Tensor: shape=(8,), dtype=float32, numpy=array([-7., -4., -1.,  2.,  5.,  8., 11., 14.], dtype=float32)>,\n",
              " <tf.Tensor: shape=(8,), dtype=float32, numpy=array([ 3.,  6.,  9., 12., 15., 18., 21., 24.], dtype=float32)>)"
            ]
          },
          "metadata": {
            "tags": []
          },
          "execution_count": 10
        }
      ]
    },
    {
      "cell_type": "code",
      "metadata": {
        "colab": {
          "base_uri": "https://localhost:8080/"
        },
        "id": "B6MpqJhNqgy7",
        "outputId": "0b2eabf8-a06b-413e-b9ff-791a250d5a05"
      },
      "source": [
        "input_shape = X[0].shape\n",
        "output_shape = y[0].shape\n",
        "input_shape, output_shape"
      ],
      "execution_count": 11,
      "outputs": [
        {
          "output_type": "execute_result",
          "data": {
            "text/plain": [
              "(TensorShape([]), TensorShape([]))"
            ]
          },
          "metadata": {
            "tags": []
          },
          "execution_count": 11
        }
      ]
    },
    {
      "cell_type": "code",
      "metadata": {
        "colab": {
          "base_uri": "https://localhost:8080/",
          "height": 286
        },
        "id": "xuwazJA7q0Mr",
        "outputId": "e401d10e-3818-435d-c7f8-1bcad017ab22"
      },
      "source": [
        "plt.scatter(X, y)"
      ],
      "execution_count": 12,
      "outputs": [
        {
          "output_type": "execute_result",
          "data": {
            "text/plain": [
              "<matplotlib.collections.PathCollection at 0x7fb107490e90>"
            ]
          },
          "metadata": {
            "tags": []
          },
          "execution_count": 12
        },
        {
          "output_type": "display_data",
          "data": {
            "image/png": "[encoded data removed]",
            "text/plain": [
              "<Figure size 432x288 with 1 Axes>"
            ]
          },
          "metadata": {
            "tags": [],
            "needs_background": "light"
          }
        }
      ]
    },
    {
      "cell_type": "markdown",
      "metadata": {
        "id": "lB9aULPprUXf"
      },
      "source": [
        "## Steps in modeling with TensorFlow\n",
        "\n",
        "1. **Creating a model** - define the input and output layers, as well as the hidden layers of a deep learning model.\n",
        "2. **Compiling a model** - define the loss function (in other words, the function which tells our model how wrong it is) and the optimizer (tells our model how to improve the patterns its learning) and evaluation metrics (what we can use to interpret the performance of our model).\n",
        "3. **Fitting a model** - letting the model try to find patterns between X & y (features and labels)."
      ]
    },
    {
      "cell_type": "code",
      "metadata": {
        "colab": {
          "base_uri": "https://localhost:8080/"
        },
        "id": "Wu1hf0QhsZby",
        "outputId": "2a6ef7a2-aa96-4d27-d7c2-98aae0d4b652"
      },
      "source": [
        "# Set random seed\n",
        "tf.random.set_seed(42)\n",
        "\n",
        "# 1. Create a model using the Sequential API\n",
        "model = tf.keras.Sequential([\n",
        "                             tf.keras.layers.Dense(1)\n",
        "])\n",
        "\n",
        "# 2. Compile the model\n",
        "model.compile(loss=tf.keras.losses.mae, # mae is short for mean absolute error\n",
        "              optimizer=tf.keras.optimizers.SGD(), # sgd is short for stochastic gradient descent\n",
        "              metrics=[\"mae\"])\n",
        "\n",
        "# 3. Fit the model\n",
        "model.fit(X, y, epochs=5)"
      ],
      "execution_count": 13,
      "outputs": [
        {
          "output_type": "stream",
          "text": [
            "Epoch 1/5\n",
            "1/1 [==============================] - 3s 3s/step - loss: 11.5048 - mae: 11.5048\n",
            "Epoch 2/5\n",
            "1/1 [==============================] - 0s 4ms/step - loss: 11.3723 - mae: 11.3723\n",
            "Epoch 3/5\n",
            "1/1 [==============================] - 0s 8ms/step - loss: 11.2398 - mae: 11.2398\n",
            "Epoch 4/5\n",
            "1/1 [==============================] - 0s 4ms/step - loss: 11.1073 - mae: 11.1073\n",
            "Epoch 5/5\n",
            "1/1 [==============================] - 0s 6ms/step - loss: 10.9748 - mae: 10.9748\n"
          ],
          "name": "stdout"
        },
        {
          "output_type": "execute_result",
          "data": {
            "text/plain": [
              "<tensorflow.python.keras.callbacks.History at 0x7fb0ba6754d0>"
            ]
          },
          "metadata": {
            "tags": []
          },
          "execution_count": 13
        }
      ]
    },
    {
      "cell_type": "code",
      "metadata": {
        "colab": {
          "base_uri": "https://localhost:8080/"
        },
        "id": "gM-LmFQXwlIF",
        "outputId": "33c229c8-a506-4c7e-b1a3-561fe60adbb5"
      },
      "source": [
        "# Check out X and y\n",
        "X, y"
      ],
      "execution_count": 14,
      "outputs": [
        {
          "output_type": "execute_result",
          "data": {
            "text/plain": [
              "(<tf.Tensor: shape=(8,), dtype=float32, numpy=array([-7., -4., -1.,  2.,  5.,  8., 11., 14.], dtype=float32)>,\n",
              " <tf.Tensor: shape=(8,), dtype=float32, numpy=array([ 3.,  6.,  9., 12., 15., 18., 21., 24.], dtype=float32)>)"
            ]
          },
          "metadata": {
            "tags": []
          },
          "execution_count": 14
        }
      ]
    },
    {
      "cell_type": "code",
      "metadata": {
        "colab": {
          "base_uri": "https://localhost:8080/"
        },
        "id": "WQ9JWS5VbFuW",
        "outputId": "bd9166a5-edd2-4434-f8c7-89d2db81235e"
      },
      "source": [
        "# Try and make a prediction\n",
        "model.predict([17.0])"
      ],
      "execution_count": 15,
      "outputs": [
        {
          "output_type": "execute_result",
          "data": {
            "text/plain": [
              "array([[12.716021]], dtype=float32)"
            ]
          },
          "metadata": {
            "tags": []
          },
          "execution_count": 15
        }
      ]
    },
    {
      "cell_type": "code",
      "metadata": {
        "colab": {
          "base_uri": "https://localhost:8080/"
        },
        "id": "FXjVdw7zbQOZ",
        "outputId": "4bd9e6eb-dfca-4d0e-e22f-93d6b2518570"
      },
      "source": [
        "y_pred = model.predict([17.0])\n",
        "y_pred"
      ],
      "execution_count": 16,
      "outputs": [
        {
          "output_type": "execute_result",
          "data": {
            "text/plain": [
              "array([[12.716021]], dtype=float32)"
            ]
          },
          "metadata": {
            "tags": []
          },
          "execution_count": 16
        }
      ]
    },
    {
      "cell_type": "code",
      "metadata": {
        "colab": {
          "base_uri": "https://localhost:8080/"
        },
        "id": "aJwvvNxzbjVO",
        "outputId": "5aff6df7-0b21-4ef1-ea58-83a104207490"
      },
      "source": [
        "y_pred - 27"
      ],
      "execution_count": 17,
      "outputs": [
        {
          "output_type": "execute_result",
          "data": {
            "text/plain": [
              "array([[-14.283979]], dtype=float32)"
            ]
          },
          "metadata": {
            "tags": []
          },
          "execution_count": 17
        }
      ]
    },
    {
      "cell_type": "markdown",
      "metadata": {
        "id": "mZTAkoaNbpvZ"
      },
      "source": [
        "# Improving our model\n",
        "\n",
        "We can improve our model by altering the steps we took to create our model.\n",
        "\n",
        "1. **Creating a model** - here we might add more layers, increase the number of hidden units (neurons) within each of the hidden layers, change the activation function of each layer.\n",
        "2. **Compiling the model** - here we might change the optimization function or perhaps the learning rate of the optimization function.\n",
        "3. **Fitting a model** - here we might fit a model for more epochs (leave it training for longer) or on more data (give the model more examples to learn from."
      ]
    },
    {
      "cell_type": "code",
      "metadata": {
        "colab": {
          "base_uri": "https://localhost:8080/"
        },
        "id": "yqVqjjS2bywY",
        "outputId": "30371164-b97b-46d5-c365-c93b48f12b64"
      },
      "source": [
        "# Let's rebuild our model\n",
        "\n",
        "# 1. Create the model\n",
        "model = tf.keras.Sequential([\n",
        "                             tf.keras.layers.Dense(1)\n",
        "])\n",
        "\n",
        "# 2. Compile the model\n",
        "model.compile(loss=tf.keras.losses.mae,\n",
        "              optimizer=tf.keras.optimizers.SGD(),\n",
        "              metrics=[\"mae\"])\n",
        "\n",
        "# 3. Fit the model\n",
        "model.fit(X, y, epochs=100)"
      ],
      "execution_count": 18,
      "outputs": [
        {
          "output_type": "stream",
          "text": [
            "Epoch 1/100\n",
            "1/1 [==============================] - 0s 222ms/step - loss: 11.2219 - mae: 11.2219\n",
            "Epoch 2/100\n",
            "1/1 [==============================] - 0s 7ms/step - loss: 11.0894 - mae: 11.0894\n",
            "Epoch 3/100\n",
            "1/1 [==============================] - 0s 4ms/step - loss: 10.9569 - mae: 10.9569\n",
            "Epoch 4/100\n",
            "1/1 [==============================] - 0s 7ms/step - loss: 10.8244 - mae: 10.8244\n",
            "Epoch 5/100\n",
            "1/1 [==============================] - 0s 4ms/step - loss: 10.6919 - mae: 10.6919\n",
            "Epoch 6/100\n",
            "1/1 [==============================] - 0s 6ms/step - loss: 10.5594 - mae: 10.5594\n",
            "Epoch 7/100\n",
            "1/1 [==============================] - 0s 6ms/step - loss: 10.4269 - mae: 10.4269\n",
            "Epoch 8/100\n",
            "1/1 [==============================] - 0s 5ms/step - loss: 10.2944 - mae: 10.2944\n",
            "Epoch 9/100\n",
            "1/1 [==============================] - 0s 5ms/step - loss: 10.1619 - mae: 10.1619\n",
            "Epoch 10/100\n",
            "1/1 [==============================] - 0s 4ms/step - loss: 10.0294 - mae: 10.0294\n",
            "Epoch 11/100\n",
            "1/1 [==============================] - 0s 5ms/step - loss: 9.8969 - mae: 9.8969\n",
            "Epoch 12/100\n",
            "1/1 [==============================] - 0s 7ms/step - loss: 9.7644 - mae: 9.7644\n",
            "Epoch 13/100\n",
            "1/1 [==============================] - 0s 4ms/step - loss: 9.6319 - mae: 9.6319\n",
            "Epoch 14/100\n",
            "1/1 [==============================] - 0s 4ms/step - loss: 9.4994 - mae: 9.4994\n",
            "Epoch 15/100\n",
            "1/1 [==============================] - 0s 4ms/step - loss: 9.3669 - mae: 9.3669\n",
            "Epoch 16/100\n",
            "1/1 [==============================] - 0s 8ms/step - loss: 9.2344 - mae: 9.2344\n",
            "Epoch 17/100\n",
            "1/1 [==============================] - 0s 4ms/step - loss: 9.1019 - mae: 9.1019\n",
            "Epoch 18/100\n",
            "1/1 [==============================] - 0s 4ms/step - loss: 8.9694 - mae: 8.9694\n",
            "Epoch 19/100\n",
            "1/1 [==============================] - 0s 5ms/step - loss: 8.8369 - mae: 8.8369\n",
            "Epoch 20/100\n",
            "1/1 [==============================] - 0s 5ms/step - loss: 8.7044 - mae: 8.7044\n",
            "Epoch 21/100\n",
            "1/1 [==============================] - 0s 9ms/step - loss: 8.5719 - mae: 8.5719\n",
            "Epoch 22/100\n",
            "1/1 [==============================] - 0s 4ms/step - loss: 8.4394 - mae: 8.4394\n",
            "Epoch 23/100\n",
            "1/1 [==============================] - 0s 5ms/step - loss: 8.3069 - mae: 8.3069\n",
            "Epoch 24/100\n",
            "1/1 [==============================] - 0s 5ms/step - loss: 8.1744 - mae: 8.1744\n",
            "Epoch 25/100\n",
            "1/1 [==============================] - 0s 5ms/step - loss: 8.0419 - mae: 8.0419\n",
            "Epoch 26/100\n",
            "1/1 [==============================] - 0s 5ms/step - loss: 7.9094 - mae: 7.9094\n",
            "Epoch 27/100\n",
            "1/1 [==============================] - 0s 5ms/step - loss: 7.7769 - mae: 7.7769\n",
            "Epoch 28/100\n",
            "1/1 [==============================] - 0s 5ms/step - loss: 7.6444 - mae: 7.6444\n",
            "Epoch 29/100\n",
            "1/1 [==============================] - 0s 6ms/step - loss: 7.5119 - mae: 7.5119\n",
            "Epoch 30/100\n",
            "1/1 [==============================] - 0s 4ms/step - loss: 7.3794 - mae: 7.3794\n",
            "Epoch 31/100\n",
            "1/1 [==============================] - 0s 4ms/step - loss: 7.2750 - mae: 7.2750\n",
            "Epoch 32/100\n",
            "1/1 [==============================] - 0s 5ms/step - loss: 7.2694 - mae: 7.2694\n",
            "Epoch 33/100\n",
            "1/1 [==============================] - 0s 5ms/step - loss: 7.2638 - mae: 7.2638\n",
            "Epoch 34/100\n",
            "1/1 [==============================] - 0s 7ms/step - loss: 7.2581 - mae: 7.2581\n",
            "Epoch 35/100\n",
            "1/1 [==============================] - 0s 5ms/step - loss: 7.2525 - mae: 7.2525\n",
            "Epoch 36/100\n",
            "1/1 [==============================] - 0s 4ms/step - loss: 7.2469 - mae: 7.2469\n",
            "Epoch 37/100\n",
            "1/1 [==============================] - 0s 5ms/step - loss: 7.2413 - mae: 7.2413\n",
            "Epoch 38/100\n",
            "1/1 [==============================] - 0s 5ms/step - loss: 7.2356 - mae: 7.2356\n",
            "Epoch 39/100\n",
            "1/1 [==============================] - 0s 4ms/step - loss: 7.2300 - mae: 7.2300\n",
            "Epoch 40/100\n",
            "1/1 [==============================] - 0s 4ms/step - loss: 7.2244 - mae: 7.2244\n",
            "Epoch 41/100\n",
            "1/1 [==============================] - 0s 8ms/step - loss: 7.2188 - mae: 7.2188\n",
            "Epoch 42/100\n",
            "1/1 [==============================] - 0s 5ms/step - loss: 7.2131 - mae: 7.2131\n",
            "Epoch 43/100\n",
            "1/1 [==============================] - 0s 7ms/step - loss: 7.2075 - mae: 7.2075\n",
            "Epoch 44/100\n",
            "1/1 [==============================] - 0s 4ms/step - loss: 7.2019 - mae: 7.2019\n",
            "Epoch 45/100\n",
            "1/1 [==============================] - 0s 11ms/step - loss: 7.1962 - mae: 7.1962\n",
            "Epoch 46/100\n",
            "1/1 [==============================] - 0s 4ms/step - loss: 7.1906 - mae: 7.1906\n",
            "Epoch 47/100\n",
            "1/1 [==============================] - 0s 4ms/step - loss: 7.1850 - mae: 7.1850\n",
            "Epoch 48/100\n",
            "1/1 [==============================] - 0s 4ms/step - loss: 7.1794 - mae: 7.1794\n",
            "Epoch 49/100\n",
            "1/1 [==============================] - 0s 7ms/step - loss: 7.1737 - mae: 7.1737\n",
            "Epoch 50/100\n",
            "1/1 [==============================] - 0s 5ms/step - loss: 7.1681 - mae: 7.1681\n",
            "Epoch 51/100\n",
            "1/1 [==============================] - 0s 5ms/step - loss: 7.1625 - mae: 7.1625\n",
            "Epoch 52/100\n",
            "1/1 [==============================] - 0s 4ms/step - loss: 7.1569 - mae: 7.1569\n",
            "Epoch 53/100\n",
            "1/1 [==============================] - 0s 4ms/step - loss: 7.1512 - mae: 7.1512\n",
            "Epoch 54/100\n",
            "1/1 [==============================] - 0s 7ms/step - loss: 7.1456 - mae: 7.1456\n",
            "Epoch 55/100\n",
            "1/1 [==============================] - 0s 32ms/step - loss: 7.1400 - mae: 7.1400\n",
            "Epoch 56/100\n",
            "1/1 [==============================] - 0s 7ms/step - loss: 7.1344 - mae: 7.1344\n",
            "Epoch 57/100\n",
            "1/1 [==============================] - 0s 7ms/step - loss: 7.1287 - mae: 7.1287\n",
            "Epoch 58/100\n",
            "1/1 [==============================] - 0s 7ms/step - loss: 7.1231 - mae: 7.1231\n",
            "Epoch 59/100\n",
            "1/1 [==============================] - 0s 7ms/step - loss: 7.1175 - mae: 7.1175\n",
            "Epoch 60/100\n",
            "1/1 [==============================] - 0s 5ms/step - loss: 7.1119 - mae: 7.1119\n",
            "Epoch 61/100\n",
            "1/1 [==============================] - 0s 13ms/step - loss: 7.1062 - mae: 7.1062\n",
            "Epoch 62/100\n",
            "1/1 [==============================] - 0s 6ms/step - loss: 7.1006 - mae: 7.1006\n",
            "Epoch 63/100\n",
            "1/1 [==============================] - 0s 12ms/step - loss: 7.0950 - mae: 7.0950\n",
            "Epoch 64/100\n",
            "1/1 [==============================] - 0s 7ms/step - loss: 7.0894 - mae: 7.0894\n",
            "Epoch 65/100\n",
            "1/1 [==============================] - 0s 7ms/step - loss: 7.0838 - mae: 7.0838\n",
            "Epoch 66/100\n",
            "1/1 [==============================] - 0s 10ms/step - loss: 7.0781 - mae: 7.0781\n",
            "Epoch 67/100\n",
            "1/1 [==============================] - 0s 8ms/step - loss: 7.0725 - mae: 7.0725\n",
            "Epoch 68/100\n",
            "1/1 [==============================] - 0s 5ms/step - loss: 7.0669 - mae: 7.0669\n",
            "Epoch 69/100\n",
            "1/1 [==============================] - 0s 5ms/step - loss: 7.0613 - mae: 7.0613\n",
            "Epoch 70/100\n",
            "1/1 [==============================] - 0s 5ms/step - loss: 7.0556 - mae: 7.0556\n",
            "Epoch 71/100\n",
            "1/1 [==============================] - 0s 5ms/step - loss: 7.0500 - mae: 7.0500\n",
            "Epoch 72/100\n",
            "1/1 [==============================] - 0s 10ms/step - loss: 7.0444 - mae: 7.0444\n",
            "Epoch 73/100\n",
            "1/1 [==============================] - 0s 7ms/step - loss: 7.0388 - mae: 7.0388\n",
            "Epoch 74/100\n",
            "1/1 [==============================] - 0s 5ms/step - loss: 7.0331 - mae: 7.0331\n",
            "Epoch 75/100\n",
            "1/1 [==============================] - 0s 13ms/step - loss: 7.0275 - mae: 7.0275\n",
            "Epoch 76/100\n",
            "1/1 [==============================] - 0s 5ms/step - loss: 7.0219 - mae: 7.0219\n",
            "Epoch 77/100\n",
            "1/1 [==============================] - 0s 8ms/step - loss: 7.0163 - mae: 7.0163\n",
            "Epoch 78/100\n",
            "1/1 [==============================] - 0s 7ms/step - loss: 7.0106 - mae: 7.0106\n",
            "Epoch 79/100\n",
            "1/1 [==============================] - 0s 4ms/step - loss: 7.0050 - mae: 7.0050\n",
            "Epoch 80/100\n",
            "1/1 [==============================] - 0s 4ms/step - loss: 6.9994 - mae: 6.9994\n",
            "Epoch 81/100\n",
            "1/1 [==============================] - 0s 5ms/step - loss: 6.9938 - mae: 6.9938\n",
            "Epoch 82/100\n",
            "1/1 [==============================] - 0s 6ms/step - loss: 6.9881 - mae: 6.9881\n",
            "Epoch 83/100\n",
            "1/1 [==============================] - 0s 18ms/step - loss: 6.9825 - mae: 6.9825\n",
            "Epoch 84/100\n",
            "1/1 [==============================] - 0s 9ms/step - loss: 6.9769 - mae: 6.9769\n",
            "Epoch 85/100\n",
            "1/1 [==============================] - 0s 8ms/step - loss: 6.9713 - mae: 6.9713\n",
            "Epoch 86/100\n",
            "1/1 [==============================] - 0s 8ms/step - loss: 6.9656 - mae: 6.9656\n",
            "Epoch 87/100\n",
            "1/1 [==============================] - 0s 18ms/step - loss: 6.9600 - mae: 6.9600\n",
            "Epoch 88/100\n",
            "1/1 [==============================] - 0s 13ms/step - loss: 6.9544 - mae: 6.9544\n",
            "Epoch 89/100\n",
            "1/1 [==============================] - 0s 7ms/step - loss: 6.9488 - mae: 6.9488\n",
            "Epoch 90/100\n",
            "1/1 [==============================] - 0s 6ms/step - loss: 6.9431 - mae: 6.9431\n",
            "Epoch 91/100\n",
            "1/1 [==============================] - 0s 6ms/step - loss: 6.9375 - mae: 6.9375\n",
            "Epoch 92/100\n",
            "1/1 [==============================] - 0s 4ms/step - loss: 6.9319 - mae: 6.9319\n",
            "Epoch 93/100\n",
            "1/1 [==============================] - 0s 4ms/step - loss: 6.9262 - mae: 6.9262\n",
            "Epoch 94/100\n",
            "1/1 [==============================] - 0s 7ms/step - loss: 6.9206 - mae: 6.9206\n",
            "Epoch 95/100\n",
            "1/1 [==============================] - 0s 8ms/step - loss: 6.9150 - mae: 6.9150\n",
            "Epoch 96/100\n",
            "1/1 [==============================] - 0s 4ms/step - loss: 6.9094 - mae: 6.9094\n",
            "Epoch 97/100\n",
            "1/1 [==============================] - 0s 6ms/step - loss: 6.9038 - mae: 6.9038\n",
            "Epoch 98/100\n",
            "1/1 [==============================] - 0s 5ms/step - loss: 6.8981 - mae: 6.8981\n",
            "Epoch 99/100\n",
            "1/1 [==============================] - 0s 4ms/step - loss: 6.8925 - mae: 6.8925\n",
            "Epoch 100/100\n",
            "1/1 [==============================] - 0s 5ms/step - loss: 6.8869 - mae: 6.8869\n"
          ],
          "name": "stdout"
        },
        {
          "output_type": "execute_result",
          "data": {
            "text/plain": [
              "<tensorflow.python.keras.callbacks.History at 0x7fb0ba5c9d90>"
            ]
          },
          "metadata": {
            "tags": []
          },
          "execution_count": 18
        }
      ]
    },
    {
      "cell_type": "code",
      "metadata": {
        "colab": {
          "base_uri": "https://localhost:8080/"
        },
        "id": "hfZzy2GggLF_",
        "outputId": "a8d05305-cea6-497f-bd42-95e49b11bc4e"
      },
      "source": [
        "# Remind ourselves of the data\n",
        "X, y"
      ],
      "execution_count": 19,
      "outputs": [
        {
          "output_type": "execute_result",
          "data": {
            "text/plain": [
              "(<tf.Tensor: shape=(8,), dtype=float32, numpy=array([-7., -4., -1.,  2.,  5.,  8., 11., 14.], dtype=float32)>,\n",
              " <tf.Tensor: shape=(8,), dtype=float32, numpy=array([ 3.,  6.,  9., 12., 15., 18., 21., 24.], dtype=float32)>)"
            ]
          },
          "metadata": {
            "tags": []
          },
          "execution_count": 19
        }
      ]
    },
    {
      "cell_type": "code",
      "metadata": {
        "colab": {
          "base_uri": "https://localhost:8080/"
        },
        "id": "Zd6MyoFTgl40",
        "outputId": "73727f12-2b29-413f-be6b-3b007896581f"
      },
      "source": [
        "# Check our models prediction loss\n",
        "model.predict([17.0])"
      ],
      "execution_count": 20,
      "outputs": [
        {
          "output_type": "execute_result",
          "data": {
            "text/plain": [
              "array([[29.739855]], dtype=float32)"
            ]
          },
          "metadata": {
            "tags": []
          },
          "execution_count": 20
        }
      ]
    },
    {
      "cell_type": "code",
      "metadata": {
        "id": "FNRrDi_5guIh"
      },
      "source": [
        ""
      ],
      "execution_count": 20,
      "outputs": []
    },
    {
      "cell_type": "code",
      "metadata": {
        "colab": {
          "base_uri": "https://localhost:8080/"
        },
        "id": "FWr6-5PThT1k",
        "outputId": "5464447b-1eb6-4cbe-e184-159bce071c55"
      },
      "source": [
        "# Let's rebuild our model\n",
        "\n",
        "# 1. Create the model\n",
        "model = tf.keras.Sequential([\n",
        "                             tf.keras.layers.Dense(50, activation=None),\n",
        "                             tf.keras.layers.Dense(1)\n",
        "])\n",
        "\n",
        "# 2. Compile the model\n",
        "model.compile(loss=tf.keras.losses.mae,\n",
        "              optimizer=tf.keras.optimizers.Adam(learning_rate=0.01),\n",
        "              metrics=[\"mae\"])\n",
        "\n",
        "# 3. Fit the model\n",
        "model.fit(X, y, epochs=100)"
      ],
      "execution_count": 21,
      "outputs": [
        {
          "output_type": "stream",
          "text": [
            "Epoch 1/100\n",
            "1/1 [==============================] - 0s 308ms/step - loss: 11.7682 - mae: 11.7682\n",
            "Epoch 2/100\n",
            "1/1 [==============================] - 0s 6ms/step - loss: 11.0963 - mae: 11.0963\n",
            "Epoch 3/100\n",
            "1/1 [==============================] - 0s 5ms/step - loss: 10.4149 - mae: 10.4149\n",
            "Epoch 4/100\n",
            "1/1 [==============================] - 0s 7ms/step - loss: 9.7212 - mae: 9.7212\n",
            "Epoch 5/100\n",
            "1/1 [==============================] - 0s 6ms/step - loss: 9.0103 - mae: 9.0103\n",
            "Epoch 6/100\n",
            "1/1 [==============================] - 0s 5ms/step - loss: 8.2778 - mae: 8.2778\n",
            "Epoch 7/100\n",
            "1/1 [==============================] - 0s 8ms/step - loss: 7.5198 - mae: 7.5198\n",
            "Epoch 8/100\n",
            "1/1 [==============================] - 0s 4ms/step - loss: 6.9648 - mae: 6.9648\n",
            "Epoch 9/100\n",
            "1/1 [==============================] - 0s 4ms/step - loss: 7.0672 - mae: 7.0672\n",
            "Epoch 10/100\n",
            "1/1 [==============================] - 0s 7ms/step - loss: 7.3316 - mae: 7.3316\n",
            "Epoch 11/100\n",
            "1/1 [==============================] - 0s 6ms/step - loss: 7.4673 - mae: 7.4673\n",
            "Epoch 12/100\n",
            "1/1 [==============================] - 0s 5ms/step - loss: 7.5285 - mae: 7.5285\n",
            "Epoch 13/100\n",
            "1/1 [==============================] - 0s 5ms/step - loss: 7.4012 - mae: 7.4012\n",
            "Epoch 14/100\n",
            "1/1 [==============================] - 0s 4ms/step - loss: 7.1923 - mae: 7.1923\n",
            "Epoch 15/100\n",
            "1/1 [==============================] - 0s 5ms/step - loss: 6.9575 - mae: 6.9575\n",
            "Epoch 16/100\n",
            "1/1 [==============================] - 0s 6ms/step - loss: 6.6953 - mae: 6.6953\n",
            "Epoch 17/100\n",
            "1/1 [==============================] - 0s 9ms/step - loss: 6.4127 - mae: 6.4127\n",
            "Epoch 18/100\n",
            "1/1 [==============================] - 0s 7ms/step - loss: 6.3048 - mae: 6.3048\n",
            "Epoch 19/100\n",
            "1/1 [==============================] - 0s 4ms/step - loss: 6.2575 - mae: 6.2575\n",
            "Epoch 20/100\n",
            "1/1 [==============================] - 0s 12ms/step - loss: 6.3981 - mae: 6.3981\n",
            "Epoch 21/100\n",
            "1/1 [==============================] - 0s 7ms/step - loss: 6.4550 - mae: 6.4550\n",
            "Epoch 22/100\n",
            "1/1 [==============================] - 0s 4ms/step - loss: 6.3999 - mae: 6.3999\n",
            "Epoch 23/100\n",
            "1/1 [==============================] - 0s 9ms/step - loss: 6.2482 - mae: 6.2482\n",
            "Epoch 24/100\n",
            "1/1 [==============================] - 0s 4ms/step - loss: 6.0104 - mae: 6.0104\n",
            "Epoch 25/100\n",
            "1/1 [==============================] - 0s 7ms/step - loss: 5.7876 - mae: 5.7876\n",
            "Epoch 26/100\n",
            "1/1 [==============================] - 0s 9ms/step - loss: 5.6809 - mae: 5.6809\n",
            "Epoch 27/100\n",
            "1/1 [==============================] - 0s 5ms/step - loss: 5.5715 - mae: 5.5715\n",
            "Epoch 28/100\n",
            "1/1 [==============================] - 0s 8ms/step - loss: 5.6123 - mae: 5.6123\n",
            "Epoch 29/100\n",
            "1/1 [==============================] - 0s 5ms/step - loss: 5.6074 - mae: 5.6074\n",
            "Epoch 30/100\n",
            "1/1 [==============================] - 0s 13ms/step - loss: 5.5541 - mae: 5.5541\n",
            "Epoch 31/100\n",
            "1/1 [==============================] - 0s 6ms/step - loss: 5.4568 - mae: 5.4568\n",
            "Epoch 32/100\n",
            "1/1 [==============================] - 0s 4ms/step - loss: 5.3199 - mae: 5.3199\n",
            "Epoch 33/100\n",
            "1/1 [==============================] - 0s 5ms/step - loss: 5.1477 - mae: 5.1477\n",
            "Epoch 34/100\n",
            "1/1 [==============================] - 0s 5ms/step - loss: 4.9442 - mae: 4.9442\n",
            "Epoch 35/100\n",
            "1/1 [==============================] - 0s 6ms/step - loss: 4.8239 - mae: 4.8239\n",
            "Epoch 36/100\n",
            "1/1 [==============================] - 0s 5ms/step - loss: 4.7389 - mae: 4.7389\n",
            "Epoch 37/100\n",
            "1/1 [==============================] - 0s 6ms/step - loss: 4.6657 - mae: 4.6657\n",
            "Epoch 38/100\n",
            "1/1 [==============================] - 0s 5ms/step - loss: 4.5846 - mae: 4.5846\n",
            "Epoch 39/100\n",
            "1/1 [==============================] - 0s 5ms/step - loss: 4.4026 - mae: 4.4026\n",
            "Epoch 40/100\n",
            "1/1 [==============================] - 0s 5ms/step - loss: 4.2652 - mae: 4.2652\n",
            "Epoch 41/100\n",
            "1/1 [==============================] - 0s 4ms/step - loss: 4.1212 - mae: 4.1212\n",
            "Epoch 42/100\n",
            "1/1 [==============================] - 0s 5ms/step - loss: 3.9701 - mae: 3.9701\n",
            "Epoch 43/100\n",
            "1/1 [==============================] - 0s 6ms/step - loss: 3.8272 - mae: 3.8272\n",
            "Epoch 44/100\n",
            "1/1 [==============================] - 0s 4ms/step - loss: 3.7042 - mae: 3.7042\n",
            "Epoch 45/100\n",
            "1/1 [==============================] - 0s 5ms/step - loss: 3.5321 - mae: 3.5321\n",
            "Epoch 46/100\n",
            "1/1 [==============================] - 0s 5ms/step - loss: 3.3664 - mae: 3.3664\n",
            "Epoch 47/100\n",
            "1/1 [==============================] - 0s 5ms/step - loss: 3.2116 - mae: 3.2116\n",
            "Epoch 48/100\n",
            "1/1 [==============================] - 0s 4ms/step - loss: 3.0463 - mae: 3.0463\n",
            "Epoch 49/100\n",
            "1/1 [==============================] - 0s 4ms/step - loss: 2.8705 - mae: 2.8705\n",
            "Epoch 50/100\n",
            "1/1 [==============================] - 0s 7ms/step - loss: 2.6840 - mae: 2.6840\n",
            "Epoch 51/100\n",
            "1/1 [==============================] - 0s 5ms/step - loss: 2.4868 - mae: 2.4868\n",
            "Epoch 52/100\n",
            "1/1 [==============================] - 0s 9ms/step - loss: 2.2787 - mae: 2.2787\n",
            "Epoch 53/100\n",
            "1/1 [==============================] - 0s 5ms/step - loss: 2.0596 - mae: 2.0596\n",
            "Epoch 54/100\n",
            "1/1 [==============================] - 0s 5ms/step - loss: 1.8293 - mae: 1.8293\n",
            "Epoch 55/100\n",
            "1/1 [==============================] - 0s 5ms/step - loss: 1.5876 - mae: 1.5876\n",
            "Epoch 56/100\n",
            "1/1 [==============================] - 0s 5ms/step - loss: 1.3531 - mae: 1.3531\n",
            "Epoch 57/100\n",
            "1/1 [==============================] - 0s 5ms/step - loss: 1.0849 - mae: 1.0849\n",
            "Epoch 58/100\n",
            "1/1 [==============================] - 0s 10ms/step - loss: 0.8224 - mae: 0.8224\n",
            "Epoch 59/100\n",
            "1/1 [==============================] - 0s 6ms/step - loss: 0.5466 - mae: 0.5466\n",
            "Epoch 60/100\n",
            "1/1 [==============================] - 0s 5ms/step - loss: 0.2759 - mae: 0.2759\n",
            "Epoch 61/100\n",
            "1/1 [==============================] - 0s 6ms/step - loss: 0.1353 - mae: 0.1353\n",
            "Epoch 62/100\n",
            "1/1 [==============================] - 0s 6ms/step - loss: 0.4494 - mae: 0.4494\n",
            "Epoch 63/100\n",
            "1/1 [==============================] - 0s 6ms/step - loss: 0.6499 - mae: 0.6499\n",
            "Epoch 64/100\n",
            "1/1 [==============================] - 0s 4ms/step - loss: 0.6216 - mae: 0.6216\n",
            "Epoch 65/100\n",
            "1/1 [==============================] - 0s 4ms/step - loss: 0.8035 - mae: 0.8035\n",
            "Epoch 66/100\n",
            "1/1 [==============================] - 0s 7ms/step - loss: 0.7995 - mae: 0.7995\n",
            "Epoch 67/100\n",
            "1/1 [==============================] - 0s 4ms/step - loss: 0.7409 - mae: 0.7409\n",
            "Epoch 68/100\n",
            "1/1 [==============================] - 0s 6ms/step - loss: 0.7807 - mae: 0.7807\n",
            "Epoch 69/100\n",
            "1/1 [==============================] - 0s 7ms/step - loss: 0.6305 - mae: 0.6305\n",
            "Epoch 70/100\n",
            "1/1 [==============================] - 0s 6ms/step - loss: 0.5556 - mae: 0.5556\n",
            "Epoch 71/100\n",
            "1/1 [==============================] - 0s 6ms/step - loss: 0.4306 - mae: 0.4306\n",
            "Epoch 72/100\n",
            "1/1 [==============================] - 0s 5ms/step - loss: 0.2787 - mae: 0.2787\n",
            "Epoch 73/100\n",
            "1/1 [==============================] - 0s 10ms/step - loss: 0.1378 - mae: 0.1378\n",
            "Epoch 74/100\n",
            "1/1 [==============================] - 0s 6ms/step - loss: 0.1193 - mae: 0.1193\n",
            "Epoch 75/100\n",
            "1/1 [==============================] - 0s 4ms/step - loss: 0.2777 - mae: 0.2777\n",
            "Epoch 76/100\n",
            "1/1 [==============================] - 0s 5ms/step - loss: 0.3244 - mae: 0.3244\n",
            "Epoch 77/100\n",
            "1/1 [==============================] - 0s 5ms/step - loss: 0.4157 - mae: 0.4157\n",
            "Epoch 78/100\n",
            "1/1 [==============================] - 0s 5ms/step - loss: 0.4320 - mae: 0.4320\n",
            "Epoch 79/100\n",
            "1/1 [==============================] - 0s 5ms/step - loss: 0.3390 - mae: 0.3390\n",
            "Epoch 80/100\n",
            "1/1 [==============================] - 0s 3ms/step - loss: 0.2968 - mae: 0.2968\n",
            "Epoch 81/100\n",
            "1/1 [==============================] - 0s 5ms/step - loss: 0.2356 - mae: 0.2356\n",
            "Epoch 82/100\n",
            "1/1 [==============================] - 0s 5ms/step - loss: 0.1632 - mae: 0.1632\n",
            "Epoch 83/100\n",
            "1/1 [==============================] - 0s 5ms/step - loss: 0.1340 - mae: 0.1340\n",
            "Epoch 84/100\n",
            "1/1 [==============================] - 0s 7ms/step - loss: 0.1261 - mae: 0.1261\n",
            "Epoch 85/100\n",
            "1/1 [==============================] - 0s 11ms/step - loss: 0.1703 - mae: 0.1703\n",
            "Epoch 86/100\n",
            "1/1 [==============================] - 0s 6ms/step - loss: 0.2123 - mae: 0.2123\n",
            "Epoch 87/100\n",
            "1/1 [==============================] - 0s 5ms/step - loss: 0.2288 - mae: 0.2288\n",
            "Epoch 88/100\n",
            "1/1 [==============================] - 0s 6ms/step - loss: 0.1900 - mae: 0.1900\n",
            "Epoch 89/100\n",
            "1/1 [==============================] - 0s 7ms/step - loss: 0.1354 - mae: 0.1354\n",
            "Epoch 90/100\n",
            "1/1 [==============================] - 0s 8ms/step - loss: 0.1219 - mae: 0.1219\n",
            "Epoch 91/100\n",
            "1/1 [==============================] - 0s 6ms/step - loss: 0.0382 - mae: 0.0382\n",
            "Epoch 92/100\n",
            "1/1 [==============================] - 0s 7ms/step - loss: 0.2196 - mae: 0.2196\n",
            "Epoch 93/100\n",
            "1/1 [==============================] - 0s 13ms/step - loss: 0.2188 - mae: 0.2188\n",
            "Epoch 94/100\n",
            "1/1 [==============================] - 0s 6ms/step - loss: 0.1427 - mae: 0.1427\n",
            "Epoch 95/100\n",
            "1/1 [==============================] - 0s 9ms/step - loss: 0.1169 - mae: 0.1169\n",
            "Epoch 96/100\n",
            "1/1 [==============================] - 0s 6ms/step - loss: 0.2068 - mae: 0.2068\n",
            "Epoch 97/100\n",
            "1/1 [==============================] - 0s 5ms/step - loss: 0.1523 - mae: 0.1523\n",
            "Epoch 98/100\n",
            "1/1 [==============================] - 0s 11ms/step - loss: 0.2134 - mae: 0.2134\n",
            "Epoch 99/100\n",
            "1/1 [==============================] - 0s 4ms/step - loss: 0.2330 - mae: 0.2330\n",
            "Epoch 100/100\n",
            "1/1 [==============================] - 0s 4ms/step - loss: 0.0780 - mae: 0.0780\n"
          ],
          "name": "stdout"
        },
        {
          "output_type": "execute_result",
          "data": {
            "text/plain": [
              "<tensorflow.python.keras.callbacks.History at 0x7fb0ba323550>"
            ]
          },
          "metadata": {
            "tags": []
          },
          "execution_count": 21
        }
      ]
    },
    {
      "cell_type": "code",
      "metadata": {
        "colab": {
          "base_uri": "https://localhost:8080/"
        },
        "id": "kBvj2_SFhZKV",
        "outputId": "26cf6497-1a09-4c31-c290-f5a0f1aa7c94"
      },
      "source": [
        "# Check the prediction\n",
        "model.predict([17.0])"
      ],
      "execution_count": 22,
      "outputs": [
        {
          "output_type": "execute_result",
          "data": {
            "text/plain": [
              "array([[26.583801]], dtype=float32)"
            ]
          },
          "metadata": {
            "tags": []
          },
          "execution_count": 22
        }
      ]
    },
    {
      "cell_type": "markdown",
      "metadata": {
        "id": "yk__TFyJlGgn"
      },
      "source": [
        "# Evaluating a model\n",
        "\n",
        "In practice, a typical workflow you'll go through when building neural networks is:\n",
        "\n",
        "``Build a model -> fit it -> evaluate it -> tweak a model -> fit it -> evaluate it -> tweak it -> fit it -> evaluate it...``\n",
        "\n",
        "When it comes to evaluation... there are 3 words you should memorise:\n",
        "\n",
        ">\"Visualise, visualise, visualise\"\n",
        "\n",
        "It's a good idea to visualise:\n",
        "* The data - what data are we working with? What does it look like?\n",
        "* The model itself - what does our model look like?\n",
        "* The training of a model - how does a model perform while it learns?\n",
        "* The predictions of the model - how do the predictions of the model line up with the ground truth (original labels)?"
      ]
    },
    {
      "cell_type": "code",
      "metadata": {
        "colab": {
          "base_uri": "https://localhost:8080/"
        },
        "id": "I8gelGO9onC4",
        "outputId": "c42751f4-7a01-4e14-e8cf-8bcc588f72b5"
      },
      "source": [
        "# Make a bigger dataset\n",
        "X = tf.range(-100, 100, 4)\n",
        "X"
      ],
      "execution_count": 23,
      "outputs": [
        {
          "output_type": "execute_result",
          "data": {
            "text/plain": [
              "<tf.Tensor: shape=(50,), dtype=int32, numpy=\n",
              "array([-100,  -96,  -92,  -88,  -84,  -80,  -76,  -72,  -68,  -64,  -60,\n",
              "        -56,  -52,  -48,  -44,  -40,  -36,  -32,  -28,  -24,  -20,  -16,\n",
              "        -12,   -8,   -4,    0,    4,    8,   12,   16,   20,   24,   28,\n",
              "         32,   36,   40,   44,   48,   52,   56,   60,   64,   68,   72,\n",
              "         76,   80,   84,   88,   92,   96], dtype=int32)>"
            ]
          },
          "metadata": {
            "tags": []
          },
          "execution_count": 23
        }
      ]
    },
    {
      "cell_type": "code",
      "metadata": {
        "colab": {
          "base_uri": "https://localhost:8080/"
        },
        "id": "5jM2SI9Qo0Wa",
        "outputId": "f1682bd6-3b89-4541-bc58-d2a5e47258e9"
      },
      "source": [
        "# Make labels for the dataset\n",
        "y = X + 10\n",
        "y"
      ],
      "execution_count": 24,
      "outputs": [
        {
          "output_type": "execute_result",
          "data": {
            "text/plain": [
              "<tf.Tensor: shape=(50,), dtype=int32, numpy=\n",
              "array([-90, -86, -82, -78, -74, -70, -66, -62, -58, -54, -50, -46, -42,\n",
              "       -38, -34, -30, -26, -22, -18, -14, -10,  -6,  -2,   2,   6,  10,\n",
              "        14,  18,  22,  26,  30,  34,  38,  42,  46,  50,  54,  58,  62,\n",
              "        66,  70,  74,  78,  82,  86,  90,  94,  98, 102, 106], dtype=int32)>"
            ]
          },
          "metadata": {
            "tags": []
          },
          "execution_count": 24
        }
      ]
    },
    {
      "cell_type": "code",
      "metadata": {
        "colab": {
          "base_uri": "https://localhost:8080/",
          "height": 282
        },
        "id": "s1mI8wM8o97c",
        "outputId": "94cbb25d-c627-4ba2-ae55-d9cae9df46d2"
      },
      "source": [
        "# Visualize the data\n",
        "plt.scatter(X, y)"
      ],
      "execution_count": 25,
      "outputs": [
        {
          "output_type": "execute_result",
          "data": {
            "text/plain": [
              "<matplotlib.collections.PathCollection at 0x7fb0ba5dcbd0>"
            ]
          },
          "metadata": {
            "tags": []
          },
          "execution_count": 25
        },
        {
          "output_type": "display_data",
          "data": {
            "image/png": "[encoded data removed]",
            "text/plain": [
              "<Figure size 432x288 with 1 Axes>"
            ]
          },
          "metadata": {
            "tags": [],
            "needs_background": "light"
          }
        }
      ]
    },
    {
      "cell_type": "markdown",
      "metadata": {
        "id": "E9eNvxYjpMMO"
      },
      "source": [
        "### The 3 sets...\n",
        "\n",
        "* **Training set** - the model learns from this data, which is typically 70-80% of the total data you have available.\n",
        "* **Validation set** - the model gets tuned on this data, which is typically 10-15% of the data available.\n",
        "* Test set - the model gets evaluated on this data to test what it has learned, this is typically 10-15% of the data available."
      ]
    },
    {
      "cell_type": "code",
      "metadata": {
        "colab": {
          "base_uri": "https://localhost:8080/"
        },
        "id": "S7JLlc94sylz",
        "outputId": "53f1b3b8-66fc-41ed-ac3c-081b32227d62"
      },
      "source": [
        "# Check the length of how many samples we have\n",
        "len(X)"
      ],
      "execution_count": 26,
      "outputs": [
        {
          "output_type": "execute_result",
          "data": {
            "text/plain": [
              "50"
            ]
          },
          "metadata": {
            "tags": []
          },
          "execution_count": 26
        }
      ]
    },
    {
      "cell_type": "code",
      "metadata": {
        "colab": {
          "base_uri": "https://localhost:8080/"
        },
        "id": "TiWAv7aGtj8C",
        "outputId": "52374e52-eb69-4239-cd70-daec90944f43"
      },
      "source": [
        "# Split the data into train and test sets\n",
        "X_train = X[:40] # First 40 are training samples (80%)\n",
        "y_train = y[:40]\n",
        "\n",
        "X_test = X[40:] # Last 10 are test samples (20%)\n",
        "y_test = y[40:]\n",
        "\n",
        "len(X_train), len(X_test), len(y_train), len(y_test)"
      ],
      "execution_count": 27,
      "outputs": [
        {
          "output_type": "execute_result",
          "data": {
            "text/plain": [
              "(40, 10, 40, 10)"
            ]
          },
          "metadata": {
            "tags": []
          },
          "execution_count": 27
        }
      ]
    },
    {
      "cell_type": "markdown",
      "metadata": {
        "id": "U-yvyZQxt1Xy"
      },
      "source": [
        "### Visualising the data\n",
        "\n",
        "Now we've got our data in training and test sets... let's visualise it"
      ]
    },
    {
      "cell_type": "code",
      "metadata": {
        "colab": {
          "base_uri": "https://localhost:8080/",
          "height": 445
        },
        "id": "mo1RBlFquhak",
        "outputId": "70d01b27-2743-46a3-d8d3-1d636d98901a"
      },
      "source": [
        "plt.figure(figsize=(10, 7))\n",
        "# Plot training data in blue\n",
        "plt.scatter(X_train, y_train, c=\"b\", label=\"Training data\")\n",
        "# Plot test data in green\n",
        "plt.scatter(X_test, y_test, c=\"g\", label=\"Testing data\")\n",
        "# Show a legend\n",
        "plt.legend()"
      ],
      "execution_count": 28,
      "outputs": [
        {
          "output_type": "execute_result",
          "data": {
            "text/plain": [
              "<matplotlib.legend.Legend at 0x7fb0ba1eba90>"
            ]
          },
          "metadata": {
            "tags": []
          },
          "execution_count": 28
        },
        {
          "output_type": "display_data",
          "data": {
            "image/png": "[encoded data removed]",
            "text/plain": [
              "<Figure size 720x504 with 1 Axes>"
            ]
          },
          "metadata": {
            "tags": [],
            "needs_background": "light"
          }
        }
      ]
    },
    {
      "cell_type": "code",
      "metadata": {
        "id": "_zJ1dIaKvQF5"
      },
      "source": [
        "# Let's have a look at how to build a neural network for our data\n",
        "\n",
        "# 1. Create a model\n",
        "model = tf.keras.Sequential([\n",
        "                             tf.keras.layers.Dense(1)\n",
        "])\n",
        "\n",
        "# 2. Compile the model\n",
        "model.compile(loss=tf.keras.losses.mae,\n",
        "              optimizer=tf.keras.optimizers.SGD(),\n",
        "              metrics=[\"mae\"])\n",
        "\n",
        "# 3. Fit the model\n",
        "#model.fit(X_train, y_train, epochs=100)"
      ],
      "execution_count": 29,
      "outputs": []
    },
    {
      "cell_type": "markdown",
      "metadata": {
        "id": "xCYOLj3QJ-xS"
      },
      "source": [
        "# Visualising the model"
      ]
    },
    {
      "cell_type": "code",
      "metadata": {
        "id": "YGDkn59NKDu4"
      },
      "source": [
        "# Let's create a model that builds automatically by defining the input_shape argument in the first layer\n",
        "tf.random.set_seed(42)\n",
        "\n",
        "# 1. Create a model\n",
        "model = tf.keras.Sequential([\n",
        "                             tf.keras.layers.Dense(1, input_shape=[1], name=\"Input_layer\"),\n",
        "                             tf.keras.layers.Dense(1, name=\"Output_Layer\")\n",
        "], name=\"Our_first_named_model.\")\n",
        "\n",
        "# 2. Compile the model\n",
        "model.compile(loss=tf.keras.losses.mae,\n",
        "              optimizer=tf.keras.optimizers.SGD(),\n",
        "              metrics=[\"mae\"])"
      ],
      "execution_count": 30,
      "outputs": []
    },
    {
      "cell_type": "code",
      "metadata": {
        "colab": {
          "base_uri": "https://localhost:8080/"
        },
        "id": "mHyoqWptLvoj",
        "outputId": "7922ce86-b8e7-4fbe-f738-845b3eabd6ae"
      },
      "source": [
        "model.summary()"
      ],
      "execution_count": 31,
      "outputs": [
        {
          "output_type": "stream",
          "text": [
            "Model: \"Our_first_named_model.\"\n",
            "_________________________________________________________________\n",
            "Layer (type)                 Output Shape              Param #   \n",
            "=================================================================\n",
            "Input_layer (Dense)          (None, 1)                 2         \n",
            "_________________________________________________________________\n",
            "Output_Layer (Dense)         (None, 1)                 2         \n",
            "=================================================================\n",
            "Total params: 4\n",
            "Trainable params: 4\n",
            "Non-trainable params: 0\n",
            "_________________________________________________________________\n"
          ],
          "name": "stdout"
        }
      ]
    },
    {
      "cell_type": "markdown",
      "metadata": {
        "id": "Ziri0ynzL2wn"
      },
      "source": [
        "* Total params - total number of parameters in the model.\n",
        "* Trainable params - these are the parameters (patterns) the model can update as it trains.\n",
        "* Non-trainable params - these parameters aren't updated during the training (this is typical when you bring in already learned patterns or parameters from other models during **transfer learning**.)"
      ]
    },
    {
      "cell_type": "code",
      "metadata": {
        "colab": {
          "base_uri": "https://localhost:8080/"
        },
        "id": "MMcvs7hENqhE",
        "outputId": "7e58bba6-18f0-449b-d530-81159ee668ad"
      },
      "source": [
        "# Let's fit our model to the training data\n",
        "model.fit(X_train, y_train, epochs=100)"
      ],
      "execution_count": 32,
      "outputs": [
        {
          "output_type": "stream",
          "text": [
            "Epoch 1/100\n",
            "2/2 [==============================] - 0s 7ms/step - loss: 22.6625 - mae: 22.6625\n",
            "Epoch 2/100\n",
            "2/2 [==============================] - 0s 3ms/step - loss: 16.9439 - mae: 16.9439\n",
            "Epoch 3/100\n",
            "2/2 [==============================] - 0s 6ms/step - loss: 13.8059 - mae: 13.8059\n",
            "Epoch 4/100\n",
            "2/2 [==============================] - 0s 6ms/step - loss: 17.4504 - mae: 17.4504\n",
            "Epoch 5/100\n",
            "2/2 [==============================] - 0s 5ms/step - loss: 12.0637 - mae: 12.0637\n",
            "Epoch 6/100\n",
            "2/2 [==============================] - 0s 7ms/step - loss: 9.8335 - mae: 9.8335\n",
            "Epoch 7/100\n",
            "2/2 [==============================] - 0s 6ms/step - loss: 10.7023 - mae: 10.7023\n",
            "Epoch 8/100\n",
            "2/2 [==============================] - 0s 11ms/step - loss: 10.8713 - mae: 10.8713\n",
            "Epoch 9/100\n",
            "2/2 [==============================] - 0s 7ms/step - loss: 38.0435 - mae: 38.0435\n",
            "Epoch 10/100\n",
            "2/2 [==============================] - 0s 5ms/step - loss: 25.6226 - mae: 25.6226\n",
            "Epoch 11/100\n",
            "2/2 [==============================] - 0s 5ms/step - loss: 10.2375 - mae: 10.2375\n",
            "Epoch 12/100\n",
            "2/2 [==============================] - 0s 4ms/step - loss: 25.1960 - mae: 25.1960\n",
            "Epoch 13/100\n",
            "2/2 [==============================] - 0s 6ms/step - loss: 17.0177 - mae: 17.0177\n",
            "Epoch 14/100\n",
            "2/2 [==============================] - 0s 6ms/step - loss: 25.9747 - mae: 25.9747\n",
            "Epoch 15/100\n",
            "2/2 [==============================] - 0s 11ms/step - loss: 18.0366 - mae: 18.0366\n",
            "Epoch 16/100\n",
            "2/2 [==============================] - 0s 8ms/step - loss: 7.3513 - mae: 7.3513\n",
            "Epoch 17/100\n",
            "2/2 [==============================] - 0s 5ms/step - loss: 10.8516 - mae: 10.8516\n",
            "Epoch 18/100\n",
            "2/2 [==============================] - 0s 5ms/step - loss: 19.5119 - mae: 19.5119\n",
            "Epoch 19/100\n",
            "2/2 [==============================] - 0s 7ms/step - loss: 10.3378 - mae: 10.3378\n",
            "Epoch 20/100\n",
            "2/2 [==============================] - 0s 6ms/step - loss: 17.6840 - mae: 17.6840\n",
            "Epoch 21/100\n",
            "2/2 [==============================] - 0s 6ms/step - loss: 15.8826 - mae: 15.8826\n",
            "Epoch 22/100\n",
            "2/2 [==============================] - 0s 11ms/step - loss: 14.1778 - mae: 14.1778\n",
            "Epoch 23/100\n",
            "2/2 [==============================] - 0s 3ms/step - loss: 8.7814 - mae: 8.7814\n",
            "Epoch 24/100\n",
            "2/2 [==============================] - 0s 6ms/step - loss: 11.0673 - mae: 11.0673\n",
            "Epoch 25/100\n",
            "2/2 [==============================] - 0s 6ms/step - loss: 12.6998 - mae: 12.6998\n",
            "Epoch 26/100\n",
            "2/2 [==============================] - 0s 7ms/step - loss: 26.2395 - mae: 26.2395\n",
            "Epoch 27/100\n",
            "2/2 [==============================] - 0s 6ms/step - loss: 11.7524 - mae: 11.7524\n",
            "Epoch 28/100\n",
            "2/2 [==============================] - 0s 6ms/step - loss: 22.9252 - mae: 22.9252\n",
            "Epoch 29/100\n",
            "2/2 [==============================] - 0s 6ms/step - loss: 9.2439 - mae: 9.2439\n",
            "Epoch 30/100\n",
            "2/2 [==============================] - 0s 7ms/step - loss: 29.3121 - mae: 29.3121\n",
            "Epoch 31/100\n",
            "2/2 [==============================] - 0s 5ms/step - loss: 53.1142 - mae: 53.1142\n",
            "Epoch 32/100\n",
            "2/2 [==============================] - 0s 6ms/step - loss: 12.3708 - mae: 12.3708\n",
            "Epoch 33/100\n",
            "2/2 [==============================] - 0s 5ms/step - loss: 12.1831 - mae: 12.1831\n",
            "Epoch 34/100\n",
            "2/2 [==============================] - 0s 5ms/step - loss: 23.9484 - mae: 23.9484\n",
            "Epoch 35/100\n",
            "2/2 [==============================] - 0s 6ms/step - loss: 12.6223 - mae: 12.6223\n",
            "Epoch 36/100\n",
            "2/2 [==============================] - 0s 6ms/step - loss: 21.5242 - mae: 21.5242\n",
            "Epoch 37/100\n",
            "2/2 [==============================] - 0s 6ms/step - loss: 11.3913 - mae: 11.3913\n",
            "Epoch 38/100\n",
            "2/2 [==============================] - 0s 5ms/step - loss: 13.4744 - mae: 13.4744\n",
            "Epoch 39/100\n",
            "2/2 [==============================] - 0s 8ms/step - loss: 10.7992 - mae: 10.7992\n",
            "Epoch 40/100\n",
            "2/2 [==============================] - 0s 7ms/step - loss: 16.6026 - mae: 16.6026\n",
            "Epoch 41/100\n",
            "2/2 [==============================] - 0s 6ms/step - loss: 10.9797 - mae: 10.9797\n",
            "Epoch 42/100\n",
            "2/2 [==============================] - 0s 9ms/step - loss: 9.3049 - mae: 9.3049\n",
            "Epoch 43/100\n",
            "2/2 [==============================] - 0s 6ms/step - loss: 9.5985 - mae: 9.5985\n",
            "Epoch 44/100\n",
            "2/2 [==============================] - 0s 7ms/step - loss: 27.9750 - mae: 27.9750\n",
            "Epoch 45/100\n",
            "2/2 [==============================] - 0s 5ms/step - loss: 11.2865 - mae: 11.2865\n",
            "Epoch 46/100\n",
            "2/2 [==============================] - 0s 7ms/step - loss: 14.0574 - mae: 14.0574\n",
            "Epoch 47/100\n",
            "2/2 [==============================] - 0s 7ms/step - loss: 13.5113 - mae: 13.5113\n",
            "Epoch 48/100\n",
            "2/2 [==============================] - 0s 5ms/step - loss: 17.3531 - mae: 17.3531\n",
            "Epoch 49/100\n",
            "2/2 [==============================] - 0s 8ms/step - loss: 9.5141 - mae: 9.5141\n",
            "Epoch 50/100\n",
            "2/2 [==============================] - 0s 6ms/step - loss: 13.6965 - mae: 13.6965\n",
            "Epoch 51/100\n",
            "2/2 [==============================] - 0s 8ms/step - loss: 11.5602 - mae: 11.5602\n",
            "Epoch 52/100\n",
            "2/2 [==============================] - 0s 6ms/step - loss: 30.1689 - mae: 30.1689\n",
            "Epoch 53/100\n",
            "2/2 [==============================] - 0s 7ms/step - loss: 13.7143 - mae: 13.7143\n",
            "Epoch 54/100\n",
            "2/2 [==============================] - 0s 6ms/step - loss: 26.3988 - mae: 26.3988\n",
            "Epoch 55/100\n",
            "2/2 [==============================] - 0s 6ms/step - loss: 25.9839 - mae: 25.9839\n",
            "Epoch 56/100\n",
            "2/2 [==============================] - 0s 6ms/step - loss: 11.2307 - mae: 11.2307\n",
            "Epoch 57/100\n",
            "2/2 [==============================] - 0s 7ms/step - loss: 13.2025 - mae: 13.2025\n",
            "Epoch 58/100\n",
            "2/2 [==============================] - 0s 6ms/step - loss: 9.8625 - mae: 9.8625\n",
            "Epoch 59/100\n",
            "2/2 [==============================] - 0s 6ms/step - loss: 13.3870 - mae: 13.3870\n",
            "Epoch 60/100\n",
            "2/2 [==============================] - 0s 7ms/step - loss: 10.9240 - mae: 10.9240\n",
            "Epoch 61/100\n",
            "2/2 [==============================] - 0s 6ms/step - loss: 13.5376 - mae: 13.5376\n",
            "Epoch 62/100\n",
            "2/2 [==============================] - 0s 6ms/step - loss: 17.6005 - mae: 17.6005\n",
            "Epoch 63/100\n",
            "2/2 [==============================] - 0s 5ms/step - loss: 9.1937 - mae: 9.1937\n",
            "Epoch 64/100\n",
            "2/2 [==============================] - 0s 7ms/step - loss: 18.4645 - mae: 18.4645\n",
            "Epoch 65/100\n",
            "2/2 [==============================] - 0s 3ms/step - loss: 10.1481 - mae: 10.1481\n",
            "Epoch 66/100\n",
            "2/2 [==============================] - 0s 6ms/step - loss: 24.3358 - mae: 24.3358\n",
            "Epoch 67/100\n",
            "2/2 [==============================] - 0s 8ms/step - loss: 10.9262 - mae: 10.9262\n",
            "Epoch 68/100\n",
            "2/2 [==============================] - 0s 5ms/step - loss: 10.8005 - mae: 10.8005\n",
            "Epoch 69/100\n",
            "2/2 [==============================] - 0s 9ms/step - loss: 23.3093 - mae: 23.3093\n",
            "Epoch 70/100\n",
            "2/2 [==============================] - 0s 7ms/step - loss: 8.8134 - mae: 8.8134\n",
            "Epoch 71/100\n",
            "2/2 [==============================] - 0s 5ms/step - loss: 15.9715 - mae: 15.9715\n",
            "Epoch 72/100\n",
            "2/2 [==============================] - 0s 6ms/step - loss: 8.1469 - mae: 8.1469\n",
            "Epoch 73/100\n",
            "2/2 [==============================] - 0s 9ms/step - loss: 9.4683 - mae: 9.4683\n",
            "Epoch 74/100\n",
            "2/2 [==============================] - 0s 6ms/step - loss: 28.1492 - mae: 28.1492\n",
            "Epoch 75/100\n",
            "2/2 [==============================] - 0s 8ms/step - loss: 10.2183 - mae: 10.2183\n",
            "Epoch 76/100\n",
            "2/2 [==============================] - 0s 4ms/step - loss: 13.1686 - mae: 13.1686\n",
            "Epoch 77/100\n",
            "2/2 [==============================] - 0s 6ms/step - loss: 18.4014 - mae: 18.4014\n",
            "Epoch 78/100\n",
            "2/2 [==============================] - 0s 5ms/step - loss: 9.0304 - mae: 9.0304\n",
            "Epoch 79/100\n",
            "2/2 [==============================] - 0s 6ms/step - loss: 23.4407 - mae: 23.4407\n",
            "Epoch 80/100\n",
            "2/2 [==============================] - 0s 5ms/step - loss: 26.1122 - mae: 26.1122\n",
            "Epoch 81/100\n",
            "2/2 [==============================] - 0s 6ms/step - loss: 11.4009 - mae: 11.4009\n",
            "Epoch 82/100\n",
            "2/2 [==============================] - 0s 6ms/step - loss: 12.5022 - mae: 12.5022\n",
            "Epoch 83/100\n",
            "2/2 [==============================] - 0s 4ms/step - loss: 17.1948 - mae: 17.1948\n",
            "Epoch 84/100\n",
            "2/2 [==============================] - 0s 7ms/step - loss: 6.6097 - mae: 6.6097\n",
            "Epoch 85/100\n",
            "2/2 [==============================] - 0s 13ms/step - loss: 20.2735 - mae: 20.2735\n",
            "Epoch 86/100\n",
            "2/2 [==============================] - 0s 9ms/step - loss: 10.1761 - mae: 10.1761\n",
            "Epoch 87/100\n",
            "2/2 [==============================] - 0s 9ms/step - loss: 24.3048 - mae: 24.3048\n",
            "Epoch 88/100\n",
            "2/2 [==============================] - 0s 9ms/step - loss: 18.9694 - mae: 18.9694\n",
            "Epoch 89/100\n",
            "2/2 [==============================] - 0s 13ms/step - loss: 7.1749 - mae: 7.1749\n",
            "Epoch 90/100\n",
            "2/2 [==============================] - 0s 8ms/step - loss: 18.2784 - mae: 18.2784\n",
            "Epoch 91/100\n",
            "2/2 [==============================] - 0s 4ms/step - loss: 13.3343 - mae: 13.3343\n",
            "Epoch 92/100\n",
            "2/2 [==============================] - 0s 5ms/step - loss: 8.7404 - mae: 8.7404\n",
            "Epoch 93/100\n",
            "2/2 [==============================] - 0s 6ms/step - loss: 14.1947 - mae: 14.1947\n",
            "Epoch 94/100\n",
            "2/2 [==============================] - 0s 7ms/step - loss: 17.1954 - mae: 17.1954\n",
            "Epoch 95/100\n",
            "2/2 [==============================] - 0s 9ms/step - loss: 16.7777 - mae: 16.7777\n",
            "Epoch 96/100\n",
            "2/2 [==============================] - 0s 5ms/step - loss: 11.1365 - mae: 11.1365\n",
            "Epoch 97/100\n",
            "2/2 [==============================] - 0s 7ms/step - loss: 21.1982 - mae: 21.1982\n",
            "Epoch 98/100\n",
            "2/2 [==============================] - 0s 5ms/step - loss: 10.4874 - mae: 10.4874\n",
            "Epoch 99/100\n",
            "2/2 [==============================] - 0s 6ms/step - loss: 14.5632 - mae: 14.5632\n",
            "Epoch 100/100\n",
            "2/2 [==============================] - 0s 6ms/step - loss: 17.7188 - mae: 17.7188\n"
          ],
          "name": "stdout"
        },
        {
          "output_type": "execute_result",
          "data": {
            "text/plain": [
              "<tensorflow.python.keras.callbacks.History at 0x7fb0ba1364d0>"
            ]
          },
          "metadata": {
            "tags": []
          },
          "execution_count": 32
        }
      ]
    },
    {
      "cell_type": "code",
      "metadata": {
        "id": "a7-Bmd7QPMc-"
      },
      "source": [
        "from tensorflow.keras.utils import plot_model"
      ],
      "execution_count": 33,
      "outputs": []
    },
    {
      "cell_type": "code",
      "metadata": {
        "colab": {
          "base_uri": "https://localhost:8080/",
          "height": 312
        },
        "id": "J7DwlK2NQ0Di",
        "outputId": "c902f35c-b86c-4824-82da-5dd189d14a96"
      },
      "source": [
        "plot_model(model=model, show_shapes=True)"
      ],
      "execution_count": 34,
      "outputs": [
        {
          "output_type": "execute_result",
          "data": {
            "image/png": "[encoded data removed]",
            "text/plain": [
              "<IPython.core.display.Image object>"
            ]
          },
          "metadata": {
            "tags": []
          },
          "execution_count": 34
        }
      ]
    },
    {
      "cell_type": "markdown",
      "metadata": {
        "id": "b-H9JOG6Q9wm"
      },
      "source": [
        "### Visualising our model's predictions\n",
        "\n",
        "To visualise predictions, it's a good idea to plot them against the ground truth labels.\n",
        "\n",
        "Often you'll see this in the form of ``y_test`` or ``y_true`` versus ``y_pred`` (ground truth versus your models predictions)."
      ]
    },
    {
      "cell_type": "code",
      "metadata": {
        "colab": {
          "base_uri": "https://localhost:8080/"
        },
        "id": "w8VPAWEITYrF",
        "outputId": "cdf773ae-bf21-4d89-e050-6cf02690605f"
      },
      "source": [
        "# Make some predictions\n",
        "y_pred = model.predict(X_test)\n",
        "y_pred"
      ],
      "execution_count": 35,
      "outputs": [
        {
          "output_type": "execute_result",
          "data": {
            "text/plain": [
              "array([[ 69.46726 ],\n",
              "       [ 73.985756],\n",
              "       [ 78.50425 ],\n",
              "       [ 83.022736],\n",
              "       [ 87.54122 ],\n",
              "       [ 92.05971 ],\n",
              "       [ 96.5782  ],\n",
              "       [101.096695],\n",
              "       [105.61518 ],\n",
              "       [110.13367 ]], dtype=float32)"
            ]
          },
          "metadata": {
            "tags": []
          },
          "execution_count": 35
        }
      ]
    },
    {
      "cell_type": "code",
      "metadata": {
        "colab": {
          "base_uri": "https://localhost:8080/"
        },
        "id": "oCauMd33Uz_D",
        "outputId": "878394a3-f6c5-4343-f5f7-592f8d99e0f9"
      },
      "source": [
        "y_test"
      ],
      "execution_count": 36,
      "outputs": [
        {
          "output_type": "execute_result",
          "data": {
            "text/plain": [
              "<tf.Tensor: shape=(10,), dtype=int32, numpy=array([ 70,  74,  78,  82,  86,  90,  94,  98, 102, 106], dtype=int32)>"
            ]
          },
          "metadata": {
            "tags": []
          },
          "execution_count": 36
        }
      ]
    },
    {
      "cell_type": "markdown",
      "metadata": {
        "id": "Ez73kZpbVJyG"
      },
      "source": [
        "**Note:** If you feel like you're going to reuse some kind of functionality in the future, it's a good idea to turn it into a function."
      ]
    },
    {
      "cell_type": "code",
      "metadata": {
        "id": "RFybzs9-U4Ls"
      },
      "source": [
        "# Let's create a plotting function\n",
        "def plot_predictions(train_data=X_train,\n",
        "                     train_labels=y_train,\n",
        "                     test_data=X_test,\n",
        "                     test_labels=y_test,\n",
        "                     predictions= y_pred):\n",
        "    \"\"\"\n",
        "    Plots training data, test data and compares predictions to ground truth labels.\n",
        "    \"\"\"\n",
        "    plt.figure(figsize=(10,7))\n",
        "    # Plot training data in blue\n",
        "    plt.scatter(train_data, train_labels, c=\"b\", label=\"Training data\")\n",
        "    # Plot testing data in green\n",
        "    plt.scatter(test_data, test_labels, c=\"g\", label=\"Testing data\")\n",
        "    # Plot models predictions in red\n",
        "    plt.scatter(test_data, predictions, c=\"y\", label=\"Predictions\")\n",
        "    # Show the legend\n",
        "    plt.legend()"
      ],
      "execution_count": 37,
      "outputs": []
    },
    {
      "cell_type": "code",
      "metadata": {
        "colab": {
          "base_uri": "https://localhost:8080/",
          "height": 428
        },
        "id": "vQepUDz6XVmV",
        "outputId": "7d554cce-d432-4dc3-80a6-0aa02d421110"
      },
      "source": [
        "plot_predictions()"
      ],
      "execution_count": 38,
      "outputs": [
        {
          "output_type": "display_data",
          "data": {
            "image/png": "[encoded data removed]",
            "text/plain": [
              "<Figure size 720x504 with 1 Axes>"
            ]
          },
          "metadata": {
            "tags": [],
            "needs_background": "light"
          }
        }
      ]
    },
    {
      "cell_type": "markdown",
      "metadata": {
        "id": "5vKNstwCXnJo"
      },
      "source": [
        "# Evaluating our models predictions with regression evaluation metrics\n",
        "\n",
        "Depending on the problem you are working on, there will be different evaluation metrics to evaluate your models performance.\n",
        "\n",
        "Since we're working on a regression, 2 of the main metrics:\n",
        "* **MAE** - mean absolute error, on average how wrong are each of my models predictions.\n",
        "* **MSE** - mean square error, square of the average errors."
      ]
    },
    {
      "cell_type": "code",
      "metadata": {
        "id": "Vl3v5E2ObxtP",
        "colab": {
          "base_uri": "https://localhost:8080/"
        },
        "outputId": "10716a11-fc27-4b08-9cbe-a4b58f13b1bc"
      },
      "source": [
        "# Evaluate the model on the test set\n",
        "model.evaluate(X_test, y_test)"
      ],
      "execution_count": 39,
      "outputs": [
        {
          "output_type": "stream",
          "text": [
            "1/1 [==============================] - 0s 114ms/step - loss: 1.9099 - mae: 1.9099\n"
          ],
          "name": "stdout"
        },
        {
          "output_type": "execute_result",
          "data": {
            "text/plain": [
              "[1.909864068031311, 1.909864068031311]"
            ]
          },
          "metadata": {
            "tags": []
          },
          "execution_count": 39
        }
      ]
    },
    {
      "cell_type": "code",
      "metadata": {
        "id": "-kSfo3QOb23g",
        "colab": {
          "base_uri": "https://localhost:8080/"
        },
        "outputId": "59f0d0f4-d18b-4999-e9d1-418663d95092"
      },
      "source": [
        "y_pred"
      ],
      "execution_count": 40,
      "outputs": [
        {
          "output_type": "execute_result",
          "data": {
            "text/plain": [
              "array([[ 69.46726 ],\n",
              "       [ 73.985756],\n",
              "       [ 78.50425 ],\n",
              "       [ 83.022736],\n",
              "       [ 87.54122 ],\n",
              "       [ 92.05971 ],\n",
              "       [ 96.5782  ],\n",
              "       [101.096695],\n",
              "       [105.61518 ],\n",
              "       [110.13367 ]], dtype=float32)"
            ]
          },
          "metadata": {
            "tags": []
          },
          "execution_count": 40
        }
      ]
    },
    {
      "cell_type": "code",
      "metadata": {
        "colab": {
          "base_uri": "https://localhost:8080/"
        },
        "id": "C3_q3IFhCshI",
        "outputId": "c05fe5ae-21ce-4cb9-de3a-c8292134931c"
      },
      "source": [
        "y_test"
      ],
      "execution_count": 41,
      "outputs": [
        {
          "output_type": "execute_result",
          "data": {
            "text/plain": [
              "<tf.Tensor: shape=(10,), dtype=int32, numpy=array([ 70,  74,  78,  82,  86,  90,  94,  98, 102, 106], dtype=int32)>"
            ]
          },
          "metadata": {
            "tags": []
          },
          "execution_count": 41
        }
      ]
    },
    {
      "cell_type": "code",
      "metadata": {
        "colab": {
          "base_uri": "https://localhost:8080/"
        },
        "id": "I7Y41TOsCtkQ",
        "outputId": "2fbcc37f-487c-4241-ebf5-9581349076de"
      },
      "source": [
        "# Calculate the mean absolute error\n",
        "mae = tf.keras.losses.mae(y_true=y_test,\n",
        "                          y_pred=tf.squeeze(y_pred))\n",
        "mae"
      ],
      "execution_count": 42,
      "outputs": [
        {
          "output_type": "execute_result",
          "data": {
            "text/plain": [
              "<tf.Tensor: shape=(), dtype=float32, numpy=1.9098641>"
            ]
          },
          "metadata": {
            "tags": []
          },
          "execution_count": 42
        }
      ]
    },
    {
      "cell_type": "code",
      "metadata": {
        "colab": {
          "base_uri": "https://localhost:8080/"
        },
        "id": "E8Ds6zAyDL5U",
        "outputId": "fc3eaedb-6ab7-45e9-c9f0-2b1d090e2dfb"
      },
      "source": [
        "# Calculate the mean square error\n",
        "mse = tf.keras.losses.mse(y_true=y_test,\n",
        "                          y_pred=tf.squeeze(y_pred))\n",
        "mse"
      ],
      "execution_count": 43,
      "outputs": [
        {
          "output_type": "execute_result",
          "data": {
            "text/plain": [
              "<tf.Tensor: shape=(), dtype=float32, numpy=5.4595404>"
            ]
          },
          "metadata": {
            "tags": []
          },
          "execution_count": 43
        }
      ]
    },
    {
      "cell_type": "code",
      "metadata": {
        "id": "SeRKtFZiDqRX"
      },
      "source": [
        "# Make some functions to reuse MAE and MSE\n",
        "def mae(y_true, y_pred):\n",
        "    return tf.metrics.mean_absolute_error(y_true=y_true,\n",
        "                                          y_pred=tf.squeeze(y_pred))\n",
        "\n",
        "\n",
        "def mse(y_true, y_pred):\n",
        "    return tf.metrics.mean_squared_error(y_true=y_true,\n",
        "                                         y_pred=tf.squeeze(y_pred))"
      ],
      "execution_count": 44,
      "outputs": []
    },
    {
      "cell_type": "markdown",
      "metadata": {
        "id": "c1VZTRUbEClj"
      },
      "source": [
        "### Running experiments to improve our model\n",
        "\n",
        "1.   List item\n",
        "2.   List item\n",
        "\n",
        "\n",
        "\n",
        "```Build a model -> fit it -> evaluate it -> tweak it -> fit it -> evaluate it -> tweak it -> fit it -> evaluate it ...```\n",
        "\n",
        "1. **Get more data** - get more examples for your model to train on (more opportunities to learn patterns or relationships between features and labels).\n",
        "2. **Make your model larger (use a more complex model)** - this might come in the form of more layers or more hidden units in each layer.\n",
        "3. **Train for longer** - give your model more time to find patterns in the data (increase epochs)."
      ]
    },
    {
      "cell_type": "code",
      "metadata": {
        "colab": {
          "base_uri": "https://localhost:8080/"
        },
        "id": "y5my3NNxGkqv",
        "outputId": "f03fc49f-cfbd-4b0e-a702-391a04fe2026"
      },
      "source": [
        "X_train, y_train"
      ],
      "execution_count": 45,
      "outputs": [
        {
          "output_type": "execute_result",
          "data": {
            "text/plain": [
              "(<tf.Tensor: shape=(40,), dtype=int32, numpy=\n",
              " array([-100,  -96,  -92,  -88,  -84,  -80,  -76,  -72,  -68,  -64,  -60,\n",
              "         -56,  -52,  -48,  -44,  -40,  -36,  -32,  -28,  -24,  -20,  -16,\n",
              "         -12,   -8,   -4,    0,    4,    8,   12,   16,   20,   24,   28,\n",
              "          32,   36,   40,   44,   48,   52,   56], dtype=int32)>,\n",
              " <tf.Tensor: shape=(40,), dtype=int32, numpy=\n",
              " array([-90, -86, -82, -78, -74, -70, -66, -62, -58, -54, -50, -46, -42,\n",
              "        -38, -34, -30, -26, -22, -18, -14, -10,  -6,  -2,   2,   6,  10,\n",
              "         14,  18,  22,  26,  30,  34,  38,  42,  46,  50,  54,  58,  62,\n",
              "         66], dtype=int32)>)"
            ]
          },
          "metadata": {
            "tags": []
          },
          "execution_count": 45
        }
      ]
    },
    {
      "cell_type": "markdown",
      "metadata": {
        "id": "nvTacvlPHrvX"
      },
      "source": [
        "### Let's do 3 modelling experiments\n",
        "\n",
        "1. ```Model_1``` - same as original model, 1 layer, trained for 100 epochs.\n",
        "2. ```Model_2``` - 2 layers, trained for 100 epochs.\n",
        "3. ```Model_3``` - 2 layers, trained for 500 epochs."
      ]
    },
    {
      "cell_type": "markdown",
      "metadata": {
        "id": "1exuYuVVIWMJ"
      },
      "source": [
        "### Build Model_1"
      ]
    },
    {
      "cell_type": "code",
      "metadata": {
        "colab": {
          "base_uri": "https://localhost:8080/"
        },
        "id": "k1psCyX5ImVr",
        "outputId": "c3c299a9-307a-432a-e93e-b576acff9327"
      },
      "source": [
        "# Set random seed\n",
        "tf.random.set_seed(42)\n",
        "\n",
        "# 1. Create the model\n",
        "model_1 = tf.keras.Sequential([\n",
        "                               tf.keras.layers.Dense(1)\n",
        "])\n",
        "\n",
        "# 2. Compile the model\n",
        "model_1.compile(loss=tf.keras.losses.mae,\n",
        "                optimizer=tf.keras.optimizers.SGD(),\n",
        "                metrics=[\"mae\"])\n",
        "\n",
        "# 3. Fit the model\n",
        "model_1.fit(X_train, y_train, epochs=100)"
      ],
      "execution_count": 46,
      "outputs": [
        {
          "output_type": "stream",
          "text": [
            "Epoch 1/100\n",
            "2/2 [==============================] - 0s 8ms/step - loss: 15.9024 - mae: 15.9024\n",
            "Epoch 2/100\n",
            "2/2 [==============================] - 0s 6ms/step - loss: 11.2837 - mae: 11.2837\n",
            "Epoch 3/100\n",
            "2/2 [==============================] - 0s 6ms/step - loss: 11.1074 - mae: 11.1074\n",
            "Epoch 4/100\n",
            "2/2 [==============================] - 0s 6ms/step - loss: 9.2990 - mae: 9.2990\n",
            "Epoch 5/100\n",
            "2/2 [==============================] - 0s 4ms/step - loss: 10.1677 - mae: 10.1677\n",
            "Epoch 6/100\n",
            "2/2 [==============================] - 0s 4ms/step - loss: 9.4303 - mae: 9.4303\n",
            "Epoch 7/100\n",
            "2/2 [==============================] - 0s 4ms/step - loss: 8.5704 - mae: 8.5704\n",
            "Epoch 8/100\n",
            "2/2 [==============================] - 0s 5ms/step - loss: 9.0442 - mae: 9.0442\n",
            "Epoch 9/100\n",
            "2/2 [==============================] - 0s 5ms/step - loss: 18.7517 - mae: 18.7517\n",
            "Epoch 10/100\n",
            "2/2 [==============================] - 0s 5ms/step - loss: 10.1142 - mae: 10.1142\n",
            "Epoch 11/100\n",
            "2/2 [==============================] - 0s 4ms/step - loss: 8.3980 - mae: 8.3980\n",
            "Epoch 12/100\n",
            "2/2 [==============================] - 0s 4ms/step - loss: 10.6639 - mae: 10.6639\n",
            "Epoch 13/100\n",
            "2/2 [==============================] - 0s 4ms/step - loss: 9.7977 - mae: 9.7977\n",
            "Epoch 14/100\n",
            "2/2 [==============================] - 0s 5ms/step - loss: 16.0103 - mae: 16.0103\n",
            "Epoch 15/100\n",
            "2/2 [==============================] - 0s 4ms/step - loss: 11.4068 - mae: 11.4068\n",
            "Epoch 16/100\n",
            "2/2 [==============================] - 0s 5ms/step - loss: 8.5393 - mae: 8.5393\n",
            "Epoch 17/100\n",
            "2/2 [==============================] - 0s 7ms/step - loss: 13.6348 - mae: 13.6348\n",
            "Epoch 18/100\n",
            "2/2 [==============================] - 0s 6ms/step - loss: 11.4629 - mae: 11.4629\n",
            "Epoch 19/100\n",
            "2/2 [==============================] - 0s 8ms/step - loss: 17.9148 - mae: 17.9148\n",
            "Epoch 20/100\n",
            "2/2 [==============================] - 0s 7ms/step - loss: 15.0494 - mae: 15.0494\n",
            "Epoch 21/100\n",
            "2/2 [==============================] - 0s 6ms/step - loss: 11.0216 - mae: 11.0216\n",
            "Epoch 22/100\n",
            "2/2 [==============================] - 0s 8ms/step - loss: 8.1558 - mae: 8.1558\n",
            "Epoch 23/100\n",
            "2/2 [==============================] - 0s 4ms/step - loss: 9.5138 - mae: 9.5138\n",
            "Epoch 24/100\n",
            "2/2 [==============================] - 0s 7ms/step - loss: 7.6617 - mae: 7.6617\n",
            "Epoch 25/100\n",
            "2/2 [==============================] - 0s 5ms/step - loss: 13.1859 - mae: 13.1859\n",
            "Epoch 26/100\n",
            "2/2 [==============================] - 0s 5ms/step - loss: 16.4211 - mae: 16.4211\n",
            "Epoch 27/100\n",
            "2/2 [==============================] - 0s 5ms/step - loss: 13.1659 - mae: 13.1659\n",
            "Epoch 28/100\n",
            "2/2 [==============================] - 0s 5ms/step - loss: 14.2559 - mae: 14.2559\n",
            "Epoch 29/100\n",
            "2/2 [==============================] - 0s 7ms/step - loss: 10.0670 - mae: 10.0670\n",
            "Epoch 30/100\n",
            "2/2 [==============================] - 0s 6ms/step - loss: 16.3409 - mae: 16.3409\n",
            "Epoch 31/100\n",
            "2/2 [==============================] - 0s 7ms/step - loss: 23.6444 - mae: 23.6444\n",
            "Epoch 32/100\n",
            "2/2 [==============================] - 0s 7ms/step - loss: 7.6215 - mae: 7.6215\n",
            "Epoch 33/100\n",
            "2/2 [==============================] - 0s 9ms/step - loss: 9.3221 - mae: 9.3221\n",
            "Epoch 34/100\n",
            "2/2 [==============================] - 0s 5ms/step - loss: 13.7313 - mae: 13.7313\n",
            "Epoch 35/100\n",
            "2/2 [==============================] - 0s 6ms/step - loss: 11.1276 - mae: 11.1276\n",
            "Epoch 36/100\n",
            "2/2 [==============================] - 0s 8ms/step - loss: 13.3222 - mae: 13.3222\n",
            "Epoch 37/100\n",
            "2/2 [==============================] - 0s 7ms/step - loss: 9.4763 - mae: 9.4763\n",
            "Epoch 38/100\n",
            "2/2 [==============================] - 0s 6ms/step - loss: 10.1381 - mae: 10.1381\n",
            "Epoch 39/100\n",
            "2/2 [==============================] - 0s 8ms/step - loss: 10.1793 - mae: 10.1793\n",
            "Epoch 40/100\n",
            "2/2 [==============================] - 0s 6ms/step - loss: 10.9137 - mae: 10.9137\n",
            "Epoch 41/100\n",
            "2/2 [==============================] - 0s 6ms/step - loss: 7.9063 - mae: 7.9063\n",
            "Epoch 42/100\n",
            "2/2 [==============================] - 0s 7ms/step - loss: 10.0914 - mae: 10.0914\n",
            "Epoch 43/100\n",
            "2/2 [==============================] - 0s 6ms/step - loss: 8.7006 - mae: 8.7006\n",
            "Epoch 44/100\n",
            "2/2 [==============================] - 0s 3ms/step - loss: 12.2047 - mae: 12.2047\n",
            "Epoch 45/100\n",
            "2/2 [==============================] - 0s 6ms/step - loss: 13.7970 - mae: 13.7970\n",
            "Epoch 46/100\n",
            "2/2 [==============================] - 0s 7ms/step - loss: 8.4687 - mae: 8.4687\n",
            "Epoch 47/100\n",
            "2/2 [==============================] - 0s 6ms/step - loss: 9.1330 - mae: 9.1330\n",
            "Epoch 48/100\n",
            "2/2 [==============================] - 0s 7ms/step - loss: 10.6190 - mae: 10.6190\n",
            "Epoch 49/100\n",
            "2/2 [==============================] - 0s 6ms/step - loss: 7.7503 - mae: 7.7503\n",
            "Epoch 50/100\n",
            "2/2 [==============================] - 0s 6ms/step - loss: 9.5407 - mae: 9.5407\n",
            "Epoch 51/100\n",
            "2/2 [==============================] - 0s 7ms/step - loss: 9.1584 - mae: 9.1584\n",
            "Epoch 52/100\n",
            "2/2 [==============================] - 0s 6ms/step - loss: 16.3630 - mae: 16.3630\n",
            "Epoch 53/100\n",
            "2/2 [==============================] - 0s 4ms/step - loss: 14.1299 - mae: 14.1299\n",
            "Epoch 54/100\n",
            "2/2 [==============================] - 0s 8ms/step - loss: 21.1247 - mae: 21.1247\n",
            "Epoch 55/100\n",
            "2/2 [==============================] - 0s 7ms/step - loss: 16.3961 - mae: 16.3961\n",
            "Epoch 56/100\n",
            "2/2 [==============================] - 0s 7ms/step - loss: 9.9806 - mae: 9.9806\n",
            "Epoch 57/100\n",
            "2/2 [==============================] - 0s 6ms/step - loss: 9.9606 - mae: 9.9606\n",
            "Epoch 58/100\n",
            "2/2 [==============================] - 0s 6ms/step - loss: 9.2209 - mae: 9.2209\n",
            "Epoch 59/100\n",
            "2/2 [==============================] - 0s 3ms/step - loss: 8.4239 - mae: 8.4239\n",
            "Epoch 60/100\n",
            "2/2 [==============================] - 0s 7ms/step - loss: 9.4869 - mae: 9.4869\n",
            "Epoch 61/100\n",
            "2/2 [==============================] - 0s 7ms/step - loss: 11.4355 - mae: 11.4355\n",
            "Epoch 62/100\n",
            "2/2 [==============================] - 0s 6ms/step - loss: 11.6887 - mae: 11.6887\n",
            "Epoch 63/100\n",
            "2/2 [==============================] - 0s 7ms/step - loss: 7.0838 - mae: 7.0838\n",
            "Epoch 64/100\n",
            "2/2 [==============================] - 0s 6ms/step - loss: 16.9675 - mae: 16.9675\n",
            "Epoch 65/100\n",
            "2/2 [==============================] - 0s 7ms/step - loss: 12.4599 - mae: 12.4599\n",
            "Epoch 66/100\n",
            "2/2 [==============================] - 0s 8ms/step - loss: 13.0184 - mae: 13.0184\n",
            "Epoch 67/100\n",
            "2/2 [==============================] - 0s 6ms/step - loss: 8.0600 - mae: 8.0600\n",
            "Epoch 68/100\n",
            "2/2 [==============================] - 0s 6ms/step - loss: 10.1888 - mae: 10.1888\n",
            "Epoch 69/100\n",
            "2/2 [==============================] - 0s 7ms/step - loss: 12.3633 - mae: 12.3633\n",
            "Epoch 70/100\n",
            "2/2 [==============================] - 0s 9ms/step - loss: 9.0516 - mae: 9.0516\n",
            "Epoch 71/100\n",
            "2/2 [==============================] - 0s 6ms/step - loss: 10.0378 - mae: 10.0378\n",
            "Epoch 72/100\n",
            "2/2 [==============================] - 0s 7ms/step - loss: 10.0516 - mae: 10.0516\n",
            "Epoch 73/100\n",
            "2/2 [==============================] - 0s 7ms/step - loss: 12.6151 - mae: 12.6151\n",
            "Epoch 74/100\n",
            "2/2 [==============================] - 0s 7ms/step - loss: 10.3819 - mae: 10.3819\n",
            "Epoch 75/100\n",
            "2/2 [==============================] - 0s 6ms/step - loss: 9.7229 - mae: 9.7229\n",
            "Epoch 76/100\n",
            "2/2 [==============================] - 0s 6ms/step - loss: 11.2252 - mae: 11.2252\n",
            "Epoch 77/100\n",
            "2/2 [==============================] - 0s 7ms/step - loss: 8.3642 - mae: 8.3642\n",
            "Epoch 78/100\n",
            "2/2 [==============================] - 0s 6ms/step - loss: 9.1274 - mae: 9.1274\n",
            "Epoch 79/100\n",
            "2/2 [==============================] - 0s 6ms/step - loss: 19.5039 - mae: 19.5039\n",
            "Epoch 80/100\n",
            "2/2 [==============================] - 0s 11ms/step - loss: 14.8945 - mae: 14.8945\n",
            "Epoch 81/100\n",
            "2/2 [==============================] - 0s 8ms/step - loss: 9.0034 - mae: 9.0034\n",
            "Epoch 82/100\n",
            "2/2 [==============================] - 0s 7ms/step - loss: 13.0206 - mae: 13.0206\n",
            "Epoch 83/100\n",
            "2/2 [==============================] - 0s 6ms/step - loss: 7.9299 - mae: 7.9299\n",
            "Epoch 84/100\n",
            "2/2 [==============================] - 0s 5ms/step - loss: 7.6872 - mae: 7.6872\n",
            "Epoch 85/100\n",
            "2/2 [==============================] - 0s 4ms/step - loss: 10.0328 - mae: 10.0328\n",
            "Epoch 86/100\n",
            "2/2 [==============================] - 0s 5ms/step - loss: 9.2433 - mae: 9.2433\n",
            "Epoch 87/100\n",
            "2/2 [==============================] - 0s 5ms/step - loss: 12.0209 - mae: 12.0209\n",
            "Epoch 88/100\n",
            "2/2 [==============================] - 0s 5ms/step - loss: 10.6389 - mae: 10.6389\n",
            "Epoch 89/100\n",
            "2/2 [==============================] - 0s 4ms/step - loss: 7.2667 - mae: 7.2667\n",
            "Epoch 90/100\n",
            "2/2 [==============================] - 0s 4ms/step - loss: 12.7786 - mae: 12.7786\n",
            "Epoch 91/100\n",
            "2/2 [==============================] - 0s 5ms/step - loss: 7.3481 - mae: 7.3481\n",
            "Epoch 92/100\n",
            "2/2 [==============================] - 0s 4ms/step - loss: 7.7175 - mae: 7.7175\n",
            "Epoch 93/100\n",
            "2/2 [==============================] - 0s 6ms/step - loss: 7.1263 - mae: 7.1263\n",
            "Epoch 94/100\n",
            "2/2 [==============================] - 0s 5ms/step - loss: 12.6190 - mae: 12.6190\n",
            "Epoch 95/100\n",
            "2/2 [==============================] - 0s 7ms/step - loss: 10.0912 - mae: 10.0912\n",
            "Epoch 96/100\n",
            "2/2 [==============================] - 0s 11ms/step - loss: 9.3558 - mae: 9.3558\n",
            "Epoch 97/100\n",
            "2/2 [==============================] - 0s 8ms/step - loss: 12.6834 - mae: 12.6834\n",
            "Epoch 98/100\n",
            "2/2 [==============================] - 0s 6ms/step - loss: 8.6762 - mae: 8.6762\n",
            "Epoch 99/100\n",
            "2/2 [==============================] - 0s 6ms/step - loss: 9.4693 - mae: 9.4693\n",
            "Epoch 100/100\n",
            "2/2 [==============================] - 0s 4ms/step - loss: 8.7067 - mae: 8.7067\n"
          ],
          "name": "stdout"
        },
        {
          "output_type": "execute_result",
          "data": {
            "text/plain": [
              "<tensorflow.python.keras.callbacks.History at 0x7fb0a9edbc90>"
            ]
          },
          "metadata": {
            "tags": []
          },
          "execution_count": 46
        }
      ]
    },
    {
      "cell_type": "code",
      "metadata": {
        "colab": {
          "base_uri": "https://localhost:8080/",
          "height": 465
        },
        "id": "TFHybQvBJcwh",
        "outputId": "d0f74003-c232-4159-8c2d-c1c72594b4de"
      },
      "source": [
        "# Make and plot predictions for Model_1\n",
        "y_preds_1 = model_1.predict(X_test)\n",
        "plot_predictions(predictions=y_preds_1)"
      ],
      "execution_count": 47,
      "outputs": [
        {
          "output_type": "stream",
          "text": [
            "WARNING:tensorflow:5 out of the last 6 calls to <function Model.make_predict_function.<locals>.predict_function at 0x7fb0ba358cb0> triggered tf.function retracing. Tracing is expensive and the excessive number of tracings could be due to (1) creating @tf.function repeatedly in a loop, (2) passing tensors with different shapes, (3) passing Python objects instead of tensors. For (1), please define your @tf.function outside of the loop. For (2), @tf.function has experimental_relax_shapes=True option that relaxes argument shapes that can avoid unnecessary retracing. For (3), please refer to https://www.tensorflow.org/guide/function#controlling_retracing and https://www.tensorflow.org/api_docs/python/tf/function for  more details.\n"
          ],
          "name": "stdout"
        },
        {
          "output_type": "display_data",
          "data": {
            "image/png": "[encoded data removed]",
            "text/plain": [
              "<Figure size 720x504 with 1 Axes>"
            ]
          },
          "metadata": {
            "tags": [],
            "needs_background": "light"
          }
        }
      ]
    },
    {
      "cell_type": "code",
      "metadata": {
        "colab": {
          "base_uri": "https://localhost:8080/"
        },
        "id": "Mlqv7Hf8KExP",
        "outputId": "56290b80-7e9c-4de5-b503-58bc6874e537"
      },
      "source": [
        "# Calculate Model_1 evaluation metrics\n",
        "mae_1 = mae(y_test, y_preds_1)\n",
        "mse_1 = mse(y_test, y_preds_1)\n",
        "mae_1, mse_1"
      ],
      "execution_count": 48,
      "outputs": [
        {
          "output_type": "execute_result",
          "data": {
            "text/plain": [
              "(<tf.Tensor: shape=(), dtype=float32, numpy=18.745327>,\n",
              " <tf.Tensor: shape=(), dtype=float32, numpy=353.5734>)"
            ]
          },
          "metadata": {
            "tags": []
          },
          "execution_count": 48
        }
      ]
    },
    {
      "cell_type": "markdown",
      "metadata": {
        "id": "ndr-dVrEKoAe"
      },
      "source": [
        "### Build Model_2\n",
        "\n",
        "2 dense layers, trained for 100 epochs"
      ]
    },
    {
      "cell_type": "code",
      "metadata": {
        "colab": {
          "base_uri": "https://localhost:8080/"
        },
        "id": "kbTP1F9ENzJv",
        "outputId": "0e321223-9922-417a-9654-324d145308a0"
      },
      "source": [
        "# Set seed\n",
        "tf.random.set_seed(42)\n",
        "\n",
        "# 1. Create the model\n",
        "model_2 = tf.keras.Sequential([\n",
        "                               tf.keras.layers.Dense(10),\n",
        "                               tf.keras.layers.Dense(1)\n",
        "])\n",
        "\n",
        "# 2. Compile the model\n",
        "model_2.compile(loss=tf.keras.losses.mae,\n",
        "                optimizer=tf.keras.optimizers.SGD(),\n",
        "                metrics=[\"mse\"])\n",
        "\n",
        "# 3. Fit the model\n",
        "model_2.fit(X_train, y_train, epochs=100)"
      ],
      "execution_count": 49,
      "outputs": [
        {
          "output_type": "stream",
          "text": [
            "Epoch 1/100\n",
            "2/2 [==============================] - 0s 7ms/step - loss: 27.4058 - mse: 1084.1481\n",
            "Epoch 2/100\n",
            "2/2 [==============================] - 0s 4ms/step - loss: 24.6339 - mse: 777.9203\n",
            "Epoch 3/100\n",
            "2/2 [==============================] - 0s 4ms/step - loss: 29.8935 - mse: 1334.8955\n",
            "Epoch 4/100\n",
            "2/2 [==============================] - 0s 10ms/step - loss: 27.4055 - mse: 1106.8035\n",
            "Epoch 5/100\n",
            "2/2 [==============================] - 0s 6ms/step - loss: 14.9463 - mse: 281.1077\n",
            "Epoch 6/100\n",
            "2/2 [==============================] - 0s 5ms/step - loss: 11.8819 - mse: 168.6621\n",
            "Epoch 7/100\n",
            "2/2 [==============================] - 0s 6ms/step - loss: 11.1988 - mse: 151.3508\n",
            "Epoch 8/100\n",
            "2/2 [==============================] - 0s 6ms/step - loss: 11.0910 - mse: 160.3745\n",
            "Epoch 9/100\n",
            "2/2 [==============================] - 0s 4ms/step - loss: 40.4763 - mse: 2586.0081\n",
            "Epoch 10/100\n",
            "2/2 [==============================] - 0s 5ms/step - loss: 27.8687 - mse: 1094.4379\n",
            "Epoch 11/100\n",
            "2/2 [==============================] - 0s 5ms/step - loss: 10.2473 - mse: 147.9359\n",
            "Epoch 12/100\n",
            "2/2 [==============================] - 0s 6ms/step - loss: 25.2803 - mse: 890.3866\n",
            "Epoch 13/100\n",
            "2/2 [==============================] - 0s 5ms/step - loss: 16.9897 - mse: 399.9679\n",
            "Epoch 14/100\n",
            "2/2 [==============================] - 0s 4ms/step - loss: 25.9217 - mse: 1049.5521\n",
            "Epoch 15/100\n",
            "2/2 [==============================] - 0s 5ms/step - loss: 17.9948 - mse: 450.2584\n",
            "Epoch 16/100\n",
            "2/2 [==============================] - 0s 4ms/step - loss: 7.3510 - mse: 80.6206\n",
            "Epoch 17/100\n",
            "2/2 [==============================] - 0s 6ms/step - loss: 10.8636 - mse: 174.7868\n",
            "Epoch 18/100\n",
            "2/2 [==============================] - 0s 6ms/step - loss: 19.5304 - mse: 565.8051\n",
            "Epoch 19/100\n",
            "2/2 [==============================] - 0s 6ms/step - loss: 10.3469 - mse: 167.7750\n",
            "Epoch 20/100\n",
            "2/2 [==============================] - 0s 6ms/step - loss: 17.6985 - mse: 455.7095\n",
            "Epoch 21/100\n",
            "2/2 [==============================] - 0s 8ms/step - loss: 15.8984 - mse: 347.1928\n",
            "Epoch 22/100\n",
            "2/2 [==============================] - 0s 4ms/step - loss: 14.1991 - mse: 285.1766\n",
            "Epoch 23/100\n",
            "2/2 [==============================] - 0s 7ms/step - loss: 8.7720 - mse: 91.7852\n",
            "Epoch 24/100\n",
            "2/2 [==============================] - 0s 6ms/step - loss: 11.0570 - mse: 153.7430\n",
            "Epoch 25/100\n",
            "2/2 [==============================] - 0s 5ms/step - loss: 12.6838 - mse: 233.2951\n",
            "Epoch 26/100\n",
            "2/2 [==============================] - 0s 6ms/step - loss: 26.1877 - mse: 1024.6096\n",
            "Epoch 27/100\n",
            "2/2 [==============================] - 0s 11ms/step - loss: 11.7432 - mse: 194.8454\n",
            "Epoch 28/100\n",
            "2/2 [==============================] - 0s 6ms/step - loss: 22.8730 - mse: 835.6074\n",
            "Epoch 29/100\n",
            "2/2 [==============================] - 0s 5ms/step - loss: 9.2459 - mse: 96.7786\n",
            "Epoch 30/100\n",
            "2/2 [==============================] - 0s 5ms/step - loss: 29.2641 - mse: 1535.1349\n",
            "Epoch 31/100\n",
            "2/2 [==============================] - 0s 5ms/step - loss: 53.0225 - mse: 5030.2974\n",
            "Epoch 32/100\n",
            "2/2 [==============================] - 0s 7ms/step - loss: 11.9951 - mse: 211.7024\n",
            "Epoch 33/100\n",
            "2/2 [==============================] - 0s 8ms/step - loss: 15.6357 - mse: 337.3665\n",
            "Epoch 34/100\n",
            "2/2 [==============================] - 0s 7ms/step - loss: 12.6925 - mse: 214.4822\n",
            "Epoch 35/100\n",
            "2/2 [==============================] - 0s 7ms/step - loss: 9.2398 - mse: 92.9126\n",
            "Epoch 36/100\n",
            "2/2 [==============================] - 0s 6ms/step - loss: 16.6497 - mse: 403.6570\n",
            "Epoch 37/100\n",
            "2/2 [==============================] - 0s 7ms/step - loss: 11.0382 - mse: 192.3919\n",
            "Epoch 38/100\n",
            "2/2 [==============================] - 0s 7ms/step - loss: 18.1634 - mse: 433.6718\n",
            "Epoch 39/100\n",
            "2/2 [==============================] - 0s 7ms/step - loss: 19.1013 - mse: 529.6441\n",
            "Epoch 40/100\n",
            "2/2 [==============================] - 0s 8ms/step - loss: 20.4324 - mse: 610.1327\n",
            "Epoch 41/100\n",
            "2/2 [==============================] - 0s 6ms/step - loss: 14.9102 - mse: 279.6181\n",
            "Epoch 42/100\n",
            "2/2 [==============================] - 0s 9ms/step - loss: 12.2809 - mse: 186.6179\n",
            "Epoch 43/100\n",
            "2/2 [==============================] - 0s 5ms/step - loss: 10.7333 - mse: 167.0951\n",
            "Epoch 44/100\n",
            "2/2 [==============================] - 0s 5ms/step - loss: 23.0260 - mse: 830.4236\n",
            "Epoch 45/100\n",
            "2/2 [==============================] - 0s 14ms/step - loss: 10.3897 - mse: 128.9549\n",
            "Epoch 46/100\n",
            "2/2 [==============================] - 0s 5ms/step - loss: 11.7904 - mse: 181.9210\n",
            "Epoch 47/100\n",
            "2/2 [==============================] - 0s 6ms/step - loss: 9.6438 - mse: 153.8708\n",
            "Epoch 48/100\n",
            "2/2 [==============================] - 0s 7ms/step - loss: 17.2335 - mse: 402.8497\n",
            "Epoch 49/100\n",
            "2/2 [==============================] - 0s 8ms/step - loss: 9.5729 - mse: 99.8336\n",
            "Epoch 50/100\n",
            "2/2 [==============================] - 0s 6ms/step - loss: 13.8185 - mse: 260.3668\n",
            "Epoch 51/100\n",
            "2/2 [==============================] - 0s 5ms/step - loss: 11.5958 - mse: 154.7956\n",
            "Epoch 52/100\n",
            "2/2 [==============================] - 0s 9ms/step - loss: 30.5538 - mse: 1613.0876\n",
            "Epoch 53/100\n",
            "2/2 [==============================] - 0s 8ms/step - loss: 14.3541 - mse: 302.5291\n",
            "Epoch 54/100\n",
            "2/2 [==============================] - 0s 9ms/step - loss: 23.9713 - mse: 859.3983\n",
            "Epoch 55/100\n",
            "2/2 [==============================] - 0s 4ms/step - loss: 23.1938 - mse: 805.5448\n",
            "Epoch 56/100\n",
            "2/2 [==============================] - 0s 10ms/step - loss: 10.8837 - mse: 170.9834\n",
            "Epoch 57/100\n",
            "2/2 [==============================] - 0s 8ms/step - loss: 12.7445 - mse: 198.7014\n",
            "Epoch 58/100\n",
            "2/2 [==============================] - 0s 6ms/step - loss: 9.5995 - mse: 102.5890\n",
            "Epoch 59/100\n",
            "2/2 [==============================] - 0s 6ms/step - loss: 12.5172 - mse: 216.3365\n",
            "Epoch 60/100\n",
            "2/2 [==============================] - 0s 7ms/step - loss: 12.3200 - mse: 208.6369\n",
            "Epoch 61/100\n",
            "2/2 [==============================] - 0s 9ms/step - loss: 17.4604 - mse: 428.6391\n",
            "Epoch 62/100\n",
            "2/2 [==============================] - 0s 6ms/step - loss: 10.6052 - mse: 136.9776\n",
            "Epoch 63/100\n",
            "2/2 [==============================] - 0s 11ms/step - loss: 10.4893 - mse: 152.4553\n",
            "Epoch 64/100\n",
            "2/2 [==============================] - 0s 6ms/step - loss: 24.8450 - mse: 911.7503\n",
            "Epoch 65/100\n",
            "2/2 [==============================] - 0s 7ms/step - loss: 10.6761 - mse: 142.7373\n",
            "Epoch 66/100\n",
            "2/2 [==============================] - 0s 10ms/step - loss: 21.7809 - mse: 704.4485\n",
            "Epoch 67/100\n",
            "2/2 [==============================] - 0s 8ms/step - loss: 10.7136 - mse: 136.0193\n",
            "Epoch 68/100\n",
            "2/2 [==============================] - 0s 5ms/step - loss: 10.6397 - mse: 149.2299\n",
            "Epoch 69/100\n",
            "2/2 [==============================] - 0s 4ms/step - loss: 22.6914 - mse: 742.1757\n",
            "Epoch 70/100\n",
            "2/2 [==============================] - 0s 5ms/step - loss: 9.3316 - mse: 166.1628\n",
            "Epoch 71/100\n",
            "2/2 [==============================] - 0s 6ms/step - loss: 15.4355 - mse: 323.0844\n",
            "Epoch 72/100\n",
            "2/2 [==============================] - 0s 6ms/step - loss: 6.7437 - mse: 67.0210\n",
            "Epoch 73/100\n",
            "2/2 [==============================] - 0s 8ms/step - loss: 11.6891 - mse: 183.7297\n",
            "Epoch 74/100\n",
            "2/2 [==============================] - 0s 8ms/step - loss: 24.0400 - mse: 908.8986\n",
            "Epoch 75/100\n",
            "2/2 [==============================] - 0s 6ms/step - loss: 9.5896 - mse: 149.3948\n",
            "Epoch 76/100\n",
            "2/2 [==============================] - 0s 4ms/step - loss: 12.4371 - mse: 188.3309\n",
            "Epoch 77/100\n",
            "2/2 [==============================] - 0s 5ms/step - loss: 16.6488 - mse: 429.2704\n",
            "Epoch 78/100\n",
            "2/2 [==============================] - 0s 6ms/step - loss: 9.0614 - mse: 95.4869\n",
            "Epoch 79/100\n",
            "2/2 [==============================] - 0s 4ms/step - loss: 23.9675 - mse: 864.0861\n",
            "Epoch 80/100\n",
            "2/2 [==============================] - 0s 5ms/step - loss: 26.7462 - mse: 1104.4027\n",
            "Epoch 81/100\n",
            "2/2 [==============================] - 0s 6ms/step - loss: 11.6714 - mse: 170.7055\n",
            "Epoch 82/100\n",
            "2/2 [==============================] - 0s 5ms/step - loss: 12.0228 - mse: 211.9191\n",
            "Epoch 83/100\n",
            "2/2 [==============================] - 0s 5ms/step - loss: 17.4218 - mse: 395.5589\n",
            "Epoch 84/100\n",
            "2/2 [==============================] - 0s 7ms/step - loss: 7.2629 - mse: 73.0935\n",
            "Epoch 85/100\n",
            "2/2 [==============================] - 0s 11ms/step - loss: 14.9650 - mse: 312.8361\n",
            "Epoch 86/100\n",
            "2/2 [==============================] - 0s 7ms/step - loss: 15.2862 - mse: 315.3605\n",
            "Epoch 87/100\n",
            "2/2 [==============================] - 0s 4ms/step - loss: 19.1086 - mse: 521.2533\n",
            "Epoch 88/100\n",
            "2/2 [==============================] - 0s 5ms/step - loss: 29.8229 - mse: 1287.1912\n",
            "Epoch 89/100\n",
            "2/2 [==============================] - 0s 11ms/step - loss: 10.1742 - mse: 124.1342\n",
            "Epoch 90/100\n",
            "2/2 [==============================] - 0s 6ms/step - loss: 21.5240 - mse: 663.8613\n",
            "Epoch 91/100\n",
            "2/2 [==============================] - 0s 8ms/step - loss: 10.5716 - mse: 161.7467\n",
            "Epoch 92/100\n",
            "2/2 [==============================] - 0s 8ms/step - loss: 18.3977 - mse: 464.1329\n",
            "Epoch 93/100\n",
            "2/2 [==============================] - 0s 7ms/step - loss: 7.4138 - mse: 81.9820\n",
            "Epoch 94/100\n",
            "2/2 [==============================] - 0s 7ms/step - loss: 17.7380 - mse: 445.7383\n",
            "Epoch 95/100\n",
            "2/2 [==============================] - 0s 9ms/step - loss: 11.1144 - mse: 164.0822\n",
            "Epoch 96/100\n",
            "2/2 [==============================] - 0s 6ms/step - loss: 19.4346 - mse: 510.5845\n",
            "Epoch 97/100\n",
            "2/2 [==============================] - 0s 10ms/step - loss: 12.1593 - mse: 209.9757\n",
            "Epoch 98/100\n",
            "2/2 [==============================] - 0s 7ms/step - loss: 11.5653 - mse: 169.4053\n",
            "Epoch 99/100\n",
            "2/2 [==============================] - 0s 6ms/step - loss: 13.8827 - mse: 265.4632\n",
            "Epoch 100/100\n",
            "2/2 [==============================] - 0s 8ms/step - loss: 20.2277 - mse: 608.8221\n"
          ],
          "name": "stdout"
        },
        {
          "output_type": "execute_result",
          "data": {
            "text/plain": [
              "<tensorflow.python.keras.callbacks.History at 0x7fb0a966e0d0>"
            ]
          },
          "metadata": {
            "tags": []
          },
          "execution_count": 49
        }
      ]
    },
    {
      "cell_type": "code",
      "metadata": {
        "colab": {
          "base_uri": "https://localhost:8080/",
          "height": 465
        },
        "id": "hHLYGEDMOu1b",
        "outputId": "8fec9543-266e-4b92-950f-b42adac82095"
      },
      "source": [
        "# Make and plot predictions for Model_2\n",
        "y_preds_2 = model_2.predict(X_test)\n",
        "plot_predictions(predictions=y_preds_2)"
      ],
      "execution_count": 50,
      "outputs": [
        {
          "output_type": "stream",
          "text": [
            "WARNING:tensorflow:6 out of the last 7 calls to <function Model.make_predict_function.<locals>.predict_function at 0x7fb0a8cdadd0> triggered tf.function retracing. Tracing is expensive and the excessive number of tracings could be due to (1) creating @tf.function repeatedly in a loop, (2) passing tensors with different shapes, (3) passing Python objects instead of tensors. For (1), please define your @tf.function outside of the loop. For (2), @tf.function has experimental_relax_shapes=True option that relaxes argument shapes that can avoid unnecessary retracing. For (3), please refer to https://www.tensorflow.org/guide/function#controlling_retracing and https://www.tensorflow.org/api_docs/python/tf/function for  more details.\n"
          ],
          "name": "stdout"
        },
        {
          "output_type": "display_data",
          "data": {
            "image/png": "[encoded data removed]",
            "text/plain": [
              "<Figure size 720x504 with 1 Axes>"
            ]
          },
          "metadata": {
            "tags": [],
            "needs_background": "light"
          }
        }
      ]
    },
    {
      "cell_type": "code",
      "metadata": {
        "colab": {
          "base_uri": "https://localhost:8080/"
        },
        "id": "A78S_SfdPEU_",
        "outputId": "4f056a8d-146c-4d06-e2c9-02a4c27bef07"
      },
      "source": [
        "# Calculate the Model_2 evaluation metrics\n",
        "mae_2 = mae(y_test, y_preds_2)\n",
        "mse_2 = mse(y_test, y_preds_2)\n",
        "mae_2, mse_2"
      ],
      "execution_count": 51,
      "outputs": [
        {
          "output_type": "execute_result",
          "data": {
            "text/plain": [
              "(<tf.Tensor: shape=(), dtype=float32, numpy=3.1969466>,\n",
              " <tf.Tensor: shape=(), dtype=float32, numpy=13.070175>)"
            ]
          },
          "metadata": {
            "tags": []
          },
          "execution_count": 51
        }
      ]
    },
    {
      "cell_type": "markdown",
      "metadata": {
        "id": "43aOz-QqPg2m"
      },
      "source": [
        "### Build Model_3\n",
        "\n",
        "2 layers, trained for 500 epochs"
      ]
    },
    {
      "cell_type": "code",
      "metadata": {
        "colab": {
          "base_uri": "https://localhost:8080/"
        },
        "id": "lAP2qRs5REZw",
        "outputId": "f61340d4-403b-4387-8f23-51500ebfb589"
      },
      "source": [
        "# Set seed\n",
        "tf.random.set_seed(42)\n",
        "\n",
        "# 1. Create the model\n",
        "model_3 = tf.keras.Sequential([\n",
        "                               tf.keras.layers.Dense(10),\n",
        "                               tf.keras.layers.Dense(1)\n",
        "])\n",
        "\n",
        "# 2. Compile the model\n",
        "model_3.compile(loss=tf.keras.losses.mae,\n",
        "                optimizer=tf.keras.optimizers.SGD(),\n",
        "                metrics=[\"mse\"])\n",
        "\n",
        "# 3. Fit the model\n",
        "model_3.fit(X_train, y_train, epochs=500)"
      ],
      "execution_count": 52,
      "outputs": [
        {
          "output_type": "stream",
          "text": [
            "Epoch 1/500\n",
            "2/2 [==============================] - 0s 7ms/step - loss: 27.4058 - mse: 1084.1481\n",
            "Epoch 2/500\n",
            "2/2 [==============================] - 0s 4ms/step - loss: 24.6339 - mse: 777.9203\n",
            "Epoch 3/500\n",
            "2/2 [==============================] - 0s 6ms/step - loss: 29.8935 - mse: 1334.8955\n",
            "Epoch 4/500\n",
            "2/2 [==============================] - 0s 5ms/step - loss: 27.4055 - mse: 1106.8035\n",
            "Epoch 5/500\n",
            "2/2 [==============================] - 0s 5ms/step - loss: 14.9463 - mse: 281.1077\n",
            "Epoch 6/500\n",
            "2/2 [==============================] - 0s 5ms/step - loss: 11.8819 - mse: 168.6621\n",
            "Epoch 7/500\n",
            "2/2 [==============================] - 0s 5ms/step - loss: 11.1988 - mse: 151.3508\n",
            "Epoch 8/500\n",
            "2/2 [==============================] - 0s 6ms/step - loss: 11.0910 - mse: 160.3745\n",
            "Epoch 9/500\n",
            "2/2 [==============================] - 0s 6ms/step - loss: 40.4763 - mse: 2586.0081\n",
            "Epoch 10/500\n",
            "2/2 [==============================] - 0s 6ms/step - loss: 27.8687 - mse: 1094.4379\n",
            "Epoch 11/500\n",
            "2/2 [==============================] - 0s 6ms/step - loss: 10.2473 - mse: 147.9359\n",
            "Epoch 12/500\n",
            "2/2 [==============================] - 0s 5ms/step - loss: 25.2803 - mse: 890.3866\n",
            "Epoch 13/500\n",
            "2/2 [==============================] - 0s 6ms/step - loss: 16.9897 - mse: 399.9679\n",
            "Epoch 14/500\n",
            "2/2 [==============================] - 0s 8ms/step - loss: 25.9217 - mse: 1049.5521\n",
            "Epoch 15/500\n",
            "2/2 [==============================] - 0s 6ms/step - loss: 17.9948 - mse: 450.2584\n",
            "Epoch 16/500\n",
            "2/2 [==============================] - 0s 8ms/step - loss: 7.3510 - mse: 80.6206\n",
            "Epoch 17/500\n",
            "2/2 [==============================] - 0s 6ms/step - loss: 10.8636 - mse: 174.7868\n",
            "Epoch 18/500\n",
            "2/2 [==============================] - 0s 6ms/step - loss: 19.5304 - mse: 565.8051\n",
            "Epoch 19/500\n",
            "2/2 [==============================] - 0s 5ms/step - loss: 10.3469 - mse: 167.7750\n",
            "Epoch 20/500\n",
            "2/2 [==============================] - 0s 5ms/step - loss: 17.6985 - mse: 455.7095\n",
            "Epoch 21/500\n",
            "2/2 [==============================] - 0s 10ms/step - loss: 15.8984 - mse: 347.1928\n",
            "Epoch 22/500\n",
            "2/2 [==============================] - 0s 8ms/step - loss: 14.1991 - mse: 285.1766\n",
            "Epoch 23/500\n",
            "2/2 [==============================] - 0s 8ms/step - loss: 8.7720 - mse: 91.7852\n",
            "Epoch 24/500\n",
            "2/2 [==============================] - 0s 9ms/step - loss: 11.0570 - mse: 153.7430\n",
            "Epoch 25/500\n",
            "2/2 [==============================] - 0s 5ms/step - loss: 12.6838 - mse: 233.2951\n",
            "Epoch 26/500\n",
            "2/2 [==============================] - 0s 4ms/step - loss: 26.1877 - mse: 1024.6096\n",
            "Epoch 27/500\n",
            "2/2 [==============================] - 0s 16ms/step - loss: 11.7432 - mse: 194.8454\n",
            "Epoch 28/500\n",
            "2/2 [==============================] - 0s 5ms/step - loss: 22.8730 - mse: 835.6074\n",
            "Epoch 29/500\n",
            "2/2 [==============================] - 0s 5ms/step - loss: 9.2459 - mse: 96.7786\n",
            "Epoch 30/500\n",
            "2/2 [==============================] - 0s 10ms/step - loss: 29.2641 - mse: 1535.1349\n",
            "Epoch 31/500\n",
            "2/2 [==============================] - 0s 5ms/step - loss: 53.0225 - mse: 5030.2974\n",
            "Epoch 32/500\n",
            "2/2 [==============================] - 0s 5ms/step - loss: 11.9951 - mse: 211.7024\n",
            "Epoch 33/500\n",
            "2/2 [==============================] - 0s 5ms/step - loss: 15.6357 - mse: 337.3665\n",
            "Epoch 34/500\n",
            "2/2 [==============================] - 0s 4ms/step - loss: 12.6925 - mse: 214.4822\n",
            "Epoch 35/500\n",
            "2/2 [==============================] - 0s 6ms/step - loss: 9.2398 - mse: 92.9126\n",
            "Epoch 36/500\n",
            "2/2 [==============================] - 0s 7ms/step - loss: 16.6497 - mse: 403.6570\n",
            "Epoch 37/500\n",
            "2/2 [==============================] - 0s 5ms/step - loss: 11.0382 - mse: 192.3919\n",
            "Epoch 38/500\n",
            "2/2 [==============================] - 0s 7ms/step - loss: 18.1634 - mse: 433.6718\n",
            "Epoch 39/500\n",
            "2/2 [==============================] - 0s 5ms/step - loss: 19.1013 - mse: 529.6441\n",
            "Epoch 40/500\n",
            "2/2 [==============================] - 0s 5ms/step - loss: 20.4324 - mse: 610.1327\n",
            "Epoch 41/500\n",
            "2/2 [==============================] - 0s 5ms/step - loss: 14.9102 - mse: 279.6181\n",
            "Epoch 42/500\n",
            "2/2 [==============================] - 0s 5ms/step - loss: 12.2809 - mse: 186.6179\n",
            "Epoch 43/500\n",
            "2/2 [==============================] - 0s 6ms/step - loss: 10.7333 - mse: 167.0951\n",
            "Epoch 44/500\n",
            "2/2 [==============================] - 0s 5ms/step - loss: 23.0260 - mse: 830.4236\n",
            "Epoch 45/500\n",
            "2/2 [==============================] - 0s 4ms/step - loss: 10.3897 - mse: 128.9549\n",
            "Epoch 46/500\n",
            "2/2 [==============================] - 0s 5ms/step - loss: 11.7904 - mse: 181.9210\n",
            "Epoch 47/500\n",
            "2/2 [==============================] - 0s 7ms/step - loss: 9.6438 - mse: 153.8708\n",
            "Epoch 48/500\n",
            "2/2 [==============================] - 0s 5ms/step - loss: 17.2335 - mse: 402.8497\n",
            "Epoch 49/500\n",
            "2/2 [==============================] - 0s 5ms/step - loss: 9.5729 - mse: 99.8336\n",
            "Epoch 50/500\n",
            "2/2 [==============================] - 0s 6ms/step - loss: 13.8185 - mse: 260.3668\n",
            "Epoch 51/500\n",
            "2/2 [==============================] - 0s 6ms/step - loss: 11.5958 - mse: 154.7956\n",
            "Epoch 52/500\n",
            "2/2 [==============================] - 0s 4ms/step - loss: 30.5538 - mse: 1613.0876\n",
            "Epoch 53/500\n",
            "2/2 [==============================] - 0s 6ms/step - loss: 14.3541 - mse: 302.5291\n",
            "Epoch 54/500\n",
            "2/2 [==============================] - 0s 5ms/step - loss: 23.9713 - mse: 859.3983\n",
            "Epoch 55/500\n",
            "2/2 [==============================] - 0s 6ms/step - loss: 23.1938 - mse: 805.5448\n",
            "Epoch 56/500\n",
            "2/2 [==============================] - 0s 5ms/step - loss: 10.8837 - mse: 170.9834\n",
            "Epoch 57/500\n",
            "2/2 [==============================] - 0s 4ms/step - loss: 12.7445 - mse: 198.7014\n",
            "Epoch 58/500\n",
            "2/2 [==============================] - 0s 7ms/step - loss: 9.5995 - mse: 102.5890\n",
            "Epoch 59/500\n",
            "2/2 [==============================] - 0s 9ms/step - loss: 12.5172 - mse: 216.3365\n",
            "Epoch 60/500\n",
            "2/2 [==============================] - 0s 5ms/step - loss: 12.3200 - mse: 208.6369\n",
            "Epoch 61/500\n",
            "2/2 [==============================] - 0s 5ms/step - loss: 17.4604 - mse: 428.6391\n",
            "Epoch 62/500\n",
            "2/2 [==============================] - 0s 10ms/step - loss: 10.6052 - mse: 136.9776\n",
            "Epoch 63/500\n",
            "2/2 [==============================] - 0s 5ms/step - loss: 10.4893 - mse: 152.4553\n",
            "Epoch 64/500\n",
            "2/2 [==============================] - 0s 4ms/step - loss: 24.8450 - mse: 911.7503\n",
            "Epoch 65/500\n",
            "2/2 [==============================] - 0s 5ms/step - loss: 10.6761 - mse: 142.7373\n",
            "Epoch 66/500\n",
            "2/2 [==============================] - 0s 5ms/step - loss: 21.7809 - mse: 704.4485\n",
            "Epoch 67/500\n",
            "2/2 [==============================] - 0s 5ms/step - loss: 10.7136 - mse: 136.0193\n",
            "Epoch 68/500\n",
            "2/2 [==============================] - 0s 7ms/step - loss: 10.6397 - mse: 149.2299\n",
            "Epoch 69/500\n",
            "2/2 [==============================] - 0s 5ms/step - loss: 22.6914 - mse: 742.1757\n",
            "Epoch 70/500\n",
            "2/2 [==============================] - 0s 5ms/step - loss: 9.3316 - mse: 166.1628\n",
            "Epoch 71/500\n",
            "2/2 [==============================] - 0s 5ms/step - loss: 15.4355 - mse: 323.0844\n",
            "Epoch 72/500\n",
            "2/2 [==============================] - 0s 7ms/step - loss: 6.7437 - mse: 67.0210\n",
            "Epoch 73/500\n",
            "2/2 [==============================] - 0s 7ms/step - loss: 11.6891 - mse: 183.7297\n",
            "Epoch 74/500\n",
            "2/2 [==============================] - 0s 6ms/step - loss: 24.0400 - mse: 908.8986\n",
            "Epoch 75/500\n",
            "2/2 [==============================] - 0s 5ms/step - loss: 9.5896 - mse: 149.3948\n",
            "Epoch 76/500\n",
            "2/2 [==============================] - 0s 7ms/step - loss: 12.4371 - mse: 188.3309\n",
            "Epoch 77/500\n",
            "2/2 [==============================] - 0s 5ms/step - loss: 16.6488 - mse: 429.2704\n",
            "Epoch 78/500\n",
            "2/2 [==============================] - 0s 5ms/step - loss: 9.0614 - mse: 95.4869\n",
            "Epoch 79/500\n",
            "2/2 [==============================] - 0s 8ms/step - loss: 23.9675 - mse: 864.0861\n",
            "Epoch 80/500\n",
            "2/2 [==============================] - 0s 4ms/step - loss: 26.7462 - mse: 1104.4027\n",
            "Epoch 81/500\n",
            "2/2 [==============================] - 0s 6ms/step - loss: 11.6714 - mse: 170.7055\n",
            "Epoch 82/500\n",
            "2/2 [==============================] - 0s 5ms/step - loss: 12.0228 - mse: 211.9191\n",
            "Epoch 83/500\n",
            "2/2 [==============================] - 0s 5ms/step - loss: 17.4218 - mse: 395.5589\n",
            "Epoch 84/500\n",
            "2/2 [==============================] - 0s 5ms/step - loss: 7.2629 - mse: 73.0935\n",
            "Epoch 85/500\n",
            "2/2 [==============================] - 0s 5ms/step - loss: 14.9650 - mse: 312.8361\n",
            "Epoch 86/500\n",
            "2/2 [==============================] - 0s 5ms/step - loss: 15.2862 - mse: 315.3605\n",
            "Epoch 87/500\n",
            "2/2 [==============================] - 0s 6ms/step - loss: 19.1086 - mse: 521.2533\n",
            "Epoch 88/500\n",
            "2/2 [==============================] - 0s 5ms/step - loss: 29.8229 - mse: 1287.1912\n",
            "Epoch 89/500\n",
            "2/2 [==============================] - 0s 5ms/step - loss: 10.1742 - mse: 124.1342\n",
            "Epoch 90/500\n",
            "2/2 [==============================] - 0s 8ms/step - loss: 21.5240 - mse: 663.8613\n",
            "Epoch 91/500\n",
            "2/2 [==============================] - 0s 8ms/step - loss: 10.5716 - mse: 161.7467\n",
            "Epoch 92/500\n",
            "2/2 [==============================] - 0s 6ms/step - loss: 18.3977 - mse: 464.1329\n",
            "Epoch 93/500\n",
            "2/2 [==============================] - 0s 6ms/step - loss: 7.4138 - mse: 81.9820\n",
            "Epoch 94/500\n",
            "2/2 [==============================] - 0s 8ms/step - loss: 17.7380 - mse: 445.7383\n",
            "Epoch 95/500\n",
            "2/2 [==============================] - 0s 5ms/step - loss: 11.1144 - mse: 164.0822\n",
            "Epoch 96/500\n",
            "2/2 [==============================] - 0s 5ms/step - loss: 19.4346 - mse: 510.5845\n",
            "Epoch 97/500\n",
            "2/2 [==============================] - 0s 5ms/step - loss: 12.1593 - mse: 209.9757\n",
            "Epoch 98/500\n",
            "2/2 [==============================] - 0s 3ms/step - loss: 11.5653 - mse: 169.4053\n",
            "Epoch 99/500\n",
            "2/2 [==============================] - 0s 6ms/step - loss: 13.8827 - mse: 265.4632\n",
            "Epoch 100/500\n",
            "2/2 [==============================] - 0s 5ms/step - loss: 20.2277 - mse: 608.8221\n",
            "Epoch 101/500\n",
            "2/2 [==============================] - 0s 6ms/step - loss: 11.4479 - mse: 177.1447\n",
            "Epoch 102/500\n",
            "2/2 [==============================] - 0s 5ms/step - loss: 17.4842 - mse: 426.5330\n",
            "Epoch 103/500\n",
            "2/2 [==============================] - 0s 8ms/step - loss: 7.0217 - mse: 65.2649\n",
            "Epoch 104/500\n",
            "2/2 [==============================] - 0s 5ms/step - loss: 23.5789 - mse: 757.4910\n",
            "Epoch 105/500\n",
            "2/2 [==============================] - 0s 7ms/step - loss: 16.8932 - mse: 443.0952\n",
            "Epoch 106/500\n",
            "2/2 [==============================] - 0s 7ms/step - loss: 9.2954 - mse: 144.6570\n",
            "Epoch 107/500\n",
            "2/2 [==============================] - 0s 5ms/step - loss: 25.3749 - mse: 934.2097\n",
            "Epoch 108/500\n",
            "2/2 [==============================] - 0s 5ms/step - loss: 13.4621 - mse: 269.8599\n",
            "Epoch 109/500\n",
            "2/2 [==============================] - 0s 6ms/step - loss: 9.5238 - mse: 108.7908\n",
            "Epoch 110/500\n",
            "2/2 [==============================] - 0s 5ms/step - loss: 9.6722 - mse: 128.8767\n",
            "Epoch 111/500\n",
            "2/2 [==============================] - 0s 5ms/step - loss: 14.5987 - mse: 295.9862\n",
            "Epoch 112/500\n",
            "2/2 [==============================] - 0s 7ms/step - loss: 9.5670 - mse: 123.4114\n",
            "Epoch 113/500\n",
            "2/2 [==============================] - 0s 5ms/step - loss: 17.8092 - mse: 460.3870\n",
            "Epoch 114/500\n",
            "2/2 [==============================] - 0s 6ms/step - loss: 17.1782 - mse: 441.2210\n",
            "Epoch 115/500\n",
            "2/2 [==============================] - 0s 6ms/step - loss: 11.1182 - mse: 155.0962\n",
            "Epoch 116/500\n",
            "2/2 [==============================] - 0s 5ms/step - loss: 23.3071 - mse: 791.7664\n",
            "Epoch 117/500\n",
            "2/2 [==============================] - 0s 5ms/step - loss: 9.6144 - mse: 126.1895\n",
            "Epoch 118/500\n",
            "2/2 [==============================] - 0s 6ms/step - loss: 10.6899 - mse: 140.2946\n",
            "Epoch 119/500\n",
            "2/2 [==============================] - 0s 5ms/step - loss: 8.0355 - mse: 78.3508\n",
            "Epoch 120/500\n",
            "2/2 [==============================] - 0s 6ms/step - loss: 29.6859 - mse: 1315.8655\n",
            "Epoch 121/500\n",
            "2/2 [==============================] - 0s 5ms/step - loss: 8.0714 - mse: 70.6648\n",
            "Epoch 122/500\n",
            "2/2 [==============================] - 0s 16ms/step - loss: 28.3086 - mse: 1233.3855\n",
            "Epoch 123/500\n",
            "2/2 [==============================] - 0s 5ms/step - loss: 32.9014 - mse: 1591.9512\n",
            "Epoch 124/500\n",
            "2/2 [==============================] - 0s 5ms/step - loss: 19.6291 - mse: 571.6962\n",
            "Epoch 125/500\n",
            "2/2 [==============================] - 0s 6ms/step - loss: 7.0095 - mse: 72.1091\n",
            "Epoch 126/500\n",
            "2/2 [==============================] - 0s 5ms/step - loss: 21.8056 - mse: 666.4343\n",
            "Epoch 127/500\n",
            "2/2 [==============================] - 0s 13ms/step - loss: 7.9812 - mse: 69.5627\n",
            "Epoch 128/500\n",
            "2/2 [==============================] - 0s 5ms/step - loss: 21.0585 - mse: 653.6490\n",
            "Epoch 129/500\n",
            "2/2 [==============================] - 0s 5ms/step - loss: 9.0107 - mse: 120.8763\n",
            "Epoch 130/500\n",
            "2/2 [==============================] - 0s 4ms/step - loss: 24.0502 - mse: 815.7745\n",
            "Epoch 131/500\n",
            "2/2 [==============================] - 0s 5ms/step - loss: 9.7537 - mse: 133.0194\n",
            "Epoch 132/500\n",
            "2/2 [==============================] - 0s 4ms/step - loss: 18.3052 - mse: 500.9215\n",
            "Epoch 133/500\n",
            "2/2 [==============================] - 0s 4ms/step - loss: 7.5833 - mse: 80.1913\n",
            "Epoch 134/500\n",
            "2/2 [==============================] - 0s 5ms/step - loss: 18.5755 - mse: 506.3340\n",
            "Epoch 135/500\n",
            "2/2 [==============================] - 0s 4ms/step - loss: 10.5360 - mse: 148.5977\n",
            "Epoch 136/500\n",
            "2/2 [==============================] - 0s 5ms/step - loss: 18.2694 - mse: 472.4460\n",
            "Epoch 137/500\n",
            "2/2 [==============================] - 0s 7ms/step - loss: 23.1658 - mse: 724.0378\n",
            "Epoch 138/500\n",
            "2/2 [==============================] - 0s 3ms/step - loss: 9.1362 - mse: 139.5299\n",
            "Epoch 139/500\n",
            "2/2 [==============================] - 0s 16ms/step - loss: 8.9181 - mse: 144.6080\n",
            "Epoch 140/500\n",
            "2/2 [==============================] - 0s 6ms/step - loss: 16.4732 - mse: 389.2469\n",
            "Epoch 141/500\n",
            "2/2 [==============================] - 0s 5ms/step - loss: 8.4208 - mse: 91.7412\n",
            "Epoch 142/500\n",
            "2/2 [==============================] - 0s 5ms/step - loss: 36.9540 - mse: 2404.8638\n",
            "Epoch 143/500\n",
            "2/2 [==============================] - 0s 6ms/step - loss: 25.5820 - mse: 927.2340\n",
            "Epoch 144/500\n",
            "2/2 [==============================] - 0s 9ms/step - loss: 9.5392 - mse: 144.3266\n",
            "Epoch 145/500\n",
            "2/2 [==============================] - 0s 6ms/step - loss: 26.6058 - mse: 957.1339\n",
            "Epoch 146/500\n",
            "2/2 [==============================] - 0s 6ms/step - loss: 8.7248 - mse: 109.2954\n",
            "Epoch 147/500\n",
            "2/2 [==============================] - 0s 6ms/step - loss: 15.6172 - mse: 311.2311\n",
            "Epoch 148/500\n",
            "2/2 [==============================] - 0s 6ms/step - loss: 18.3065 - mse: 464.7856\n",
            "Epoch 149/500\n",
            "2/2 [==============================] - 0s 6ms/step - loss: 8.1994 - mse: 106.4584\n",
            "Epoch 150/500\n",
            "2/2 [==============================] - 0s 8ms/step - loss: 7.4964 - mse: 66.4456\n",
            "Epoch 151/500\n",
            "2/2 [==============================] - 0s 5ms/step - loss: 18.3374 - mse: 485.9980\n",
            "Epoch 152/500\n",
            "2/2 [==============================] - 0s 5ms/step - loss: 10.2895 - mse: 130.5616\n",
            "Epoch 153/500\n",
            "2/2 [==============================] - 0s 7ms/step - loss: 29.6425 - mse: 1268.4626\n",
            "Epoch 154/500\n",
            "2/2 [==============================] - 0s 8ms/step - loss: 10.5556 - mse: 201.2334\n",
            "Epoch 155/500\n",
            "2/2 [==============================] - 0s 4ms/step - loss: 15.4537 - mse: 347.2171\n",
            "Epoch 156/500\n",
            "2/2 [==============================] - 0s 5ms/step - loss: 17.0174 - mse: 438.8495\n",
            "Epoch 157/500\n",
            "2/2 [==============================] - 0s 5ms/step - loss: 32.8217 - mse: 1744.8135\n",
            "Epoch 158/500\n",
            "2/2 [==============================] - 0s 5ms/step - loss: 10.7038 - mse: 151.0813\n",
            "Epoch 159/500\n",
            "2/2 [==============================] - 0s 5ms/step - loss: 8.9054 - mse: 97.7705\n",
            "Epoch 160/500\n",
            "2/2 [==============================] - 0s 5ms/step - loss: 22.1321 - mse: 709.4391\n",
            "Epoch 161/500\n",
            "2/2 [==============================] - 0s 7ms/step - loss: 11.7113 - mse: 202.9611\n",
            "Epoch 162/500\n",
            "2/2 [==============================] - 0s 5ms/step - loss: 21.5734 - mse: 670.2858\n",
            "Epoch 163/500\n",
            "2/2 [==============================] - 0s 5ms/step - loss: 19.2484 - mse: 533.4073\n",
            "Epoch 164/500\n",
            "2/2 [==============================] - 0s 5ms/step - loss: 11.0156 - mse: 177.6826\n",
            "Epoch 165/500\n",
            "2/2 [==============================] - 0s 5ms/step - loss: 9.6187 - mse: 179.8633\n",
            "Epoch 166/500\n",
            "2/2 [==============================] - 0s 5ms/step - loss: 21.5908 - mse: 681.9667\n",
            "Epoch 167/500\n",
            "2/2 [==============================] - 0s 6ms/step - loss: 26.2850 - mse: 1048.8445\n",
            "Epoch 168/500\n",
            "2/2 [==============================] - 0s 5ms/step - loss: 9.8525 - mse: 118.2891\n",
            "Epoch 169/500\n",
            "2/2 [==============================] - 0s 5ms/step - loss: 22.5630 - mse: 787.0587\n",
            "Epoch 170/500\n",
            "2/2 [==============================] - 0s 5ms/step - loss: 10.1499 - mse: 195.9051\n",
            "Epoch 171/500\n",
            "2/2 [==============================] - 0s 5ms/step - loss: 18.0464 - mse: 503.4533\n",
            "Epoch 172/500\n",
            "2/2 [==============================] - 0s 10ms/step - loss: 28.8377 - mse: 1305.7986\n",
            "Epoch 173/500\n",
            "2/2 [==============================] - 0s 5ms/step - loss: 16.5279 - mse: 432.1443\n",
            "Epoch 174/500\n",
            "2/2 [==============================] - 0s 6ms/step - loss: 11.2115 - mse: 199.9691\n",
            "Epoch 175/500\n",
            "2/2 [==============================] - 0s 5ms/step - loss: 27.5839 - mse: 1097.8187\n",
            "Epoch 176/500\n",
            "2/2 [==============================] - 0s 5ms/step - loss: 8.2680 - mse: 77.5372\n",
            "Epoch 177/500\n",
            "2/2 [==============================] - 0s 8ms/step - loss: 9.2580 - mse: 108.9075\n",
            "Epoch 178/500\n",
            "2/2 [==============================] - 0s 6ms/step - loss: 18.1440 - mse: 466.0510\n",
            "Epoch 179/500\n",
            "2/2 [==============================] - 0s 6ms/step - loss: 10.5995 - mse: 147.8544\n",
            "Epoch 180/500\n",
            "2/2 [==============================] - 0s 5ms/step - loss: 7.8992 - mse: 100.6933\n",
            "Epoch 181/500\n",
            "2/2 [==============================] - 0s 7ms/step - loss: 17.4015 - mse: 438.6032\n",
            "Epoch 182/500\n",
            "2/2 [==============================] - 0s 6ms/step - loss: 11.0089 - mse: 157.1595\n",
            "Epoch 183/500\n",
            "2/2 [==============================] - 0s 5ms/step - loss: 11.7027 - mse: 203.9955\n",
            "Epoch 184/500\n",
            "2/2 [==============================] - 0s 4ms/step - loss: 30.4062 - mse: 1387.3840\n",
            "Epoch 185/500\n",
            "2/2 [==============================] - 0s 4ms/step - loss: 7.5557 - mse: 98.6847\n",
            "Epoch 186/500\n",
            "2/2 [==============================] - 0s 9ms/step - loss: 15.9905 - mse: 369.3700\n",
            "Epoch 187/500\n",
            "2/2 [==============================] - 0s 5ms/step - loss: 8.5579 - mse: 85.4845\n",
            "Epoch 188/500\n",
            "2/2 [==============================] - 0s 8ms/step - loss: 28.7339 - mse: 1175.7059\n",
            "Epoch 189/500\n",
            "2/2 [==============================] - 0s 8ms/step - loss: 13.1689 - mse: 271.3447\n",
            "Epoch 190/500\n",
            "2/2 [==============================] - 0s 6ms/step - loss: 18.3101 - mse: 512.5546\n",
            "Epoch 191/500\n",
            "2/2 [==============================] - 0s 5ms/step - loss: 13.7376 - mse: 264.9675\n",
            "Epoch 192/500\n",
            "2/2 [==============================] - 0s 4ms/step - loss: 13.7104 - mse: 261.0631\n",
            "Epoch 193/500\n",
            "2/2 [==============================] - 0s 4ms/step - loss: 28.5842 - mse: 1135.1302\n",
            "Epoch 194/500\n",
            "2/2 [==============================] - 0s 4ms/step - loss: 7.0707 - mse: 78.6824\n",
            "Epoch 195/500\n",
            "2/2 [==============================] - 0s 8ms/step - loss: 7.0550 - mse: 74.9455\n",
            "Epoch 196/500\n",
            "2/2 [==============================] - 0s 8ms/step - loss: 22.0067 - mse: 709.4538\n",
            "Epoch 197/500\n",
            "2/2 [==============================] - 0s 18ms/step - loss: 20.8443 - mse: 643.6124\n",
            "Epoch 198/500\n",
            "2/2 [==============================] - 0s 6ms/step - loss: 12.4713 - mse: 236.5511\n",
            "Epoch 199/500\n",
            "2/2 [==============================] - 0s 6ms/step - loss: 17.9099 - mse: 460.3532\n",
            "Epoch 200/500\n",
            "2/2 [==============================] - 0s 5ms/step - loss: 13.7494 - mse: 282.2670\n",
            "Epoch 201/500\n",
            "2/2 [==============================] - 0s 6ms/step - loss: 5.4687 - mse: 41.0882\n",
            "Epoch 202/500\n",
            "2/2 [==============================] - 0s 5ms/step - loss: 13.7006 - mse: 293.8447\n",
            "Epoch 203/500\n",
            "2/2 [==============================] - 0s 5ms/step - loss: 9.4142 - mse: 139.9066\n",
            "Epoch 204/500\n",
            "2/2 [==============================] - 0s 6ms/step - loss: 20.9796 - mse: 656.2632\n",
            "Epoch 205/500\n",
            "2/2 [==============================] - 0s 5ms/step - loss: 9.5470 - mse: 127.9146\n",
            "Epoch 206/500\n",
            "2/2 [==============================] - 0s 6ms/step - loss: 11.7256 - mse: 195.6242\n",
            "Epoch 207/500\n",
            "2/2 [==============================] - 0s 5ms/step - loss: 14.3772 - mse: 317.1682\n",
            "Epoch 208/500\n",
            "2/2 [==============================] - 0s 5ms/step - loss: 14.8579 - mse: 323.1455\n",
            "Epoch 209/500\n",
            "2/2 [==============================] - 0s 5ms/step - loss: 14.9706 - mse: 345.7380\n",
            "Epoch 210/500\n",
            "2/2 [==============================] - 0s 6ms/step - loss: 17.8998 - mse: 467.4649\n",
            "Epoch 211/500\n",
            "2/2 [==============================] - 0s 6ms/step - loss: 9.8327 - mse: 145.8636\n",
            "Epoch 212/500\n",
            "2/2 [==============================] - 0s 5ms/step - loss: 18.3352 - mse: 507.7773\n",
            "Epoch 213/500\n",
            "2/2 [==============================] - 0s 4ms/step - loss: 15.0383 - mse: 307.6406\n",
            "Epoch 214/500\n",
            "2/2 [==============================] - 0s 8ms/step - loss: 14.5874 - mse: 293.5641\n",
            "Epoch 215/500\n",
            "2/2 [==============================] - 0s 5ms/step - loss: 23.3015 - mse: 799.4147\n",
            "Epoch 216/500\n",
            "2/2 [==============================] - 0s 5ms/step - loss: 13.3613 - mse: 278.0950\n",
            "Epoch 217/500\n",
            "2/2 [==============================] - 0s 7ms/step - loss: 9.8517 - mse: 136.3094\n",
            "Epoch 218/500\n",
            "2/2 [==============================] - 0s 5ms/step - loss: 12.5451 - mse: 206.5809\n",
            "Epoch 219/500\n",
            "2/2 [==============================] - 0s 6ms/step - loss: 4.9472 - mse: 37.4063\n",
            "Epoch 220/500\n",
            "2/2 [==============================] - 0s 5ms/step - loss: 7.1130 - mse: 57.5579\n",
            "Epoch 221/500\n",
            "2/2 [==============================] - 0s 5ms/step - loss: 35.4567 - mse: 2108.1030\n",
            "Epoch 222/500\n",
            "2/2 [==============================] - 0s 5ms/step - loss: 34.8634 - mse: 1966.9629\n",
            "Epoch 223/500\n",
            "2/2 [==============================] - 0s 5ms/step - loss: 7.9846 - mse: 119.7549\n",
            "Epoch 224/500\n",
            "2/2 [==============================] - 0s 6ms/step - loss: 14.7004 - mse: 318.5024\n",
            "Epoch 225/500\n",
            "2/2 [==============================] - 0s 5ms/step - loss: 16.7196 - mse: 360.6415\n",
            "Epoch 226/500\n",
            "2/2 [==============================] - 0s 8ms/step - loss: 15.9329 - mse: 369.8889\n",
            "Epoch 227/500\n",
            "2/2 [==============================] - 0s 7ms/step - loss: 16.1644 - mse: 369.5816\n",
            "Epoch 228/500\n",
            "2/2 [==============================] - 0s 5ms/step - loss: 13.9324 - mse: 282.1420\n",
            "Epoch 229/500\n",
            "2/2 [==============================] - 0s 10ms/step - loss: 18.0504 - mse: 457.4227\n",
            "Epoch 230/500\n",
            "2/2 [==============================] - 0s 6ms/step - loss: 15.6120 - mse: 314.6217\n",
            "Epoch 231/500\n",
            "2/2 [==============================] - 0s 8ms/step - loss: 21.2041 - mse: 670.7585\n",
            "Epoch 232/500\n",
            "2/2 [==============================] - 0s 4ms/step - loss: 25.2732 - mse: 913.5815\n",
            "Epoch 233/500\n",
            "2/2 [==============================] - 0s 6ms/step - loss: 16.3176 - mse: 387.7162\n",
            "Epoch 234/500\n",
            "2/2 [==============================] - 0s 6ms/step - loss: 7.2729 - mse: 66.5098\n",
            "Epoch 235/500\n",
            "2/2 [==============================] - 0s 8ms/step - loss: 16.9688 - mse: 403.1300\n",
            "Epoch 236/500\n",
            "2/2 [==============================] - 0s 7ms/step - loss: 7.1225 - mse: 69.7516\n",
            "Epoch 237/500\n",
            "2/2 [==============================] - 0s 5ms/step - loss: 9.2058 - mse: 118.9101\n",
            "Epoch 238/500\n",
            "2/2 [==============================] - 0s 5ms/step - loss: 8.0961 - mse: 86.7115\n",
            "Epoch 239/500\n",
            "2/2 [==============================] - 0s 7ms/step - loss: 17.0538 - mse: 438.0273\n",
            "Epoch 240/500\n",
            "2/2 [==============================] - 0s 5ms/step - loss: 8.8627 - mse: 107.8192\n",
            "Epoch 241/500\n",
            "2/2 [==============================] - 0s 5ms/step - loss: 13.1711 - mse: 273.2423\n",
            "Epoch 242/500\n",
            "2/2 [==============================] - 0s 9ms/step - loss: 8.7886 - mse: 104.8367\n",
            "Epoch 243/500\n",
            "2/2 [==============================] - 0s 7ms/step - loss: 18.8161 - mse: 541.4720\n",
            "Epoch 244/500\n",
            "2/2 [==============================] - 0s 5ms/step - loss: 14.0531 - mse: 275.3815\n",
            "Epoch 245/500\n",
            "2/2 [==============================] - 0s 5ms/step - loss: 14.6831 - mse: 290.1826\n",
            "Epoch 246/500\n",
            "2/2 [==============================] - 0s 8ms/step - loss: 15.8045 - mse: 370.7153\n",
            "Epoch 247/500\n",
            "2/2 [==============================] - 0s 7ms/step - loss: 17.6810 - mse: 421.4944\n",
            "Epoch 248/500\n",
            "2/2 [==============================] - 0s 6ms/step - loss: 13.2367 - mse: 251.7197\n",
            "Epoch 249/500\n",
            "2/2 [==============================] - 0s 7ms/step - loss: 14.5070 - mse: 288.7692\n",
            "Epoch 250/500\n",
            "2/2 [==============================] - 0s 4ms/step - loss: 23.2322 - mse: 793.2501\n",
            "Epoch 251/500\n",
            "2/2 [==============================] - 0s 6ms/step - loss: 9.3009 - mse: 119.0357\n",
            "Epoch 252/500\n",
            "2/2 [==============================] - 0s 5ms/step - loss: 36.6569 - mse: 2195.6199\n",
            "Epoch 253/500\n",
            "2/2 [==============================] - 0s 5ms/step - loss: 21.8205 - mse: 667.9635\n",
            "Epoch 254/500\n",
            "2/2 [==============================] - 0s 12ms/step - loss: 7.2792 - mse: 77.8093\n",
            "Epoch 255/500\n",
            "2/2 [==============================] - 0s 6ms/step - loss: 24.7127 - mse: 882.9673\n",
            "Epoch 256/500\n",
            "2/2 [==============================] - 0s 4ms/step - loss: 12.4220 - mse: 220.3517\n",
            "Epoch 257/500\n",
            "2/2 [==============================] - 0s 5ms/step - loss: 10.5823 - mse: 164.0441\n",
            "Epoch 258/500\n",
            "2/2 [==============================] - 0s 8ms/step - loss: 14.4883 - mse: 322.3513\n",
            "Epoch 259/500\n",
            "2/2 [==============================] - 0s 8ms/step - loss: 8.6132 - mse: 98.6933\n",
            "Epoch 260/500\n",
            "2/2 [==============================] - 0s 4ms/step - loss: 43.0580 - mse: 2975.2346\n",
            "Epoch 261/500\n",
            "2/2 [==============================] - 0s 4ms/step - loss: 18.4611 - mse: 493.6666\n",
            "Epoch 262/500\n",
            "2/2 [==============================] - 0s 4ms/step - loss: 6.8820 - mse: 94.3408\n",
            "Epoch 263/500\n",
            "2/2 [==============================] - 0s 5ms/step - loss: 13.7211 - mse: 268.5678\n",
            "Epoch 264/500\n",
            "2/2 [==============================] - 0s 5ms/step - loss: 21.0154 - mse: 653.9615\n",
            "Epoch 265/500\n",
            "2/2 [==============================] - 0s 5ms/step - loss: 19.3731 - mse: 545.6251\n",
            "Epoch 266/500\n",
            "2/2 [==============================] - 0s 5ms/step - loss: 11.4735 - mse: 234.7203\n",
            "Epoch 267/500\n",
            "2/2 [==============================] - 0s 5ms/step - loss: 7.5302 - mse: 112.0907\n",
            "Epoch 268/500\n",
            "2/2 [==============================] - 0s 7ms/step - loss: 21.6453 - mse: 670.2253\n",
            "Epoch 269/500\n",
            "2/2 [==============================] - 0s 5ms/step - loss: 33.1785 - mse: 1653.7371\n",
            "Epoch 270/500\n",
            "2/2 [==============================] - 0s 6ms/step - loss: 10.0833 - mse: 148.7352\n",
            "Epoch 271/500\n",
            "2/2 [==============================] - 0s 5ms/step - loss: 12.1012 - mse: 303.1725\n",
            "Epoch 272/500\n",
            "2/2 [==============================] - 0s 13ms/step - loss: 26.1372 - mse: 944.6779\n",
            "Epoch 273/500\n",
            "2/2 [==============================] - 0s 6ms/step - loss: 12.1751 - mse: 228.8032\n",
            "Epoch 274/500\n",
            "2/2 [==============================] - 0s 6ms/step - loss: 13.3272 - mse: 282.3033\n",
            "Epoch 275/500\n",
            "2/2 [==============================] - 0s 7ms/step - loss: 29.3775 - mse: 1229.1165\n",
            "Epoch 276/500\n",
            "2/2 [==============================] - 0s 6ms/step - loss: 7.3329 - mse: 104.3416\n",
            "Epoch 277/500\n",
            "2/2 [==============================] - 0s 6ms/step - loss: 31.1362 - mse: 1360.7682\n",
            "Epoch 278/500\n",
            "2/2 [==============================] - 0s 5ms/step - loss: 12.3015 - mse: 234.6619\n",
            "Epoch 279/500\n",
            "2/2 [==============================] - 0s 5ms/step - loss: 16.4103 - mse: 416.9115\n",
            "Epoch 280/500\n",
            "2/2 [==============================] - 0s 6ms/step - loss: 21.9118 - mse: 716.7845\n",
            "Epoch 281/500\n",
            "2/2 [==============================] - 0s 7ms/step - loss: 22.1500 - mse: 745.2057\n",
            "Epoch 282/500\n",
            "2/2 [==============================] - 0s 5ms/step - loss: 7.7429 - mse: 90.5224\n",
            "Epoch 283/500\n",
            "2/2 [==============================] - 0s 9ms/step - loss: 8.1429 - mse: 87.9050\n",
            "Epoch 284/500\n",
            "2/2 [==============================] - 0s 5ms/step - loss: 24.9435 - mse: 936.1600\n",
            "Epoch 285/500\n",
            "2/2 [==============================] - 0s 10ms/step - loss: 13.6958 - mse: 299.3612\n",
            "Epoch 286/500\n",
            "2/2 [==============================] - 0s 11ms/step - loss: 6.8926 - mse: 81.2998\n",
            "Epoch 287/500\n",
            "2/2 [==============================] - 0s 5ms/step - loss: 24.5352 - mse: 862.2881\n",
            "Epoch 288/500\n",
            "2/2 [==============================] - 0s 6ms/step - loss: 20.1721 - mse: 605.2872\n",
            "Epoch 289/500\n",
            "2/2 [==============================] - 0s 5ms/step - loss: 11.9658 - mse: 244.8306\n",
            "Epoch 290/500\n",
            "2/2 [==============================] - 0s 6ms/step - loss: 16.5391 - mse: 366.5719\n",
            "Epoch 291/500\n",
            "2/2 [==============================] - 0s 8ms/step - loss: 16.8017 - mse: 414.8176\n",
            "Epoch 292/500\n",
            "2/2 [==============================] - 0s 6ms/step - loss: 9.4642 - mse: 213.4544\n",
            "Epoch 293/500\n",
            "2/2 [==============================] - 0s 5ms/step - loss: 15.2711 - mse: 318.1684\n",
            "Epoch 294/500\n",
            "2/2 [==============================] - 0s 6ms/step - loss: 22.7179 - mse: 780.8712\n",
            "Epoch 295/500\n",
            "2/2 [==============================] - 0s 6ms/step - loss: 17.9234 - mse: 458.5734\n",
            "Epoch 296/500\n",
            "2/2 [==============================] - 0s 6ms/step - loss: 6.1743 - mse: 59.0634\n",
            "Epoch 297/500\n",
            "2/2 [==============================] - 0s 6ms/step - loss: 10.9440 - mse: 254.2861\n",
            "Epoch 298/500\n",
            "2/2 [==============================] - 0s 5ms/step - loss: 23.1530 - mse: 785.9867\n",
            "Epoch 299/500\n",
            "2/2 [==============================] - 0s 5ms/step - loss: 17.7331 - mse: 469.9269\n",
            "Epoch 300/500\n",
            "2/2 [==============================] - 0s 7ms/step - loss: 6.9824 - mse: 65.0503\n",
            "Epoch 301/500\n",
            "2/2 [==============================] - 0s 5ms/step - loss: 25.1857 - mse: 898.2787\n",
            "Epoch 302/500\n",
            "2/2 [==============================] - 0s 4ms/step - loss: 8.9025 - mse: 116.0077\n",
            "Epoch 303/500\n",
            "2/2 [==============================] - 0s 6ms/step - loss: 17.7668 - mse: 461.9372\n",
            "Epoch 304/500\n",
            "2/2 [==============================] - 0s 4ms/step - loss: 11.0002 - mse: 173.9248\n",
            "Epoch 305/500\n",
            "2/2 [==============================] - 0s 5ms/step - loss: 12.9191 - mse: 271.8381\n",
            "Epoch 306/500\n",
            "2/2 [==============================] - 0s 5ms/step - loss: 8.4033 - mse: 94.4444\n",
            "Epoch 307/500\n",
            "2/2 [==============================] - 0s 6ms/step - loss: 13.6094 - mse: 279.1172\n",
            "Epoch 308/500\n",
            "2/2 [==============================] - 0s 9ms/step - loss: 7.4404 - mse: 78.3839\n",
            "Epoch 309/500\n",
            "2/2 [==============================] - 0s 9ms/step - loss: 9.4642 - mse: 138.8857\n",
            "Epoch 310/500\n",
            "2/2 [==============================] - 0s 11ms/step - loss: 10.7099 - mse: 198.2186\n",
            "Epoch 311/500\n",
            "2/2 [==============================] - 0s 7ms/step - loss: 13.2814 - mse: 254.2447\n",
            "Epoch 312/500\n",
            "2/2 [==============================] - 0s 6ms/step - loss: 29.9763 - mse: 1241.6274\n",
            "Epoch 313/500\n",
            "2/2 [==============================] - 0s 6ms/step - loss: 7.6304 - mse: 104.4100\n",
            "Epoch 314/500\n",
            "2/2 [==============================] - 0s 7ms/step - loss: 9.9106 - mse: 239.5555\n",
            "Epoch 315/500\n",
            "2/2 [==============================] - 0s 10ms/step - loss: 23.7669 - mse: 820.7438\n",
            "Epoch 316/500\n",
            "2/2 [==============================] - 0s 4ms/step - loss: 16.3936 - mse: 404.4794\n",
            "Epoch 317/500\n",
            "2/2 [==============================] - 0s 12ms/step - loss: 21.0758 - mse: 606.4601\n",
            "Epoch 318/500\n",
            "2/2 [==============================] - 0s 7ms/step - loss: 7.9367 - mse: 81.3764\n",
            "Epoch 319/500\n",
            "2/2 [==============================] - 0s 6ms/step - loss: 17.9731 - mse: 479.6088\n",
            "Epoch 320/500\n",
            "2/2 [==============================] - 0s 4ms/step - loss: 10.2375 - mse: 174.0453\n",
            "Epoch 321/500\n",
            "2/2 [==============================] - 0s 8ms/step - loss: 8.3338 - mse: 110.8493\n",
            "Epoch 322/500\n",
            "2/2 [==============================] - 0s 5ms/step - loss: 5.0621 - mse: 39.6195\n",
            "Epoch 323/500\n",
            "2/2 [==============================] - 0s 4ms/step - loss: 23.5109 - mse: 802.4886\n",
            "Epoch 324/500\n",
            "2/2 [==============================] - 0s 5ms/step - loss: 6.8309 - mse: 57.6745\n",
            "Epoch 325/500\n",
            "2/2 [==============================] - 0s 7ms/step - loss: 16.3862 - mse: 384.4402\n",
            "Epoch 326/500\n",
            "2/2 [==============================] - 0s 5ms/step - loss: 7.5019 - mse: 78.7650\n",
            "Epoch 327/500\n",
            "2/2 [==============================] - 0s 4ms/step - loss: 20.0573 - mse: 568.8234\n",
            "Epoch 328/500\n",
            "2/2 [==============================] - 0s 8ms/step - loss: 13.7661 - mse: 265.8647\n",
            "Epoch 329/500\n",
            "2/2 [==============================] - 0s 5ms/step - loss: 16.8282 - mse: 430.9922\n",
            "Epoch 330/500\n",
            "2/2 [==============================] - 0s 7ms/step - loss: 7.0514 - mse: 81.9922\n",
            "Epoch 331/500\n",
            "2/2 [==============================] - 0s 5ms/step - loss: 21.4846 - mse: 704.3914\n",
            "Epoch 332/500\n",
            "2/2 [==============================] - 0s 5ms/step - loss: 12.2880 - mse: 236.5700\n",
            "Epoch 333/500\n",
            "2/2 [==============================] - 0s 7ms/step - loss: 11.8117 - mse: 222.0919\n",
            "Epoch 334/500\n",
            "2/2 [==============================] - 0s 6ms/step - loss: 8.3600 - mse: 169.8893\n",
            "Epoch 335/500\n",
            "2/2 [==============================] - 0s 6ms/step - loss: 12.4833 - mse: 276.8588\n",
            "Epoch 336/500\n",
            "2/2 [==============================] - 0s 8ms/step - loss: 32.2171 - mse: 1416.1729\n",
            "Epoch 337/500\n",
            "2/2 [==============================] - 0s 8ms/step - loss: 10.4477 - mse: 180.3260\n",
            "Epoch 338/500\n",
            "2/2 [==============================] - 0s 5ms/step - loss: 19.6832 - mse: 573.4711\n",
            "Epoch 339/500\n",
            "2/2 [==============================] - 0s 13ms/step - loss: 35.0762 - mse: 1849.1533\n",
            "Epoch 340/500\n",
            "2/2 [==============================] - 0s 9ms/step - loss: 10.4192 - mse: 181.4144\n",
            "Epoch 341/500\n",
            "2/2 [==============================] - 0s 15ms/step - loss: 9.7625 - mse: 156.3228\n",
            "Epoch 342/500\n",
            "2/2 [==============================] - 0s 6ms/step - loss: 11.9500 - mse: 188.5579\n",
            "Epoch 343/500\n",
            "2/2 [==============================] - 0s 5ms/step - loss: 9.3943 - mse: 145.3950\n",
            "Epoch 344/500\n",
            "2/2 [==============================] - 0s 10ms/step - loss: 5.6071 - mse: 44.6761\n",
            "Epoch 345/500\n",
            "2/2 [==============================] - 0s 7ms/step - loss: 37.4875 - mse: 2291.7778\n",
            "Epoch 346/500\n",
            "2/2 [==============================] - 0s 8ms/step - loss: 16.8830 - mse: 411.1349\n",
            "Epoch 347/500\n",
            "2/2 [==============================] - 0s 4ms/step - loss: 12.8748 - mse: 281.5981\n",
            "Epoch 348/500\n",
            "2/2 [==============================] - 0s 6ms/step - loss: 8.1960 - mse: 162.6962\n",
            "Epoch 349/500\n",
            "2/2 [==============================] - 0s 5ms/step - loss: 13.5568 - mse: 261.1368\n",
            "Epoch 350/500\n",
            "2/2 [==============================] - 0s 11ms/step - loss: 15.4354 - mse: 333.2083\n",
            "Epoch 351/500\n",
            "2/2 [==============================] - 0s 5ms/step - loss: 32.9626 - mse: 1524.7935\n",
            "Epoch 352/500\n",
            "2/2 [==============================] - 0s 6ms/step - loss: 14.2040 - mse: 282.7507\n",
            "Epoch 353/500\n",
            "2/2 [==============================] - 0s 6ms/step - loss: 15.9196 - mse: 374.1917\n",
            "Epoch 354/500\n",
            "2/2 [==============================] - 0s 7ms/step - loss: 19.0878 - mse: 534.9773\n",
            "Epoch 355/500\n",
            "2/2 [==============================] - 0s 12ms/step - loss: 34.1178 - mse: 1782.7012\n",
            "Epoch 356/500\n",
            "2/2 [==============================] - 0s 6ms/step - loss: 7.6798 - mse: 90.9117\n",
            "Epoch 357/500\n",
            "2/2 [==============================] - 0s 9ms/step - loss: 25.2286 - mse: 974.0941\n",
            "Epoch 358/500\n",
            "2/2 [==============================] - 0s 9ms/step - loss: 22.6759 - mse: 742.0934\n",
            "Epoch 359/500\n",
            "2/2 [==============================] - 0s 11ms/step - loss: 8.8765 - mse: 198.2590\n",
            "Epoch 360/500\n",
            "2/2 [==============================] - 0s 8ms/step - loss: 21.4709 - mse: 687.3279\n",
            "Epoch 361/500\n",
            "2/2 [==============================] - 0s 5ms/step - loss: 20.6073 - mse: 616.7941\n",
            "Epoch 362/500\n",
            "2/2 [==============================] - 0s 11ms/step - loss: 7.0611 - mse: 69.3817\n",
            "Epoch 363/500\n",
            "2/2 [==============================] - 0s 7ms/step - loss: 25.8117 - mse: 994.8185\n",
            "Epoch 364/500\n",
            "2/2 [==============================] - 0s 5ms/step - loss: 32.2247 - mse: 1527.6057\n",
            "Epoch 365/500\n",
            "2/2 [==============================] - 0s 9ms/step - loss: 10.0204 - mse: 161.6847\n",
            "Epoch 366/500\n",
            "2/2 [==============================] - 0s 8ms/step - loss: 9.6722 - mse: 227.5722\n",
            "Epoch 367/500\n",
            "2/2 [==============================] - 0s 8ms/step - loss: 30.4171 - mse: 1294.6047\n",
            "Epoch 368/500\n",
            "2/2 [==============================] - 0s 9ms/step - loss: 10.5020 - mse: 236.3134\n",
            "Epoch 369/500\n",
            "2/2 [==============================] - 0s 8ms/step - loss: 14.9909 - mse: 330.8544\n",
            "Epoch 370/500\n",
            "2/2 [==============================] - 0s 11ms/step - loss: 14.6580 - mse: 308.0736\n",
            "Epoch 371/500\n",
            "2/2 [==============================] - 0s 8ms/step - loss: 23.3672 - mse: 789.0358\n",
            "Epoch 372/500\n",
            "2/2 [==============================] - 0s 17ms/step - loss: 13.1025 - mse: 290.2267\n",
            "Epoch 373/500\n",
            "2/2 [==============================] - 0s 8ms/step - loss: 9.2586 - mse: 140.7051\n",
            "Epoch 374/500\n",
            "2/2 [==============================] - 0s 8ms/step - loss: 9.6648 - mse: 194.1146\n",
            "Epoch 375/500\n",
            "2/2 [==============================] - 0s 7ms/step - loss: 13.0041 - mse: 237.9868\n",
            "Epoch 376/500\n",
            "2/2 [==============================] - 0s 9ms/step - loss: 14.8863 - mse: 324.7538\n",
            "Epoch 377/500\n",
            "2/2 [==============================] - 0s 5ms/step - loss: 14.7932 - mse: 297.2056\n",
            "Epoch 378/500\n",
            "2/2 [==============================] - 0s 8ms/step - loss: 16.2751 - mse: 418.5635\n",
            "Epoch 379/500\n",
            "2/2 [==============================] - 0s 10ms/step - loss: 20.8307 - mse: 596.8136\n",
            "Epoch 380/500\n",
            "2/2 [==============================] - 0s 9ms/step - loss: 33.5317 - mse: 1684.8926\n",
            "Epoch 381/500\n",
            "2/2 [==============================] - 0s 6ms/step - loss: 8.2166 - mse: 100.6384\n",
            "Epoch 382/500\n",
            "2/2 [==============================] - 0s 11ms/step - loss: 13.0959 - mse: 282.0380\n",
            "Epoch 383/500\n",
            "2/2 [==============================] - 0s 10ms/step - loss: 8.3999 - mse: 126.0928\n",
            "Epoch 384/500\n",
            "2/2 [==============================] - 0s 6ms/step - loss: 7.1283 - mse: 72.4398\n",
            "Epoch 385/500\n",
            "2/2 [==============================] - 0s 7ms/step - loss: 10.9391 - mse: 249.4375\n",
            "Epoch 386/500\n",
            "2/2 [==============================] - 0s 10ms/step - loss: 19.7654 - mse: 601.5797\n",
            "Epoch 387/500\n",
            "2/2 [==============================] - 0s 8ms/step - loss: 24.8625 - mse: 896.3683\n",
            "Epoch 388/500\n",
            "2/2 [==============================] - 0s 7ms/step - loss: 8.7422 - mse: 128.0916\n",
            "Epoch 389/500\n",
            "2/2 [==============================] - 0s 8ms/step - loss: 5.9488 - mse: 48.1567\n",
            "Epoch 390/500\n",
            "2/2 [==============================] - 0s 9ms/step - loss: 24.4400 - mse: 881.1030\n",
            "Epoch 391/500\n",
            "2/2 [==============================] - 0s 5ms/step - loss: 5.9771 - mse: 73.2800\n",
            "Epoch 392/500\n",
            "2/2 [==============================] - 0s 8ms/step - loss: 16.3250 - mse: 379.2589\n",
            "Epoch 393/500\n",
            "2/2 [==============================] - 0s 7ms/step - loss: 6.0917 - mse: 76.7833\n",
            "Epoch 394/500\n",
            "2/2 [==============================] - 0s 9ms/step - loss: 11.0963 - mse: 204.7648\n",
            "Epoch 395/500\n",
            "2/2 [==============================] - 0s 9ms/step - loss: 14.9601 - mse: 336.1562\n",
            "Epoch 396/500\n",
            "2/2 [==============================] - 0s 4ms/step - loss: 7.6462 - mse: 103.3247\n",
            "Epoch 397/500\n",
            "2/2 [==============================] - 0s 9ms/step - loss: 8.7654 - mse: 136.5432\n",
            "Epoch 398/500\n",
            "2/2 [==============================] - 0s 9ms/step - loss: 14.5991 - mse: 320.4533\n",
            "Epoch 399/500\n",
            "2/2 [==============================] - 0s 6ms/step - loss: 11.3166 - mse: 280.6887\n",
            "Epoch 400/500\n",
            "2/2 [==============================] - 0s 4ms/step - loss: 21.9080 - mse: 741.3465\n",
            "Epoch 401/500\n",
            "2/2 [==============================] - 0s 7ms/step - loss: 14.8653 - mse: 348.6716\n",
            "Epoch 402/500\n",
            "2/2 [==============================] - 0s 5ms/step - loss: 8.4970 - mse: 115.5853\n",
            "Epoch 403/500\n",
            "2/2 [==============================] - 0s 13ms/step - loss: 10.3957 - mse: 191.0401\n",
            "Epoch 404/500\n",
            "2/2 [==============================] - 0s 7ms/step - loss: 10.2556 - mse: 207.5717\n",
            "Epoch 405/500\n",
            "2/2 [==============================] - 0s 10ms/step - loss: 6.3392 - mse: 68.2857\n",
            "Epoch 406/500\n",
            "2/2 [==============================] - 0s 9ms/step - loss: 17.4602 - mse: 460.2043\n",
            "Epoch 407/500\n",
            "2/2 [==============================] - 0s 6ms/step - loss: 11.4627 - mse: 284.7275\n",
            "Epoch 408/500\n",
            "2/2 [==============================] - 0s 6ms/step - loss: 20.7294 - mse: 662.1503\n",
            "Epoch 409/500\n",
            "2/2 [==============================] - 0s 7ms/step - loss: 31.3338 - mse: 1522.7665\n",
            "Epoch 410/500\n",
            "2/2 [==============================] - 0s 8ms/step - loss: 9.2542 - mse: 221.9485\n",
            "Epoch 411/500\n",
            "2/2 [==============================] - 0s 11ms/step - loss: 14.8621 - mse: 285.8416\n",
            "Epoch 412/500\n",
            "2/2 [==============================] - 0s 18ms/step - loss: 21.7182 - mse: 721.0394\n",
            "Epoch 413/500\n",
            "2/2 [==============================] - 0s 8ms/step - loss: 12.6615 - mse: 248.9691\n",
            "Epoch 414/500\n",
            "2/2 [==============================] - 0s 4ms/step - loss: 6.0687 - mse: 88.3708\n",
            "Epoch 415/500\n",
            "2/2 [==============================] - 0s 5ms/step - loss: 13.2201 - mse: 239.8954\n",
            "Epoch 416/500\n",
            "2/2 [==============================] - 0s 9ms/step - loss: 27.4244 - mse: 1037.9583\n",
            "Epoch 417/500\n",
            "2/2 [==============================] - 0s 13ms/step - loss: 10.6407 - mse: 207.4819\n",
            "Epoch 418/500\n",
            "2/2 [==============================] - 0s 12ms/step - loss: 12.8230 - mse: 236.7907\n",
            "Epoch 419/500\n",
            "2/2 [==============================] - 0s 8ms/step - loss: 15.8836 - mse: 374.5484\n",
            "Epoch 420/500\n",
            "2/2 [==============================] - 0s 4ms/step - loss: 24.7510 - mse: 849.5331\n",
            "Epoch 421/500\n",
            "2/2 [==============================] - 0s 9ms/step - loss: 17.3753 - mse: 444.1827\n",
            "Epoch 422/500\n",
            "2/2 [==============================] - 0s 6ms/step - loss: 7.8241 - mse: 157.5327\n",
            "Epoch 423/500\n",
            "2/2 [==============================] - 0s 11ms/step - loss: 25.3789 - mse: 907.6141\n",
            "Epoch 424/500\n",
            "2/2 [==============================] - 0s 7ms/step - loss: 15.1031 - mse: 369.3289\n",
            "Epoch 425/500\n",
            "2/2 [==============================] - 0s 8ms/step - loss: 7.1643 - mse: 75.3718\n",
            "Epoch 426/500\n",
            "2/2 [==============================] - 0s 7ms/step - loss: 20.3318 - mse: 572.0350\n",
            "Epoch 427/500\n",
            "2/2 [==============================] - 0s 6ms/step - loss: 6.3283 - mse: 84.9745\n",
            "Epoch 428/500\n",
            "2/2 [==============================] - 0s 5ms/step - loss: 12.9961 - mse: 288.4218\n",
            "Epoch 429/500\n",
            "2/2 [==============================] - 0s 5ms/step - loss: 10.7869 - mse: 192.7742\n",
            "Epoch 430/500\n",
            "2/2 [==============================] - 0s 8ms/step - loss: 11.4007 - mse: 248.2724\n",
            "Epoch 431/500\n",
            "2/2 [==============================] - 0s 4ms/step - loss: 10.6152 - mse: 218.3398\n",
            "Epoch 432/500\n",
            "2/2 [==============================] - 0s 5ms/step - loss: 11.4582 - mse: 239.2198\n",
            "Epoch 433/500\n",
            "2/2 [==============================] - 0s 13ms/step - loss: 11.3851 - mse: 296.6782\n",
            "Epoch 434/500\n",
            "2/2 [==============================] - 0s 11ms/step - loss: 30.3986 - mse: 1296.5632\n",
            "Epoch 435/500\n",
            "2/2 [==============================] - 0s 7ms/step - loss: 10.5052 - mse: 283.6812\n",
            "Epoch 436/500\n",
            "2/2 [==============================] - 0s 5ms/step - loss: 28.8810 - mse: 1216.2338\n",
            "Epoch 437/500\n",
            "2/2 [==============================] - 0s 12ms/step - loss: 8.5916 - mse: 209.5433\n",
            "Epoch 438/500\n",
            "2/2 [==============================] - 0s 6ms/step - loss: 12.7378 - mse: 264.4511\n",
            "Epoch 439/500\n",
            "2/2 [==============================] - 0s 12ms/step - loss: 33.6754 - mse: 1570.2360\n",
            "Epoch 440/500\n",
            "2/2 [==============================] - 0s 4ms/step - loss: 15.0963 - mse: 294.7131\n",
            "Epoch 441/500\n",
            "2/2 [==============================] - 0s 9ms/step - loss: 17.4813 - mse: 487.0571\n",
            "Epoch 442/500\n",
            "2/2 [==============================] - 0s 17ms/step - loss: 22.3049 - mse: 750.9304\n",
            "Epoch 443/500\n",
            "2/2 [==============================] - 0s 8ms/step - loss: 23.5841 - mse: 784.1384\n",
            "Epoch 444/500\n",
            "2/2 [==============================] - 0s 8ms/step - loss: 11.0008 - mse: 203.7584\n",
            "Epoch 445/500\n",
            "2/2 [==============================] - 0s 8ms/step - loss: 14.9175 - mse: 316.4789\n",
            "Epoch 446/500\n",
            "2/2 [==============================] - 0s 8ms/step - loss: 17.9979 - mse: 515.1711\n",
            "Epoch 447/500\n",
            "2/2 [==============================] - 0s 5ms/step - loss: 5.4482 - mse: 51.4485\n",
            "Epoch 448/500\n",
            "2/2 [==============================] - 0s 7ms/step - loss: 10.0527 - mse: 253.4829\n",
            "Epoch 449/500\n",
            "2/2 [==============================] - 0s 6ms/step - loss: 14.0052 - mse: 277.3353\n",
            "Epoch 450/500\n",
            "2/2 [==============================] - 0s 6ms/step - loss: 16.7782 - mse: 424.4228\n",
            "Epoch 451/500\n",
            "2/2 [==============================] - 0s 8ms/step - loss: 14.2937 - mse: 303.4477\n",
            "Epoch 452/500\n",
            "2/2 [==============================] - 0s 4ms/step - loss: 30.6193 - mse: 1329.8265\n",
            "Epoch 453/500\n",
            "2/2 [==============================] - 0s 13ms/step - loss: 7.6541 - mse: 159.0377\n",
            "Epoch 454/500\n",
            "2/2 [==============================] - 0s 7ms/step - loss: 28.1428 - mse: 1104.4141\n",
            "Epoch 455/500\n",
            "2/2 [==============================] - 0s 5ms/step - loss: 8.0017 - mse: 119.3275\n",
            "Epoch 456/500\n",
            "2/2 [==============================] - 0s 15ms/step - loss: 10.3933 - mse: 289.6392\n",
            "Epoch 457/500\n",
            "2/2 [==============================] - 0s 7ms/step - loss: 15.0242 - mse: 318.3535\n",
            "Epoch 458/500\n",
            "2/2 [==============================] - 0s 11ms/step - loss: 16.5653 - mse: 439.8006\n",
            "Epoch 459/500\n",
            "2/2 [==============================] - 0s 8ms/step - loss: 26.8566 - mse: 1033.5485\n",
            "Epoch 460/500\n",
            "2/2 [==============================] - 0s 7ms/step - loss: 12.4852 - mse: 251.1162\n",
            "Epoch 461/500\n",
            "2/2 [==============================] - 0s 11ms/step - loss: 12.4784 - mse: 272.9072\n",
            "Epoch 462/500\n",
            "2/2 [==============================] - 0s 5ms/step - loss: 13.3186 - mse: 245.2334\n",
            "Epoch 463/500\n",
            "2/2 [==============================] - 0s 5ms/step - loss: 29.5524 - mse: 1219.8658\n",
            "Epoch 464/500\n",
            "2/2 [==============================] - 0s 11ms/step - loss: 3.4664 - mse: 22.0145\n",
            "Epoch 465/500\n",
            "2/2 [==============================] - 0s 5ms/step - loss: 15.2136 - mse: 352.9367\n",
            "Epoch 466/500\n",
            "2/2 [==============================] - 0s 3ms/step - loss: 20.8327 - mse: 651.1591\n",
            "Epoch 467/500\n",
            "2/2 [==============================] - 0s 5ms/step - loss: 30.5108 - mse: 1421.0021\n",
            "Epoch 468/500\n",
            "2/2 [==============================] - 0s 3ms/step - loss: 11.0597 - mse: 236.2267\n",
            "Epoch 469/500\n",
            "2/2 [==============================] - 0s 7ms/step - loss: 12.8372 - mse: 278.2046\n",
            "Epoch 470/500\n",
            "2/2 [==============================] - 0s 6ms/step - loss: 3.2398 - mse: 14.0655\n",
            "Epoch 471/500\n",
            "2/2 [==============================] - 0s 4ms/step - loss: 16.6964 - mse: 372.9565\n",
            "Epoch 472/500\n",
            "2/2 [==============================] - 0s 8ms/step - loss: 13.3883 - mse: 253.4232\n",
            "Epoch 473/500\n",
            "2/2 [==============================] - 0s 5ms/step - loss: 15.2771 - mse: 396.6107\n",
            "Epoch 474/500\n",
            "2/2 [==============================] - 0s 6ms/step - loss: 11.7448 - mse: 305.3250\n",
            "Epoch 475/500\n",
            "2/2 [==============================] - 0s 10ms/step - loss: 16.4113 - mse: 397.1612\n",
            "Epoch 476/500\n",
            "2/2 [==============================] - 0s 4ms/step - loss: 13.8785 - mse: 273.7976\n",
            "Epoch 477/500\n",
            "2/2 [==============================] - 0s 7ms/step - loss: 30.6702 - mse: 1309.4624\n",
            "Epoch 478/500\n",
            "2/2 [==============================] - 0s 8ms/step - loss: 8.5880 - mse: 188.9073\n",
            "Epoch 479/500\n",
            "2/2 [==============================] - 0s 5ms/step - loss: 10.7384 - mse: 261.5204\n",
            "Epoch 480/500\n",
            "2/2 [==============================] - 0s 5ms/step - loss: 17.9051 - mse: 484.4154\n",
            "Epoch 481/500\n",
            "2/2 [==============================] - 0s 4ms/step - loss: 15.8095 - mse: 368.1044\n",
            "Epoch 482/500\n",
            "2/2 [==============================] - 0s 10ms/step - loss: 21.3054 - mse: 698.1635\n",
            "Epoch 483/500\n",
            "2/2 [==============================] - 0s 6ms/step - loss: 25.3845 - mse: 955.1252\n",
            "Epoch 484/500\n",
            "2/2 [==============================] - 0s 6ms/step - loss: 23.9815 - mse: 811.2784\n",
            "Epoch 485/500\n",
            "2/2 [==============================] - 0s 15ms/step - loss: 5.7734 - mse: 53.7612\n",
            "Epoch 486/500\n",
            "2/2 [==============================] - 0s 10ms/step - loss: 20.0010 - mse: 565.2877\n",
            "Epoch 487/500\n",
            "2/2 [==============================] - 0s 11ms/step - loss: 14.0419 - mse: 286.2685\n",
            "Epoch 488/500\n",
            "2/2 [==============================] - 0s 11ms/step - loss: 30.6088 - mse: 1334.5730\n",
            "Epoch 489/500\n",
            "2/2 [==============================] - 0s 9ms/step - loss: 11.9409 - mse: 237.4729\n",
            "Epoch 490/500\n",
            "2/2 [==============================] - 0s 7ms/step - loss: 12.7352 - mse: 252.5674\n",
            "Epoch 491/500\n",
            "2/2 [==============================] - 0s 14ms/step - loss: 23.6139 - mse: 837.7736\n",
            "Epoch 492/500\n",
            "2/2 [==============================] - 0s 11ms/step - loss: 20.5365 - mse: 592.2184\n",
            "Epoch 493/500\n",
            "2/2 [==============================] - 0s 11ms/step - loss: 4.9942 - mse: 48.0282\n",
            "Epoch 494/500\n",
            "2/2 [==============================] - 0s 7ms/step - loss: 12.7986 - mse: 247.7646\n",
            "Epoch 495/500\n",
            "2/2 [==============================] - 0s 6ms/step - loss: 13.3772 - mse: 239.0901\n",
            "Epoch 496/500\n",
            "2/2 [==============================] - 0s 5ms/step - loss: 12.6727 - mse: 241.5637\n",
            "Epoch 497/500\n",
            "2/2 [==============================] - 0s 7ms/step - loss: 17.6192 - mse: 515.3861\n",
            "Epoch 498/500\n",
            "2/2 [==============================] - 0s 6ms/step - loss: 23.5629 - mse: 816.5496\n",
            "Epoch 499/500\n",
            "2/2 [==============================] - 0s 4ms/step - loss: 9.3755 - mse: 136.1006\n",
            "Epoch 500/500\n",
            "2/2 [==============================] - 0s 5ms/step - loss: 14.6316 - mse: 295.2644\n"
          ],
          "name": "stdout"
        },
        {
          "output_type": "execute_result",
          "data": {
            "text/plain": [
              "<tensorflow.python.keras.callbacks.History at 0x7fb0ba354910>"
            ]
          },
          "metadata": {
            "tags": []
          },
          "execution_count": 52
        }
      ]
    },
    {
      "cell_type": "code",
      "metadata": {
        "colab": {
          "base_uri": "https://localhost:8080/",
          "height": 428
        },
        "id": "5jMCuuM2R0Fv",
        "outputId": "795ffe5b-a24c-4ddb-d86b-21442fb99cfa"
      },
      "source": [
        "# Make and plot predictiosn for Model_3\n",
        "y_preds_3 = model_3.predict(X_test)\n",
        "plot_predictions(predictions=y_preds_3)"
      ],
      "execution_count": 53,
      "outputs": [
        {
          "output_type": "display_data",
          "data": {
            "image/png": "[encoded data removed]",
            "text/plain": [
              "<Figure size 720x504 with 1 Axes>"
            ]
          },
          "metadata": {
            "tags": [],
            "needs_background": "light"
          }
        }
      ]
    },
    {
      "cell_type": "code",
      "metadata": {
        "colab": {
          "base_uri": "https://localhost:8080/"
        },
        "id": "64UJ22XgSLfB",
        "outputId": "f9c95cb7-03ba-4ad7-ed4a-da3da5fde6b3"
      },
      "source": [
        "# Calculate the Model_3 evaluation metrics\n",
        "mae_3 = mae(y_test, y_preds_3)\n",
        "mse_3 = mse(y_test, y_preds_3)\n",
        "mae_3, mse_3"
      ],
      "execution_count": 54,
      "outputs": [
        {
          "output_type": "execute_result",
          "data": {
            "text/plain": [
              "(<tf.Tensor: shape=(), dtype=float32, numpy=68.71362>,\n",
              " <tf.Tensor: shape=(), dtype=float32, numpy=4808.0283>)"
            ]
          },
          "metadata": {
            "tags": []
          },
          "execution_count": 54
        }
      ]
    },
    {
      "cell_type": "markdown",
      "metadata": {
        "id": "PlQwQb8-Sp1v"
      },
      "source": [
        "### Comparing the results of our experiments\n",
        "\n",
        "We've run some experiments, now let's compare the results"
      ]
    },
    {
      "cell_type": "code",
      "metadata": {
        "colab": {
          "base_uri": "https://localhost:8080/",
          "height": 142
        },
        "id": "l93-hcKrUJf2",
        "outputId": "f63d8546-ff5b-4214-9158-7b13b82d3890"
      },
      "source": [
        "# Let's compare our models results using a pandas DataFrame\n",
        "import pandas as pd\n",
        "\n",
        "model_results = [[\"Model_1\", mae_1.numpy(), mse_1.numpy()],\n",
        "                 [\"Model_2\", mae_2.numpy(), mse_2.numpy()],\n",
        "                 [\"Model_3\", mae_3.numpy(), mse_3.numpy()]]\n",
        "\n",
        "all_results = pd.DataFrame(model_results, columns=[\"Model\", \"MAE\", \"MSE\"])\n",
        "all_results"
      ],
      "execution_count": 55,
      "outputs": [
        {
          "output_type": "execute_result",
          "data": {
            "text/html": [
              "<div>\n",
              "<style scoped>\n",
              "    .dataframe tbody tr th:only-of-type {\n",
              "        vertical-align: middle;\n",
              "    }\n",
              "\n",
              "    .dataframe tbody tr th {\n",
              "        vertical-align: top;\n",
              "    }\n",
              "\n",
              "    .dataframe thead th {\n",
              "        text-align: right;\n",
              "    }\n",
              "</style>\n",
              "<table border=\"1\" class=\"dataframe\">\n",
              "  <thead>\n",
              "    <tr style=\"text-align: right;\">\n",
              "      <th></th>\n",
              "      <th>Model</th>\n",
              "      <th>MAE</th>\n",
              "      <th>MSE</th>\n",
              "    </tr>\n",
              "  </thead>\n",
              "  <tbody>\n",
              "    <tr>\n",
              "      <th>0</th>\n",
              "      <td>Model_1</td>\n",
              "      <td>18.745327</td>\n",
              "      <td>353.573395</td>\n",
              "    </tr>\n",
              "    <tr>\n",
              "      <th>1</th>\n",
              "      <td>Model_2</td>\n",
              "      <td>3.196947</td>\n",
              "      <td>13.070175</td>\n",
              "    </tr>\n",
              "    <tr>\n",
              "      <th>2</th>\n",
              "      <td>Model_3</td>\n",
              "      <td>68.713623</td>\n",
              "      <td>4808.028320</td>\n",
              "    </tr>\n",
              "  </tbody>\n",
              "</table>\n",
              "</div>"
            ],
            "text/plain": [
              "     Model        MAE          MSE\n",
              "0  Model_1  18.745327   353.573395\n",
              "1  Model_2   3.196947    13.070175\n",
              "2  Model_3  68.713623  4808.028320"
            ]
          },
          "metadata": {
            "tags": []
          },
          "execution_count": 55
        }
      ]
    },
    {
      "cell_type": "markdown",
      "metadata": {
        "id": "obaNtexXXSzR"
      },
      "source": [
        "## Tracking your experiments\n",
        "\n",
        "One really good habit in machine learning modelling is to track the results of your experiments.\n",
        "\n",
        "Luckily there are tools to help!\n",
        "\n",
        "* **TensorBoard** - a component of the TensorFlow library to help track modelling experiments.\n",
        "* **Weights & Biases** - a tool for tracking all kinds of machine learning experiments (plugs straight into TensorBoard)."
      ]
    },
    {
      "cell_type": "markdown",
      "metadata": {
        "id": "QSRW375eVrRA"
      },
      "source": [
        "## Saving our models\n",
        "\n",
        "Saving our models allows us to use them outside of google colab (or wherever they were trained) such as in a web or mobile application.\n",
        "\n",
        "There are 2 main formats we can save our models too:\n",
        "\n",
        "1. The SavedModel format.\n",
        "2. The HDF5 format."
      ]
    },
    {
      "cell_type": "code",
      "metadata": {
        "id": "c_2ZaRaiXGsW",
        "colab": {
          "base_uri": "https://localhost:8080/"
        },
        "outputId": "74d8e46d-dcf1-41c2-a3b1-bd487f5a56fa"
      },
      "source": [
        "# Save model using the SavedModel fornat\n",
        "model_2.save(\"best_model_SavedModel_format\")"
      ],
      "execution_count": 56,
      "outputs": [
        {
          "output_type": "stream",
          "text": [
            "INFO:tensorflow:Assets written to: best_model_SavedModel_format/assets\n"
          ],
          "name": "stdout"
        }
      ]
    },
    {
      "cell_type": "code",
      "metadata": {
        "id": "5l4U-721FHLD"
      },
      "source": [
        "# Save model using the HDF5 format\n",
        "model_2.save(\"best_model_HDF5_format.h5\")"
      ],
      "execution_count": 57,
      "outputs": []
    },
    {
      "cell_type": "markdown",
      "metadata": {
        "id": "btY9vxRgFwXu"
      },
      "source": [
        "## Loading in a saved model"
      ]
    },
    {
      "cell_type": "code",
      "metadata": {
        "colab": {
          "base_uri": "https://localhost:8080/"
        },
        "id": "9N-UyCi-GNv4",
        "outputId": "bd4ebc99-d27a-4680-bdd7-dd3a5c3f6c04"
      },
      "source": [
        "# Load in the SavedModel format\n",
        "loaded_SavedModel_format = tf.keras.models.load_model(\"best_model_SavedModel_format\")\n",
        "loaded_SavedModel_format.summary()"
      ],
      "execution_count": 58,
      "outputs": [
        {
          "output_type": "stream",
          "text": [
            "Model: \"sequential_5\"\n",
            "_________________________________________________________________\n",
            "Layer (type)                 Output Shape              Param #   \n",
            "=================================================================\n",
            "dense_6 (Dense)              (None, 10)                20        \n",
            "_________________________________________________________________\n",
            "dense_7 (Dense)              (None, 1)                 11        \n",
            "=================================================================\n",
            "Total params: 31\n",
            "Trainable params: 31\n",
            "Non-trainable params: 0\n",
            "_________________________________________________________________\n"
          ],
          "name": "stdout"
        }
      ]
    },
    {
      "cell_type": "code",
      "metadata": {
        "colab": {
          "base_uri": "https://localhost:8080/"
        },
        "id": "xKZh_2AdG390",
        "outputId": "3e4dceed-1230-4e31-82fd-983aa87e21c6"
      },
      "source": [
        "model_2.summary()"
      ],
      "execution_count": 59,
      "outputs": [
        {
          "output_type": "stream",
          "text": [
            "Model: \"sequential_5\"\n",
            "_________________________________________________________________\n",
            "Layer (type)                 Output Shape              Param #   \n",
            "=================================================================\n",
            "dense_6 (Dense)              (None, 10)                20        \n",
            "_________________________________________________________________\n",
            "dense_7 (Dense)              (None, 1)                 11        \n",
            "=================================================================\n",
            "Total params: 31\n",
            "Trainable params: 31\n",
            "Non-trainable params: 0\n",
            "_________________________________________________________________\n"
          ],
          "name": "stdout"
        }
      ]
    },
    {
      "cell_type": "code",
      "metadata": {
        "colab": {
          "base_uri": "https://localhost:8080/"
        },
        "id": "BjSU31fcG7sI",
        "outputId": "a7345f1f-bf04-4925-d791-92e501c08b22"
      },
      "source": [
        "# Compare model_2 predictions with SavedModel format predictions\n",
        "model_2_preds = model_2.predict(X_test)\n",
        "loaded_SavedModel_format_preds = loaded_SavedModel_format.predict(X_test)\n",
        "model_2_preds == loaded_SavedModel_format_preds"
      ],
      "execution_count": 60,
      "outputs": [
        {
          "output_type": "execute_result",
          "data": {
            "text/plain": [
              "array([[ True],\n",
              "       [ True],\n",
              "       [ True],\n",
              "       [ True],\n",
              "       [ True],\n",
              "       [ True],\n",
              "       [ True],\n",
              "       [ True],\n",
              "       [ True],\n",
              "       [ True]])"
            ]
          },
          "metadata": {
            "tags": []
          },
          "execution_count": 60
        }
      ]
    },
    {
      "cell_type": "code",
      "metadata": {
        "colab": {
          "base_uri": "https://localhost:8080/"
        },
        "id": "LgVNyKirKISC",
        "outputId": "2d9f75a4-44ec-43e3-fb09-b56b027fc0f8"
      },
      "source": [
        "# Compare the MAE of model_2_preds and loaded_SavedModel_preds\n",
        "mae(y_true=y_test, y_pred=model_2_preds) == mae(y_true=y_test, y_pred=loaded_SavedModel_format_preds)"
      ],
      "execution_count": 61,
      "outputs": [
        {
          "output_type": "execute_result",
          "data": {
            "text/plain": [
              "<tf.Tensor: shape=(), dtype=bool, numpy=True>"
            ]
          },
          "metadata": {
            "tags": []
          },
          "execution_count": 61
        }
      ]
    },
    {
      "cell_type": "code",
      "metadata": {
        "colab": {
          "base_uri": "https://localhost:8080/"
        },
        "id": "zjkgv8qmHrDc",
        "outputId": "05a829ad-a0a5-4e8f-9614-0ebf5871b472"
      },
      "source": [
        "# Load in the HDF5 format model\n",
        "loaded_h5_model = tf.keras.models.load_model(\"best_model_HDF5_format.h5\")\n",
        "loaded_h5_model.summary()"
      ],
      "execution_count": 62,
      "outputs": [
        {
          "output_type": "stream",
          "text": [
            "Model: \"sequential_5\"\n",
            "_________________________________________________________________\n",
            "Layer (type)                 Output Shape              Param #   \n",
            "=================================================================\n",
            "dense_6 (Dense)              (None, 10)                20        \n",
            "_________________________________________________________________\n",
            "dense_7 (Dense)              (None, 1)                 11        \n",
            "=================================================================\n",
            "Total params: 31\n",
            "Trainable params: 31\n",
            "Non-trainable params: 0\n",
            "_________________________________________________________________\n"
          ],
          "name": "stdout"
        }
      ]
    },
    {
      "cell_type": "code",
      "metadata": {
        "colab": {
          "base_uri": "https://localhost:8080/"
        },
        "id": "lExCUOMQIzXU",
        "outputId": "ed3f5849-02c5-453f-efdb-f87c9e29a5bf"
      },
      "source": [
        "# Compare the model_2 predictions with the HDF5 format predictions\n",
        "model_2_preds = model_2.predict(X_test)\n",
        "loaded_h5_model_preds = loaded_h5_model.predict(X_test)\n",
        "model_2_preds == loaded_h5_model_preds"
      ],
      "execution_count": 63,
      "outputs": [
        {
          "output_type": "execute_result",
          "data": {
            "text/plain": [
              "array([[ True],\n",
              "       [ True],\n",
              "       [ True],\n",
              "       [ True],\n",
              "       [ True],\n",
              "       [ True],\n",
              "       [ True],\n",
              "       [ True],\n",
              "       [ True],\n",
              "       [ True]])"
            ]
          },
          "metadata": {
            "tags": []
          },
          "execution_count": 63
        }
      ]
    },
    {
      "cell_type": "markdown",
      "metadata": {
        "id": "uTPTYNzIJ5PG"
      },
      "source": [
        "## Download a model (or any other file) from Google Colab\n",
        "\n",
        "If you want to download your files from Google Colab:\n",
        "1. You can go to the \"files\" tab and right click on the file you're after and click \"Download\".\n",
        "2. Use code (see the cell below).\n",
        "3. Save it to Google Drive by connecting Google Drive and copying it there (see 2nd code cell below)."
      ]
    },
    {
      "cell_type": "code",
      "metadata": {
        "colab": {
          "base_uri": "https://localhost:8080/",
          "height": 34
        },
        "id": "73HreV0QLvxa",
        "outputId": "3ebdf3ce-f280-4381-e0c8-2717e0efc31e"
      },
      "source": [
        "# Download a file from Google Colab\n",
        "from google.colab import files\n",
        "files.download(\"/content/best_model_HDF5_format.h5\")"
      ],
      "execution_count": 64,
      "outputs": [
        {
          "output_type": "display_data",
          "data": {
            "application/javascript": [
              "\n",
              "    async function download(id, filename, size) {\n",
              "      if (!google.colab.kernel.accessAllowed) {\n",
              "        return;\n",
              "      }\n",
              "      const div = document.createElement('div');\n",
              "      const label = document.createElement('label');\n",
              "      label.textContent = `Downloading \"${filename}\": `;\n",
              "      div.appendChild(label);\n",
              "      const progress = document.createElement('progress');\n",
              "      progress.max = size;\n",
              "      div.appendChild(progress);\n",
              "      document.body.appendChild(div);\n",
              "\n",
              "      const buffers = [];\n",
              "      let downloaded = 0;\n",
              "\n",
              "      const channel = await google.colab.kernel.comms.open(id);\n",
              "      // Send a message to notify the kernel that we're ready.\n",
              "      channel.send({})\n",
              "\n",
              "      for await (const message of channel.messages) {\n",
              "        // Send a message to notify the kernel that we're ready.\n",
              "        channel.send({})\n",
              "        if (message.buffers) {\n",
              "          for (const buffer of message.buffers) {\n",
              "            buffers.push(buffer);\n",
              "            downloaded += buffer.byteLength;\n",
              "            progress.value = downloaded;\n",
              "          }\n",
              "        }\n",
              "      }\n",
              "      const blob = new Blob(buffers, {type: 'application/binary'});\n",
              "      const a = document.createElement('a');\n",
              "      a.href = window.URL.createObjectURL(blob);\n",
              "      a.download = filename;\n",
              "      div.appendChild(a);\n",
              "      a.click();\n",
              "      div.remove();\n",
              "    }\n",
              "  "
            ],
            "text/plain": [
              "<IPython.core.display.Javascript object>"
            ]
          },
          "metadata": {
            "tags": []
          }
        },
        {
          "output_type": "display_data",
          "data": {
            "application/javascript": [
              "download(\"download_81749d4c-8c5c-49d7-b8f8-2af79497a390\", \"best_model_HDF5_format.h5\", 17040)"
            ],
            "text/plain": [
              "<IPython.core.display.Javascript object>"
            ]
          },
          "metadata": {
            "tags": []
          }
        }
      ]
    },
    {
      "cell_type": "code",
      "metadata": {
        "id": "ZR1f4_HgMIVR"
      },
      "source": [
        "# Save a file from Google Colab to Google Drive (requires mounting Google Drive, click drive icon in the files tab on the left)\n",
        "!cp best_model_HDF5_format.h5 \"/content/drive/MyDrive/Colab Notebooks\""
      ],
      "execution_count": 65,
      "outputs": []
    },
    {
      "cell_type": "markdown",
      "metadata": {
        "id": "lF-thbQyNVHM"
      },
      "source": [
        "# A larger example"
      ]
    },
    {
      "cell_type": "code",
      "metadata": {
        "id": "tpFrVNVZOiuO"
      },
      "source": [
        "# Import required libraries\n",
        "import tensorflow as tf\n",
        "import pandas as pd\n",
        "import matplotlib.pyplot as plt"
      ],
      "execution_count": 66,
      "outputs": []
    },
    {
      "cell_type": "code",
      "metadata": {
        "colab": {
          "base_uri": "https://localhost:8080/",
          "height": 419
        },
        "id": "Yw5yD94FR2v_",
        "outputId": "d62006b6-6fe1-4655-c80f-38375ad75cdf"
      },
      "source": [
        "# Read in the insurance dataset\n",
        "insurance = pd.read_csv(\"https://raw.githubusercontent.com/stedy/Machine-Learning-with-R-datasets/master/insurance.csv\")\n",
        "insurance"
      ],
      "execution_count": 67,
      "outputs": [
        {
          "output_type": "execute_result",
          "data": {
            "text/html": [
              "<div>\n",
              "<style scoped>\n",
              "    .dataframe tbody tr th:only-of-type {\n",
              "        vertical-align: middle;\n",
              "    }\n",
              "\n",
              "    .dataframe tbody tr th {\n",
              "        vertical-align: top;\n",
              "    }\n",
              "\n",
              "    .dataframe thead th {\n",
              "        text-align: right;\n",
              "    }\n",
              "</style>\n",
              "<table border=\"1\" class=\"dataframe\">\n",
              "  <thead>\n",
              "    <tr style=\"text-align: right;\">\n",
              "      <th></th>\n",
              "      <th>age</th>\n",
              "      <th>sex</th>\n",
              "      <th>bmi</th>\n",
              "      <th>children</th>\n",
              "      <th>smoker</th>\n",
              "      <th>region</th>\n",
              "      <th>charges</th>\n",
              "    </tr>\n",
              "  </thead>\n",
              "  <tbody>\n",
              "    <tr>\n",
              "      <th>0</th>\n",
              "      <td>19</td>\n",
              "      <td>female</td>\n",
              "      <td>27.900</td>\n",
              "      <td>0</td>\n",
              "      <td>yes</td>\n",
              "      <td>southwest</td>\n",
              "      <td>16884.92400</td>\n",
              "    </tr>\n",
              "    <tr>\n",
              "      <th>1</th>\n",
              "      <td>18</td>\n",
              "      <td>male</td>\n",
              "      <td>33.770</td>\n",
              "      <td>1</td>\n",
              "      <td>no</td>\n",
              "      <td>southeast</td>\n",
              "      <td>1725.55230</td>\n",
              "    </tr>\n",
              "    <tr>\n",
              "      <th>2</th>\n",
              "      <td>28</td>\n",
              "      <td>male</td>\n",
              "      <td>33.000</td>\n",
              "      <td>3</td>\n",
              "      <td>no</td>\n",
              "      <td>southeast</td>\n",
              "      <td>4449.46200</td>\n",
              "    </tr>\n",
              "    <tr>\n",
              "      <th>3</th>\n",
              "      <td>33</td>\n",
              "      <td>male</td>\n",
              "      <td>22.705</td>\n",
              "      <td>0</td>\n",
              "      <td>no</td>\n",
              "      <td>northwest</td>\n",
              "      <td>21984.47061</td>\n",
              "    </tr>\n",
              "    <tr>\n",
              "      <th>4</th>\n",
              "      <td>32</td>\n",
              "      <td>male</td>\n",
              "      <td>28.880</td>\n",
              "      <td>0</td>\n",
              "      <td>no</td>\n",
              "      <td>northwest</td>\n",
              "      <td>3866.85520</td>\n",
              "    </tr>\n",
              "    <tr>\n",
              "      <th>...</th>\n",
              "      <td>...</td>\n",
              "      <td>...</td>\n",
              "      <td>...</td>\n",
              "      <td>...</td>\n",
              "      <td>...</td>\n",
              "      <td>...</td>\n",
              "      <td>...</td>\n",
              "    </tr>\n",
              "    <tr>\n",
              "      <th>1333</th>\n",
              "      <td>50</td>\n",
              "      <td>male</td>\n",
              "      <td>30.970</td>\n",
              "      <td>3</td>\n",
              "      <td>no</td>\n",
              "      <td>northwest</td>\n",
              "      <td>10600.54830</td>\n",
              "    </tr>\n",
              "    <tr>\n",
              "      <th>1334</th>\n",
              "      <td>18</td>\n",
              "      <td>female</td>\n",
              "      <td>31.920</td>\n",
              "      <td>0</td>\n",
              "      <td>no</td>\n",
              "      <td>northeast</td>\n",
              "      <td>2205.98080</td>\n",
              "    </tr>\n",
              "    <tr>\n",
              "      <th>1335</th>\n",
              "      <td>18</td>\n",
              "      <td>female</td>\n",
              "      <td>36.850</td>\n",
              "      <td>0</td>\n",
              "      <td>no</td>\n",
              "      <td>southeast</td>\n",
              "      <td>1629.83350</td>\n",
              "    </tr>\n",
              "    <tr>\n",
              "      <th>1336</th>\n",
              "      <td>21</td>\n",
              "      <td>female</td>\n",
              "      <td>25.800</td>\n",
              "      <td>0</td>\n",
              "      <td>no</td>\n",
              "      <td>southwest</td>\n",
              "      <td>2007.94500</td>\n",
              "    </tr>\n",
              "    <tr>\n",
              "      <th>1337</th>\n",
              "      <td>61</td>\n",
              "      <td>female</td>\n",
              "      <td>29.070</td>\n",
              "      <td>0</td>\n",
              "      <td>yes</td>\n",
              "      <td>northwest</td>\n",
              "      <td>29141.36030</td>\n",
              "    </tr>\n",
              "  </tbody>\n",
              "</table>\n",
              "<p>1338 rows × 7 columns</p>\n",
              "</div>"
            ],
            "text/plain": [
              "      age     sex     bmi  children smoker     region      charges\n",
              "0      19  female  27.900         0    yes  southwest  16884.92400\n",
              "1      18    male  33.770         1     no  southeast   1725.55230\n",
              "2      28    male  33.000         3     no  southeast   4449.46200\n",
              "3      33    male  22.705         0     no  northwest  21984.47061\n",
              "4      32    male  28.880         0     no  northwest   3866.85520\n",
              "...   ...     ...     ...       ...    ...        ...          ...\n",
              "1333   50    male  30.970         3     no  northwest  10600.54830\n",
              "1334   18  female  31.920         0     no  northeast   2205.98080\n",
              "1335   18  female  36.850         0     no  southeast   1629.83350\n",
              "1336   21  female  25.800         0     no  southwest   2007.94500\n",
              "1337   61  female  29.070         0    yes  northwest  29141.36030\n",
              "\n",
              "[1338 rows x 7 columns]"
            ]
          },
          "metadata": {
            "tags": []
          },
          "execution_count": 67
        }
      ]
    },
    {
      "cell_type": "code",
      "metadata": {
        "colab": {
          "base_uri": "https://localhost:8080/",
          "height": 204
        },
        "id": "stsTmnBrSJdd",
        "outputId": "3858ec40-65f3-4645-bdf6-edb9dbb1d9fb"
      },
      "source": [
        "# Let's one-hot encode our DataFrame\n",
        "insurance_one_hot = pd.get_dummies(insurance)\n",
        "insurance_one_hot.head()"
      ],
      "execution_count": 68,
      "outputs": [
        {
          "output_type": "execute_result",
          "data": {
            "text/html": [
              "<div>\n",
              "<style scoped>\n",
              "    .dataframe tbody tr th:only-of-type {\n",
              "        vertical-align: middle;\n",
              "    }\n",
              "\n",
              "    .dataframe tbody tr th {\n",
              "        vertical-align: top;\n",
              "    }\n",
              "\n",
              "    .dataframe thead th {\n",
              "        text-align: right;\n",
              "    }\n",
              "</style>\n",
              "<table border=\"1\" class=\"dataframe\">\n",
              "  <thead>\n",
              "    <tr style=\"text-align: right;\">\n",
              "      <th></th>\n",
              "      <th>age</th>\n",
              "      <th>bmi</th>\n",
              "      <th>children</th>\n",
              "      <th>charges</th>\n",
              "      <th>sex_female</th>\n",
              "      <th>sex_male</th>\n",
              "      <th>smoker_no</th>\n",
              "      <th>smoker_yes</th>\n",
              "      <th>region_northeast</th>\n",
              "      <th>region_northwest</th>\n",
              "      <th>region_southeast</th>\n",
              "      <th>region_southwest</th>\n",
              "    </tr>\n",
              "  </thead>\n",
              "  <tbody>\n",
              "    <tr>\n",
              "      <th>0</th>\n",
              "      <td>19</td>\n",
              "      <td>27.900</td>\n",
              "      <td>0</td>\n",
              "      <td>16884.92400</td>\n",
              "      <td>1</td>\n",
              "      <td>0</td>\n",
              "      <td>0</td>\n",
              "      <td>1</td>\n",
              "      <td>0</td>\n",
              "      <td>0</td>\n",
              "      <td>0</td>\n",
              "      <td>1</td>\n",
              "    </tr>\n",
              "    <tr>\n",
              "      <th>1</th>\n",
              "      <td>18</td>\n",
              "      <td>33.770</td>\n",
              "      <td>1</td>\n",
              "      <td>1725.55230</td>\n",
              "      <td>0</td>\n",
              "      <td>1</td>\n",
              "      <td>1</td>\n",
              "      <td>0</td>\n",
              "      <td>0</td>\n",
              "      <td>0</td>\n",
              "      <td>1</td>\n",
              "      <td>0</td>\n",
              "    </tr>\n",
              "    <tr>\n",
              "      <th>2</th>\n",
              "      <td>28</td>\n",
              "      <td>33.000</td>\n",
              "      <td>3</td>\n",
              "      <td>4449.46200</td>\n",
              "      <td>0</td>\n",
              "      <td>1</td>\n",
              "      <td>1</td>\n",
              "      <td>0</td>\n",
              "      <td>0</td>\n",
              "      <td>0</td>\n",
              "      <td>1</td>\n",
              "      <td>0</td>\n",
              "    </tr>\n",
              "    <tr>\n",
              "      <th>3</th>\n",
              "      <td>33</td>\n",
              "      <td>22.705</td>\n",
              "      <td>0</td>\n",
              "      <td>21984.47061</td>\n",
              "      <td>0</td>\n",
              "      <td>1</td>\n",
              "      <td>1</td>\n",
              "      <td>0</td>\n",
              "      <td>0</td>\n",
              "      <td>1</td>\n",
              "      <td>0</td>\n",
              "      <td>0</td>\n",
              "    </tr>\n",
              "    <tr>\n",
              "      <th>4</th>\n",
              "      <td>32</td>\n",
              "      <td>28.880</td>\n",
              "      <td>0</td>\n",
              "      <td>3866.85520</td>\n",
              "      <td>0</td>\n",
              "      <td>1</td>\n",
              "      <td>1</td>\n",
              "      <td>0</td>\n",
              "      <td>0</td>\n",
              "      <td>1</td>\n",
              "      <td>0</td>\n",
              "      <td>0</td>\n",
              "    </tr>\n",
              "  </tbody>\n",
              "</table>\n",
              "</div>"
            ],
            "text/plain": [
              "   age     bmi  children  ...  region_northwest  region_southeast  region_southwest\n",
              "0   19  27.900         0  ...                 0                 0                 1\n",
              "1   18  33.770         1  ...                 0                 1                 0\n",
              "2   28  33.000         3  ...                 0                 1                 0\n",
              "3   33  22.705         0  ...                 1                 0                 0\n",
              "4   32  28.880         0  ...                 1                 0                 0\n",
              "\n",
              "[5 rows x 12 columns]"
            ]
          },
          "metadata": {
            "tags": []
          },
          "execution_count": 68
        }
      ]
    },
    {
      "cell_type": "code",
      "metadata": {
        "id": "1y0ve82_T_3z"
      },
      "source": [
        "# Create X & y values (features and labels)\n",
        "X = insurance_one_hot.drop(\"charges\", axis=1)\n",
        "y = insurance_one_hot[\"charges\"]"
      ],
      "execution_count": 69,
      "outputs": []
    },
    {
      "cell_type": "code",
      "metadata": {
        "colab": {
          "base_uri": "https://localhost:8080/",
          "height": 204
        },
        "id": "FHtJIcGF-yg0",
        "outputId": "f28c7ed8-50ac-4772-9a70-996dcf883a51"
      },
      "source": [
        "# View X\n",
        "X.head()"
      ],
      "execution_count": 70,
      "outputs": [
        {
          "output_type": "execute_result",
          "data": {
            "text/html": [
              "<div>\n",
              "<style scoped>\n",
              "    .dataframe tbody tr th:only-of-type {\n",
              "        vertical-align: middle;\n",
              "    }\n",
              "\n",
              "    .dataframe tbody tr th {\n",
              "        vertical-align: top;\n",
              "    }\n",
              "\n",
              "    .dataframe thead th {\n",
              "        text-align: right;\n",
              "    }\n",
              "</style>\n",
              "<table border=\"1\" class=\"dataframe\">\n",
              "  <thead>\n",
              "    <tr style=\"text-align: right;\">\n",
              "      <th></th>\n",
              "      <th>age</th>\n",
              "      <th>bmi</th>\n",
              "      <th>children</th>\n",
              "      <th>sex_female</th>\n",
              "      <th>sex_male</th>\n",
              "      <th>smoker_no</th>\n",
              "      <th>smoker_yes</th>\n",
              "      <th>region_northeast</th>\n",
              "      <th>region_northwest</th>\n",
              "      <th>region_southeast</th>\n",
              "      <th>region_southwest</th>\n",
              "    </tr>\n",
              "  </thead>\n",
              "  <tbody>\n",
              "    <tr>\n",
              "      <th>0</th>\n",
              "      <td>19</td>\n",
              "      <td>27.900</td>\n",
              "      <td>0</td>\n",
              "      <td>1</td>\n",
              "      <td>0</td>\n",
              "      <td>0</td>\n",
              "      <td>1</td>\n",
              "      <td>0</td>\n",
              "      <td>0</td>\n",
              "      <td>0</td>\n",
              "      <td>1</td>\n",
              "    </tr>\n",
              "    <tr>\n",
              "      <th>1</th>\n",
              "      <td>18</td>\n",
              "      <td>33.770</td>\n",
              "      <td>1</td>\n",
              "      <td>0</td>\n",
              "      <td>1</td>\n",
              "      <td>1</td>\n",
              "      <td>0</td>\n",
              "      <td>0</td>\n",
              "      <td>0</td>\n",
              "      <td>1</td>\n",
              "      <td>0</td>\n",
              "    </tr>\n",
              "    <tr>\n",
              "      <th>2</th>\n",
              "      <td>28</td>\n",
              "      <td>33.000</td>\n",
              "      <td>3</td>\n",
              "      <td>0</td>\n",
              "      <td>1</td>\n",
              "      <td>1</td>\n",
              "      <td>0</td>\n",
              "      <td>0</td>\n",
              "      <td>0</td>\n",
              "      <td>1</td>\n",
              "      <td>0</td>\n",
              "    </tr>\n",
              "    <tr>\n",
              "      <th>3</th>\n",
              "      <td>33</td>\n",
              "      <td>22.705</td>\n",
              "      <td>0</td>\n",
              "      <td>0</td>\n",
              "      <td>1</td>\n",
              "      <td>1</td>\n",
              "      <td>0</td>\n",
              "      <td>0</td>\n",
              "      <td>1</td>\n",
              "      <td>0</td>\n",
              "      <td>0</td>\n",
              "    </tr>\n",
              "    <tr>\n",
              "      <th>4</th>\n",
              "      <td>32</td>\n",
              "      <td>28.880</td>\n",
              "      <td>0</td>\n",
              "      <td>0</td>\n",
              "      <td>1</td>\n",
              "      <td>1</td>\n",
              "      <td>0</td>\n",
              "      <td>0</td>\n",
              "      <td>1</td>\n",
              "      <td>0</td>\n",
              "      <td>0</td>\n",
              "    </tr>\n",
              "  </tbody>\n",
              "</table>\n",
              "</div>"
            ],
            "text/plain": [
              "   age     bmi  children  ...  region_northwest  region_southeast  region_southwest\n",
              "0   19  27.900         0  ...                 0                 0                 1\n",
              "1   18  33.770         1  ...                 0                 1                 0\n",
              "2   28  33.000         3  ...                 0                 1                 0\n",
              "3   33  22.705         0  ...                 1                 0                 0\n",
              "4   32  28.880         0  ...                 1                 0                 0\n",
              "\n",
              "[5 rows x 11 columns]"
            ]
          },
          "metadata": {
            "tags": []
          },
          "execution_count": 70
        }
      ]
    },
    {
      "cell_type": "code",
      "metadata": {
        "colab": {
          "base_uri": "https://localhost:8080/"
        },
        "id": "kuLHJI32-4Cx",
        "outputId": "e0d3ccb4-b462-4700-d98d-20f6ba31780a"
      },
      "source": [
        "# View y\n",
        "y.head()"
      ],
      "execution_count": 71,
      "outputs": [
        {
          "output_type": "execute_result",
          "data": {
            "text/plain": [
              "0    16884.92400\n",
              "1     1725.55230\n",
              "2     4449.46200\n",
              "3    21984.47061\n",
              "4     3866.85520\n",
              "Name: charges, dtype: float64"
            ]
          },
          "metadata": {
            "tags": []
          },
          "execution_count": 71
        }
      ]
    },
    {
      "cell_type": "code",
      "metadata": {
        "colab": {
          "base_uri": "https://localhost:8080/"
        },
        "id": "HPar1KmP9Yqa",
        "outputId": "de93a487-d62e-4387-de57-932926fdbb3b"
      },
      "source": [
        "# Create training and test sets\n",
        "from sklearn.model_selection import train_test_split\n",
        "X_train, X_test, y_train, y_test = train_test_split(X, y, test_size=0.2, random_state=42)\n",
        "len(X), len(X_train), len(X_test)"
      ],
      "execution_count": 72,
      "outputs": [
        {
          "output_type": "execute_result",
          "data": {
            "text/plain": [
              "(1338, 1070, 268)"
            ]
          },
          "metadata": {
            "tags": []
          },
          "execution_count": 72
        }
      ]
    },
    {
      "cell_type": "code",
      "metadata": {
        "id": "SfcM9ieXMIVx"
      },
      "source": [
        ""
      ],
      "execution_count": 72,
      "outputs": []
    },
    {
      "cell_type": "code",
      "metadata": {
        "id": "CpDer79WMI6q"
      },
      "source": [
        "# Define function for Plot history (also known as loss curve or training curve)\n",
        "def training_curve(history_data, title):\n",
        "    pd.DataFrame(history_data.history).plot()\n",
        "    plt.title(title)\n",
        "    plt.ylabel(\"loss\")\n",
        "    plt.xlabel(\"epochs\")"
      ],
      "execution_count": 73,
      "outputs": []
    },
    {
      "cell_type": "code",
      "metadata": {
        "id": "PXVODhD79eex"
      },
      "source": [
        "# Build a neural network (similar to model_2 above)\n",
        "tf.random.set_seed(42)\n",
        "\n",
        "# 1. Create a model\n",
        "insurance_model = tf.keras.Sequential([\n",
        "                                       tf.keras.layers.Dense(10),\n",
        "                                       tf.keras.layers.Dense(1)\n",
        "])\n",
        "\n",
        "# 2. Compile the model\n",
        "insurance_model.compile(loss=tf.keras.losses.mae,\n",
        "                        optimizer=tf.keras.optimizers.SGD(),\n",
        "                        metrics=[\"mae\"])\n",
        "\n",
        "# 3. Fit the model\n",
        "history_1 = insurance_model.fit(X_train, y_train, epochs=100, verbose=0)"
      ],
      "execution_count": 74,
      "outputs": []
    },
    {
      "cell_type": "code",
      "metadata": {
        "colab": {
          "base_uri": "https://localhost:8080/"
        },
        "id": "EKqbSsSg9j4D",
        "outputId": "aeea8399-c03f-4f90-9f18-cb321e14b016"
      },
      "source": [
        "# Check the results of the insurance model on the test data\n",
        "insurance_model.evaluate(X_test, y_test)"
      ],
      "execution_count": 75,
      "outputs": [
        {
          "output_type": "stream",
          "text": [
            "9/9 [==============================] - 0s 2ms/step - loss: 7023.3291 - mae: 7023.3291\n"
          ],
          "name": "stdout"
        },
        {
          "output_type": "execute_result",
          "data": {
            "text/plain": [
              "[7023.3291015625, 7023.3291015625]"
            ]
          },
          "metadata": {
            "tags": []
          },
          "execution_count": 75
        }
      ]
    },
    {
      "cell_type": "markdown",
      "metadata": {
        "id": "kRoL29GZCPph"
      },
      "source": [
        "## Model Improvement\n",
        "\n",
        "Right now the model isn't performing very well, let's try to improve it.\n",
        "\n",
        "To try and improve our model, we'll run 2 experiments:\n",
        "\n",
        "1. Add an extra layer with more hidden units.\n",
        "2. Train our model for longer.\n",
        "3. Try your own model improvement."
      ]
    },
    {
      "cell_type": "markdown",
      "metadata": {
        "id": "HkhwMb2EHp8j"
      },
      "source": [
        "### 1. Add an extra layer"
      ]
    },
    {
      "cell_type": "code",
      "metadata": {
        "id": "5ZlM6UaNEAM0"
      },
      "source": [
        "# Set random seed\n",
        "tf.random.set_seed(42)\n",
        "\n",
        "# 1. Create the model\n",
        "insurance_model_2 = tf.keras.Sequential([\n",
        "                                         tf.keras.layers.Dense(100),\n",
        "                                         tf.keras.layers.Dense(10),\n",
        "                                         tf.keras.layers.Dense(1)\n",
        "])\n",
        "\n",
        "# 2. Compile the model\n",
        "insurance_model_2.compile(loss=tf.keras.losses.mae,\n",
        "                          optimizer=tf.keras.optimizers.Adam(),\n",
        "                          metrics=[\"mae\"])\n",
        "\n",
        "# 3. Fit the model\n",
        "history_2 = insurance_model_2.fit(X_train, y_train, epochs=100, verbose=0)"
      ],
      "execution_count": 76,
      "outputs": []
    },
    {
      "cell_type": "code",
      "metadata": {
        "colab": {
          "base_uri": "https://localhost:8080/"
        },
        "id": "c1IDT-MXFg-l",
        "outputId": "a2365362-07fd-4476-9a44-4d48d4832485"
      },
      "source": [
        "# Evaluate insurance_model_2\n",
        "insurance_model_2.evaluate(X_test, y_test)"
      ],
      "execution_count": 77,
      "outputs": [
        {
          "output_type": "stream",
          "text": [
            "9/9 [==============================] - 0s 2ms/step - loss: 4924.5107 - mae: 4924.5107\n"
          ],
          "name": "stdout"
        },
        {
          "output_type": "execute_result",
          "data": {
            "text/plain": [
              "[4924.5107421875, 4924.5107421875]"
            ]
          },
          "metadata": {
            "tags": []
          },
          "execution_count": 77
        }
      ]
    },
    {
      "cell_type": "markdown",
      "metadata": {
        "id": "CBVO15oRHNjC"
      },
      "source": [
        "### Train the model for longer"
      ]
    },
    {
      "cell_type": "code",
      "metadata": {
        "id": "osrwvUzGH06v"
      },
      "source": [
        "# Set seed\n",
        "tf.random.set_seed(42)\n",
        "\n",
        "# 1. Create the model\n",
        "insurance_model_3 = tf.keras.Sequential([\n",
        "                     tf.keras.layers.Dense(100),\n",
        "                     tf.keras.layers.Dense(10),\n",
        "                     tf.keras.layers.Dense(1)\n",
        "])\n",
        "\n",
        "# 2. Compile the model\n",
        "insurance_model_3.compile(loss=tf.keras.losses.mae,\n",
        "                          optimizer=tf.keras.optimizers.Adam(),\n",
        "                          metrics=[\"mae\"])\n",
        "\n",
        "# 3. Fit the model\n",
        "history_3 = insurance_model_3.fit(X_train, y_train, epochs=200, verbose=0)"
      ],
      "execution_count": 78,
      "outputs": []
    },
    {
      "cell_type": "code",
      "metadata": {
        "colab": {
          "base_uri": "https://localhost:8080/"
        },
        "id": "OEj-DBFgJG4Y",
        "outputId": "fc7f2595-e4ed-48ca-f435-a89e3724b255"
      },
      "source": [
        "insurance_model_3.evaluate(X_test, y_test)"
      ],
      "execution_count": 79,
      "outputs": [
        {
          "output_type": "stream",
          "text": [
            "9/9 [==============================] - 0s 2ms/step - loss: 3494.5322 - mae: 3494.5322\n"
          ],
          "name": "stdout"
        },
        {
          "output_type": "execute_result",
          "data": {
            "text/plain": [
              "[3494.5322265625, 3494.5322265625]"
            ]
          },
          "metadata": {
            "tags": []
          },
          "execution_count": 79
        }
      ]
    },
    {
      "cell_type": "code",
      "metadata": {
        "colab": {
          "base_uri": "https://localhost:8080/",
          "height": 868
        },
        "id": "ft8X-EeJJQuQ",
        "outputId": "661157c3-8a7c-4aae-99ee-fdef906baf1c"
      },
      "source": [
        "# Plot history (also known as loss curve or training curve)\n",
        "training_curve(history_1, \"Model 1\"), training_curve(history_2, \"Model 2\"), training_curve(history_3, \"Model 3\")"
      ],
      "execution_count": 80,
      "outputs": [
        {
          "output_type": "execute_result",
          "data": {
            "text/plain": [
              "(None, None, None)"
            ]
          },
          "metadata": {
            "tags": []
          },
          "execution_count": 80
        },
        {
          "output_type": "display_data",
          "data": {
            "image/png": "[encoded data removed]",
            "text/plain": [
              "<Figure size 432x288 with 1 Axes>"
            ]
          },
          "metadata": {
            "tags": [],
            "needs_background": "light"
          }
        },
        {
          "output_type": "display_data",
          "data": {
            "image/png": "[encoded data removed]",
            "text/plain": [
              "<Figure size 432x288 with 1 Axes>"
            ]
          },
          "metadata": {
            "tags": [],
            "needs_background": "light"
          }
        },
        {
          "output_type": "display_data",
          "data": {
            "image/png": "[encoded data removed]",
            "text/plain": [
              "<Figure size 432x288 with 1 Axes>"
            ]
          },
          "metadata": {
            "tags": [],
            "needs_background": "light"
          }
        }
      ]
    },
    {
      "cell_type": "markdown",
      "metadata": {
        "id": "JxwAdQxoPQpI"
      },
      "source": [
        "### Adjust learning rate to 0.01"
      ]
    },
    {
      "cell_type": "code",
      "metadata": {
        "id": "3lzrtvM4PanT"
      },
      "source": [
        "# Set seed\n",
        "tf.random.set_seed(42)\n",
        "\n",
        "# 1. Create the model\n",
        "insurance_model_4 = tf.keras.Sequential([\n",
        "                                         tf.keras.layers.Dense(100),\n",
        "                                         tf.keras.layers.Dense(10),\n",
        "                                         tf.keras.layers.Dense(1)\n",
        "])\n",
        "\n",
        "# 2. Compile the model\n",
        "insurance_model_4.compile(loss=tf.keras.losses.mae,\n",
        "                          optimizer=tf.keras.optimizers.Adam(learning_rate=0.01),\n",
        "                          metrics=[\"mae\"])\n",
        "\n",
        "# 3. Fit the model\n",
        "history_4 = insurance_model_4.fit(X_train, y_train, epochs=100, verbose=0)"
      ],
      "execution_count": 81,
      "outputs": []
    },
    {
      "cell_type": "code",
      "metadata": {
        "colab": {
          "base_uri": "https://localhost:8080/"
        },
        "id": "Rs01D1lhQUG-",
        "outputId": "87c055b6-0105-4169-ddc4-03f9316479f8"
      },
      "source": [
        "# Evaluate the model\n",
        "insurance_model_4.evaluate(X_test, y_test)"
      ],
      "execution_count": 82,
      "outputs": [
        {
          "output_type": "stream",
          "text": [
            "9/9 [==============================] - 0s 2ms/step - loss: 3159.0825 - mae: 3159.0825\n"
          ],
          "name": "stdout"
        },
        {
          "output_type": "execute_result",
          "data": {
            "text/plain": [
              "[3159.08251953125, 3159.08251953125]"
            ]
          },
          "metadata": {
            "tags": []
          },
          "execution_count": 82
        }
      ]
    },
    {
      "cell_type": "code",
      "metadata": {
        "colab": {
          "base_uri": "https://localhost:8080/",
          "height": 295
        },
        "id": "2zlTvgQUQg2k",
        "outputId": "7dde1cc6-c692-44f2-aa73-cf9472696375"
      },
      "source": [
        "# Plot the training curve\n",
        "training_curve(history_4, \"Model 4\")"
      ],
      "execution_count": 83,
      "outputs": [
        {
          "output_type": "display_data",
          "data": {
            "image/png": "[encoded data removed]",
            "text/plain": [
              "<Figure size 432x288 with 1 Axes>"
            ]
          },
          "metadata": {
            "tags": [],
            "needs_background": "light"
          }
        }
      ]
    },
    {
      "cell_type": "code",
      "metadata": {
        "id": "p0oUTmR2U_qQ"
      },
      "source": [
        "### Try us EarlyStoppingCallback to stop the training automatically\n",
        "loss_check = tf.keras.callbacks.EarlyStopping(monitor=\"loss\", patience=20, mode=\"min\", verbose=1)"
      ],
      "execution_count": 84,
      "outputs": []
    },
    {
      "cell_type": "code",
      "metadata": {
        "colab": {
          "base_uri": "https://localhost:8080/"
        },
        "id": "t6ytSN9cVhDR",
        "outputId": "719571a9-c48f-41b1-a253-ce9addccbcb9"
      },
      "source": [
        "tf.random.set_seed(42)\n",
        "\n",
        "insurance_model_5 = tf.keras.Sequential([\n",
        "                                         tf.keras.layers.Dense(100),\n",
        "                                         tf.keras.layers.Dense(10),\n",
        "                                         tf.keras.layers.Dense(1)\n",
        "])\n",
        "\n",
        "insurance_model_5.compile(loss=tf.keras.losses.mae,\n",
        "                          optimizer=tf.keras.optimizers.Adam(learning_rate=0.001),\n",
        "                          metrics=[\"mae\"])\n",
        "\n",
        "history_5 = insurance_model_5.fit(X_train, y_train, epochs=1000, callbacks=[loss_check], verbose=0)"
      ],
      "execution_count": 85,
      "outputs": [
        {
          "output_type": "stream",
          "text": [
            "Epoch 00350: early stopping\n"
          ],
          "name": "stdout"
        }
      ]
    },
    {
      "cell_type": "code",
      "metadata": {
        "colab": {
          "base_uri": "https://localhost:8080/"
        },
        "id": "A5mWbFKiYznH",
        "outputId": "8354cfe8-590c-47ea-8194-8889279700d6"
      },
      "source": [
        "insurance_model_5.evaluate(X_test, y_test)"
      ],
      "execution_count": 86,
      "outputs": [
        {
          "output_type": "stream",
          "text": [
            "9/9 [==============================] - 0s 2ms/step - loss: 3169.0808 - mae: 3169.0808\n"
          ],
          "name": "stdout"
        },
        {
          "output_type": "execute_result",
          "data": {
            "text/plain": [
              "[3169.080810546875, 3169.080810546875]"
            ]
          },
          "metadata": {
            "tags": []
          },
          "execution_count": 86
        }
      ]
    },
    {
      "cell_type": "code",
      "metadata": {
        "colab": {
          "base_uri": "https://localhost:8080/",
          "height": 295
        },
        "id": "dvcWHlAEY62B",
        "outputId": "d2e2f46f-3a4b-4e64-971d-73f7c352a6cf"
      },
      "source": [
        "training_curve(history_5, \"Model 5\")"
      ],
      "execution_count": 87,
      "outputs": [
        {
          "output_type": "display_data",
          "data": {
            "image/png": "[encoded data removed]",
            "text/plain": [
              "<Figure size 432x288 with 1 Axes>"
            ]
          },
          "metadata": {
            "tags": [],
            "needs_background": "light"
          }
        }
      ]
    },
    {
      "cell_type": "markdown",
      "metadata": {
        "id": "G36eb2pgJ6gT"
      },
      "source": [
        "## Preprocessing data (normalisation and standardisation)\n",
        "\n",
        "In terms of scaling values, neural networks tend to prefer normalisation.\n",
        "\n",
        "If you're not sure which to use, you could try both and see which performs better."
      ]
    },
    {
      "cell_type": "code",
      "metadata": {
        "id": "PgSqVt7uL7Ip",
        "colab": {
          "base_uri": "https://localhost:8080/",
          "height": 419
        },
        "outputId": "b64db658-e6c4-4a1a-a5d7-3e780f8c617f"
      },
      "source": [
        "import pandas as pd\n",
        "import matplotlib.pyplot as plt\n",
        "import tensorflow as tf\n",
        "\n",
        "# Read in the insurance dataframe\n",
        "insurance = pd.read_csv(\"https://raw.githubusercontent.com/stedy/Machine-Learning-with-R-datasets/master/insurance.csv\")\n",
        "insurance"
      ],
      "execution_count": 88,
      "outputs": [
        {
          "output_type": "execute_result",
          "data": {
            "text/html": [
              "<div>\n",
              "<style scoped>\n",
              "    .dataframe tbody tr th:only-of-type {\n",
              "        vertical-align: middle;\n",
              "    }\n",
              "\n",
              "    .dataframe tbody tr th {\n",
              "        vertical-align: top;\n",
              "    }\n",
              "\n",
              "    .dataframe thead th {\n",
              "        text-align: right;\n",
              "    }\n",
              "</style>\n",
              "<table border=\"1\" class=\"dataframe\">\n",
              "  <thead>\n",
              "    <tr style=\"text-align: right;\">\n",
              "      <th></th>\n",
              "      <th>age</th>\n",
              "      <th>sex</th>\n",
              "      <th>bmi</th>\n",
              "      <th>children</th>\n",
              "      <th>smoker</th>\n",
              "      <th>region</th>\n",
              "      <th>charges</th>\n",
              "    </tr>\n",
              "  </thead>\n",
              "  <tbody>\n",
              "    <tr>\n",
              "      <th>0</th>\n",
              "      <td>19</td>\n",
              "      <td>female</td>\n",
              "      <td>27.900</td>\n",
              "      <td>0</td>\n",
              "      <td>yes</td>\n",
              "      <td>southwest</td>\n",
              "      <td>16884.92400</td>\n",
              "    </tr>\n",
              "    <tr>\n",
              "      <th>1</th>\n",
              "      <td>18</td>\n",
              "      <td>male</td>\n",
              "      <td>33.770</td>\n",
              "      <td>1</td>\n",
              "      <td>no</td>\n",
              "      <td>southeast</td>\n",
              "      <td>1725.55230</td>\n",
              "    </tr>\n",
              "    <tr>\n",
              "      <th>2</th>\n",
              "      <td>28</td>\n",
              "      <td>male</td>\n",
              "      <td>33.000</td>\n",
              "      <td>3</td>\n",
              "      <td>no</td>\n",
              "      <td>southeast</td>\n",
              "      <td>4449.46200</td>\n",
              "    </tr>\n",
              "    <tr>\n",
              "      <th>3</th>\n",
              "      <td>33</td>\n",
              "      <td>male</td>\n",
              "      <td>22.705</td>\n",
              "      <td>0</td>\n",
              "      <td>no</td>\n",
              "      <td>northwest</td>\n",
              "      <td>21984.47061</td>\n",
              "    </tr>\n",
              "    <tr>\n",
              "      <th>4</th>\n",
              "      <td>32</td>\n",
              "      <td>male</td>\n",
              "      <td>28.880</td>\n",
              "      <td>0</td>\n",
              "      <td>no</td>\n",
              "      <td>northwest</td>\n",
              "      <td>3866.85520</td>\n",
              "    </tr>\n",
              "    <tr>\n",
              "      <th>...</th>\n",
              "      <td>...</td>\n",
              "      <td>...</td>\n",
              "      <td>...</td>\n",
              "      <td>...</td>\n",
              "      <td>...</td>\n",
              "      <td>...</td>\n",
              "      <td>...</td>\n",
              "    </tr>\n",
              "    <tr>\n",
              "      <th>1333</th>\n",
              "      <td>50</td>\n",
              "      <td>male</td>\n",
              "      <td>30.970</td>\n",
              "      <td>3</td>\n",
              "      <td>no</td>\n",
              "      <td>northwest</td>\n",
              "      <td>10600.54830</td>\n",
              "    </tr>\n",
              "    <tr>\n",
              "      <th>1334</th>\n",
              "      <td>18</td>\n",
              "      <td>female</td>\n",
              "      <td>31.920</td>\n",
              "      <td>0</td>\n",
              "      <td>no</td>\n",
              "      <td>northeast</td>\n",
              "      <td>2205.98080</td>\n",
              "    </tr>\n",
              "    <tr>\n",
              "      <th>1335</th>\n",
              "      <td>18</td>\n",
              "      <td>female</td>\n",
              "      <td>36.850</td>\n",
              "      <td>0</td>\n",
              "      <td>no</td>\n",
              "      <td>southeast</td>\n",
              "      <td>1629.83350</td>\n",
              "    </tr>\n",
              "    <tr>\n",
              "      <th>1336</th>\n",
              "      <td>21</td>\n",
              "      <td>female</td>\n",
              "      <td>25.800</td>\n",
              "      <td>0</td>\n",
              "      <td>no</td>\n",
              "      <td>southwest</td>\n",
              "      <td>2007.94500</td>\n",
              "    </tr>\n",
              "    <tr>\n",
              "      <th>1337</th>\n",
              "      <td>61</td>\n",
              "      <td>female</td>\n",
              "      <td>29.070</td>\n",
              "      <td>0</td>\n",
              "      <td>yes</td>\n",
              "      <td>northwest</td>\n",
              "      <td>29141.36030</td>\n",
              "    </tr>\n",
              "  </tbody>\n",
              "</table>\n",
              "<p>1338 rows × 7 columns</p>\n",
              "</div>"
            ],
            "text/plain": [
              "      age     sex     bmi  children smoker     region      charges\n",
              "0      19  female  27.900         0    yes  southwest  16884.92400\n",
              "1      18    male  33.770         1     no  southeast   1725.55230\n",
              "2      28    male  33.000         3     no  southeast   4449.46200\n",
              "3      33    male  22.705         0     no  northwest  21984.47061\n",
              "4      32    male  28.880         0     no  northwest   3866.85520\n",
              "...   ...     ...     ...       ...    ...        ...          ...\n",
              "1333   50    male  30.970         3     no  northwest  10600.54830\n",
              "1334   18  female  31.920         0     no  northeast   2205.98080\n",
              "1335   18  female  36.850         0     no  southeast   1629.83350\n",
              "1336   21  female  25.800         0     no  southwest   2007.94500\n",
              "1337   61  female  29.070         0    yes  northwest  29141.36030\n",
              "\n",
              "[1338 rows x 7 columns]"
            ]
          },
          "metadata": {
            "tags": []
          },
          "execution_count": 88
        }
      ]
    },
    {
      "cell_type": "markdown",
      "metadata": {
        "id": "WamIwu3p4o_g"
      },
      "source": [
        "To prepare our data, we can borrow a few classes from Scikit-Learn."
      ]
    },
    {
      "cell_type": "code",
      "metadata": {
        "id": "h3w-L-L48XJA"
      },
      "source": [
        "from sklearn.compose import make_column_transformer\n",
        "from sklearn.preprocessing import MinMaxScaler, OneHotEncoder\n",
        "from sklearn.model_selection import train_test_split"
      ],
      "execution_count": 89,
      "outputs": []
    },
    {
      "cell_type": "code",
      "metadata": {
        "id": "dJoct0Mc6YSc"
      },
      "source": [
        "# Create a column transformer\n",
        "ct = make_column_transformer(\n",
        "    (MinMaxScaler(), [\"age\", \"bmi\", \"children\"]), # convert all values to range from 0 to 1\n",
        "    (OneHotEncoder(handle_unknown=\"ignore\"), [\"sex\", \"smoker\", \"region\"])\n",
        ")\n",
        "\n",
        "# Create X and y\n",
        "X = insurance.drop(\"charges\", axis=1)\n",
        "y = insurance[\"charges\"]\n",
        "\n",
        "# Build our train and test sets\n",
        "X_train, X_test, y_train, y_test = train_test_split(X, y, test_size=0.2, random_state=42)\n",
        "\n",
        "# Fit the column transformer to our training data ONLY!\n",
        "ct.fit(X_train)\n",
        "\n",
        "# Transform training and test data with normalisation (MinMaxScaler) and OneHotEncoder\n",
        "X_train_normal = ct.transform(X_train)\n",
        "X_test_normal = ct.transform(X_test)\n"
      ],
      "execution_count": 90,
      "outputs": []
    },
    {
      "cell_type": "code",
      "metadata": {
        "colab": {
          "base_uri": "https://localhost:8080/"
        },
        "id": "Uqgu_5kK92VV",
        "outputId": "43350cae-88ba-449a-e31b-baf36945f0ae"
      },
      "source": [
        "X_train.loc[0]"
      ],
      "execution_count": 91,
      "outputs": [
        {
          "output_type": "execute_result",
          "data": {
            "text/plain": [
              "age                19\n",
              "sex            female\n",
              "bmi              27.9\n",
              "children            0\n",
              "smoker            yes\n",
              "region      southwest\n",
              "Name: 0, dtype: object"
            ]
          },
          "metadata": {
            "tags": []
          },
          "execution_count": 91
        }
      ]
    },
    {
      "cell_type": "code",
      "metadata": {
        "colab": {
          "base_uri": "https://localhost:8080/"
        },
        "id": "DL5UnCeV-HY-",
        "outputId": "98fc7450-4b87-496e-ffe3-da43fda4065b"
      },
      "source": [
        "X_train_normal[0]"
      ],
      "execution_count": 92,
      "outputs": [
        {
          "output_type": "execute_result",
          "data": {
            "text/plain": [
              "array([0.60869565, 0.10734463, 0.4       , 1.        , 0.        ,\n",
              "       1.        , 0.        , 0.        , 1.        , 0.        ,\n",
              "       0.        ])"
            ]
          },
          "metadata": {
            "tags": []
          },
          "execution_count": 92
        }
      ]
    },
    {
      "cell_type": "code",
      "metadata": {
        "colab": {
          "base_uri": "https://localhost:8080/"
        },
        "id": "Y44Lp2AU-Nfp",
        "outputId": "73ec0de1-16c2-46b2-84ee-a16cb628c8e0"
      },
      "source": [
        "X_train.shape, X_train_normal.shape"
      ],
      "execution_count": 93,
      "outputs": [
        {
          "output_type": "execute_result",
          "data": {
            "text/plain": [
              "((1070, 6), (1070, 11))"
            ]
          },
          "metadata": {
            "tags": []
          },
          "execution_count": 93
        }
      ]
    },
    {
      "cell_type": "markdown",
      "metadata": {
        "id": "te-EiwGH-vvy"
      },
      "source": [
        "Excellent! Our data has been normalised and one hot encoded.\n",
        "\n",
        "Now let's build a neural network model on it and see how it goes."
      ]
    },
    {
      "cell_type": "code",
      "metadata": {
        "colab": {
          "base_uri": "https://localhost:8080/"
        },
        "id": "9183DOSV_Udv",
        "outputId": "636162e0-9ba8-49a4-9ef7-a731ac49b321"
      },
      "source": [
        "# Set seed\n",
        "tf.random.set_seed(42)\n",
        "\n",
        "# Build the model\n",
        "insurance_model = tf.keras.Sequential([\n",
        "                                       tf.keras.layers.Dense(100),\n",
        "                                       tf.keras.layers.Dense(11),\n",
        "                                       tf.keras.layers.Dense(1)\n",
        "])\n",
        "\n",
        "# Compile the model\n",
        "insurance_model.compile(loss=tf.keras.losses.mae,\n",
        "                        optimizer=tf.keras.optimizers.Adam(learning_rate=0.001),\n",
        "                        metrics=[\"mae\"])\n",
        "\n",
        "# Fit the model\n",
        "history_insurance = insurance_model.fit(X_train_normal, y_train, epochs=1000, callbacks=[loss_check], verbose=0)"
      ],
      "execution_count": 147,
      "outputs": [
        {
          "output_type": "stream",
          "text": [
            "Epoch 00247: early stopping\n"
          ],
          "name": "stdout"
        }
      ]
    },
    {
      "cell_type": "code",
      "metadata": {
        "colab": {
          "base_uri": "https://localhost:8080/"
        },
        "id": "fMREwMbAAXtH",
        "outputId": "42cea14f-56e9-4ffd-b594-586e343cbf39"
      },
      "source": [
        "# Evaluate our model\n",
        "insurance_model.evaluate(X_test_normal, y_test)"
      ],
      "execution_count": 148,
      "outputs": [
        {
          "output_type": "stream",
          "text": [
            "9/9 [==============================] - 0s 3ms/step - loss: 3158.9727 - mae: 3158.9727\n"
          ],
          "name": "stdout"
        },
        {
          "output_type": "execute_result",
          "data": {
            "text/plain": [
              "[3158.97265625, 3158.97265625]"
            ]
          },
          "metadata": {
            "tags": []
          },
          "execution_count": 148
        }
      ]
    },
    {
      "cell_type": "code",
      "metadata": {
        "colab": {
          "base_uri": "https://localhost:8080/",
          "height": 295
        },
        "id": "BhnJnLxgMrRi",
        "outputId": "3e5b5542-8d34-450a-a5b6-f5d6958cb620"
      },
      "source": [
        "# Plot our training curve\n",
        "training_curve(history_insurance, \"Insurance Model\")"
      ],
      "execution_count": 149,
      "outputs": [
        {
          "output_type": "display_data",
          "data": {
            "image/png": "[encoded data removed]",
            "text/plain": [
              "<Figure size 432x288 with 1 Axes>"
            ]
          },
          "metadata": {
            "tags": [],
            "needs_background": "light"
          }
        }
      ]
    },
    {
      "cell_type": "code",
      "metadata": {
        "id": "MgejXMHbNPAR"
      },
      "source": [
        "03 -29 extras"
      ],
      "execution_count": null,
      "outputs": []
    }
  ]
}